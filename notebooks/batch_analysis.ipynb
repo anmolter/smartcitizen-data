{
 "cells": [
  {
   "cell_type": "code",
   "execution_count": 1,
   "metadata": {
    "Collapsed": "false"
   },
   "outputs": [],
   "source": [
    "%load_ext autoreload\n",
    "%autoreload 2"
   ]
  },
  {
   "cell_type": "code",
   "execution_count": 10,
   "metadata": {
    "Collapsed": "false"
   },
   "outputs": [],
   "source": [
    "import warnings                                  \n",
    "warnings.filterwarnings('ignore')"
   ]
  },
  {
   "cell_type": "code",
   "execution_count": 11,
   "metadata": {
    "Collapsed": "false"
   },
   "outputs": [
    {
     "name": "stdout",
     "output_type": "stream",
     "text": [
      "\u001b[32mObject initialised successfully\u001b[0m\n"
     ]
    }
   ],
   "source": [
    "from src.models.batch import batch_analysis\n",
    "descriptor_file = '../tasks/batch_all.json'\n",
    "batch_session = batch_analysis(descriptor_file, verbose = True)"
   ]
  },
  {
   "cell_type": "code",
   "execution_count": 12,
   "metadata": {
    "Collapsed": "false"
   },
   "outputs": [
    {
     "name": "stdout",
     "output_type": "stream",
     "text": [
      "-------------------------------\n",
      "Evaluating task RF_GLOBAL_MODEL\n",
      "Loading configuration file from: /Users/macoscar/Documents/04_Projects/02_FabLab/01_SmartCitizen/01_Repositories/DataAnalysis/smartcitizen-iscape-data/src/config.yaml\n",
      "\u001b[32mLoaded configuration file\u001b[0m\n",
      "Loading devices data file from: /Users/macoscar/Documents/04_Projects/02_FabLab/01_SmartCitizen/01_Repositories/DataAnalysis/smartcitizen-iscape-data/data/interim\n",
      "\u001b[32mData initialisation done\u001b[0m\n",
      "Task RF_GLOBAL_MODEL involves modeling, initialising model\n",
      "Loading configuration file from: /Users/macoscar/Documents/04_Projects/02_FabLab/01_SmartCitizen/01_Repositories/DataAnalysis/smartcitizen-iscape-data/src/config.yaml\n",
      "\u001b[32mLoaded configuration file\u001b[0m\n",
      "Loading devices data file from: /Users/macoscar/Documents/04_Projects/02_FabLab/01_SmartCitizen/01_Repositories/DataAnalysis/smartcitizen-iscape-data/data/interim\n",
      "\u001b[32mModel initialisation done\u001b[0m\n",
      "Beginning Model RF_GLOBAL_MODEL_NO_SUFFLE\n",
      "Model type RF\n",
      "{'ratio_train': 0.7, 'n_estimators': 100, 'shuffle_split': False, 'min_samples_leaf': 2, 'max_features': None}\n",
      "Loading data...\n",
      "Loading test 2018-09_EXT_BOLOGNA_TEST_WALL_RE\n",
      "Using options: {'avoid_processed': True, 'export_data': None, 'rename_export_data': False, 'target_raster': '1Min', 'clean_na': False, 'clean_na_method': None, 'min_date': None, 'max_date': None, 'use_cache': True}\n",
      "\u001b[33mNo cached info file\u001b[0m\n",
      "Loading device ARPAE_RE\n",
      "\u001b[33mNo metadata found - skipping\u001b[0m\n",
      "Checking if units need to be converted\n",
      "Converting CO from mg/m3 to ppm\n",
      "Converting O3 from ug/m3 to ppb\n",
      "Converting NO2 from ug/m3 to ppb\n",
      "Converting NO from ug/m3 to ppb\n",
      "\u001b[33mNo unit convertion needed for NOX. Actual channel name is not in look-up tables\u001b[0m\n",
      "\u001b[32mDevice ARPAE_RE has been loaded\u001b[0m\n",
      "Loading device SCK3\n",
      "\u001b[32mFound metadata\u001b[0m\n",
      "Renaming column CO_MICS_THEAT to GR_OLED\n",
      "Renaming column GB_HUM to EXT_HUM\n",
      "Renaming column GB_TEMP to EXT_TEMP\n",
      "Renaming column NO2_MICS_THEAT to GR_OLED\n",
      "Renaming column PM_1 to EXT_PM_1\n",
      "Renaming column PM_10 to EXT_PM_10\n",
      "Renaming column PM_25 to EXT_PM_25\n",
      "\u001b[32mDevice SCK3 has been loaded\u001b[0m\n",
      "\u001b[32mTest loaded successfully\u001b[0m\n",
      "Loading test 2018-09_EXT_BOLOGNA_TEST_WALL_MO\n",
      "Using options: {'avoid_processed': True, 'export_data': None, 'rename_export_data': False, 'target_raster': '1Min', 'clean_na': False, 'clean_na_method': None, 'min_date': None, 'max_date': None, 'use_cache': True}\n",
      "\u001b[33mNo cached info file\u001b[0m\n",
      "Loading device ARPAE_MO\n",
      "\u001b[33mNo metadata found - skipping\u001b[0m\n",
      "Checking if units need to be converted\n",
      "Converting CO from mg/m3 to ppm\n",
      "Converting O3 from ug/m3 to ppb\n",
      "Converting NO2 from ug/m3 to ppb\n",
      "Converting NO from ug/m3 to ppb\n",
      "\u001b[33mNo unit convertion needed for NOX. Actual channel name is not in look-up tables\u001b[0m\n",
      "\u001b[32mDevice ARPAE_MO has been loaded\u001b[0m\n",
      "Loading device SCK2\n",
      "\u001b[32mFound metadata\u001b[0m\n",
      "Renaming column CO_MICS_THEAT to GR_OLED\n",
      "Renaming column GB_HUM to EXT_HUM\n",
      "Renaming column GB_TEMP to EXT_TEMP\n",
      "Renaming column NO2_MICS_THEAT to GR_OLED\n",
      "Renaming column PM_1 to EXT_PM_1\n",
      "Renaming column PM_10 to EXT_PM_10\n",
      "Renaming column PM_25 to EXT_PM_25\n",
      "\u001b[32mDevice SCK2 has been loaded\u001b[0m\n",
      "\u001b[32mTest loaded successfully\u001b[0m\n",
      "Loading test 2019-06_INT_TEST_STATION_21_CSIC\n",
      "\u001b[33mNo alphasense specified in files for 9441\u001b[0m\n",
      "Using options: {'avoid_processed': True, 'export_data': None, 'rename_export_data': False, 'target_raster': '1Min', 'clean_na': False, 'clean_na_method': None, 'min_date': None, 'max_date': None, 'use_cache': True}\n",
      "\u001b[32mLoaded cached info file\u001b[0m\n",
      "Loading device CSIC\n",
      "\u001b[33mNo metadata found - skipping\u001b[0m\n",
      "Checking if units need to be converted\n",
      "\u001b[32mNo unit convertion needed for NO2\u001b[0m\n",
      "\u001b[33mNo unit convertion needed for PM10. Actual channel name is not in look-up tables\u001b[0m\n",
      "\u001b[32mNo unit convertion needed for CO\u001b[0m\n",
      "\u001b[32mDevice CSIC has been loaded\u001b[0m\n",
      "Loading device 9441\n",
      "\u001b[33mNo metadata found - skipping\u001b[0m\n",
      "Requesting last reading from API for device 9441\n",
      "Device 9441 has last reading at 2019-06-21T09:55:15Z\n",
      "\u001b[32mLoaded cached files from: /Users/macoscar/Documents/04_Projects/02_FabLab/01_SmartCitizen/01_Repositories/DataAnalysis/smartcitizen-iscape-data/data/processed/2019/06/2019-06_INT_TEST_STATION_21_CSIC/cached/9441.csv\u001b[0m\n",
      "\u001b[32mNo need to load new data from API\u001b[0m\n",
      "\u001b[32mDevice 9441 has been loaded\u001b[0m\n",
      "\u001b[32mTest loaded successfully\u001b[0m\n",
      "Loading test 2019-03_EXT_UCD_URBAN_BACKGROUND_API\n",
      "Using options: {'avoid_processed': True, 'export_data': None, 'rename_export_data': False, 'target_raster': '1Min', 'clean_na': False, 'clean_na_method': None, 'min_date': None, 'max_date': None, 'use_cache': True}\n",
      "\u001b[32mLoaded cached info file\u001b[0m\n",
      "Loading device 5262\n",
      "\u001b[33mNo metadata found - skipping\u001b[0m\n",
      "Requesting last reading from API for device 5262\n",
      "Device 5262 has last reading at 2019-05-24T18:21:15Z\n",
      "\u001b[32mLoaded cached files from: /Users/macoscar/Documents/04_Projects/02_FabLab/01_SmartCitizen/01_Repositories/DataAnalysis/smartcitizen-iscape-data/data/processed/2019/03/2019-03_EXT_UCD_URBAN_BACKGROUND_API/cached/5262.csv\u001b[0m\n",
      "Max date in test 2019-02-04 00:00:00+00:00\n",
      "\u001b[32mNo need to load new data from API\u001b[0m\n",
      "\u001b[32mDevice 5262 has been loaded\u001b[0m\n",
      "Loading device 5565\n",
      "\u001b[33mNo metadata found - skipping\u001b[0m\n",
      "Requesting last reading from API for device 5565\n",
      "Device 5565 has last reading at 2019-05-24T18:21:14Z\n",
      "\u001b[32mLoaded cached files from: /Users/macoscar/Documents/04_Projects/02_FabLab/01_SmartCitizen/01_Repositories/DataAnalysis/smartcitizen-iscape-data/data/processed/2019/03/2019-03_EXT_UCD_URBAN_BACKGROUND_API/cached/5565.csv\u001b[0m\n",
      "Max date in test 2019-04-19 00:00:00+00:00\n",
      "\u001b[32mNo need to load new data from API\u001b[0m\n",
      "\u001b[32mDevice 5565 has been loaded\u001b[0m\n",
      "Loading device CITY_COUNCIL\n",
      "\u001b[33mNo metadata found - skipping\u001b[0m\n",
      "Checking if units need to be converted\n",
      "\u001b[32mNo unit convertion needed for CO\u001b[0m\n",
      "\u001b[33mNo unit convertion needed for SO2. Actual channel name is not in look-up tables\u001b[0m\n",
      "\u001b[32mNo unit convertion needed for NO2\u001b[0m\n",
      "\u001b[32mNo unit convertion needed for NO\u001b[0m\n",
      "\u001b[33mNo unit convertion needed for NOX. Actual channel name is not in look-up tables\u001b[0m\n",
      "\u001b[32mDevice CITY_COUNCIL has been loaded\u001b[0m\n",
      "Loading device CITY_COUNCIL_DAY\n",
      "\u001b[33mNo metadata found - skipping\u001b[0m\n",
      "Checking if units need to be converted\n",
      "\u001b[33mNo unit convertion needed for PM10. Actual channel name is not in look-up tables\u001b[0m\n",
      "\u001b[32mDevice CITY_COUNCIL_DAY has been loaded\u001b[0m\n",
      "\u001b[32mTest loaded successfully\u001b[0m\n",
      "\u001b[32mData load OK\u001b[0m\n",
      "Sanity checks...\n",
      "\u001b[32mTest presence check passed\u001b[0m\n",
      "Checking validity of train input\n",
      "Reference presence check not passed\n",
      "Reference presence check not passed\n",
      "Failed sanity checks\n"
     ]
    }
   ],
   "source": [
    "batch_session.run()"
   ]
  },
  {
   "cell_type": "code",
   "execution_count": null,
   "metadata": {
    "Collapsed": "false"
   },
   "outputs": [],
   "source": []
  }
 ],
 "metadata": {
  "kernelspec": {
   "display_name": "Python 3",
   "language": "python",
   "name": "python3"
  },
  "language_info": {
   "codemirror_mode": {
    "name": "ipython",
    "version": 3
   },
   "file_extension": ".py",
   "mimetype": "text/x-python",
   "name": "python",
   "nbconvert_exporter": "python",
   "pygments_lexer": "ipython3",
   "version": "3.7.0"
  }
 },
 "nbformat": 4,
 "nbformat_minor": 4
}
