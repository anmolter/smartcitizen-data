{
 "cells": [
  {
   "cell_type": "code",
   "execution_count": null,
   "metadata": {
    "Collapsed": "false"
   },
   "outputs": [],
   "source": [
    "%load_ext autoreload\n",
    "%autoreload 2"
   ]
  },
  {
   "cell_type": "code",
   "execution_count": null,
   "metadata": {
    "Collapsed": "false"
   },
   "outputs": [],
   "source": [
    "from src.stream.serialdevice import *\n",
    "from src.saf import *\n",
    "from threading import Thread\n",
    "import itertools  \n",
    "# Bokeh plotting tools\n",
    "from bokeh.palettes import Dark2_5 as palette\n",
    "from bokeh.models.sources import ColumnDataSource\n",
    "from bokeh.plotting import figure\n",
    "from bokeh.io import output_notebook, show, push_notebook\n",
    "from bokeh.models import Panel, Tabs\n",
    "from bokeh.layouts import column, gridplot\n",
    "\n",
    "output_notebook()"
   ]
  },
  {
   "cell_type": "code",
   "execution_count": null,
   "metadata": {
    "Collapsed": "false"
   },
   "outputs": [],
   "source": [
    "esp = serialdevice()\n",
    "if esp.set_serial(): esp.update_serial()\n",
    "print (f'Device serial number: {esp.serialNumber}')"
   ]
  },
  {
   "cell_type": "code",
   "execution_count": null,
   "metadata": {
    "Collapsed": "false"
   },
   "outputs": [],
   "source": [
    "# Set channels to monitor and calculate \n",
    "channels_to_monitor = {'y': {'1': {'clean_na': ['fill', 'inplace']},#,\n",
    "                             '2': {'smooth': [5, 'same', 'inplace']},\n",
    "                             #'8': {'clean_na': ['drop', 'other']},\n",
    "                             '3': {'exponential_smoothing': [0.2, 'same']},\n",
    "                             '4': {'exponential_smoothing': [0.1, 'same']},\n",
    "                             '5': {'exponential_smoothing': [0.05, 'same']},\n",
    "                             '6': {'exponential_smoothing': [0.03, 'same']},\n",
    "                             '7': {'exponential_smoothing': [0.02, 'same']},\n",
    "                             '8': {'exponential_smoothing': [0.01, 'same']},\n",
    "                             '9': {'time_derivative': [5, 'same']}\n",
    "                            }}\n",
    "# Self-explanatory\n",
    "store_to_csv = True\n",
    "if store_to_csv: path_to_store = join(getcwd(), 'csv_export.csv'); print (f'Saving stream to: {path_to_store}')\n",
    "# Number of points to show\n",
    "n_show = 200\n",
    "# Start the stream\n",
    "esp.start_streaming(buffer_length = 7, raster = 0.02)"
   ]
  },
  {
   "cell_type": "code",
   "execution_count": null,
   "metadata": {
    "Collapsed": "false"
   },
   "outputs": [],
   "source": [
    "def process_data(data):\n",
    "    data = data.apply(pd.to_numeric, errors='coerce')\n",
    "    for channel in channels_to_monitor.keys():\n",
    "        for process_number in channels_to_monitor[channel].keys():\n",
    "            # Process and formula\n",
    "            process = list(channels_to_monitor[channel][process_number])[0]\n",
    "            formula = process + f\"(data['{channel}'], channels_to_monitor['{channel}']['{process_number}']['{process}'][0])\" \n",
    "            # Name for new channel depending on inplace or not\n",
    "            if 'inplace' in channels_to_monitor[channel][process_number][process]: channel_new_name = channel\n",
    "            else: channel_new_name = channel + '_' + process + '_' + str(channels_to_monitor[channel][process_number][process][0])\n",
    "            # Calculate\n",
    "            if data.empty: data[channel_new_name] = []\n",
    "            else: data[channel_new_name] = eval(formula)\n",
    "    return data\n",
    "\n",
    "# Create plot columnar data\n",
    "plot_data = ColumnDataSource(data = process_data(esp.worker.example))\n",
    "# Number of tabs\n",
    "n_tabs = len(list(channels_to_monitor.keys()))\n",
    "tabs = Tabs(tabs = [])\n",
    "colors = itertools.cycle(palette)\n",
    "\n",
    "for channel in channels_to_monitor.keys():\n",
    "    gridplots = list()\n",
    "    p = figure(background_fill_color=\"#fafafa\", x_axis_type='datetime')\n",
    "    gridplots.append([p])\n",
    "    p.line(y = channel, x=\"index\", source = plot_data, legend_label = channel)\n",
    "    p.title.text = f'Streaming {channel}'\n",
    "    p.yaxis.axis_label = f'{channel}'\n",
    "    p.xaxis.axis_label = 'Timestamp'\n",
    "\n",
    "    for process_number in channels_to_monitor[channel].keys():\n",
    "        process = list(channels_to_monitor[channel][process_number])[0]\n",
    "        # We have already plotted it if it was inplace\n",
    "        if 'inplace' in channels_to_monitor[channel][process_number][process]: continue\n",
    "        \n",
    "        channel_name = channel + '_' + process + '_' + str(channels_to_monitor[channel][process_number][process][0])\n",
    "        if 'same' in channels_to_monitor[channel][process_number][process]:\n",
    "            p.line(y=channel_name, x=\"index\", legend_label = channel_name, source = plot_data, color = next(colors))\n",
    "        elif 'other' in channels_to_monitor[channel][process_number][process]:\n",
    "            p = figure(background_fill_color=\"#fafafa\", x_axis_type='datetime')\n",
    "            p.line(y=channel_name, x=\"index\", legend_label = channel_name, source = plot_data, color = next(colors))\n",
    "            p.yaxis.axis_label = f'{channel_name}'\n",
    "            p.xaxis.axis_label = 'Timestamp'\n",
    "            gridplots.append([p])\n",
    "    \n",
    "    p.legend.location='top_left'\n",
    "    p.legend.click_policy=\"hide\"\n",
    "\n",
    "    grid = gridplot(gridplots,  plot_width=1000, plot_height=500)\n",
    "    tab = Panel(child=grid, title=channel)\n",
    "    tabs.tabs.append(tab)\n",
    "\n",
    "handle = show(tabs, notebook_handle=True)\n",
    "stop_threads = False\n",
    "\n",
    "def worker_call(id, stop):\n",
    "    df_data = pd.DataFrame()\n",
    "    while True:\n",
    "        if not esp.worker.output.empty():\n",
    "            new_data = esp.worker.output.get()\n",
    "            if 'Time' in new_data.columns: new_data.rename(columns={'Time': 'index'}, inplace=True)\n",
    "            new_data = new_data.set_index('index')\n",
    "\n",
    "            if df_data.empty: df_data = new_data\n",
    "            else: df_data = pd.concat([df_data, new_data], sort = False)\n",
    "            \n",
    "            # We process everything\n",
    "            # processed_data = process_data(new_data)    \n",
    "            # if df_data.empty: df_data = processed_data\n",
    "            #else: df_data = pd.concat([df_data, processed_data], sort = False)\n",
    "            \n",
    "            # We only process what we show\n",
    "            processed_data = process_data(df_data.tail(n_show))\n",
    "            # Stream and processing\n",
    "            plot_data.stream(processed_data, n_show)\n",
    "            plot_data\n",
    "            \n",
    "            # Store to csv\n",
    "            if store_to_csv: df_data.to_csv(path_to_store, sep = \",\")\n",
    "            \n",
    "            # Update plot\n",
    "            push_notebook(handle = handle)\n",
    "\n",
    "            if stop(): print(\"Finished thread\"); break\n",
    "\n",
    "thread = Thread(target=worker_call, args=(id, lambda: stop_threads))\n",
    "thread.start()"
   ]
  },
  {
   "cell_type": "code",
   "execution_count": null,
   "metadata": {
    "Collapsed": "false"
   },
   "outputs": [],
   "source": [
    "stop_threads = True\n"
   ]
  },
  {
   "cell_type": "code",
   "execution_count": null,
   "metadata": {
    "Collapsed": "false"
   },
   "outputs": [],
   "source": [
    "stop_threads = True\n",
    "if esp.worker.is_alive():\n",
    "    \n",
    "    print ('Terminating device worker')\n",
    "    esp.worker.terminate()\n",
    "    esp.worker.join()"
   ]
  },
  {
   "cell_type": "code",
   "execution_count": null,
   "metadata": {
    "Collapsed": "false"
   },
   "outputs": [],
   "source": []
  }
 ],
 "metadata": {
  "kernelspec": {
   "display_name": "Python 3",
   "language": "python",
   "name": "python3"
  },
  "language_info": {
   "codemirror_mode": {
    "name": "ipython",
    "version": 3
   },
   "file_extension": ".py",
   "mimetype": "text/x-python",
   "name": "python",
   "nbconvert_exporter": "python",
   "pygments_lexer": "ipython3",
   "version": "3.7.0"
  }
 },
 "nbformat": 4,
 "nbformat_minor": 4
}
