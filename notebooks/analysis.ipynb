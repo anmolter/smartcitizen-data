{
 "cells": [
  {
   "cell_type": "markdown",
   "metadata": {},
   "source": [
    "# Init\n",
    "\n",
    "Run this cell to initialise the neccesary variables in the session."
   ]
  },
  {
   "cell_type": "code",
   "execution_count": null,
   "metadata": {},
   "outputs": [],
   "source": [
    "%run src_ipynb/init.ipynb"
   ]
  },
  {
   "cell_type": "markdown",
   "metadata": {
    "toc-hr-collapsed": false
   },
   "source": [
    "# Test Import\n",
    "\n",
    "Import test from local test database or smartcitizen API:\n",
    "\n",
    "- Load kits within the selected tests\n",
    "- Check if there were alphasense sensors and retrieve their calibration data and order of slots\n",
    "- Check if there was a reference and convert it's units\n"
   ]
  },
  {
   "cell_type": "code",
   "execution_count": null,
   "metadata": {},
   "outputs": [],
   "source": [
    "%run src_ipynb/load_data.ipynb"
   ]
  },
  {
   "cell_type": "markdown",
   "metadata": {},
   "source": [
    "## Dataframe cleaning: anomaly detection\n",
    "\n",
    "Inspired by the code of Dmitriy Sergeev at https://medium.com/open-machine-learning-course/open-machine-learning-course-topic-9-time-series-analysis-in-python-a270cb05e0b3.\n",
    "\n",
    "### XGBoost regressor"
   ]
  },
  {
   "cell_type": "code",
   "execution_count": null,
   "metadata": {
    "code_folding": []
   },
   "outputs": [],
   "source": [
    "from src.data.signal_utils import mean_absolute_percentage_error, timeseries_train_test_split, \\\n",
    "                         plotModelResults, prepareDataFrame\n",
    "\n",
    "test_name = '2018-09_EXT_BOLOGNA_TEST_WALL_MO'\n",
    "device_name = 'SCK2'\n",
    "\n",
    "## Ignore columns\n",
    "\n",
    "irrelevantColumns = ['BATT', 'LIGHT', 'TEMP', 'HUM', 'CO_MICS_THEAT', 'NO2_MICS_THEAT',\n",
    "       'PRESS', 'GB_1A', 'GB_1W', 'GB_CO', 'GB_2A', 'GB_2W', 'GB_NO2', 'GB_3A',\n",
    "       'GB_3W', 'GB_O3', 'EXT_TEMP', 'EXT_HUM', 'EXT_PM_1', 'EXT_PM_25',\n",
    "       'EXT_PM_10']\n",
    "frequency = '1Min'\n",
    "\n",
    "# Resample data\n",
    "data = prepareDataFrame(records.readings[test_name]['devices'][device_name]['data'], \n",
    "                 frequency, irrelevantColumns, _numberPasses = 3, _plotModelAnom = True, \n",
    "                 _scaleAnom = 1.9, _methodAnom = 'before-after-avg')\n",
    "\n",
    "# Make a copy to a 'CLEAN' keyword\n",
    "records.readings[test_name]['devices'][device_name + '_CLEAN'] = dict()\n",
    "\n",
    "# Put everything except data inside\n",
    "for key in records.readings[test_name]['devices'][device_name].keys():\n",
    "    \n",
    "    if 'data' not in key:\n",
    "        records.readings[test_name]['devices'][device_name + '_CLEAN'][key] = records.readings[test_name]['devices'][device_name][key]\n",
    "\n",
    "# Put data inside\n",
    "records.readings[test_name]['devices'][device_name + '_CLEAN']['data'] = data\n",
    "records.readings[test_name]['ready_to_model'] = False"
   ]
  },
  {
   "cell_type": "markdown",
   "metadata": {},
   "source": [
    "# Data Export"
   ]
  },
  {
   "cell_type": "code",
   "execution_count": null,
   "metadata": {},
   "outputs": [],
   "source": [
    "%run src_ipynb/export.ipynb"
   ]
  },
  {
   "cell_type": "markdown",
   "metadata": {},
   "source": [
    "# Calculator"
   ]
  },
  {
   "cell_type": "code",
   "execution_count": null,
   "metadata": {},
   "outputs": [],
   "source": [
    "%run src_ipynb/calculator.ipynb"
   ]
  },
  {
   "cell_type": "markdown",
   "metadata": {
    "toc-hr-collapsed": false
   },
   "source": [
    "# Exploratory Data Analysis"
   ]
  },
  {
   "cell_type": "markdown",
   "metadata": {
    "toc-hr-collapsed": true
   },
   "source": [
    "## Time Series Plots"
   ]
  },
  {
   "cell_type": "code",
   "execution_count": null,
   "metadata": {},
   "outputs": [],
   "source": [
    "name = '2019-06_INT_TEST_STATION_21_CSIC'\n",
    "device = 'STATION_9441'\n",
    "smooth_list = np.arange(1,30,5)\n",
    "\n",
    "terms = ['DALLAS_TEMP', 'BATT', 'BATT', 'BATT']\n",
    "for i in smooth_list:\n",
    "    formula_name = 'DALLAS_TEMP_SMOOTH_' + str(i)\n",
    "    formula_value = 'SMOOTH(A, {})'.format(i)\n",
    "    records.addChannelFormula(name, device, formula_name, terms, formula_value)\n",
    "    print (\"Formula {} Added in test {}, device {}\".format(formula_name, name, device))"
   ]
  },
  {
   "cell_type": "code",
   "execution_count": null,
   "metadata": {},
   "outputs": [],
   "source": [
    "%run src_ipynb/ts_plot.ipynb"
   ]
  },
  {
   "cell_type": "markdown",
   "metadata": {
    "toc-hr-collapsed": true
   },
   "source": [
    "## Correlation Plot"
   ]
  },
  {
   "cell_type": "code",
   "execution_count": null,
   "metadata": {},
   "outputs": [],
   "source": [
    "%run src_ipynb/corr_plot.ipynb"
   ]
  },
  {
   "cell_type": "markdown",
   "metadata": {
    "toc-hr-collapsed": true
   },
   "source": [
    "## Scatter plot matrix"
   ]
  },
  {
   "cell_type": "code",
   "execution_count": null,
   "metadata": {},
   "outputs": [],
   "source": [
    "%run src_ipynb/scatter_plot.ipynb"
   ]
  },
  {
   "cell_type": "code",
   "execution_count": null,
   "metadata": {},
   "outputs": [],
   "source": [
    "%run src_ipynb/scatter_plot.ipynb"
   ]
  },
  {
   "cell_type": "markdown",
   "metadata": {
    "toc-hr-collapsed": true
   },
   "source": [
    "## Additional plots"
   ]
  },
  {
   "cell_type": "code",
   "execution_count": null,
   "metadata": {},
   "outputs": [],
   "source": [
    "%run src_ipynb/vizualisation.ipynb"
   ]
  },
  {
   "cell_type": "markdown",
   "metadata": {
    "toc-hr-collapsed": false
   },
   "source": [
    "# AlphaSense Baseline Calibration\n",
    "\n",
    "These functions are used to create the alphasense pollutant correction based on Working, Auxiliary and calibration data provided by alphasense."
   ]
  },
  {
   "cell_type": "code",
   "execution_count": null,
   "metadata": {
    "code_folding": [
     60
    ]
   },
   "outputs": [],
   "source": [
    "import numpy as np\n",
    "%matplotlib inline\n",
    "\n",
    "# ------- INPUT VARIABLE BELOW -------\n",
    "\n",
    "min_delta = 30\n",
    "max_delta = 45\n",
    "overlapHours = 0\n",
    "prepend_name = 'BASELINE_OVL_AUX'\n",
    "\n",
    "methods = list()\n",
    "methods.append(['classic', 'na']) # CO\n",
    "methods.append(['baseline', 'single_aux']) #NO2\n",
    "methods.append(['baseline', 'single_aux']) #OX\n",
    "\n",
    "# ------------------------------------\n",
    "        \n",
    "%run src_ipynb/alphasense.ipynb"
   ]
  },
  {
   "cell_type": "markdown",
   "metadata": {},
   "source": [
    "## Baseline Model Metrics"
   ]
  },
  {
   "cell_type": "code",
   "execution_count": null,
   "metadata": {},
   "outputs": [],
   "source": [
    "## Explore results\n",
    "# test = '2018-08_INT_STATION_TEST_SUMMER_HOLIDAYS'\n",
    "test = selectedTestsAD[0]\n",
    "# device = 'STATION CHIMNEY'\n",
    "device = '5262'\n",
    "dataframe = records.readings[test]['devices'][device]['alphasense']['model_stats'][ad_name]\n",
    "\n",
    "pollutant = 'NO2'\n",
    "\n",
    "# pollutant_avg \tpollutant_max \tpollutant_min \tpollutant_std \tr2_valueRef \t\n",
    "\n",
    "fig, (ax, ax2)= plt.subplots(nrows = 2, figsize= (15,10))\n",
    "ax.plot(dataframe[pollutant]['pollutant_avg'], dataframe[pollutant]['r2_valueRef'], 'o', label=pollutant)\n",
    "#ax.set_xlim([0,1.5])\n",
    "ax.set_ylim([0,1])\n",
    "# plt.setp(ax.xaxis.get_majorticklabels(), rotation=70 )\n",
    "\n",
    "ax2.bar(dataframe[pollutant].index,dataframe[pollutant]['pollutant_avg'], label=pollutant)\n",
    "ax2.bar(dataframe[pollutant].index,dataframe[pollutant]['pollutant_max'], label=pollutant, alpha= 0.3)\n",
    "ax2.bar(dataframe[pollutant].index,dataframe[pollutant]['pollutant_min'], label=pollutant, alpha= 0.3)\n",
    "ax2.set_ylim([0,100])\n",
    "#ax.plot(dataframe['O3'].index,dataframe['O3']['pollutant_avg'],'ro', label='O3')\n",
    "# plt.setp(ax2.xaxis.get_majorticklabels(), rotation=70 )\n",
    "\n",
    "plt.xlabel('Day')\n",
    "plt.title('Average pollutant concentration')\n",
    "plt.legend(loc='best')"
   ]
  },
  {
   "cell_type": "markdown",
   "metadata": {},
   "source": [
    "## TODO: Correction Checks"
   ]
  },
  {
   "cell_type": "code",
   "execution_count": null,
   "metadata": {
    "code_folding": [
     5
    ],
    "scrolled": true
   },
   "outputs": [],
   "source": [
    "# Sample For stats checks\n",
    "pollutant = 'NO2'\n",
    "display(CorrParams[pollutant])\n",
    "\n",
    "with plt.style.context('seaborn-white'):\n",
    "    fig1, (ax1, ax2) = plt.subplots(nrows=1, ncols=2, figsize=(18,8))\n",
    "            \n",
    "    ax1.plot(CorrParams[pollutant]['r_valueRef'], CorrParams[pollutant]['avg_temp'], label = 'Temp', linestyle='-', linewidth=0, marker='o')\n",
    "    ax1.plot(CorrParams[pollutant]['r_valueRef'], CorrParams[pollutant]['avg_hum'] , label = 'Hum', linestyle='-', linewidth=0, marker='o')\n",
    "    ax2.plot(CorrParams[pollutant]['r_valueRef'], CorrParams[pollutant]['stderr_temp'], label = 'Temp', linestyle='-', linewidth=0, marker='o')\n",
    "    ax2.plot(CorrParams[pollutant]['r_valueRef'], CorrParams[pollutant]['stderr_hum'] , label = 'Hum', linestyle='-', linewidth=0, marker='o')\n",
    "    \n",
    "    ax1.legend(loc='best')\n",
    "    ax1.set_xlabel('R^2 {} vs Ref'.format(pollutant))\n",
    "    ax1.set_ylabel('Avg Temp-Hum / day')\n",
    "    ax1.grid(True)\n",
    "    ax2.legend(loc='best')\n",
    "    ax2.set_xlabel('R^2 {} vs Ref'.format(pollutant))\n",
    "    ax2.set_ylabel('Avg Temp / day')\n",
    "    ax2.grid(True)\n",
    "    \n",
    "    fig2, (ax3, ax4) = plt.subplots(nrows=1, ncols=2, figsize=(18,8))\n",
    "            \n",
    "    ax3.plot(CorrParams[pollutant]['r_valueRef'], CorrParams[pollutant]['avg_pollutant'], label = 'Avg Pollutant', linestyle='-', linewidth=0, marker='o')\n",
    "    ax4.plot(CorrParams[pollutant]['avg_pollutant'], CorrParams[pollutant]['deltaAuxBas_avg'], label = 'Delta', linestyle='-', linewidth=0, marker='o')\n",
    "    ax4.plot(CorrParams[pollutant]['avg_pollutant'], CorrParams[pollutant]['ratioAuxBas_avg'] , label = 'Ratio', linestyle='-', linewidth=0, marker='o')\n",
    "    \n",
    "    ax3.legend(loc='best')\n",
    "    ax3.set_xlabel('R^2 {} vs Ref'.format(pollutant))\n",
    "    ax3.set_ylabel('Avg {} / day'.format(pollutant))\n",
    "    ax3.grid(True)\n",
    "    ax4.legend(loc='best')\n",
    "    ax4.set_xlabel('{} Average'.format(pollutant))\n",
    "    ax4.set_ylabel('Offset / Ratio Baseline vs Auxiliary')\n",
    "    ax4.grid(True)"
   ]
  },
  {
   "cell_type": "markdown",
   "metadata": {
    "toc-hr-collapsed": false
   },
   "source": [
    "# Model Creation"
   ]
  },
  {
   "cell_type": "markdown",
   "metadata": {},
   "source": [
    "## Batch Model Process (TODO)\n",
    "Inspired by the example of \"Jakob Aungiers, Altum Intelligence ltd\" at https://github.com/jaungiers/LSTM-Neural-Network-for-Time-Series-Prediction"
   ]
  },
  {
   "cell_type": "code",
   "execution_count": null,
   "metadata": {
    "code_folding": [
     23
    ],
    "scrolled": true
   },
   "outputs": [],
   "source": [
    "# Linear Regression Utils\n",
    "from src.models.linear_regression_utils import prep_data_OLS, fit_model_OLS, predict_OLS\n",
    "from statsmodels.tsa.stattools import adfuller, grangercausalitytests\n",
    "from numpy import concatenate\n",
    "\n",
    "# ML Utils\n",
    "from src.models.ml_utils import prep_dataframe_ML, fit_model_ML, predict_ML, get_inverse_transform_ML\n",
    "\n",
    "# Metrics \n",
    "from src.data.signal_utils import metrics\n",
    "import json\n",
    "\n",
    "##-------------- Input --------------\n",
    "configs = json.load(open('./spotcheck_models/models.json', 'r'))\n",
    "test_model = '2018-08_INT_STATION_TEST_SUMMER_HOLIDAYS'\n",
    "device_name = 'STATION_CASE'\n",
    "\n",
    "min_date = '2018-08-01 00:00:00'\n",
    "max_date = '2018-09-20 00:00:00'\n",
    "\n",
    "##------------------------------------\n",
    "\n",
    "for config in configs.keys():\n",
    "    \n",
    "    # Retrieve models\n",
    "    model_name = config\n",
    "    print model_name\n",
    "\n",
    "    if model_name not in readings[test_model]['devices'][name_combined_data]['model']:\n",
    "        model_type = configs[config]['type']\n",
    "        features = configs[config]['features']\n",
    "        \n",
    "        tuple_features = [(k, v) for k, v in features.iteritems()]\n",
    "        print tuple_features\n",
    "        \n",
    "        \n",
    "        list_features = list()\n",
    "        for item in tuple_features: \n",
    "            if item[0] == 'REF':\n",
    "                a = tuple_features.index(item)\n",
    "                list_features.insert(0,item[1] + '_' + device_name)\n",
    "                reference_name = item[1] + '_' + device_name\n",
    "            else:\n",
    "                list_features.append(item[1] + '_' + device_name)\n",
    "                \n",
    "        tuple_features[0], tuple_features[a] = tuple_features[a], tuple_features[0]\n",
    "        \n",
    "        tuple_features_combined = [(item[0], item[1]  + '_' + device_name) for item in tuple_features]\n",
    "        \n",
    "        dataframeModel = readings[test_model]['devices'][name_combined_data]['data'].loc[:,list_features]\n",
    "        dataframeModel = dataframeModel.dropna()\n",
    "        \n",
    "        dataframeModel = dataframeModel[dataframeModel.index > min_date]\n",
    "        dataframeModel = dataframeModel[dataframeModel.index < max_date]\n",
    "        \n",
    "        print '\\t{}'. format(model_type) \n",
    "        if model_type == 'OLS':\n",
    "            \n",
    "            formula_expression = configs[config]['expression']\n",
    "            ratio_train = configs[config]['ratio_train']\n",
    "            alpha_filter = configs[config]['alpha_filter']\n",
    "            n_lags = 1\n",
    "\n",
    "            ## Model Fit\n",
    "            dataTrain, dataTest, n_train_periods = prep_data_OLS(dataframeModel, tuple_features_combined, ratio_train, alpha_filter, device_name)\n",
    "            model = fit_model_OLS(formula_expression, dataTrain, False)\n",
    "            \n",
    "            ## Predict the model results\n",
    "            referenceTrain, predictionTrain = predict_OLS(model, dataTrain, True, False, 'train')\n",
    "            referenceTest, predictionTest = predict_OLS(model, dataTest, True, False, 'test')\n",
    "\n",
    "            predictionTrain = predictionTrain.values\n",
    "            indexTrain = dataTrain['index']\n",
    "            indexTest = dataTest['index']\n",
    "\n",
    "        elif model_type == 'LSTM':\n",
    "            \n",
    "            epochs = configs[config]['epochs']\n",
    "            batch_size = configs[config]['batch_size']\n",
    "            verbose = configs[config]['verbose']\n",
    "            n_lags = configs[config]['n_lags']\n",
    "            loss = configs[config][\"loss\"]\n",
    "            optimizer = configs[config][\"optimizer\"]\n",
    "            layers = configs[config]['layers']\n",
    "            ratio_train = configs[config]['ratio_train']\n",
    "\n",
    "            ## Prep Dataframe\n",
    "            index, train_X, train_y, test_X, test_y, scalerX, scalery, n_train_periods = prep_dataframe_ML(dataframeModel, min_date, max_date, list_features, n_lags, ratio_train, alpha_filter, reference_name, False)\n",
    "            ## Model Fit\n",
    "            model = fit_model_ML(train_X, train_y, \n",
    "                                 test_X, test_y, \n",
    "                                 epochs = epochs, \n",
    "                                 batch_size = batch_size, \n",
    "                                 verbose = True, \n",
    "                                 plotResult = False, \n",
    "                                 loss = loss, \n",
    "                                 optimizer = optimizer,\n",
    "                                 layers = layers)\n",
    "            \n",
    "            # Get model prediction\n",
    "            \n",
    "            # Get model prediction\n",
    "            referenceTrain = get_inverse_transform_ML(train_y, n_lags, scalery)\n",
    "            predictionTrain = predict_ML(model, train_X, n_lags, scalery)\n",
    "\n",
    "            referenceTest = get_inverse_transform_ML(test_y, n_lags, scalery)\n",
    "            predictionTest = predict_ML(model, test_X, n_lags, scalery)\n",
    "            \n",
    "            indexTrain = index[:n_train_periods]\n",
    "            indexTest = index[n_train_periods+n_lags:]\n",
    "            formula_expression = '-'\n",
    "        \n",
    "    \n",
    "        dataFrameTrain = pd.DataFrame(data = {'reference': referenceTrain, 'prediction': predictionTrain}, \n",
    "                                      index = indexTrain)\n",
    "        dataFrameTest = pd.DataFrame(data = {'reference': referenceTest, 'prediction': predictionTest}, \n",
    "                                      index = indexTest)\n",
    "        \n",
    "        dataFrameExport = dataFrameTrain.copy()\n",
    "        dataFrameExport = dataFrameExport.combine_first(dataFrameTest)\n",
    "\n",
    "        # Get model metrics\n",
    "        metrics_model_train = metrics(referenceTrain, predictionTrain)\n",
    "        metrics_model_test = metrics(referenceTest, predictionTest)\n",
    "        \n",
    "        ## Put everything in the dict\n",
    "        dictModel = readings[test_model]['devices'][name_combined_data]\n",
    "        \n",
    "        # From https://hackmd.io/Y62wiJw0RaiBfU4Xhv8dQQ#\n",
    "        dictModel[model_name] = dict()\n",
    "        dictModel[model_name]['metrics'] = dict()\n",
    "        dictModel[model_name]['metrics']['train'] = metrics_model_train\n",
    "        dictModel[model_name]['metrics']['test'] = metrics_model_test\n",
    "        \n",
    "        # Model Parameters\n",
    "        dictModel[model_name]['parameters'] = dict()\n",
    "        dictModel[model_name]['parameters']['features'] = dict()\n",
    "        dictModel[model_name]['parameters']['features']['ref'] = tuple_features[0]\n",
    "        dictModel[model_name]['parameters']['features']['items'] = tuple_features[1:]        \n",
    "        dictModel[model_name]['parameters']['ratio_train'] = ratio_train\n",
    "        dictModel[model_name]['parameters']['alpha_filter'] = alpha_filter\n",
    "        dictModel[model_name]['model'] = model\n",
    "        dictModel[model_name]['modelType'] = model_type\n",
    "        \n",
    "        # Put it back in the readings dataframe\n",
    "        readings[test_model]['devices'][name_combined_data]['model'][model_name] = dictModel[model_name]\n",
    "        readings[test_model]['devices'][model_name] = dict()\n",
    "        readings[test_model]['devices'][model_name]['data'] = dataFrameExport\n",
    "        print '\\t Model Calculated'\n",
    "        \n",
    "    else:\n",
    "        print '\\t Model already present, skipping'\n",
    "\n",
    "print 'All models calculated'"
   ]
  },
  {
   "cell_type": "markdown",
   "metadata": {
    "toc-hr-collapsed": false
   },
   "source": [
    "## Ordinary Linear Regression"
   ]
  },
  {
   "cell_type": "markdown",
   "metadata": {},
   "source": [
    "### Preliminary Checks\n",
    "\n",
    "\n",
    "\n",
    "#### Data stationarity\n",
    "\n",
    "We will use the Dicker-fuller test (ADF) test to verify the data is stationary. We need to check data stationarity for certain type of models. \n",
    "\n",
    "If the process is stationary means it doesn’t change its statistical properties over time: mean and variance do not change over time (constancy of variance is also called homoscedasticity), also covariance function does not depend on the time (should only depend on the distance between observations) Source [here](https://medium.com/open-machine-learning-course/open-machine-learning-course-topic-9-time-series-analysis-in-python-a270cb05e0b3). Visually:\n",
    "\n",
    "- Growing mean --> Non stationary\n",
    "\n",
    "![](https://cdn-images-1.medium.com/max/800/0*qrYiVksz8g3drl5Z.png)\n",
    "\n",
    "- Growing spread --> Non stationary\n",
    "\n",
    "![](https://cdn-images-1.medium.com/max/800/0*fEqQDq_TaEqa511n.png)\n",
    "\n",
    "- Varying time covariance --> Non stationary\n",
    "\n",
    "![](https://cdn-images-1.medium.com/max/800/1*qJs3g2f77flIXr6mFsbPmw.png)\n",
    "\n",
    "- Null Hypothesis (H0): If failed to be rejected, it suggests the time series has a unit root, meaning it is non-stationary. It has some time dependent structure.\n",
    "- Alternate Hypothesis (H1): The null hypothesis is rejected; it suggests the time series does not have a unit root, meaning it is stationary. It does not have time-dependent structure.\n",
    "\n",
    "We interpret this result using the p-value from the test. A p-value below a threshold (such as 5% or 1%) suggests we reject the null hypothesis (stationary), otherwise a p-value above the threshold suggests we fail to reject the null hypothesis (non-stationary). Hence:\n",
    "\n",
    "- p-value > 0.05: fail to reject the null hypothesis (H0), the data has an unit root and is non-stationary.\n",
    "- p-value <= 0.05: reject the null hypothesis (H0), the data does not have an unit root and is stationary.\n",
    "\n",
    "#### Autocorrelation\n",
    "\n",
    "High levels of autocorrelation can indicate our time series is shows seasonality. We will use the ACF plot to identify possible autocorrelation and potentially include differentiation.\n",
    "\n",
    "#### Granger Casuality Test (use with caution)\n",
    "\n",
    "This test is useful to determine the casuality of variables and determining whether one time series is useful in forecasting another. \n",
    "\n",
    "The Null hypothesis for granger causality tests is that the time series in the second column, x2, does NOT Granger cause the time series in the first column, x1. Grange causality means that past values of x2 have a statistically significant effect on the current value of x1, taking past values of x1 into account as regressors. We reject the null hypothesis that x2 does not Granger cause x1 if the pvalues are below a desired size of the test. Hence:\n",
    "\n",
    "- p-value < size: allows to reject the null hypothesis (H0) for x1 = f(x2)\n",
    "- p-value > size: we fail to reject the null hypothesis (H0) for x1 = f(x2)\n",
    "\n",
    "The null hypothesis for all four test is that the coefficients corresponding to past values of the second time series are zero.\n",
    "\n",
    "Reference [here](https://en.wikipedia.org/wiki/Granger_causality), [here](https://stats.stackexchange.com/questions/24753/interpreting-granger-causality-tests-results#24796) and [here](http://www.statsmodels.org/devel/generated/statsmodels.tsa.stattools.grangercausalitytests.html)."
   ]
  },
  {
   "cell_type": "markdown",
   "metadata": {},
   "source": [
    "### Model fit"
   ]
  },
  {
   "cell_type": "code",
   "execution_count": null,
   "metadata": {
    "code_folding": []
   },
   "outputs": [],
   "source": [
    "from src.models.linear_regression_utils import prep_data_OLS, fit_model_OLS, predict_OLS, plot_OLS_coeffs\n",
    "from src.models.linear_regression_utils import tfuller_plot\n",
    "from statsmodels.tsa.stattools import grangercausalitytests\n",
    "\n",
    "test_model = '2018-08_INT_STATION_TEST_SUMMER_HOLIDAYS'\n",
    "tuple_features = (['REF', 'EXT_PM_1', 'STATION_CASE'],\n",
    "                 ['A', 'EXT_PM_10', 'STATION_CASE'],\n",
    "                 ['B', 'EXT_TEMP', 'STATION_CASE'])#,\n",
    "                 #['C', 'PM_DALLAS_TEMP_DERIV', '5262_processed'])\n",
    "\n",
    "min_date = '2018-01-01 00:00:00'\n",
    "max_date = '2019-04-20 00:00:00'\n",
    "\n",
    "model_name = 'TEST_MODEL'\n",
    "model_target = 'ALPHASENSE' # ALPHASENSE, PMS, MICS...\n",
    "model_type = 'OLS'\n",
    "formula_expression = 'REF ~ A + np.log(B)'#' + C'\n",
    "alpha_filter = None #No filtering\n",
    "ratio_train = 3./4 # Important that this is a float, don't forget the .\n",
    "model_full_name = '_'.join([model_target, model_type, model_name])\n",
    "print ('Model Name', model_full_name)\n",
    "\n",
    "print ('Preparing devices from test {}'.format(test_model))\n",
    "records.prepare_dataframe_model(tuple_features, test_model, None, None, \n",
    "                                      model_full_name, clean_na = True, clean_na_method = 'fill' , \n",
    "                                      target_raster = '5Min')\n",
    "\n",
    "dataframeModel = records.readings[test_model]['models'][model_full_name]['data']\n",
    "reference_name = records.readings[test_model]['models'][model_full_name]['reference']\n",
    "labels = dataframeModel[reference_name]\n",
    "features = dataframeModel.drop(reference_name, axis = 1)\n",
    "\n",
    "# List of features for later use\n",
    "feature_list = list(features.columns)\n",
    "n_features = len(tuple_features)-1\n",
    "\n",
    "## Preliminary Check\n",
    "# Fuller Plot for all\n",
    "# for column in dataframeModel:\n",
    "#     x = dataframeModel.loc[:,column]\n",
    "#     tfuller_plot(x, name = x.name, lags=60, lags_diff = 5)\n",
    "# Granger Causality\n",
    "# print ('--------------------------------------')\n",
    "# print ('Granger Causality Test')\n",
    "## Granger Causality Test (WIP)\n",
    "# for item in tuple_features:\n",
    "#     if item[0] != 'REF':\n",
    "#         print '\\nCausality for x1 = {} and x2 = {}'.format(reference_name, item[1])\n",
    "#         x = dataframeModel.loc[:,[reference_name, item[1]]].dropna()\n",
    "#         x = x.values\n",
    "#         granger_causality_tests = grangercausalitytests(x, 1)\n",
    "#         # print granger_causality_tests\n",
    "\n",
    "## Prepare Dataframe\n",
    "dataTrain, dataTest, n_train_periods = prep_data_OLS(dataframeModel, \n",
    "                                                     tuple_features, \n",
    "                                                     ratio_train)\n",
    "\n",
    "## Model Fit\n",
    "model = fit_model_OLS(formula_expression, dataTrain, printSummary = True)\n",
    "plot_OLS_coeffs(model)"
   ]
  },
  {
   "cell_type": "markdown",
   "metadata": {},
   "source": [
    "### Model prediction and archiving"
   ]
  },
  {
   "cell_type": "code",
   "execution_count": null,
   "metadata": {
    "code_folding": []
   },
   "outputs": [],
   "source": [
    "from src.models.linear_regression_utils import predict_OLS\n",
    "from src.data.signal_utils import metrics\n",
    "import pandas as pd\n",
    "\n",
    "## Predict the model results\n",
    "dataFrameTrain = predict_OLS(model, dataTrain, True, False, 'train')\n",
    "dataFrameTest = predict_OLS(model, dataTest, True, False, 'test')\n",
    "\n",
    "## Combine them for export\n",
    "dataFrameExport = dataFrameTrain.copy()\n",
    "dataFrameExport = dataFrameExport.combine_first(dataFrameTest)\n",
    "\n",
    "# Get Metrics\n",
    "metrics_model = dict()\n",
    "metrics_model['train'] = metrics(dataFrameTrain['reference'], dataFrameTrain['prediction'])\n",
    "metrics_model['test'] = metrics(dataFrameTest['reference'], dataFrameTest['prediction'])\n",
    "\n",
    "records.archive_model(test_model, model_full_name, \n",
    "                      metrics_model, \n",
    "                      dataFrameExport, model, model_type, \n",
    "                      model_target, ratio_train, formula_expression, alpha_filter = alpha_filter)\n",
    "\n",
    "print ('Metrics Summary:')\n",
    "print (\"{:<23} {:<7} {:<5}\".format('Metric','Train','Test'))\n",
    "for metric in metrics_model['train'].keys():\n",
    "    print (\"{:<20}\".format(metric) +\"\\t\" +\"{:0.3f}\".format(metrics_model['train'][metric]) +\"\\t\"+ \"{:0.3f}\".format(metrics_model['test'][metric]))"
   ]
  },
  {
   "cell_type": "markdown",
   "metadata": {},
   "source": [
    "### Diagnostics plots"
   ]
  },
  {
   "cell_type": "code",
   "execution_count": null,
   "metadata": {
    "code_folding": [
     3
    ],
    "scrolled": true
   },
   "outputs": [],
   "source": [
    "from src.models.linear_regression_utils import model_R_plots\n",
    "%matplotlib inline\n",
    "\n",
    "model_R_plots(model, dataTrain, dataTest)"
   ]
  },
  {
   "cell_type": "markdown",
   "metadata": {
    "toc-hr-collapsed": true
   },
   "source": [
    "## LSTM"
   ]
  },
  {
   "cell_type": "markdown",
   "metadata": {},
   "source": [
    "### Model Fit"
   ]
  },
  {
   "cell_type": "code",
   "execution_count": null,
   "metadata": {
    "code_folding": [],
    "scrolled": true
   },
   "outputs": [],
   "source": [
    "from src.models.ml_utils import prep_dataframe_ML, fit_model_ML, predict_ML, get_inverse_transform_ML\n",
    "from src.data.signal_utils import metrics\n",
    "\n",
    "test_model = '2018-08_INT_STATION_TEST_SUMMER_HOLIDAYS'\n",
    "tuple_features = (['REF', 'GB_1W', 'STATION_CASE'],\n",
    "                 ['A', 'CO_MICS_RAW', 'STATION_CASE'],\n",
    "                 ['B', 'TEMP', 'STATION_CASE'],\n",
    "                 ['C', 'HUM', 'STATION_CASE'],\n",
    "                 ['D', 'PM_25', 'STATION_CASE'])\n",
    "\n",
    "min_date = '2018-08-01 00:00:00'\n",
    "max_date = '2018-09-20 00:00:00'\n",
    "\n",
    "model_name = 'TEST_MODEL'\n",
    "model_target = 'MICS' # ALPHASENSE, PMS, MICS...\n",
    "model_type = 'LSTM' # \n",
    "ratio_train = 3./4 # Important that this is a float, don't forget the .\n",
    "n_lags = 2\n",
    "model_full_name = '_'.join([model_target, model_type, model_name, 'n_lags-{}'.format(n_lags)])\n",
    "print ('Model Name', model_full_name)\n",
    "\n",
    "# Number of lags for the model\n",
    "n_lags = 4\n",
    "\n",
    "print ('Preparing devices from test {}'.format(test_model))\n",
    "records.prepare_dataframe_model(tuple_features, test_model, min_date, max_date, \n",
    "                                      model_full_name, clean_na = True, clean_na_method = 'drop' , \n",
    "                                      target_raster = '10Min')\n",
    "\n",
    "dataframeModel = records.readings[test_model]['models'][model_full_name]['data']\n",
    "reference_name = records.readings[test_model]['models'][model_full_name]['reference']\n",
    "\n",
    "labels = dataframeModel[reference_name]\n",
    "features = dataframeModel.drop(reference_name, axis = 1)\n",
    "\n",
    "# List of features for later use\n",
    "feature_list = list(features.columns)\n",
    "n_features = len(tuple_features)-1\n",
    "\n",
    "# Data Split\n",
    "train_X, train_y, test_X, test_y, scalerX, scalery = prep_dataframe_ML(dataframeModel, \n",
    "                                                                       n_features, \n",
    "                                                                       n_lags, ratio_train)\n",
    "\n",
    "index = dataframeModel.index\n",
    "n_train_periods = train_X.shape[0]\n",
    "\n",
    "# Model Fit\n",
    "print ('Model training...')\n",
    "model = fit_model_ML('LSTM', train_X, train_y, \n",
    "                       test_X, test_y, \n",
    "                       epochs = 50, batch_size = 72, \n",
    "                       verbose = 2, plotResult = True, \n",
    "                       loss = 'mse', optimizer = 'adam')"
   ]
  },
  {
   "cell_type": "markdown",
   "metadata": {},
   "source": [
    "### Model prediction and archiving"
   ]
  },
  {
   "cell_type": "code",
   "execution_count": null,
   "metadata": {
    "scrolled": true
   },
   "outputs": [],
   "source": [
    "from src.models.ml_utils import predict_ML, get_inverse_transform_ML\n",
    "from src.data.signal_utils import metrics\n",
    "import matplotlib.pyplot as plot\n",
    "%matplotlib inline\n",
    "\n",
    "# Get model prediction\n",
    "inv_train_y = get_inverse_transform_ML(train_y, scalery)\n",
    "dataFrameTrain = predict_ML(model, train_X, \n",
    "                            inv_train_y, index[:n_train_periods],\n",
    "                            scalery)\n",
    "\n",
    "inv_test_y = get_inverse_transform_ML(test_y, scalery)\n",
    "dataFrameTest = predict_ML(model, test_X, \n",
    "                           inv_test_y, index[n_train_periods+n_lags:], \n",
    "                           scalery)\n",
    "\n",
    "dataFrameExport = dataFrameTrain.copy()\n",
    "dataFrameExport = dataFrameExport.combine_first(dataFrameTest)\n",
    "\n",
    "# Get Metrics\n",
    "print ('Calculating Metrics...')\n",
    "metrics_model = dict()\n",
    "metrics_model['train'] = metrics(dataFrameTrain['reference'], dataFrameTrain['prediction'])\n",
    "metrics_model['test'] = metrics(dataFrameTest['reference'], dataFrameTest['prediction'])\n",
    "\n",
    "print ('Archiving Model...')\n",
    "records.archive_model(test_model, model_full_name, \n",
    "                      metrics_model, \n",
    "                      dataFrameExport, model, model_type, \n",
    "                      model_target, ratio_train, n_lags = n_lags, scalerX = scalerX, scalery = scalery)\n",
    "\n",
    "print ('Metrics Summary:')\n",
    "print (\"{:<23} {:<7} {:<5}\".format('Metric','Train','Test'))\n",
    "for metric in metrics_model['train'].keys():\n",
    "    print (\"{:<20}\".format(metric) +\"\\t\" +\"{:0.3f}\".format(metrics_model['train'][metric]) +\"\\t\"+ \"{:0.3f}\".format(metrics_model['test'][metric]))"
   ]
  },
  {
   "cell_type": "markdown",
   "metadata": {
    "toc-hr-collapsed": true
   },
   "source": [
    "## Random Forest Regressor or SVR\n",
    "\n",
    "No feature scaling implementation"
   ]
  },
  {
   "cell_type": "code",
   "execution_count": null,
   "metadata": {},
   "outputs": [],
   "source": [
    "# Import the model we are using\n",
    "from sklearn.ensemble import RandomForestRegressor\n",
    "from src.data.signal_utils import metrics\n",
    "import matplotlib.pyplot as plot\n",
    "import numpy as np\n",
    "from sklearn.model_selection import train_test_split\n",
    "\n",
    "\n",
    "###-------------------------------------------INPUT INFO HERE-----------------------------------------------------\n",
    "test_model = '2018-08_INT_STATION_TEST_SUMMER_HOLIDAYS'\n",
    "tuple_features = (['REF', 'EXT_PM_1', 'STATION_CASE'],\n",
    "                 ['A', 'EXT_PM_10', 'STATION_CASE'],\n",
    "                 ['B', 'EXT_TEMP', 'STATION_CASE'])#,\n",
    "                 #['C', 'PM_DALLAS_TEMP_DERIV', '5262_processed'])\n",
    "\n",
    "min_date = '2018-01-01 00:00:00'\n",
    "max_date = '2019-03-20 00:00:00'\n",
    "\n",
    "model_name = 'NO2_BASE-T-dT_Shuffle-Dublin_3-4_5Min'\n",
    "model_target = 'ALPHASENSE' # ALPHASENSE, PMS, MICS...\n",
    "shuffle_split = True\n",
    "model_type = 'RF' # RF or SVR\n",
    "ratio_train = 3./4 # Important that this is a float, don't forget the .\n",
    "\n",
    "###----------------------------------------------------------------------------------------------------------------\n",
    "model_full_name = '_'.join([model_target, model_type, model_name])\n",
    "print ('Model Name', model_full_name)\n",
    "\n",
    "print ('Preparing devices from test {}'.format(test_model))\n",
    "records.prepare_dataframe_model(tuple_features, test_model, min_date, max_date, \n",
    "                                      model_full_name, clean_na = True, clean_na_method = 'drop' , \n",
    "                                      target_raster = '5Min')\n",
    "\n",
    "dataframeModel = records.readings[test_model]['models'][model_full_name]['data']\n",
    "reference_name = records.readings[test_model]['models'][model_full_name]['reference']\n",
    "\n",
    "labels = dataframeModel[reference_name]\n",
    "features = dataframeModel.drop(reference_name, axis = 1)\n",
    "\n",
    "# List of features for later use\n",
    "feature_list = list(features.columns)\n",
    "\n",
    "features = np.array(features)\n",
    "labels = np.array(labels)\n",
    "# Training and Testing Sets\n",
    "train_X, test_X, train_y, test_y = train_test_split(features, labels, random_state = 42, \n",
    "                                                    test_size = 1-ratio_train, shuffle = shuffle_split)\n",
    "\n",
    "n_train_periods = train_X.shape[0]\n",
    "print('Training X Shape:', train_X.shape)\n",
    "print('Training y Shape:', train_y.shape)\n",
    "print('Testing X Shape:', test_X.shape)\n",
    "print('Testing y Shape:', test_y.shape)"
   ]
  },
  {
   "cell_type": "markdown",
   "metadata": {
    "toc-hr-collapsed": true
   },
   "source": [
    "### Single Model Fit - Prediction and Archiving"
   ]
  },
  {
   "cell_type": "code",
   "execution_count": null,
   "metadata": {},
   "outputs": [],
   "source": [
    "from src.models.ml_utils import predict_ML\n",
    "\n",
    "# Instantiate model \n",
    "if model_type == 'RF':\n",
    "    model = RandomForestRegressor(n_estimators= 1000, random_state = 42)\n",
    "elif model_type == 'SVR':\n",
    "    model = SVR(kernel='rbf')\n",
    "    \n",
    "## Train the model on training data\n",
    "print ('Training Model {}...'.format(model_name))\n",
    "model.fit(train_X, train_y)\n",
    "\n",
    "## Get model prediction\n",
    "dataFrameTrain = predict_ML(model, features[:n_train_periods], labels[:n_train_periods], dataframeModel.index[:n_train_periods])\n",
    "dataFrameTest = predict_ML(model, features[n_train_periods:], labels[n_train_periods:], dataframeModel.index[n_train_periods:])\n",
    "\n",
    "# Get model metrics\n",
    "print ('Calculating Metrics...')\n",
    "metrics_model = dict()\n",
    "metrics_model['train'] = metrics(dataFrameTrain['reference'], dataFrameTrain['prediction'])\n",
    "metrics_model['test'] = metrics(dataFrameTest['reference'], dataFrameTest['prediction'])\n",
    "\n",
    "dataFrameExport = dataFrameTrain.copy()\n",
    "dataFrameExport = dataFrameExport.combine_first(dataFrameTest)\n",
    "print ('Archiving Model...')\n",
    "records.archive_model(test_model, model_full_name, \n",
    "                      metrics_model, \n",
    "                      dataFrameExport, model, model_type, \n",
    "                      model_target, ratio_train, shuffle_split)\n",
    "\n",
    "print ('Metrics Summary:')\n",
    "print (\"{:<23} {:<7} {:<5}\".format('Metric','Train','Test'))\n",
    "for metric in metrics_model['train'].keys():\n",
    "    print (\"{:<20}\".format(metric) +\"\\t\" +\"{:0.3f}\".format(metrics_model['train'][metric]) +\"\\t\"+ \"{:0.3f}\".format(metrics_model['test'][metric]))"
   ]
  },
  {
   "cell_type": "markdown",
   "metadata": {},
   "source": [
    "### Random Search with Cross Validation \n",
    "\n",
    "We perform here cross validated random search of the model hyperparameters, to later on retrieve the best parameters with a grid search around the best found results of the CV.\n",
    "\n",
    "Using **k-fold cross validation** below:\n",
    "\n",
    "![](https://i.imgur.com/HLbgMSS.png)\n",
    "\n",
    "Source: https://towardsdatascience.com/hyperparameter-tuning-the-random-forest-in-python-using-scikit-learn-28d2aa77dd74"
   ]
  },
  {
   "cell_type": "code",
   "execution_count": null,
   "metadata": {},
   "outputs": [],
   "source": [
    "from sklearn.model_selection import RandomizedSearchCV\n",
    "from src.models.ml_utils import predict_ML\n",
    "\n",
    "if model_type == 'RF':\n",
    "\n",
    "    # Number of trees in random forest\n",
    "    n_estimators = [int(x) for x in np.linspace(start = 200, stop = 2000, num = 10)]\n",
    "    # Number of features to consider at every split\n",
    "    max_features = ['auto', 'sqrt']\n",
    "    # Maximum number of levels in tree\n",
    "    max_depth = [int(x) for x in np.linspace(10, 100, num = 10)]\n",
    "    max_depth.append(None)\n",
    "    # Minimum number of samples required to split a node\n",
    "    min_samples_split = [2, 5, 10]\n",
    "    # Minimum number of samples required at each leaf node\n",
    "    min_samples_leaf = [1, 2, 4]\n",
    "    # Method of selecting samples for training each tree\n",
    "    bootstrap = [True, False]\n",
    "    \n",
    "    # Create the random grid\n",
    "    random_grid = {'n_estimators': n_estimators,\n",
    "                   'max_features': max_features,\n",
    "                   'max_depth': max_depth,\n",
    "                   'min_samples_split': min_samples_split,\n",
    "                   'min_samples_leaf': min_samples_leaf,\n",
    "                   'bootstrap': bootstrap}\n",
    "    \n",
    "    ## Evaluate the default model\n",
    "    base_model = RandomForestRegressor(n_estimators = 1000, random_state = 42)\n",
    "    \n",
    "    # Random search of parameters, using 3 fold cross validation, \n",
    "    # search across 100 different combinations, and use all available cores\n",
    "    random_model = RandomizedSearchCV(estimator=RandomForestRegressor(), param_distributions=random_grid,\n",
    "                              n_iter = 100, scoring='neg_mean_absolute_error', \n",
    "                              cv = 3, verbose=2, random_state=42, n_jobs=-1)\n",
    "elif model_type == 'SVR':\n",
    "    \n",
    "    # Random search of parameters, using 3 fold cross validation, \n",
    "    # search across 100 different combinations, and use all available cores\n",
    "    random_grid = {\"C\": [1e0, 1e1, 1e2, 1e3], \n",
    "                   \"gamma\": np.logspace(-2, 2, 5),\n",
    "                   \"kernel\": ['rbf', 'sigmoid'],\n",
    "                  \"shrinking\": [True, False]}\n",
    "    \n",
    "    ## Create the default model\n",
    "    base_model = SVR(kernel='rbf', gamma=0.1)\n",
    "\n",
    "    ## Create randomized Search\n",
    "    random_model = RandomizedSearchCV(estimator = SVR(), cv=5, \n",
    "                             n_iter = 100, scoring = 'neg_mean_absolute_error',\n",
    "                             param_distributions=random_grid,  verbose=2, random_state=42, n_jobs=-1)\n",
    "    \n",
    "# Fit the base model\n",
    "base_model.fit(train_X, train_y)\n",
    "## Get base model prediction\n",
    "dataFrameTrain_base = predict_ML(base_model, features[:n_train_periods], labels[:n_train_periods], dataframeModel.index[:n_train_periods])\n",
    "dataFrameTest_base = predict_ML(base_model, features[n_train_periods:], labels[n_train_periods:], dataframeModel.index[n_train_periods:])\n",
    "\n",
    "# Fit the random search model\n",
    "random_model.fit(train_X, train_y)\n",
    "random_model.best_params_\n",
    "best_random = random_model.best_estimator_\n",
    "## Evaluate the best model\n",
    "dataFrameTrain_best = predict_ML(best_random, features[:n_train_periods], labels[:n_train_periods], dataframeModel.index[:n_train_periods])\n",
    "dataFrameTest_best = predict_ML(best_random, features[n_train_periods:], labels[n_train_periods:], dataframeModel.index[n_train_periods:])"
   ]
  },
  {
   "cell_type": "markdown",
   "metadata": {},
   "source": [
    "Now perform the gridsearch"
   ]
  },
  {
   "cell_type": "code",
   "execution_count": null,
   "metadata": {},
   "outputs": [],
   "source": [
    "from sklearn.model_selection import GridSearchCV\n",
    "\n",
    "if model_type == 'RF':\n",
    "    # Create the parameter grid based on the results of random search \n",
    "    param_grid = {\n",
    "        'bootstrap': [False],\n",
    "        'max_depth': [80, 90, 100, 110],\n",
    "        'max_features': [2, 3],\n",
    "        'min_samples_leaf': [1, 2],\n",
    "        'min_samples_split': [2, 3],\n",
    "        'n_estimators': [200, 300, 400, 1000]\n",
    "    }\n",
    "        \n",
    "    # Instantiate the grid search model\n",
    "    grid_search = GridSearchCV(estimator = RandomForestRegressor(), param_grid = param_grid, \n",
    "                               scoring = 'neg_mean_absolute_error', cv = 3, \n",
    "                               n_jobs = -1, verbose = 2)\n",
    "elif model_type == 'SVR':\n",
    "\n",
    "    # Create the parameter grid based on the results of random search \n",
    "    param_grid = {\"C\": [1e0, 1e1, 1e2, 1e3], \n",
    "                   \"gamma\": np.logspace(-2, 2, 5),\n",
    "                  \"shrinking\": [True, False]\n",
    "    }\n",
    "\n",
    "    # Instantiate the grid search model\n",
    "    grid_search = GridSearchCV(estimator = SVR(), param_grid = param_grid, \n",
    "                               scoring = 'neg_mean_absolute_error', cv = 3, \n",
    "                               n_jobs = -1, verbose = 2)\n",
    "\n",
    "# Fit the grid search to the data\n",
    "grid_search.fit(train_X, train_y)\n",
    "# Fit the grid search to the data\n",
    "grid_search.fit(train_X, train_y)"
   ]
  },
  {
   "cell_type": "markdown",
   "metadata": {},
   "source": [
    "Get best grid estimator"
   ]
  },
  {
   "cell_type": "code",
   "execution_count": null,
   "metadata": {},
   "outputs": [],
   "source": [
    "print (grid_search.best_params_)\n",
    "best_grid = grid_search.best_estimator_\n",
    "print (best_grid)\n",
    "dataFrameTrain_best_grid = predict_ML(best_grid, features[:n_train_periods], labels[:n_train_periods], dataframeModel.index[:n_train_periods])\n",
    "dataFrameTest_best_grid = predict_ML(best_grid, features[n_train_periods:], labels[n_train_periods:], dataframeModel.index[n_train_periods:])"
   ]
  },
  {
   "cell_type": "markdown",
   "metadata": {},
   "source": [
    "If happy with the best predictions of the grid search, put them in the dataframe for plotting and archiving"
   ]
  },
  {
   "cell_type": "code",
   "execution_count": null,
   "metadata": {},
   "outputs": [],
   "source": [
    "dataFrameExport = dataFrameTrain_best_grid.copy()\n",
    "dataFrameExport = dataFrameExport.combine_first(dataFrameTest_best_grid)\n",
    "\n",
    "# Get model metrics\n",
    "metrics_model = dict()\n",
    "metrics_model['train'] = metrics(dataFrameTrain_best_grid['reference'], dataFrameTrain_best_grid['prediction'])\n",
    "metrics_model['test'] = metrics(dataFrameTest_best_grid['reference'], dataFrameTest_best_grid['prediction'])\n",
    "\n",
    "records.archive_model(test_model, model_full_name + '_best_grid_search', \n",
    "                      metrics_model, \n",
    "                      dataFrameExport, best_grid, model_type, \n",
    "                      model_target, ratio_train)\n",
    "\n",
    "print ('Metrics Summary:')\n",
    "print (\"{:<23} {:<7} {:<5}\".format('Metric','Train','Test'))\n",
    "for metric in metrics_model['train'].keys():\n",
    "    print (\"{:<20}\".format(metric) +\"\\t\" +\"{:0.3f}\".format(metrics_model['train'][metric]) +\"\\t\"+ \"{:0.3f}\".format(metrics_model['test'][metric]))"
   ]
  },
  {
   "cell_type": "markdown",
   "metadata": {},
   "source": [
    "## Model plots"
   ]
  },
  {
   "cell_type": "code",
   "execution_count": null,
   "metadata": {},
   "outputs": [],
   "source": [
    "from src.models.ml_utils import plot_model_ML\n",
    "%matplotlib inline\n",
    "\n",
    "plot_model_ML(model, dataFrameTrain, dataFrameTest, feature_list, model_type, model_name)"
   ]
  },
  {
   "cell_type": "markdown",
   "metadata": {},
   "source": [
    "## Model Export to Disk"
   ]
  },
  {
   "cell_type": "code",
   "execution_count": null,
   "metadata": {},
   "outputs": [],
   "source": [
    "out_model_export = widgets.Output()\n",
    "\n",
    "selectedModel = tuple()\n",
    "def selectModel(Models):\n",
    "    global selectedModel\n",
    "    selectedModel = list(Models)\n",
    "    # selectedTestBases = list()\n",
    "    # selectedTestBases.append('')\n",
    "    # for test in selectedTest:\n",
    "    #     selectedTestBases.append(basename(normpath(test)))\n",
    "    # name_drop_api.options = selectedTestBases\n",
    "    \n",
    "def exportModel(b):\n",
    "    with out_model_export:\n",
    "        clear_output()\n",
    "        for model_selected in selectedModel:\n",
    "            print ('Exporting model', model_selected, '...')\n",
    "            records.export_model(test_model, model_selected)\n",
    "            print ('---')\n",
    "        \n",
    "button_model_export = widgets.Button(description='Export Selected')\n",
    "button_model_export.on_click(exportModel)\n",
    "\n",
    "interact(selectModel,\n",
    "    Models = widgets.SelectMultiple(options=records.readings[test_model]['models'].keys(), \n",
    "                            selected_labels = selectedModel,\n",
    "                            layout=widgets.Layout(width='700px')))\n",
    "\n",
    "# records.export_model(test_model, model_full_name, modelDirectory)\n",
    "display(button_model_export)\n",
    "display(out_model_export)"
   ]
  },
  {
   "cell_type": "markdown",
   "metadata": {
    "toc-hr-collapsed": true
   },
   "source": [
    "## Model Comparison"
   ]
  },
  {
   "cell_type": "markdown",
   "metadata": {},
   "source": [
    "### TimeSeries Comparison"
   ]
  },
  {
   "cell_type": "code",
   "execution_count": null,
   "metadata": {
    "code_folding": []
   },
   "outputs": [],
   "source": [
    "import matplotlib.pyplot as plt\n",
    "import plotly.tools as tls\n",
    "%matplotlib inline\n",
    "\n",
    "fig = plt.figure(figsize=(15,10))\n",
    "referencePlotted = False\n",
    "        \n",
    "for model_name in records.readings[test_model]['models']:\n",
    "    try:\n",
    "        ratio_train = records.readings[test_model]['models'][model_name]['parameters']['ratio_train']\n",
    "        data = records.readings[test_model]['devices'][model_name]['data']\n",
    "                \n",
    "        total_len = len(data.index)\n",
    "        n_train_periods = int(round(total_len*ratio_train))\n",
    "    \n",
    "        dataframeTrain = data.iloc[:n_train_periods,:]\n",
    "        dataframeTest = data.iloc[n_train_periods:,:]\n",
    "                        \n",
    "        if (not referencePlotted):\n",
    "            plt.plot(dataframeTrain.index, dataframeTrain['reference'], 'b.', label = 'Reference Train', alpha = 0.3)\n",
    "            plt.plot(dataframeTest.index, dataframeTest['reference'], 'b.', label = 'Reference Test', alpha = 0.3)\n",
    "            referencePlotted = True\n",
    "            \n",
    "        plt.plot(dataframeTrain.index, dataframeTrain['prediction'], linewidth = 0.6, label = 'Prediction Train ' + model_name)\n",
    "        plt.plot(dataframeTest.index, dataframeTest['prediction'], linewidth = 0.6, label = 'Prediction Test ' + model_name)\n",
    "    except:\n",
    "        pass\n",
    "plt.legend(loc = 'best')\n",
    "# plt.ylabel(str(readings[test_model]['devices'][name_combined_data]['model'][model_name]['parameters']['features'][\"ref\"][1]))\n",
    "plt.xlabel('Date (-)')\n",
    "plt.grid(True)\n",
    "# plt.title('Model Comparison for ' + str(readings[test_model]['devices'][name_combined_data]['model'][model_name]['parameters']['features'][\"ref\"][1]))"
   ]
  },
  {
   "cell_type": "markdown",
   "metadata": {},
   "source": [
    "### Scatter Comparison"
   ]
  },
  {
   "cell_type": "code",
   "execution_count": null,
   "metadata": {},
   "outputs": [],
   "source": [
    "import matplotlib.pyplot as plot\n",
    "from matplotlib import gridspec\n",
    "import pandas as pd\n",
    "import math\n",
    "%matplotlib inline\n",
    "\n",
    "number_of_subplots = len(records.readings[test_model]['models'].keys()) \n",
    "if number_of_subplots % 2 == 0: cols = 2\n",
    "else: cols = 3\n",
    "rows = int(math.ceil(number_of_subplots / cols))\n",
    "gs = gridspec.GridSpec(rows, cols)\n",
    "fig = plot.figure(figsize=(15,10))\n",
    "\n",
    "fig.tight_layout()\n",
    "n = 0\n",
    "\n",
    "for model_name in records.readings[test_model]['models']:\n",
    "    try:\n",
    "        ratio_train = records.readings[test_model]['models'][model_name]['parameters']['ratio_train']\n",
    "    \n",
    "        data = records.readings[test_model]['devices'][model_name]['data']\n",
    "        dataVal = data.groupby(pd.Grouper(freq='1H')).aggregate(np.mean)    \n",
    "        total_len = len(dataVal.index)\n",
    "        n_train_periods = int(round(total_len*ratio_train))\n",
    "        \n",
    "        dataframeTrain = dataVal.iloc[:n_train_periods,:]\n",
    "        dataframeTest = dataVal.iloc[n_train_periods:,:]\n",
    "    \n",
    "        ax = fig.add_subplot(gs[n])\n",
    "        n += 1          \n",
    "        plot.plot(dataframeTrain['reference'], dataframeTrain['prediction'], 'go', label = 'Train ' + model_name, alpha = 0.3)\n",
    "        plot.plot(dataframeTest['reference'], dataframeTest['prediction'], 'bo', label = 'Test ' + model_name, alpha = 0.3)\n",
    "        plot.plot(dataframeTrain['reference'], dataframeTrain['reference'], 'k', label = '1:1 Line', linewidth = 0.4, alpha = 0.3)\n",
    "     \n",
    "        plot.legend(loc = 'best', prop={'size': 8})\n",
    "        plot.ylabel('Prediction (-)')\n",
    "        plot.xlabel('Reference (-)')\n",
    "        plot.show()\n",
    "    except:\n",
    "        print (\"Model {} was not archived properly\".format(model_name))\n",
    "        pass"
   ]
  },
  {
   "cell_type": "code",
   "execution_count": null,
   "metadata": {},
   "outputs": [],
   "source": [
    "import matplotlib.pyplot as plot\n",
    "from matplotlib import gridspec\n",
    "import math\n",
    "from src.data.signal_utils import metrics\n",
    "\n",
    "number_of_subplots = 3\n",
    "if number_of_subplots % 2 == 0: cols = 2\n",
    "else: cols = 3\n",
    "rows = int(math.ceil(number_of_subplots / cols))\n",
    "gs = gridspec.GridSpec(rows, cols)\n",
    "fig = plot.figure(figsize=(20,6))\n",
    "\n",
    "fig.tight_layout()\n",
    "n = 0\n",
    "test = '2018-09_EXT_BOLOGNA_TEST_WALL_MO'\n",
    "\n",
    "pollutant_list = ['CO_AD_BASE1-60', 'NO2_AD_BASE1-60', 'O3_AD_BASE1-60']\n",
    "ref_list = ['CO_REF', 'NO2_REF', 'O3_REF']\n",
    "min_date = '2018-08-21 14:45:00'\n",
    "max_date = '2018-08-28 23:45:00'\n",
    "\n",
    "for i in range(3):\n",
    "\n",
    "    data_source_1 = records.readings[test]['devices']['SCK2']['data']\n",
    "    # data_source_2 = records.readings[test]['devices']['5528']['data']\n",
    "    data_ref = records.readings[test]['devices']['ARPAE_MO']['data']\n",
    "    \n",
    "    data_source_1_val = data_source_1.groupby(pd.Grouper(freq='1H')).aggregate(np.mean)\n",
    "    data_ref_val = data_ref.groupby(pd.Grouper(freq='1H')).aggregate(np.mean)\n",
    "    \n",
    "    data_source_1_val = data_source_1_val[data_source_1_val.index > min_date]\n",
    "    data_source_1_val = data_source_1_val[data_source_1_val.index < max_date]\n",
    "\n",
    "    data_ref_val = data_ref_val[data_ref_val.index > min_date]\n",
    "    data_ref_val = data_ref_val[data_ref_val.index < max_date]\n",
    "    \n",
    "    ax = fig.add_subplot(gs[n])\n",
    "    n += 1          \n",
    "    plot.plot(data_ref_val[ref_list[i]], data_source_1_val[pollutant_list[i]], 'go', label = 'SC Station #5527', alpha = 0.5)\n",
    "    # plot.plot(data_ref[ref_list[i]], data_source_2[pollutant_list[i]], 'bo', label = 'SC Station #5528', alpha = 0.3)\n",
    "    plot.plot(data_ref_val[ref_list[i]], data_ref_val[ref_list[i]], 'k', label = '1:1 Line', linewidth = 0.4, alpha = 0.3)\n",
    " \n",
    "    plot.legend(loc = 'best')\n",
    "    plot.ylabel('Pollutant {}'.format(ref_list[i]))\n",
    "    plot.xlabel('Pollutant {}'.format(ref_list[i]))\n",
    "    plot.title('Hola')\n",
    "    \n",
    "    metrics_poll = metrics(data_ref_val[ref_list[i]], data_source_1_val[pollutant_list[i]])\n",
    "    print (metrics_poll)\n",
    "    "
   ]
  },
  {
   "cell_type": "markdown",
   "metadata": {},
   "source": [
    "### Model Metrics Comparison: target diagram"
   ]
  },
  {
   "cell_type": "code",
   "execution_count": null,
   "metadata": {
    "code_folding": [
     4,
     12,
     18
    ]
   },
   "outputs": [],
   "source": [
    "from src.visualization.visualization import targetDiagram\n",
    "%matplotlib inline\n",
    "\n",
    "for model in records.readings[test_model]['models']:\n",
    "    try:\n",
    "        print ('-----------------------------------------------------')\n",
    "        print ('\\nModel Name: {}'.format(model))\n",
    "        print (\"{:<23} {:<7} {:<5}\".format('Metric','Train','Test'))\n",
    "        metrics_model = records.readings[test_model]['models'][model]['metrics']\n",
    "        for metric in metrics_model['train'].keys():\n",
    "            print (\"{:<20}\".format(metric) +\"\\t\" +\"{:0.3f}\".format(metrics_model['train'][metric]) +\"\\t\"+ \"{:0.3f}\".format(metrics_model['test'][metric]))\n",
    "    except:\n",
    "        print ('Cannot use model {}'.format(model))\n",
    "targetDiagram(records.readings[test_model]['models'], True)"
   ]
  },
  {
   "cell_type": "markdown",
   "metadata": {
    "toc-hr-collapsed": true
   },
   "source": [
    "## Model Evaluation"
   ]
  },
  {
   "cell_type": "markdown",
   "metadata": {},
   "source": [
    "### Data Quality Objectives (TO CHECK)\n",
    "Explained here http://dx.doi.org/10.1016/j.envint.2016.12.007\n",
    "\n",
    "Sensor values Y, reference values x"
   ]
  },
  {
   "cell_type": "code",
   "execution_count": null,
   "metadata": {
    "code_folding": [
     5
    ]
   },
   "outputs": [],
   "source": [
    "from scipy.stats.stats import linregress\n",
    "import matplotlib.pyplot as plot\n",
    "import numpy as np\n",
    "%matplotlib inline\n",
    "\n",
    "def fUEREL(ux, values_x, values_Y):\n",
    "    def RSS(values_x, values_Y, intercept, slope):\n",
    "        pre_sum_1 = np.power(values_Y - intercept - np.multiply(slope, values_x), 2)\n",
    "        # pre_sum_2 = np.power(values_Y / (intercept + np.multiply(slope, values_x)) - 1, 2)\n",
    "        \n",
    "        # fig, axes = plot.subplots(1, 2, figsize=(15,10))\n",
    "        # axes[0].plot(pre_sum_1)\n",
    "        # axes[1].plot(pre_sum_2)\n",
    "\n",
    "        RSS = np.sum(np.power(pre_sum_1,2))\n",
    "        \n",
    "        return RSS\n",
    "    \n",
    "    slope, intercept, _, _, _ = linregress(values_x, values_Y)\n",
    "    # fig = plot.figure(figsize=(15,10))\n",
    "    # plot.plot(slope*values_x + intercept, label='Sensor')\n",
    "    # plot.plot(values_Y)\n",
    "    \n",
    "    RSS = RSS(values_x, values_Y, intercept, slope)\n",
    "    n = len(values_x)\n",
    "    if len(values_Y) != n: return\n",
    "    A = RSS/(n-2)-np.power(ux,2)\n",
    "    B = np.power(intercept + (slope-1)*values_x, 2)\n",
    "    C = np.power(A + B, 0.5)\n",
    "    UEREL = np.divide(2*C, values_Y)\n",
    "    \n",
    "    return UEREL"
   ]
  },
  {
   "cell_type": "code",
   "execution_count": null,
   "metadata": {
    "code_folding": [
     33
    ]
   },
   "outputs": [],
   "source": [
    "import matplotlib.pyplot as plot\n",
    "from matplotlib import gridspec\n",
    "import math\n",
    "\n",
    "dqo_table = (['PM', 50],\n",
    "            ['O3', 30],\n",
    "            ['CO',25],\n",
    "            ['NO',25],\n",
    "            ['NO2',25],\n",
    "            ['NOX',25],\n",
    "            ['SO2',25])\n",
    "\n",
    "ux = 0\n",
    "test_model = '2019-02_EXT_DUBLIN_URBAN_BACKGROUND'\n",
    "\n",
    "## ---\n",
    "number_of_subplots = len(records.readings[test_model]['models'].keys()) \n",
    "\n",
    "if number_of_subplots % 2 == 0: cols = 2\n",
    "else: cols = 3\n",
    "    \n",
    "rows = int(math.ceil(number_of_subplots / cols))\n",
    "gs = gridspec.GridSpec(rows, cols)\n",
    "fig = plot.figure(figsize=(15,10))\n",
    "\n",
    "fig.tight_layout()\n",
    "n = 0\n",
    "\n",
    "for model in records.readings[test_model]['models']:\n",
    "    try:\n",
    "        data = records.readings[test_model]['devices'][model]['data']\n",
    "        dataVal = data.groupby(pd.Grouper(freq='1H')).aggregate(np.mean)\n",
    "        values_x = dataVal['reference'].values\n",
    "        values_Y = dataVal['prediction'].values\n",
    "        \n",
    "        total_len = len(data.index)\n",
    "        n_train_periods = int(round(total_len*ratio_train))\n",
    "    \n",
    "        ax = fig.add_subplot(gs[n])\n",
    "        n += 1      \n",
    "    \n",
    "        uerel = 100*fUEREL(ux, values_x, values_Y)\n",
    "        \n",
    "        plot.plot(values_x, uerel, 'ko')\n",
    "        plot.xlabel('Ref. conc [ppb]')\n",
    "        plot.ylabel('Rel. Exp. Unc (%)')\n",
    "        plot.ylim([0, 100])\n",
    "        plot.title(model)\n",
    "        plot.axhline(y=25, color='r', linestyle='-')\n",
    "    except:\n",
    "        pass\n",
    "            "
   ]
  },
  {
   "cell_type": "markdown",
   "metadata": {
    "toc-hr-collapsed": true
   },
   "source": [
    "# Model Application"
   ]
  },
  {
   "cell_type": "code",
   "execution_count": null,
   "metadata": {},
   "outputs": [],
   "source": [
    "%run src_ipynb/apply_model.ipynb"
   ]
  },
  {
   "cell_type": "code",
   "execution_count": null,
   "metadata": {
    "code_folding": []
   },
   "outputs": [],
   "source": [
    "# from os.path import join\n",
    "from sklearn.externals import joblib\n",
    "from keras.models import model_from_json\n",
    "import json\n",
    "from IPython.display import display\n",
    "from ipywidgets import interact\n",
    "import ipywidgets as widgets\n",
    "from IPython.display import display, clear_output, Markdown\n",
    "\n",
    "out_model_load = widgets.Output()\n",
    "\n",
    "dict_models = dict()\n",
    "with open(join(modelDirectory, 'summary.json'), 'r') as summary_file:\n",
    "    dict_models = json.load(summary_file)\n",
    "    \n",
    "selectedModels = tuple()\n",
    "def load_selectModels(selected_model):\n",
    "    with out_model_load:\n",
    "        global selectedModels\n",
    "        selectedModels = list(selected_model)\n",
    "        print (selectedModels)\n",
    "    \n",
    "def load_show_devices(Source):\n",
    "    load_device.options = [s for s in list(records.readings[Source]['devices'].keys())]\n",
    "    load_device.source = Source\n",
    "    \n",
    "def load_show_dates(Source):\n",
    "    load_min_date.value = records.readings[Source]['devices'][load_device.value]['data'].index.min()._short_repr\n",
    "    load_max_date.value = records.readings[Source]['devices'][load_device.value]['data'].index.max()._short_repr\n",
    "\n",
    "def loadModel(b):\n",
    "    with out_model_load:\n",
    "        clear_output()\n",
    "            \n",
    "        if len(selectedModels)>0:\n",
    "            global loaded_model\n",
    "            global loaded_params\n",
    "            global loaded_metrics\n",
    "            global loaded_features\n",
    "            global loaded_model_name\n",
    "            \n",
    "            if 'ARCHIVE' in selectedModels[0]:\n",
    "                model_name = selectedModels[0][8:]\n",
    "                print ('Loading model {} from disk'.format(model_name))\n",
    "                filename = join(modelDirectory, load_target_drop.value, model_name)\n",
    "                if load_type_drop.value == \"LSTM\":\n",
    "                    # ML Model\n",
    "                    # Load Model and weights\n",
    "                    json_file = open(filename + \"_model.json\", \"r\")\n",
    "                    loaded_model_json = json_file.read()\n",
    "                    json_file.close()\n",
    "                \n",
    "                    loaded_model = model_from_json(loaded_model_json)\n",
    "                    loaded_model.load_weights(filename + \"_model.h5\")\n",
    "                elif load_type_drop.value == \"OLS\" or load_type_drop.value == 'RF' or load_type_drop.value == 'SVR':\n",
    "                    # OLS, RF, or SVR Model\n",
    "                    loaded_model = joblib.load(filename + '_model.sav')\n",
    "                    \n",
    "                # Load params and metrics\n",
    "                loaded_params = joblib.load(filename + '_parameters.sav')\n",
    "                loaded_metrics = joblib.load(filename + '_metrics.sav')\n",
    "                loaded_features = joblib.load(filename + '_features.sav')\n",
    "                print ('Model loaded from disk')\n",
    "            elif 'SESSION' in selectedModels[0]:\n",
    "                model_name = selectedModels[0][8:]\n",
    "\n",
    "                test_source = list_tests[list_model_session.index(selectedModels[0])]\n",
    "                print ('Using model {} from current session'.format(model_name))\n",
    "\n",
    "                loaded_model = records.readings[test_source]['models'][model_name]['model']\n",
    "                loaded_params = records.readings[test_source]['models'][model_name]['parameters']\n",
    "                loaded_metrics = records.readings[test_source]['models'][model_name]['metrics']\n",
    "                loaded_features = records.readings[test_source]['models'][model_name]['features']\n",
    "                loaded_ref = records.readings[test_source]['models'][model_name]['reference']\n",
    "                print ('Model loaded from session')\n",
    "            display(Markdown('## Model Load'))\n",
    "            display(Markdown(\"Loaded \" + model_name))\n",
    "            display(Markdown('**Model Type** (*loaded_model*):' ))\n",
    "            display(loaded_model)\n",
    "            display(Markdown('**Model Parameters** (*loaded_params*)'))\n",
    "            display(loaded_params)\n",
    "            display(Markdown('**Model Metrics** (*loaded_metrics*)'))\n",
    "            display(loaded_metrics)\n",
    "            display(Markdown('**Model Features** (*loaded_features*)'))\n",
    "            display(loaded_features)\n",
    "            loaded_model_name = model_name\n",
    "        else:\n",
    "            print ('Select one model to load')\n",
    "    \n",
    "def load_show_models(target, mtype):\n",
    "    with out_model_load:\n",
    "        clear_output()\n",
    "        global list_tests\n",
    "        global list_model_session\n",
    "        list_models = list()\n",
    "        for item in dict_models[target]:\n",
    "            if dict_models[target][item] == mtype:\n",
    "                list_models.append('ARCHIVE_' + item)\n",
    "        list_tests = list()\n",
    "        list_model_session = list()\n",
    "        for reading in records.readings:\n",
    "            if 'models' in records.readings[reading]:\n",
    "                for model_name in records.readings[reading]['models']:\n",
    "                    try:\n",
    "                        if records.readings[reading]['models'][model_name]['model_type'] == mtype:\n",
    "                            list_models.append('SESSION_' + model_name)\n",
    "                            list_tests.append(reading)\n",
    "                            list_model_session.append('SESSION_' + model_name)\n",
    "                    except:\n",
    "                        print ('Could not use model {} from current session. Model is not archived'.format(model_name))\n",
    "        load_models.options = list(list_models)\n",
    "        \n",
    "def load_calculateModel(b):\n",
    "    with out_model_load:\n",
    "        \n",
    "        load_test_name = load_device.source\n",
    "        load_device_name = load_device.value\n",
    "        load_prediction_name = load_result_text.value\n",
    "        \n",
    "        clear_output()\n",
    "        # Predict based on choices\n",
    "        records.predict_channels(load_test_name, load_device_name, loaded_model, loaded_features, loaded_params, \n",
    "                         load_type_drop.value, loaded_model_name, load_result_text.value, plot_result.value, load_min_date.value, load_max_date.value, \n",
    "                         clean_na = True, clean_na_method = 'fill', target_raster = '1Min')\n",
    "\n",
    "display(widgets.HTML('<hr><h4>Import Local Models</h4>'))\n",
    "\n",
    "# Test dropdown\n",
    "load_test = widgets.Dropdown(options=[k for k in records.readings.keys()], \n",
    "                        layout=widgets.Layout(width='400px'),\n",
    "                        description = 'Test')\n",
    "\n",
    "load_test_drop = widgets.interactive(load_show_devices, \n",
    "                                Source=load_test, \n",
    "                                layout=widgets.Layout(width='600px'))\n",
    "\n",
    "load_type_drop = widgets.Dropdown(options = ['LSTM', 'RF', 'OLS', 'SVR'],\n",
    "                                  value = 'LSTM',\n",
    "                                  description = 'Model Type',\n",
    "                                  layout = widgets.Layout(width='300px'))\n",
    "\n",
    "load_target_drop = widgets.Dropdown(options = ['ALPHASENSE', 'MICS', 'PMS'],\n",
    "                                  value = 'MICS',\n",
    "                                  description = 'Model Target',\n",
    "                                  layout = widgets.Layout(width='300px'))\n",
    "\n",
    "load_model_type_drop = widgets.interactive(load_show_models, \n",
    "                                target = load_target_drop,\n",
    "                                mtype = load_type_drop, \n",
    "                                layout = widgets.Layout(width='700px'))\n",
    "\n",
    "load_models = widgets.SelectMultiple(selected_labels = selectedModels, \n",
    "                           layout = widgets.Layout(width='700px'))\n",
    "\n",
    "# Test dropdown\n",
    "load_test_dd = widgets.Dropdown(options=[k for k in records.readings.keys()], \n",
    "                        layout=widgets.Layout(width='400px'),\n",
    "                        description = 'Test')\n",
    "\n",
    "load_models_interact = widgets.interactive(load_selectModels,\n",
    "                                     selected_model = load_models,\n",
    "                                     model_source= load_test_dd,\n",
    "                                     layout = widgets.Layout(width='700px'))\n",
    "\n",
    "load_min_date = widgets.Text(description='Start date:', \n",
    "                         layout=widgets.Layout(width='330px'))\n",
    "load_max_date = widgets.Text(description='End date:', \n",
    "                         layout=widgets.Layout(width='330px'))\n",
    "\n",
    "\n",
    "\n",
    "load_test_drop = widgets.interactive(load_show_devices, \n",
    "                                Source=load_test_dd, \n",
    "                                layout=widgets.Layout(width='400px'))\n",
    "\n",
    "# Device dropdown\n",
    "load_device = widgets.Dropdown(layout=widgets.Layout(width='200px'),\n",
    "                        description = 'Device')\n",
    "\n",
    "load_device_drop = widgets.interactive(load_show_dates, \n",
    "                                Source=load_device, \n",
    "                                layout=widgets.Layout(width='400px'))\n",
    "\n",
    "# Sensor dropdown\n",
    "load_result_text = widgets.Text(layout = widgets.Layout(width='300px'),\n",
    "                               description = 'Result name')\n",
    "\n",
    "load_calculateButton = widgets.Button(description='Predict channel')\n",
    "load_calculateButton.on_click(load_calculateModel)\n",
    "load_device_box = widgets.HBox([load_test_drop, load_device])\n",
    "plot_result = widgets.Checkbox(value=True, \n",
    "                                     description='Plot Result', \n",
    "                                     disabled=False, \n",
    "                                     layout=widgets.Layout(width='300px'))\n",
    "calculate_channel_box = widgets.HBox([load_result_text, load_calculateButton, plot_result])\n",
    "display(load_model_type_drop)\n",
    "display(load_models)\n",
    "\n",
    "load_B = widgets.Button(description='Load Model')\n",
    "load_B.on_click(loadModel)\n",
    "\n",
    "buttonBox = widgets.VBox([load_B, load_device_box, load_min_date, load_max_date, calculate_channel_box])\n",
    "display(buttonBox)\n",
    "display(out_model_load)"
   ]
  },
  {
   "cell_type": "code",
   "execution_count": null,
   "metadata": {},
   "outputs": [],
   "source": []
  }
 ],
 "metadata": {
  "celltoolbar": "Raw Cell Format",
  "kernelspec": {
   "display_name": "Python 3",
   "language": "python",
   "name": "python3"
  },
  "language_info": {
   "codemirror_mode": {
    "name": "ipython",
    "version": 3
   },
   "file_extension": ".py",
   "mimetype": "text/x-python",
   "name": "python",
   "nbconvert_exporter": "python",
   "pygments_lexer": "ipython3",
   "version": "3.6.8"
  },
  "toc": {
   "nav_menu": {
    "height": "357px",
    "width": "307px"
   },
   "number_sections": true,
   "sideBar": true,
   "skip_h1_title": false,
   "title_cell": "Table of Contents",
   "title_sidebar": "Contents",
   "toc_cell": true,
   "toc_position": {
    "height": "48px",
    "left": "552px",
    "top": "705.497px",
    "width": "315px"
   },
   "toc_section_display": true,
   "toc_window_display": true
  },
  "toc-autonumbering": false,
  "toc-showcode": false,
  "toc-showmarkdowntxt": false,
  "toc-showtags": false
 },
 "nbformat": 4,
 "nbformat_minor": 2
}
