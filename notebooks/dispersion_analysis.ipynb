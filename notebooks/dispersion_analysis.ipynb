{
 "cells": [
  {
   "cell_type": "markdown",
   "metadata": {},
   "source": [
    "# Batch dispersion analysis"
   ]
  },
  {
   "cell_type": "markdown",
   "metadata": {},
   "source": [
    "## Initialise session and load data"
   ]
  },
  {
   "cell_type": "code",
   "execution_count": null,
   "metadata": {},
   "outputs": [],
   "source": [
    "%run src_ipynb/init.ipynb\n",
    "\n",
    "import pandas as pd\n",
    "from os.path import dirname, join, abspath, exists\n",
    "from os import getcwd, pardir, walk\n",
    "from os import getcwd, walk, mkdir\n",
    "\n",
    "import numpy as np\n",
    "import matplotlib.pyplot as plot\n",
    "import pickle\n",
    "import matplotlib.colors\n",
    "from src.models.formulas import smooth\n",
    "from IPython.display import display, HTML\n",
    "\n",
    "%run src_ipynb/load_data.ipynb"
   ]
  },
  {
   "cell_type": "markdown",
   "metadata": {},
   "source": [
    "## Input options"
   ]
  },
  {
   "cell_type": "code",
   "execution_count": null,
   "metadata": {},
   "outputs": [],
   "source": [
    "for key in records.readings.keys():\n",
    "    print (key)"
   ]
  },
  {
   "cell_type": "code",
   "execution_count": null,
   "metadata": {},
   "outputs": [],
   "source": [
    "import pandas as pd\n",
    "from os.path import dirname, join, abspath\n",
    "from os import getcwd, pardir\n",
    "from datetime import datetime\n",
    "\n",
    "# INPUT DATA\n",
    "# Name of test to be analysed\n",
    "dispersion_test = '2019-10_EXT_ISGLOBAL_30_kits_OCT'\n",
    "# How to export the files ('png' or 'fig' or None)\n",
    "type_file = None\n",
    "# Percentage of points to be considered NG sensor\n",
    "limit_errors = 5\n",
    "# Multiplier for std_dev (sigma) - Normal distribution (99.73%)\n",
    "limit_confidence_sigma = 3\n",
    "# t-student confidence level (%)\n",
    "t_confidence_level = 99\n",
    "# Use average dispersion or instantaneous\n",
    "use_instantatenous_dispersion = False\n",
    "# Min/max date for the analysis\n",
    "min_date = '2019-10-08'\n",
    "max_date = None\n",
    "# In case there is a device with lower amount of channels, ignore the missing channels and keep going\n",
    "ignore_missing_channels = True\n",
    "# Smooth channels\n",
    "smooth_channels = True\n",
    "smooth_number = 15\n",
    "# ----------   "
   ]
  },
  {
   "cell_type": "markdown",
   "metadata": {},
   "source": [
    "\n",
    "## Get list of common channels\n",
    "Displays a warning in case there is a device that has fewer channels than the rest. You can choose whether or not to ignore it or update the list of common channels"
   ]
  },
  {
   "cell_type": "code",
   "execution_count": null,
   "metadata": {},
   "outputs": [],
   "source": [
    "# Get list of common channels\n",
    "save_path = join(records.rootDirectory, 'data/export/figs', dispersion_test)\n",
    "# Test Path\n",
    "if not exists(save_path):\n",
    "    print ('Creating export directory:\\n{}'.format(save_path))\n",
    "    mkdir(save_path)\n",
    "\n",
    "list_channels = list()\n",
    "# Get list of devices\n",
    "list_devices = list(records.readings[dispersion_test]['devices'].keys())\n",
    "# Init list of common channels. Get the one that has the most\n",
    "list_channels = records.readings[dispersion_test]['devices'][list_devices[0]]['data'].columns\n",
    "# Extract list of common channels\n",
    "len_channels = len(list_channels)\n",
    "\n",
    "for device in records.readings[dispersion_test]['devices']:\n",
    "    \n",
    "    if ignore_missing_channels: \n",
    "        # We don't reduce the list in case the new list is smaller\n",
    "        list_channels = list(set(list_channels) | set(records.readings[dispersion_test]['devices'][device]['data'].columns))\n",
    "    else:\n",
    "        # We reduce it\n",
    "        list_channels = list(set(list_channels) & set(records.readings[dispersion_test]['devices'][device]['data'].columns))\n",
    "\n",
    "    print ('Device {}'.format(device))\n",
    "    print ('\\tMin reading at {}'.format(records.readings[dispersion_test]['devices'][device]['data'].index[0]))\n",
    "    #min_date_records = min(min_date_records, records.readings[dispersion_test]['devices'][device]['data'].index[0])\n",
    "    print ('\\tMax reading at {}'.format(records.readings[dispersion_test]['devices'][device]['data'].index[-1]))\n",
    "    #max_date_records = min(max_date_records, records.readings[dispersion_test]['devices'][device]['data'].index[-1])\n",
    "    print ('\\tNumber of points {}'.format(len(records.readings[dispersion_test]['devices'][device]['data'].index)))\n",
    "    ## Eliminate devices with no points\n",
    "    if (len(records.readings[dispersion_test]['devices'][device]['data'].index) == 0):\n",
    "        print ('Droping device {} for insufficient data points'.format(device))\n",
    "        records.readings[dispersion_test]['devices'].pop(device)\n",
    "    # Check the number of channels    \n",
    "    elif len_channels != len(records.readings[dispersion_test]['devices'][device]['data'].columns): \n",
    "        print(\"\\tWARNING: Device {} has {}. Current common list length is {}\".format(device, len(records.readings[dispersion_test]['devices'][device]['data'].columns), len_channels))\n",
    "        len_channels = len(list_channels)\n",
    "        if ignore_missing_channels:\n",
    "            print (\"\\tIgnoring missing channels\")\n",
    "\n",
    "print('Final list of channels:\\n', list_channels)\n",
    "\n",
    "if min_date is not None: min_date = pd.to_datetime(min_date).tz_localize('UTC').tz_convert('Europe/Madrid')\n",
    "if max_date is not None: max_date = pd.to_datetime(max_date).tz_localize('UTC').tz_convert('Europe/Madrid')"
   ]
  },
  {
   "cell_type": "code",
   "execution_count": null,
   "metadata": {
    "tags": [
     "show_only_output"
    ]
   },
   "outputs": [],
   "source": [
    "display(HTML('<h2>Data</h2>'))\n",
    "display(HTML('<p><strong>Test name:</strong><br> {}</p>'.format(dispersion_test)))\n",
    "display(HTML('<p><strong>Number of devices tested:</strong><br> {}</p>'.format(len(list_devices))))\n",
    "display(HTML('<p><strong>Test dates:</strong><br> {} - {}</p>'.format(min_date, max_date)))\n",
    "display(HTML('<p><strong>Test author(s):</strong><br> {}</p><hr>'.format('Óscar González - Victor Barberán')))\n",
    "display(HTML('<h3>Disclaimer</h3>'))\n",
    "display(HTML('<p>The methods used in this analysis are subject to the low amount of devices tested, and in general, a <i>common sense</i> approach is applied. This means that the plots indicate only trends and highlight some (but not all) potential faulty devices.</p>'))\n",
    "display(HTML('<p>Below, the confidence intervals used are those of the normal distribution (meaningful for sample numbers >30) and of the t-student distribution.</p>'))\n",
    "display(HTML('<p>Conclusions are derived by analysing the data further and testing the devices for longer periods if needed. Please, also note that statistical significance cannot be inferred from these amounts of devices, so some assumptions for normality have to be accepted. Comments and further discussion are always welcome.</p>'))\n",
    "display(HTML('<p>Finally, the individual sensors components integrated in the Smart Citizen hardware have their own accuracies and dispersions, for which Smart Citizen cannot assume any liability other than trying to work with the most appropiate selection. The tests we perform are aimed to determine and assume any failures in the sensors and their integration within the Smart Citizen hardware. For more information, please check the <a href=\"https://docs.smartcitizen.me\">official documentation</a> and the datasheets of each of the sensors.</p>'))"
   ]
  },
  {
   "cell_type": "code",
   "execution_count": null,
   "metadata": {
    "tags": [
     "show_only_output"
    ]
   },
   "outputs": [],
   "source": [
    "from scipy import stats\n",
    "from scipy.stats import t\n",
    "import numpy as np\n",
    "\n",
    "# Calculate the dispersion for the sensors present in the dataset\n",
    "dispersion_df = pd.DataFrame()\n",
    "dispersion_history = list()\n",
    "display(HTML('<h3>Warnings</h3>'))\n",
    "warning_displayed = False\n",
    "for channel in list_channels:\n",
    "    \n",
    "    list_columns = list()\n",
    "    if channel != 'BATT':\n",
    "        for device in list_devices:\n",
    "            if channel in records.readings[dispersion_test]['devices'][device]['data'].columns and len(records.readings[dispersion_test]['devices'][device]['data'].loc[:,channel]) >0 :\n",
    "                # Important to resample and bfill for unmatching measures\n",
    "                if smooth_channels:\n",
    "                    channel_new = records.readings[dispersion_test]['devices'][device]['data'][channel].resample('1Min').bfill().rolling(window=smooth_number).mean()\n",
    "                    dispersion_df[channel + '-' + device] = channel_new\n",
    "                else:\n",
    "                    dispersion_df[channel + '-' + device] = records.readings[dispersion_test]['devices'][device]['data'][channel].resample('1Min').bfill()\n",
    "                \n",
    "                list_columns.append(channel + '-' + device)\n",
    "    \n",
    "                # Trim dataset to min and max dates (normally these tests are carried out with _minutes_ of differences)\n",
    "                if min_date is not None: dispersion_df = dispersion_df[dispersion_df.index > min_date]\n",
    "                if max_date is not None: dispersion_df = dispersion_df[dispersion_df.index < max_date]\n",
    "            else:\n",
    "                display(HTML('<p>WARNING: Device {} does not contain {}</p>'.format(device, channel)))\n",
    "                warning_displayed = True\n",
    "    # Calculate Metrics\n",
    "    dispersion_df[channel + '_AVG'] = dispersion_df.loc[:,list_columns].mean(skipna=True, axis = 1)\n",
    "    dispersion_df[channel + '_STD'] = dispersion_df.loc[:,list_columns].std(skipna=True, axis = 1)\n",
    " \n",
    "    # Calculate Metrics\n",
    "    dispersion_global = dispersion_df[channel + '_STD'].mean()\n",
    "    # print (dispersion_df.index[0], dispersion_df.index[-1], channel, dispersion_global)\n",
    "    dispersion_history.append([channel, dispersion_global])\n",
    "if not warning_displayed:\n",
    "    display(HTML('<p>All devices show similar amounts of data. No data loss concern</p>'.format(device, channel))) \n",
    "    \n",
    "# display(HTML('<h3>Sensor dispersion</h3>'))\n",
    "# display(HTML('<p>Below, the sensor dispersion for each channel is listed (units of each sensor)</p>'))\n",
    "# dispersion_history = tuple(dispersion_history)\n",
    "# display(HTML('<ul style=\"list-style-type:disc;\">'))\n",
    "# for item in dispersion_history:\n",
    "#     display(HTML('<li>{}: {}</li>'.format(item[0], item[1])))\n",
    "# display(HTML('</ul>'))\n"
   ]
  },
  {
   "cell_type": "code",
   "execution_count": null,
   "metadata": {
    "tags": [
     "show_only_output"
    ]
   },
   "outputs": [],
   "source": [
    "display(HTML('<hr>'))"
   ]
  },
  {
   "cell_type": "markdown",
   "metadata": {
    "tags": [
     "show_only_output"
    ]
   },
   "source": [
    "\n",
    "## Conclusions\n",
    "\n",
    "+ Three doubious PM sensor was replaced and tested for longer (07/10/2019) - 10167, 10173, 10174\n",
    "\n",
    "Device 10142 is not replaced (<2% RH error)"
   ]
  },
  {
   "cell_type": "code",
   "execution_count": null,
   "metadata": {},
   "outputs": [],
   "source": [
    "display(HTML('<hr>'))"
   ]
  },
  {
   "cell_type": "markdown",
   "metadata": {},
   "source": [
    "## Time Series Plot"
   ]
  },
  {
   "cell_type": "code",
   "execution_count": null,
   "metadata": {
    "tags": [
     "show_only_output"
    ]
   },
   "outputs": [],
   "source": [
    "display(HTML('<h2>Time Series Plots</h2>'))\n",
    "display(HTML('Min Date available: {}'.format(min_date)))\n",
    "display(HTML('Max Date available: {}'.format(max_date)))\n",
    "        \n",
    "# Ignore battery\n",
    "if 'BATT' in list_channels: list_channels.remove('BATT')\n",
    "dict_devices_tbr = dict()\n",
    "for item in list_channels: dict_devices_tbr[item] = list()\n",
    "\n",
    "for channel in list_channels:\n",
    "    # Make subplot\n",
    "    list_columns = list()\n",
    "    fig, (ax1, ax2) = plot.subplots(nrows = 2, figsize= (15,10))\n",
    "    cmap = plot.cm.Reds\n",
    "    norm = matplotlib.colors.Normalize(vmin=0, vmax=limit_errors/2)\n",
    "    display(HTML('<h3>({}/{}) - {} </h3>'.format(list_channels.index(channel)+1, len(list_channels), channel)))\n",
    "    \n",
    "    dispersion_avg = 0\n",
    "    limit_confidence_sigma = 0\n",
    "    for item in dispersion_history:\n",
    "        if channel == item[0]:\n",
    "            dispersion_avg = item[1]\n",
    "            \n",
    "    if len(list_devices)>30:\n",
    "        display(HTML('<p>Using Normal Distribution. Using limit for sigma confidence: {}'.format(limit_confidence_sigma)))\n",
    "        limit_confidence = limit_confidence_sigma\n",
    "        # Calculate upper and lower bounds\n",
    "        if (use_instantatenous_dispersion):\n",
    "            # For sensors with high variability in the measurements, it's better to use this (i.e. alphasense)\n",
    "            upper_bound = dispersion_df[channel + '_AVG'] + limit_confidence * dispersion_df[channel + '_STD']\n",
    "            lower_bound = dispersion_df[channel + '_AVG'] - abs(limit_confidence * dispersion_df[channel + '_STD'])\n",
    "        else:\n",
    "            upper_bound = dispersion_df[channel + '_AVG'] + limit_confidence * dispersion_avg\n",
    "            lower_bound = dispersion_df[channel + '_AVG'] - abs(limit_confidence * dispersion_avg)\n",
    "    else:\n",
    "        limit_confidence = t.interval(t_confidence_level/100.0, len(list_devices), loc=dispersion_df[channel + '_AVG'], scale=dispersion_avg)\n",
    "        display(HTML('<p>Using t-student Distribution</p>'))\n",
    "        upper_bound = limit_confidence[1]\n",
    "        lower_bound = limit_confidence[0]\n",
    "\n",
    "    dispersion_df[channel + '_MAX'] = dispersion_df.loc[:,list_columns].max(skipna=True, axis = 1)\n",
    "    dispersion_df[channel + '_MIN'] = dispersion_df.loc[:,list_columns].min(skipna=True, axis = 1)\n",
    "        \n",
    "    # print ('Plotting devices')\n",
    "    for device in list_devices:\n",
    "        name_column = channel + '-' + device \n",
    "        if name_column in dispersion_df.columns:\n",
    "            # Count how many times we go above the upper bound or below the lower one\n",
    "            count_problems_up = dispersion_df[name_column] > upper_bound\n",
    "            count_problems_down =  dispersion_df[name_column] < lower_bound\n",
    "            \n",
    "            # Count them\n",
    "            count_problems = [1 if (count_problems_up[i] or count_problems_down[i]) else 0 for i in range(len(count_problems_up))]\n",
    "            # print (channel, device, np.sum(count_problems), len(count_problems))\n",
    "            \n",
    "            # Add the trace in either\n",
    "            number_errors = np.sum(count_problems)\n",
    "            max_number_errors = len(count_problems)\n",
    "            \n",
    "            if number_errors/max_number_errors > limit_errors/100:\n",
    "                print (f'WARNING: Device {device} out of {limit_errors}% limit - {np.round(number_errors/max_number_errors*100, 1)}% out')\n",
    "                if device not in dict_devices_tbr[channel]: dict_devices_tbr[channel].append(device)\n",
    "                alpha = 0.6\n",
    "                ax1.plot(dispersion_df.index, \n",
    "                         dispersion_df[name_column], \n",
    "                         color = cmap(norm(number_errors/max_number_errors*limit_errors)),\n",
    "                         label = device, alpha = alpha)\n",
    "            else:\n",
    "                alpha = 0.6\n",
    "                color = 'g'\n",
    "                ax2.plot(dispersion_df.index, \n",
    "                         dispersion_df[name_column], \n",
    "                         color = color, \n",
    "                         label = device, alpha = alpha)\n",
    "        \n",
    "    # Add upper and low bound bound to subplot 1\n",
    "    ax1.plot(dispersion_df.index, dispersion_df[channel + '_AVG'],'b', label = 'Average', alpha = 0.6)\n",
    "    ax1.plot(dispersion_df.index, upper_bound, 'k', label = 'Upper-Bound', alpha = 0.6)\n",
    "    ax1.plot(dispersion_df.index, lower_bound, 'k',label = 'Lower-Bound', alpha = 0.6)\n",
    "    \n",
    "    # Format the legend\n",
    "    lgd1 = ax1.legend(bbox_to_anchor=(1.1, 0.5), fancybox=True, loc='center left', ncol = 5)\n",
    "    ax1.grid(True)\n",
    "    ax1.set_ylabel(channel + ' TBR')\n",
    "    ax1.set_xlabel('Time')\n",
    "    \n",
    "    # Add upper and low bound bound to subplot 2\n",
    "    ax2.plot(dispersion_df.index, dispersion_df[channel + '_AVG'],'b', label = 'Average', alpha = 0.6)\n",
    "    ax2.plot(dispersion_df.index, upper_bound, 'k', label = 'Upper-Bound', alpha = 0.6)\n",
    "    ax2.plot(dispersion_df.index, lower_bound, 'k',label = 'Lower-Bound', alpha = 0.6)\n",
    "    \n",
    "    # Format the legend\n",
    "    ax2.legend(bbox_to_anchor=(1.1, 0.5), fancybox=True, loc='center left', ncol = 5)\n",
    "    lgd2 = ax2.legend(bbox_to_anchor=(1.1, 0.5), fancybox=True, loc='center left', ncol = 5)\n",
    "    ax2.grid(True)\n",
    "    ax2.set_ylabel(channel + ' OK')\n",
    "    ax2.set_xlabel('Time')\n",
    "    \n",
    "    # Check file type to make the export\n",
    "    if type_file is not None: print ('Saving figure')\n",
    "    if type_file == 'fig':\n",
    "        pickle.dump(fig, open(save_path + '/' + dispersion_test + '_' + channel + '.fig.pickle', 'wb'))\n",
    "    elif type_file == 'png':\n",
    "        fig.savefig(save_path + '/' + dispersion_test + '_' + channel + '.png', dpi=300, trasnparent = True, bbox_extra_artists=(lgd1, lgd2), bbox_inches='tight' )\n",
    "\n",
    "    # Show plots     \n",
    "    plot.show()\n",
    "    display(HTML('<br>'))"
   ]
  },
  {
   "cell_type": "markdown",
   "metadata": {
    "tags": [
     "show_only_output"
    ]
   },
   "source": [
    "### Summary"
   ]
  },
  {
   "cell_type": "code",
   "execution_count": null,
   "metadata": {
    "tags": [
     "show_only_output"
    ]
   },
   "outputs": [],
   "source": [
    "summary_df = pd.DataFrame(index = list_channels)\n",
    "\n",
    "for item in dispersion_history:\n",
    "    summary_df.loc[item[0], 'Dispersion'] = item[1]\n",
    "    if item[0] != 'BATT':\n",
    "        summary_df.loc[item[0], 'Total Number of devices'] = len(list_devices)\n",
    "        summary_df.loc[item[0], 'TBR Number of devices'] = len(dict_devices_tbr[item[0]])\n",
    "        summary_df.loc[item[0], 'OK Number of devices'] = len(list_devices) - len(dict_devices_tbr[item[0]])\n",
    "    \n",
    "display (summary_df)"
   ]
  },
  {
   "cell_type": "markdown",
   "metadata": {
    "tags": [
     "show_only_output"
    ]
   },
   "source": [
    "# Further testing"
   ]
  },
  {
   "cell_type": "code",
   "execution_count": null,
   "metadata": {
    "tags": [
     "show_only_output"
    ]
   },
   "outputs": [],
   "source": [
    "display(HTML('<h2>Time Series Plots</h2>'))\n",
    "display(HTML('Min Date available: {}'.format(min_date)))\n",
    "display(HTML('Max Date available: {}'.format(max_date)))\n",
    "        \n",
    "# Ignore battery\n",
    "if 'BATT' in list_channels: list_channels.remove('BATT')\n",
    "dict_devices_tbr = dict()\n",
    "for item in list_channels: dict_devices_tbr[item] = list()\n",
    "\n",
    "for channel in list_channels:\n",
    "    # Make subplot\n",
    "    list_columns = list()\n",
    "    fig, (ax1, ax2) = plot.subplots(nrows = 2, figsize= (15,10))\n",
    "    cmap = plot.cm.Reds\n",
    "    norm = matplotlib.colors.Normalize(vmin=0, vmax=limit_errors/2)\n",
    "    display(HTML('<h3>({}/{}) - {} </h3>'.format(list_channels.index(channel)+1, len(list_channels), channel)))\n",
    "    \n",
    "    dispersion_avg = 0\n",
    "    limit_confidence_sigma = 0\n",
    "    for item in dispersion_history:\n",
    "        if channel == item[0]:\n",
    "            dispersion_avg = item[1]\n",
    "            \n",
    "    if len(list_devices)>30:\n",
    "        display(HTML('<p>Using Normal Distribution. Using limit for sigma confidence: {}'.format(limit_confidence_sigma)))\n",
    "        limit_confidence = limit_confidence_sigma\n",
    "        # Calculate upper and lower bounds\n",
    "        if (use_instantatenous_dispersion):\n",
    "            # For sensors with high variability in the measurements, it's better to use this (i.e. alphasense)\n",
    "            upper_bound = dispersion_df[channel + '_AVG'] + limit_confidence * dispersion_df[channel + '_STD']\n",
    "            lower_bound = dispersion_df[channel + '_AVG'] - abs(limit_confidence * dispersion_df[channel + '_STD'])\n",
    "        else:\n",
    "            upper_bound = dispersion_df[channel + '_AVG'] + limit_confidence * dispersion_avg\n",
    "            lower_bound = dispersion_df[channel + '_AVG'] - abs(limit_confidence * dispersion_avg)\n",
    "    else:\n",
    "        limit_confidence = t.interval(t_confidence_level/100.0, len(list_devices), loc=dispersion_df[channel + '_AVG'], scale=dispersion_avg)\n",
    "        display(HTML('<p>Using t-student Distribution</p>'))\n",
    "        upper_bound = limit_confidence[1]\n",
    "        lower_bound = limit_confidence[0]\n",
    "\n",
    "    dispersion_df[channel + '_MAX'] = dispersion_df.loc[:,list_columns].max(skipna=True, axis = 1)\n",
    "    dispersion_df[channel + '_MIN'] = dispersion_df.loc[:,list_columns].min(skipna=True, axis = 1)\n",
    "        \n",
    "    # print ('Plotting devices')\n",
    "    for device in list_devices:\n",
    "        name_column = channel + '-' + device \n",
    "        if name_column in dispersion_df.columns:\n",
    "            # Count how many times we go above the upper bound or below the lower one\n",
    "            count_problems_up = dispersion_df[name_column] > upper_bound\n",
    "            count_problems_down =  dispersion_df[name_column] < lower_bound\n",
    "            \n",
    "            # Count them\n",
    "            count_problems = [1 if (count_problems_up[i] or count_problems_down[i]) else 0 for i in range(len(count_problems_up))]\n",
    "            # print (channel, device, np.sum(count_problems), len(count_problems))\n",
    "            \n",
    "            # Add the trace in either\n",
    "            number_errors = np.sum(count_problems)\n",
    "            max_number_errors = len(count_problems)\n",
    "            \n",
    "            if number_errors/max_number_errors > limit_errors/100:\n",
    "                print (f'WARNING: Device {device} out of {limit_errors}% limit - {np.round(number_errors/max_number_errors*100, 1)}% out')\n",
    "                if device not in dict_devices_tbr[channel]: dict_devices_tbr[channel].append(device)\n",
    "                alpha = 0.6\n",
    "                ax1.plot(dispersion_df.index, \n",
    "                         dispersion_df[name_column], \n",
    "                         color = cmap(norm(number_errors/max_number_errors*limit_errors)),\n",
    "                         label = device, alpha = alpha)\n",
    "            else:\n",
    "                alpha = 0.6\n",
    "                color = 'g'\n",
    "                ax2.plot(dispersion_df.index, \n",
    "                         dispersion_df[name_column], \n",
    "                         color = color, \n",
    "                         label = device, alpha = alpha)\n",
    "        \n",
    "    # Add upper and low bound bound to subplot 1\n",
    "    ax1.plot(dispersion_df.index, dispersion_df[channel + '_AVG'],'b', label = 'Average', alpha = 0.6)\n",
    "    ax1.plot(dispersion_df.index, upper_bound, 'k', label = 'Upper-Bound', alpha = 0.6)\n",
    "    ax1.plot(dispersion_df.index, lower_bound, 'k',label = 'Lower-Bound', alpha = 0.6)\n",
    "    \n",
    "    # Format the legend\n",
    "    lgd1 = ax1.legend(bbox_to_anchor=(1.1, 0.5), fancybox=True, loc='center left', ncol = 5)\n",
    "    ax1.grid(True)\n",
    "    ax1.set_ylabel(channel + ' TBR')\n",
    "    ax1.set_xlabel('Time')\n",
    "    \n",
    "    # Add upper and low bound bound to subplot 2\n",
    "    ax2.plot(dispersion_df.index, dispersion_df[channel + '_AVG'],'b', label = 'Average', alpha = 0.6)\n",
    "    ax2.plot(dispersion_df.index, upper_bound, 'k', label = 'Upper-Bound', alpha = 0.6)\n",
    "    ax2.plot(dispersion_df.index, lower_bound, 'k',label = 'Lower-Bound', alpha = 0.6)\n",
    "    \n",
    "    # Format the legend\n",
    "    ax2.legend(bbox_to_anchor=(1.1, 0.5), fancybox=True, loc='center left', ncol = 5)\n",
    "    lgd2 = ax2.legend(bbox_to_anchor=(1.1, 0.5), fancybox=True, loc='center left', ncol = 5)\n",
    "    ax2.grid(True)\n",
    "    ax2.set_ylabel(channel + ' OK')\n",
    "    ax2.set_xlabel('Time')\n",
    "    \n",
    "    # Check file type to make the export\n",
    "    if type_file is not None: print ('Saving figure')\n",
    "    if type_file == 'fig':\n",
    "        pickle.dump(fig, open(save_path + '/' + dispersion_test + '_' + channel + '.fig.pickle', 'wb'))\n",
    "    elif type_file == 'png':\n",
    "        fig.savefig(save_path + '/' + dispersion_test + '_' + channel + '.png', dpi=300, trasnparent = True, bbox_extra_artists=(lgd1, lgd2), bbox_inches='tight' )\n",
    "\n",
    "    # Show plots     \n",
    "    plot.show()\n",
    "    display(HTML('<br>'))"
   ]
  },
  {
   "cell_type": "code",
   "execution_count": null,
   "metadata": {},
   "outputs": [],
   "source": []
  }
 ],
 "metadata": {
  "kernelspec": {
   "display_name": "Python 3",
   "language": "python",
   "name": "python3"
  },
  "language_info": {
   "codemirror_mode": {
    "name": "ipython",
    "version": 3
   },
   "file_extension": ".py",
   "mimetype": "text/x-python",
   "name": "python",
   "nbconvert_exporter": "python",
   "pygments_lexer": "ipython3",
   "version": "3.7.0"
  },
  "toc": {
   "nav_menu": {},
   "number_sections": true,
   "sideBar": true,
   "skip_h1_title": false,
   "title_cell": "Table of Contents",
   "title_sidebar": "Contents",
   "toc_cell": false,
   "toc_position": {},
   "toc_section_display": true,
   "toc_window_display": false
  },
  "toc-showtags": false
 },
 "nbformat": 4,
 "nbformat_minor": 4
}
