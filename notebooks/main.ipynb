{
 "cells": [
  {
   "cell_type": "markdown",
   "metadata": {
    "toc-hr-collapsed": false
   },
   "source": [
    "# Smart Citizen Data"
   ]
  },
  {
   "cell_type": "code",
   "execution_count": null,
   "metadata": {},
   "outputs": [],
   "source": [
    "%load_ext autoreload\n",
    "%autoreload 2"
   ]
  },
  {
   "cell_type": "code",
   "execution_count": null,
   "metadata": {},
   "outputs": [],
   "source": [
    "%run src_ipynb/init.ipynb"
   ]
  },
  {
   "cell_type": "code",
   "execution_count": null,
   "metadata": {},
   "outputs": [],
   "source": [
    "%run src_ipynb/load_data.ipynb"
   ]
  },
  {
   "cell_type": "markdown",
   "metadata": {},
   "source": [
    "## Data Export"
   ]
  },
  {
   "cell_type": "code",
   "execution_count": null,
   "metadata": {},
   "outputs": [],
   "source": [
    "%run src_ipynb/export.ipynb"
   ]
  },
  {
   "cell_type": "markdown",
   "metadata": {},
   "source": [
    "## Calculator"
   ]
  },
  {
   "cell_type": "code",
   "execution_count": null,
   "metadata": {},
   "outputs": [],
   "source": [
    "%run src_ipynb/calculator.ipynb"
   ]
  },
  {
   "cell_type": "markdown",
   "metadata": {
    "toc-hr-collapsed": false
   },
   "source": [
    "## Visualisation"
   ]
  },
  {
   "cell_type": "markdown",
   "metadata": {
    "toc-hr-collapsed": true
   },
   "source": [
    "### Time Series Plots\n",
    "\n",
    "The plot_wrapper instance below is faster to generate. Alternatively, a more GUI_ish_ experience can be found using: [ts_plot](src_ipynb/ts_plot.ipynb)\n",
    "\n",
    "```\n",
    "%run src_ipynb/ts_plot.ipynb\n",
    "```"
   ]
  },
  {
   "cell_type": "code",
   "execution_count": null,
   "metadata": {},
   "outputs": [],
   "source": [
    "%run src_ipynb/ts_plot.ipynb"
   ]
  },
  {
   "cell_type": "code",
   "execution_count": null,
   "metadata": {},
   "outputs": [],
   "source": [
    "plot_description = {\"plot_type\": \"timeseries\",\n",
    "                    \"plotting_library\": \"plotly\",\n",
    "                    \"data\": {\"test\": \"2019-09_INT_DELIVERIES_SEPTEMBER\",\n",
    "\t\t\t\t\t\t\t\t\t\"traces\": {\"1\": {\"device\": \"all\",\n",
    "\t\t\t\t\t\t\t\t\t\t\t\t\t\"channel\" : \"EXT_PM_25\",\n",
    "\t\t\t\t\t\t\t\t\t\t\t\t\t\"subplot\": 1}}},\n",
    "                    \"options\": {\"show_plot\": True,\n",
    "                                \"separate_device_plots\": False,\n",
    "                                \"export_path\": \"/Users/macoscar/Desktop\", \n",
    "                                \"file_name\": \"plot_time\",\n",
    "                                \"target_raster\": '1Min',\n",
    "                                \"max_date\": None,\n",
    "                                \"min_date\": None},\n",
    "                    \"formatting\": {\"xlabel\": \"Date (-)\",\n",
    "                                   \"ylabel\": {1: \"Temperature\"},\n",
    "                                   \"yrange\": {1: [-100, 600]},\n",
    "                                   \"title\": \"Noise Concern\",\n",
    "                                   \"sharex\":True,\n",
    "                                   \"grid\": True,\n",
    "                                   \"height\": 800,\n",
    "                                   \"width\": 600}\n",
    "                    }\n",
    "\n",
    "from src.visualization.visualization import plot_wrapper\n",
    "\n",
    "plot_object = plot_wrapper(plot_description, True)\n",
    "plot_object.plot(records)\n",
    "plot_object.export_plot()"
   ]
  },
  {
   "cell_type": "markdown",
   "metadata": {
    "toc-hr-collapsed": true
   },
   "source": [
    "### Correlation Plot\n",
    "The plot_wrapper instance below is faster to generate. Alternatively, a more GUI _ish_ experience can be found using: [corr_plot](src_ipynb/corr_plot.ipynb)\n",
    "\n",
    "%run src_ipynb/corr_plot.ipynb"
   ]
  },
  {
   "cell_type": "code",
   "execution_count": null,
   "metadata": {},
   "outputs": [],
   "source": [
    "plot_description = {\"plot_type\": \"correlation_plot\",\n",
    "                    \"plotting_library\": \"matplotlib\",\n",
    "                    \"data\": {\"test\": \"2019-03_EXT_UCD_URBAN_BACKGROUND_API\",\n",
    "\t\t\t\t\t\t\t\t\t\"traces\": {\"1\": {\"device\": \"5261\",\n",
    "\t\t\t\t\t\t\t\t\t\t\t\t\t\"channel\" : \"HUM\",\n",
    "\t\t\t\t\t\t\t\t\t\t\t\t\t\"subplot\": 1},\n",
    "                                              \"2\": {\"device\": \"5262\",\n",
    "                                                   \"channel\": \"TEMP\",\n",
    "                                                   \"subplot\": 1}}},\n",
    "                    \"options\": {\"show_plot\": True,\n",
    "                                \"separate_device_plots\": False,\n",
    "                                \"export_path\": \"/Users/macoscar/Desktop\", \n",
    "                                \"file_name\": \"plot_corr\",\n",
    "                                \"target_raster\": '10Min',\n",
    "                                \"min_date\": None,\n",
    "                                \"max_date\": None},\n",
    "                    \"formatting\": {\"jpkind\": 'scatter',\n",
    "                                   \"title\": \"Magnificent plot\",\n",
    "                                   \"xrange\": [40, 90],\n",
    "                                   \"yrange\": [5, 20],\n",
    "                                   \"grid\": True,\n",
    "                                   \"height\": 10,\n",
    "                                   \"width\": 15}\n",
    "                    }\n",
    "\n",
    "'''\n",
    "\"jpkind\" { “scatter” | “reg” | “resid” | “kde” | “hex” }\n",
    "'''\n",
    "\n",
    "from src.visualization.visualization import plot_wrapper\n",
    "\n",
    "plot_object = plot_wrapper(plot_description, True)\n",
    "plot_object.plot(records)\n",
    "plot_object.export_plot()"
   ]
  },
  {
   "cell_type": "markdown",
   "metadata": {},
   "source": [
    "### Coherence plot"
   ]
  },
  {
   "cell_type": "code",
   "execution_count": null,
   "metadata": {},
   "outputs": [],
   "source": [
    "plot_description = {\"plot_type\": \"coherence_plot\",\n",
    "                    \"plotting_library\": \"matplotlib\",\n",
    "                    \"data\": {\"test\": \"2019-03_EXT_UCD_URBAN_BACKGROUND_API\",\n",
    "\t\t\t\t\t\t\t\t\t\"traces\": {\"1\": {\"device\": \"5262\",\n",
    "\t\t\t\t\t\t\t\t\t\t\t\t\t\"channel\" : \"GB_2W\",\n",
    "\t\t\t\t\t\t\t\t\t\t\t\t\t\"subplot\": 1},\n",
    "                                              \"2\": {\"device\": \"5262\",\n",
    "                                                   \"channel\": \"TEMP\",\n",
    "                                                   \"subplot\": 1}}},\n",
    "                    \"options\": {\"show_plot\": True,\n",
    "                                \"separate_device_plots\": False,\n",
    "                                \"export_path\": \"/Users/macoscar/Desktop\", \n",
    "                                \"file_name\": \"plot_coherence\",\n",
    "                                \"target_raster\": '10Min',\n",
    "                                \"min_date\": None,\n",
    "                                \"max_date\": None},\n",
    "                    \"formatting\": {\"title\": \"Magnificent plot\",\n",
    "                                   \"grid\": True,\n",
    "                                   \"height\": 10,\n",
    "                                   \"width\": 15}\n",
    "                    }\n",
    "\n",
    "\n",
    "from src.visualization.visualization import plot_wrapper\n",
    "\n",
    "plot_object = plot_wrapper(plot_description, True)\n",
    "plot_object.plot(records)\n",
    "plot_object.export_plot()"
   ]
  },
  {
   "cell_type": "markdown",
   "metadata": {
    "toc-hr-collapsed": true
   },
   "source": [
    "### Scatter plot matrix\n",
    "\n",
    "The plot_wrapper instance below is faster to generate. Alternatively, a more GUI _ish_ experience can be found using: [scatter_plot](src_ipynb/scatter_plot.ipynb)\n",
    "\n",
    "%run src_ipynb/scatter_plot.ipynb"
   ]
  },
  {
   "cell_type": "code",
   "execution_count": null,
   "metadata": {},
   "outputs": [],
   "source": [
    "plot_description = {\"plot_type\": \"scatter_matrix\",\n",
    "                    \"plotting_library\": \"matplotlib\",\n",
    "                    \"data\": {\"test\": \"2019-03_EXT_UCD_URBAN_BACKGROUND_API\",\n",
    "\t\t\t\t\t\t\t\t\t\"traces\": {\"1\": {\"device\": \"5262\",\n",
    "\t\t\t\t\t\t\t\t\t\t\t\t\t\"channel\" : \"GB_2W\",\n",
    "\t\t\t\t\t\t\t\t\t\t\t\t\t\"subplot\": 1},\n",
    "                                              \"2\": {\"device\": \"5262\",\n",
    "                                                   \"channel\": \"TEMP\",\n",
    "                                                   \"subplot\": 1},\n",
    "                                              \"3\": {\"device\": \"5262\",\n",
    "                                                   \"channel\": \"HUM\",\n",
    "                                                   \"subplot\": 1}}},\n",
    "                    \"options\": {\"show_plot\": True,\n",
    "                                \"separate_device_plots\": False,\n",
    "                                \"export_path\": \"/Users/macoscar/Desktop\", \n",
    "                                \"file_name\": \"plot_scatter\",\n",
    "                                \"target_raster\": '10Min',\n",
    "                                \"min_date\": None,\n",
    "                                \"max_date\": None},\n",
    "                    \"formatting\": {\"title\": \"Magnificent plot\",\n",
    "                                   \"grid\": True,\n",
    "                                   \"height\": 4,\n",
    "                                   \"width\": 4}\n",
    "                    }\n",
    "\n",
    "\n",
    "from src.visualization.visualization import plot_wrapper\n",
    "\n",
    "plot_object = plot_wrapper(plot_description, True)\n",
    "plot_object.plot(records)\n",
    "plot_object.export_plot()"
   ]
  },
  {
   "cell_type": "markdown",
   "metadata": {
    "toc-hr-collapsed": true
   },
   "source": [
    "### Heat Map"
   ]
  },
  {
   "cell_type": "code",
   "execution_count": null,
   "metadata": {},
   "outputs": [],
   "source": [
    "plot_description = {\"plot_type\": \"heatmap\",\n",
    "                    \"plotting_library\": \"matplotlib\",\n",
    "                    \"data\": {\"test\": \"HASSELT\",\n",
    "                    \t\t\t\t\"traces\": {\"1\": {\"device\": \"10014\",\n",
    "                                        \t\t\t\"channel\" : \"EXT_PM_25\",\n",
    "                                        \t\t\t\"subplot\": 1}}},\n",
    "                    \"options\": {\"show_plot\": True,\n",
    "                                \"separate_device_plots\": False,\n",
    "                                \"export_path\": \"/Users/macoscar/Desktop\", \n",
    "                                \"file_name\": \"plot_heat\",\n",
    "                                \"target_raster\": '10Min',\n",
    "                                \"min_date\": None,\n",
    "                                \"max_date\": '2019-01-03',\n",
    "                                \"relative\": False},\n",
    "                    \"formatting\": {\"title\": \"Magnificent plot\",\n",
    "                                   \"grid\": True,\n",
    "                                   \"height\": 10,\n",
    "                                   \"width\": 15,\n",
    "                                   \"frequency_hours\": 6}\n",
    "                    }\n",
    "\n",
    "\n",
    "from src.visualization.visualization import plot_wrapper\n",
    "\n",
    "plot_object = plot_wrapper(plot_description, True)\n",
    "plot_object.plot(records)\n",
    "plot_object.export_plot()"
   ]
  },
  {
   "cell_type": "markdown",
   "metadata": {},
   "source": [
    "### Violin plot"
   ]
  },
  {
   "cell_type": "code",
   "execution_count": null,
   "metadata": {},
   "outputs": [],
   "source": [
    "plot_description = {\"plot_type\": \"violin\",\n",
    "                    \"plotting_library\": \"matplotlib\",\n",
    "                    \"data\": {\"test\": \"2019-03_EXT_UCD_URBAN_BACKGROUND_API\",\n",
    "                    \t\t\t\t\"traces\": {\"1\": {\"device\": \"5262\",\n",
    "                                                      \"channel\" : \"DALLAS_TEMP\",\n",
    "                                                    \"subplot\": 1},\n",
    "                                                \"2\": {\"device\": \"5262\",\n",
    "                                                       \"channel\" : \"HUM\",\n",
    "                                                       \"subplot\": 1},\n",
    "                                                 \"3\": {\"device\": \"5262\",\n",
    "                                                       \"channel\" : \"TEMP\",\n",
    "                                                       \"subplot\": 1},\n",
    "                                                 \"4\": {\"device\": \"5262\",\n",
    "                                                       \"channel\" : \"GB_2W\",\n",
    "                                                       \"subplot\": 1},\n",
    "                                                 \"5\": {\"device\": \"5262\",\n",
    "                                                       \"channel\" : \"GB_2A\",\n",
    "                                                       \"subplot\": 1},\n",
    "                                                 \"6\": {\"device\": \"5262\",\n",
    "                                                       \"channel\" : \"GB_3W\",\n",
    "                                                       \"subplot\": 1}}},\n",
    "                    \"options\": {\"show_plot\": True,\n",
    "                                \"separate_device_plots\": False,\n",
    "                                \"export_path\": \"/Users/macoscar/Desktop\", \n",
    "                                \"file_name\": \"plot_violin\",\n",
    "                                \"target_raster\": '10Min',\n",
    "                                \"min_date\": None,\n",
    "                                \"max_date\": '2019-01-03',\n",
    "                                \"relative\": False,\n",
    "                                \"ylabel\": {1: \"External temperature\",\n",
    "                                           2: \"Humidity (%RH)\",\n",
    "                                           3: \"Temperature (degC)\",\n",
    "                                           4: \"Wir\",\n",
    "                                           5: \"Wor\",\n",
    "                                           6: \"Wur\"},\n",
    "                                \"yrange\": {1: [0, 90],\n",
    "                                           2: [300, 2000],\n",
    "                                           3: [0, 60],\n",
    "                                           4: [0, 60],\n",
    "                                           5: [0,60],\n",
    "                                           6: [0,60]},\n",
    "                               },\n",
    "                    \"formatting\": {\"title\": \"Magnificent plot\",\n",
    "                                   \"grid\": True,\n",
    "                                   \"height\": 10,\n",
    "                                   \"width\": 15}\n",
    "                    }\n",
    "\n",
    "\n",
    "from src.visualization.visualization import plot_wrapper\n",
    "\n",
    "plot_object = plot_wrapper(plot_description, True)\n",
    "plot_object.plot(records)\n",
    "plot_object.export_plot()"
   ]
  },
  {
   "cell_type": "markdown",
   "metadata": {
    "toc-hr-collapsed": false
   },
   "source": [
    "## Alphasense Baseline\n",
    "\n",
    "These functions are used to create the alphasense pollutant correction based on Working, Auxiliary and calibration data provided by alphasense."
   ]
  },
  {
   "cell_type": "code",
   "execution_count": null,
   "metadata": {
    "code_folding": [
     60
    ]
   },
   "outputs": [],
   "source": [
    "import numpy as np\n",
    "%matplotlib inline\n",
    "\n",
    "# ------- INPUT VARIABLE BELOW -------\n",
    "\n",
    "# Input delta in minutes\n",
    "baseline_method = 'deltas' # 'deltas', 'als'\n",
    "\n",
    "# For deltas method\n",
    "min_delta = 30\n",
    "max_delta = 50\n",
    "delta_delta = 5\n",
    "overlapHours = 0\n",
    "\n",
    "# For ALS method\n",
    "lam_als = [1e3, 1e4] # We only iterate over lambda\n",
    "p_als = 0.01 # Change by hand in different runs\n",
    "\n",
    "# Wrap it up\n",
    "methods= {\"CO\": [\"classic\", \"na\"],\n",
    "          \"NO2\": [\"baseline\", \"single_aux\"],\n",
    "          \"O3\": [\"baseline\", \"single_aux\"]}\n",
    "\n",
    "# ------------------------------------\n",
    "        \n",
    "%run src_ipynb/alphasense.ipynb"
   ]
  },
  {
   "cell_type": "code",
   "execution_count": null,
   "metadata": {},
   "outputs": [],
   "source": [
    "### Baseline Model Metrics"
   ]
  },
  {
   "cell_type": "code",
   "execution_count": null,
   "metadata": {},
   "outputs": [],
   "source": [
    "## Explore results\n",
    "# test = '2018-08_INT_STATION_TEST_SUMMER_HOLIDAYS'\n",
    "test = selectedTestsAD[0]\n",
    "# device = 'STATION CHIMNEY'\n",
    "device = '5262'\n",
    "dataframe = records.readings[test]['devices'][device]['alphasense']['model_stats'][ad_name]\n",
    "\n",
    "pollutant = 'NO2'\n",
    "\n",
    "# pollutant_avg \tpollutant_max \tpollutant_min \tpollutant_std \tr2_valueRef \t\n",
    "\n",
    "fig, (ax, ax2)= plt.subplots(nrows = 2, figsize= (15,10))\n",
    "ax.plot(dataframe[pollutant]['pollutant_avg'], dataframe[pollutant]['r2_valueRef'], 'o', label=pollutant)\n",
    "#ax.set_xlim([0,1.5])\n",
    "ax.set_ylim([0,1])\n",
    "# plt.setp(ax.xaxis.get_majorticklabels(), rotation=70 )\n",
    "\n",
    "ax2.bar(dataframe[pollutant].index,dataframe[pollutant]['pollutant_avg'], label=pollutant)\n",
    "ax2.bar(dataframe[pollutant].index,dataframe[pollutant]['pollutant_max'], label=pollutant, alpha= 0.3)\n",
    "ax2.bar(dataframe[pollutant].index,dataframe[pollutant]['pollutant_min'], label=pollutant, alpha= 0.3)\n",
    "ax2.set_ylim([0,100])\n",
    "#ax.plot(dataframe['O3'].index,dataframe['O3']['pollutant_avg'],'ro', label='O3')\n",
    "# plt.setp(ax2.xaxis.get_majorticklabels(), rotation=70 )\n",
    "\n",
    "plt.xlabel('Day')\n",
    "plt.title('Average pollutant concentration')\n",
    "plt.legend(loc='best')"
   ]
  },
  {
   "cell_type": "code",
   "execution_count": null,
   "metadata": {},
   "outputs": [],
   "source": [
    "### TODO: Correction Checks"
   ]
  },
  {
   "cell_type": "code",
   "execution_count": null,
   "metadata": {
    "code_folding": [
     5
    ],
    "scrolled": true
   },
   "outputs": [],
   "source": [
    "# Sample For stats checks\n",
    "pollutant = 'NO2'\n",
    "display(CorrParams[pollutant])\n",
    "\n",
    "with plt.style.context('seaborn-white'):\n",
    "    fig1, (ax1, ax2) = plt.subplots(nrows=1, ncols=2, figsize=(18,8))\n",
    "            \n",
    "    ax1.plot(CorrParams[pollutant]['r_valueRef'], CorrParams[pollutant]['avg_temp'], label = 'Temp', linestyle='-', linewidth=0, marker='o')\n",
    "    ax1.plot(CorrParams[pollutant]['r_valueRef'], CorrParams[pollutant]['avg_hum'] , label = 'Hum', linestyle='-', linewidth=0, marker='o')\n",
    "    ax2.plot(CorrParams[pollutant]['r_valueRef'], CorrParams[pollutant]['stderr_temp'], label = 'Temp', linestyle='-', linewidth=0, marker='o')\n",
    "    ax2.plot(CorrParams[pollutant]['r_valueRef'], CorrParams[pollutant]['stderr_hum'] , label = 'Hum', linestyle='-', linewidth=0, marker='o')\n",
    "    \n",
    "    ax1.legend(loc='best')\n",
    "    ax1.set_xlabel('R^2 {} vs Ref'.format(pollutant))\n",
    "    ax1.set_ylabel('Avg Temp-Hum / day')\n",
    "    ax1.grid(True)\n",
    "    ax2.legend(loc='best')\n",
    "    ax2.set_xlabel('R^2 {} vs Ref'.format(pollutant))\n",
    "    ax2.set_ylabel('Avg Temp / day')\n",
    "    ax2.grid(True)\n",
    "    \n",
    "    fig2, (ax3, ax4) = plt.subplots(nrows=1, ncols=2, figsize=(18,8))\n",
    "            \n",
    "    ax3.plot(CorrParams[pollutant]['r_valueRef'], CorrParams[pollutant]['avg_pollutant'], label = 'Avg Pollutant', linestyle='-', linewidth=0, marker='o')\n",
    "    ax4.plot(CorrParams[pollutant]['avg_pollutant'], CorrParams[pollutant]['deltaAuxBas_avg'], label = 'Delta', linestyle='-', linewidth=0, marker='o')\n",
    "    ax4.plot(CorrParams[pollutant]['avg_pollutant'], CorrParams[pollutant]['ratioAuxBas_avg'] , label = 'Ratio', linestyle='-', linewidth=0, marker='o')\n",
    "    \n",
    "    ax3.legend(loc='best')\n",
    "    ax3.set_xlabel('R^2 {} vs Ref'.format(pollutant))\n",
    "    ax3.set_ylabel('Avg {} / day'.format(pollutant))\n",
    "    ax3.grid(True)\n",
    "    ax4.legend(loc='best')\n",
    "    ax4.set_xlabel('{} Average'.format(pollutant))\n",
    "    ax4.set_ylabel('Offset / Ratio Baseline vs Auxiliary')\n",
    "    ax4.grid(True)"
   ]
  },
  {
   "cell_type": "markdown",
   "metadata": {
    "toc-hr-collapsed": false
   },
   "source": [
    "## Model Creation"
   ]
  },
  {
   "cell_type": "markdown",
   "metadata": {
    "toc-hr-collapsed": true
   },
   "source": [
    "### Ordinary Linear Regression\n",
    "\n",
    "Check [here](../references/linear_regression.md) the preliminary checks and model assumptions"
   ]
  },
  {
   "cell_type": "code",
   "execution_count": null,
   "metadata": {
    "code_folding": []
   },
   "outputs": [],
   "source": [
    "from src.models.model_tools import model_wrapper\n",
    "\n",
    "# Input model description\n",
    "model_description = {\"model_name\": \"OLS_UCD\",\n",
    "                    \"model_type\": \"OLS\",\n",
    "                    \"model_target\": \"ALPHASENSE\",\n",
    "                    \"data\": {\"train\": {\"2019-03_EXT_UCD_URBAN_BACKGROUND_API\": \"5262\"},\n",
    "                            \"reference_device\" : \"CITY_COUNCIL\",\n",
    "                            \"features\":  {\"REF\": \"NO2_REF\",\n",
    "                                            \"A\": \"GB_2W\",\n",
    "                                            \"B\": \"GB_2A\",\n",
    "                                            \"C\": \"HUM\"},\n",
    "                            \"options\": {\"target_raster\": '1Min',\n",
    "                                        \"clean_na\": True,\n",
    "                                        \"clean_na_method\": \"fill\",\n",
    "                                        \"min_date\": None,\n",
    "                                        \"max_date\": '2019-01-15'},\n",
    "                            \"expression\" : 'REF ~ A + np.log(B)'\n",
    "                            },\n",
    "                    \"hyperparameters\": {\"ratio_train\": 0.75},\n",
    "                    \"options\": {\"session_active_model\": True,\n",
    "                                \"show_plots\": True,\n",
    "                                \"export_model\": False,\n",
    "\t\t\t\t\t\t\t\t\"export_model_file\": False,\n",
    "\t\t\t\t\t\t\t\t\"extract_metrics\": True}\n",
    "                    }\n",
    "\n",
    "\n",
    "# --- \n",
    "# Init OLS model\n",
    "ols_model = model_wrapper(model_description, verbose = True)\n",
    "\n",
    "# Prepare dataframe for modeling\n",
    "records.prepare_dataframe_model(ols_model)\n",
    "                    \n",
    "# Train Model based on training dataset\n",
    "train_dataset = list(ols_model.data['train'].keys())[0]\n",
    "ols_model.training(records.readings[train_dataset]['models'][ols_model.name])\n",
    "\n",
    "# Get prediction for dataset\n",
    "device = ols_model.data['train'][train_dataset]\n",
    "prediction_name = device + '_' + model_name\n",
    "prediction = ols_model.predict_channels(records.readings[train_dataset]['devices'][device]['data'], prediction_name)\n",
    "\n",
    "# Combine it in readings\n",
    "records.readings[train_dataset]['devices'][device]['data'].combine_first(prediction)\n",
    "\n",
    "'''# Preliminary Check\n",
    "    Fuller Plot for all\n",
    "    for column in dataframeModel:\n",
    "        x = dataframeModel.loc[:,column]\n",
    "        tfuller_plot(x, name = x.name, lags=60, lags_diff = 5)\n",
    "    Granger Causality\n",
    "    print ('--------------------------------------')\n",
    "    print ('Granger Causality Test')\n",
    "     Granger Causality Test (WIP)\n",
    "    for item in tuple_features:\n",
    "        if item[0] != 'REF':\n",
    "            print '\\nCausality for x1 = {} and x2 = {}'.format(reference_name, item[1])\n",
    "            x = dataframeModel.loc[:,[reference_name, item[1]]].dropna()\n",
    "            x = x.values\n",
    "            granger_causality_tests = grangercausalitytests(x, 1)\n",
    "            print granger_causality_test\n",
    "'''\n",
    "\n",
    "# Archive model\n",
    "if ols_model.options['session_active_model']:\n",
    "    dataFrameExport = ols_model.dataFrameTrain.copy()\n",
    "    dataFrameExport = dataFrameExport.combine_first(ols_model.dataFrameTest)\n",
    "    records.archive_model(train_dataset, ols_model, dataFrameExport)\n",
    "\n",
    "# Print metrics\n",
    "print ('Metrics Summary:')\n",
    "print (\"{:<23} {:<7} {:<5}\".format('Metric','Train','Test'))\n",
    "if ols_model.options['extract_metrics']:\n",
    "    metrics_model = ols_model.extract_metrics()\n",
    "    for metric in metrics_model['train'].keys():\n",
    "        print (\"{:<20}\".format(metric) +\"\\t\" +\"{:0.3f}\".format(metrics_model['train'][metric]) +\"\\t\"+ \"{:0.3f}\".format(metrics_model['test'][metric]))"
   ]
  },
  {
   "cell_type": "markdown",
   "metadata": {
    "toc-hr-collapsed": true
   },
   "source": [
    "### LSTM"
   ]
  },
  {
   "cell_type": "code",
   "execution_count": null,
   "metadata": {},
   "outputs": [],
   "source": [
    "from src.models.model_tools import model_wrapper\n",
    "\n",
    "# Input model description\n",
    "model_description = {\"model_name\": \"LSTM_UCD\",\n",
    "                    \"model_type\": \"LSTM\",\n",
    "                    \"model_target\": \"ALPHASENSE\",\n",
    "                    \"data\": {\"train\": {\"2019-03_EXT_UCD_URBAN_BACKGROUND_API\": \"5262\"},\n",
    "                            \"reference_device\" : \"CITY_COUNCIL\",\n",
    "                            \"features\":  {\"REF\": \"NO2_REF\",\n",
    "                                            \"A\": \"GB_2W\",\n",
    "                                            \"B\": \"GB_2A\",\n",
    "                                            \"C\": \"HUM\"},\n",
    "                            \"options\": {\"target_raster\": '5Min',\n",
    "                                        \"clean_na\": True,\n",
    "                                        \"clean_na_method\": \"fill\",\n",
    "                                        \"min_date\": None,\n",
    "                                        \"max_date\": '2019-01-15'},\n",
    "                            },\n",
    "                    \"hyperparameters\": {\"n_lags\": 2,\n",
    "                                        \"epochs\": 10,\n",
    "                                        \"batch_size\": 72,\n",
    "                                        \"verbose\": True,\n",
    "                                        \"loss\": \"mse\",\n",
    "                                        \"optimizer\": \"adam\",\n",
    "                                        \"ratio_train\": 0.75},\n",
    "                    \"options\": {\"session_active_model\": True,\n",
    "                                \"show_plots\": True,\n",
    "                                \"export_model\": False,\n",
    "\t\t\t\t\t\t\t\t\"export_model_file\": False,\n",
    "\t\t\t\t\t\t\t\t\"extract_metrics\": True}\n",
    "                    }\n",
    "\n",
    "\n",
    "# --- \n",
    "# Init rf model\n",
    "lstm_model = model_wrapper(model_description, verbose = True)\n",
    "\n",
    "# Prepare dataframe for modeling\n",
    "records.prepare_dataframe_model(lstm_model)\n",
    "                    \n",
    "# Train Model based on training dataset\n",
    "train_dataset = list(lstm_model.data['train'].keys())[0]\n",
    "lstm_model.training(records.readings[train_dataset]['models'][lstm_model.name])\n",
    "\n",
    "# Get prediction for dataset\n",
    "device = lstm_model.data['train'][train_dataset]\n",
    "prediction_name = device + '_' + lstm_model.name\n",
    "prediction = lstm_model.predict_channels(records.readings[train_dataset]['devices'][device]['data'], prediction_name)\n",
    "\n",
    "# Combine it in readings\n",
    "records.readings[train_dataset]['devices'][device]['data'].combine_first(prediction)\n",
    "\n",
    "# Archive model\n",
    "if lstm_model.options['session_active_model']:\n",
    "    dataFrameExport = lstm_model.dataFrameTrain.copy()\n",
    "    dataFrameExport = dataFrameExport.combine_first(lstm_model.dataFrameTest)\n",
    "    records.archive_model(train_dataset, lstm_model, dataFrameExport)\n",
    "\n",
    "# Print metrics\n",
    "print ('Metrics Summary:')\n",
    "print (\"{:<23} {:<7} {:<5}\".format('Metric','Train','Test'))\n",
    "if lstm_model.options['extract_metrics']:\n",
    "    metrics_model = lstm_model.extract_metrics()\n",
    "    for metric in metrics_model['train'].keys():\n",
    "        print (\"{:<20}\".format(metric) +\"\\t\" +\"{:0.3f}\".format(metrics_model['train'][metric]) +\"\\t\"+ \"{:0.3f}\".format(metrics_model['test'][metric]))"
   ]
  },
  {
   "cell_type": "markdown",
   "metadata": {
    "toc-hr-collapsed": true
   },
   "source": [
    "### Random Forest Regressor or SVR\n",
    "\n",
    "Find parameters for grid search with cross-validation and random search [here](src_ipynb/cross_validation_rf.ipynb)"
   ]
  },
  {
   "cell_type": "code",
   "execution_count": null,
   "metadata": {},
   "outputs": [],
   "source": [
    "from src.models.model_tools import model_wrapper\n",
    "\n",
    "# Input model description\n",
    "model_description = {\"model_name\": \"RF_UCD\",\n",
    "                    \"model_type\": \"RF\",\n",
    "                    \"model_target\": \"ALPHASENSE\",\n",
    "                    \"data\": {\"train\": {\"2019-03_EXT_UCD_URBAN_BACKGROUND_API\": \"5262\"},\n",
    "                            \"reference_device\" : \"CITY_COUNCIL\",\n",
    "                            \"features\":  {\"REF\": \"NO2_REF\",\n",
    "                                            \"A\": \"GB_2W\",\n",
    "                                            \"B\": \"GB_2A\",\n",
    "                                            \"C\": \"HUM\"},\n",
    "                            \"options\": {\"target_raster\": '1Min',\n",
    "                                        \"clean_na\": True,\n",
    "                                        \"clean_na_method\": \"fill\",\n",
    "                                        \"min_date\": None,\n",
    "                                        \"max_date\": '2019-01-15'},\n",
    "                            },\n",
    "                    \"hyperparameters\": {\"ratio_train\": 0.75, \n",
    "                                       \"n_estimators\": 100,\n",
    "\t\t\t\t\t\t\t\t\t\t\"shuffle_split\": True},\n",
    "                    \"options\": {\"session_active_model\": True,\n",
    "                                \"show_plots\": True,\n",
    "                                \"export_model\": False,\n",
    "\t\t\t\t\t\t\t\t\"export_model_file\": False,\n",
    "\t\t\t\t\t\t\t\t\"extract_metrics\": True}\n",
    "                    }\n",
    "\n",
    "\n",
    "# --- \n",
    "# Init rf model\n",
    "rf_model = model_wrapper(model_description, verbose = True)\n",
    "\n",
    "# Prepare dataframe for modeling\n",
    "records.prepare_dataframe_model(rf_model)\n",
    "                    \n",
    "# Train Model based on training dataset\n",
    "train_dataset = list(rf_model.data['train'].keys())[0]\n",
    "rf_model.training(records.readings[train_dataset]['models'][rf_model.name])\n",
    "\n",
    "# Get prediction for dataset\n",
    "device = rf_model.data['train'][train_dataset]\n",
    "prediction_name = device + '_' + rf_model.name\n",
    "prediction = rf_model.predict_channels(records.readings[train_dataset]['devices'][device]['data'], prediction_name)\n",
    "\n",
    "# Combine it in readings\n",
    "records.readings[train_dataset]['devices'][device]['data'].combine_first(prediction)\n",
    "\n",
    "# Archive model\n",
    "if rf_model.options['session_active_model']:\n",
    "    dataFrameExport = rf_model.dataFrameTrain.copy()\n",
    "    dataFrameExport = dataFrameExport.combine_first(rf_model.dataFrameTest)\n",
    "    records.archive_model(train_dataset, rf_model, dataFrameExport)\n",
    "\n",
    "# Print metrics\n",
    "print ('Metrics Summary:')\n",
    "print (\"{:<23} {:<7} {:<5}\".format('Metric','Train','Test'))\n",
    "if rf_model.options['extract_metrics']:\n",
    "    metrics_model = rf_model.extract_metrics()\n",
    "    for metric in metrics_model['train'].keys():\n",
    "        print (\"{:<20}\".format(metric) +\"\\t\" +\"{:0.3f}\".format(metrics_model['train'][metric]) +\"\\t\"+ \"{:0.3f}\".format(metrics_model['test'][metric]))"
   ]
  },
  {
   "cell_type": "code",
   "execution_count": null,
   "metadata": {},
   "outputs": [],
   "source": [
    "rf_model.export(records.modelDirectory)"
   ]
  },
  {
   "cell_type": "markdown",
   "metadata": {
    "toc-hr-collapsed": false
   },
   "source": [
    "## Model Comparison"
   ]
  },
  {
   "cell_type": "markdown",
   "metadata": {},
   "source": [
    "### TimeSeries Comparison"
   ]
  },
  {
   "cell_type": "code",
   "execution_count": null,
   "metadata": {
    "code_folding": []
   },
   "outputs": [],
   "source": [
    "import matplotlib.pyplot as plt\n",
    "import plotly.tools as tls\n",
    "%matplotlib inline\n",
    "\n",
    "fig = plt.figure(figsize=(20,10))\n",
    "referencePlotted = False\n",
    "\n",
    "test_model = \"2019-03_EXT_UCD_URBAN_BACKGROUND_API\"\n",
    "\n",
    "for model_name in records.readings[test_model]['models']:\n",
    "    try:\n",
    "        ratio_train = records.readings[test_model]['models'][model_name]['model_object'].hyperparameters['ratio_train']\n",
    "        data = records.readings[test_model]['devices'][model_name]['data']\n",
    "                \n",
    "        total_len = len(data.index)\n",
    "        n_train_periods = int(round(total_len*ratio_train))\n",
    "    \n",
    "        dataframeTrain = data.iloc[:n_train_periods,:]\n",
    "        dataframeTest = data.iloc[n_train_periods:,:]\n",
    "                        \n",
    "        if (not referencePlotted):\n",
    "            plt.plot(dataframeTrain.index, dataframeTrain['reference'], 'b.-', label = 'Reference Train', alpha = 0.6)\n",
    "            plt.plot(dataframeTest.index, dataframeTest['reference'], 'b.-', label = 'Reference Test', alpha = 0.6)\n",
    "            referencePlotted = True\n",
    "            \n",
    "        plt.plot(dataframeTrain.index, dataframeTrain['prediction'], 'r', linewidth = 0.6, label = 'Prediction Train ' + model_name, alpha = 0.6)\n",
    "        plt.plot(dataframeTest.index, dataframeTest['prediction'], 'r', linewidth = 0.6, label = 'Prediction Test ' + model_name, alpha = 0.6)\n",
    "    except:\n",
    "        pass\n",
    "\n",
    "plt.legend(loc = 'best')\n",
    "plt.title('Model Comparison for ' + test_model)\n",
    "plt.ylabel(str(records.readings[test_model]['models'][model_name]['reference']))\n",
    "plt.xlabel('Date (-)')\n",
    "plt.grid(True)\n"
   ]
  },
  {
   "cell_type": "markdown",
   "metadata": {},
   "source": [
    "### Scatter Comparison"
   ]
  },
  {
   "cell_type": "code",
   "execution_count": null,
   "metadata": {},
   "outputs": [],
   "source": [
    "import matplotlib.pyplot as plot\n",
    "from matplotlib import gridspec\n",
    "import pandas as pd\n",
    "import math\n",
    "import numpy as np\n",
    "%matplotlib inline\n",
    "\n",
    "number_of_subplots = len(records.readings[test_model]['models'].keys()) \n",
    "if number_of_subplots % 2 == 0: cols = 2\n",
    "else: cols = 3\n",
    "rows = int(math.ceil(number_of_subplots / cols))\n",
    "gs = gridspec.GridSpec(rows, cols)\n",
    "fig = plot.figure(figsize=(20,10))\n",
    "\n",
    "fig.tight_layout()\n",
    "n = 0\n",
    "\n",
    "for model_name in records.readings[test_model]['models']:\n",
    "\n",
    "    ratio_train = records.readings[test_model]['models'][model_name]['model_object'].hyperparameters['ratio_train']\n",
    "    \n",
    "    data = records.readings[test_model]['devices'][model_name]['data']\n",
    "    dataVal = data.groupby(pd.Grouper(freq='1H')).aggregate(np.mean)    \n",
    "    total_len = len(dataVal.index)\n",
    "    n_train_periods = int(round(total_len*ratio_train))\n",
    "    \n",
    "    dataframeTrain = dataVal.iloc[:n_train_periods,:]\n",
    "    dataframeTest = dataVal.iloc[n_train_periods:,:]\n",
    "    \n",
    "    ax = fig.add_subplot(gs[n])\n",
    "    n += 1          \n",
    "    plot.plot(dataframeTrain['reference'], dataframeTrain['prediction'], 'go', label = 'Train ' + model_name, alpha = 0.3)\n",
    "    plot.plot(dataframeTest['reference'], dataframeTest['prediction'], 'bo', label = 'Test ' + model_name, alpha = 0.3)\n",
    "    plot.plot(dataframeTrain['reference'], dataframeTrain['reference'], 'k', label = '1:1 Line', linewidth = 0.4, alpha = 0.3)\n",
    "    \n",
    "    plot.legend(loc = 'best', prop={'size': 8})\n",
    "    plot.ylabel('Prediction (-)')\n",
    "    plot.xlabel('Reference (-)')\n",
    "    plot.show()"
   ]
  },
  {
   "cell_type": "markdown",
   "metadata": {},
   "source": [
    "### Target diagram\n",
    "\n",
    "Model Metrics Comparison using target diagram"
   ]
  },
  {
   "cell_type": "code",
   "execution_count": null,
   "metadata": {
    "code_folding": [
     4,
     12,
     18
    ]
   },
   "outputs": [],
   "source": [
    "from src.visualization.visualization import targetDiagram\n",
    "%matplotlib inline\n",
    "\n",
    "models = dict()\n",
    "for model in records.readings[test_model]['models']:\n",
    "\n",
    "        print ('\\nModel Name: {}'.format(model))\n",
    "        print (\"{:<23} {:<7} {:<5}\".format('Metric','Train','Test'))\n",
    "        metrics_model = records.readings[test_model]['models'][model]['model_object'].extract_metrics()\n",
    "        models[model] = metrics_model\n",
    "        for metric in metrics_model['train'].keys():\n",
    "            print (\"{:<20}\".format(metric) +\"\\t\" +\"{:0.3f}\".format(metrics_model['train'][metric]) +\"\\t\"+ \"{:0.3f}\".format(metrics_model['test'][metric]))\n",
    "        \n",
    "targetDiagram(models, True)"
   ]
  },
  {
   "cell_type": "markdown",
   "metadata": {
    "toc-hr-collapsed": false
   },
   "source": [
    "## Model Application"
   ]
  },
  {
   "cell_type": "code",
   "execution_count": null,
   "metadata": {},
   "outputs": [],
   "source": [
    "%run src_ipynb/apply_model.ipynb"
   ]
  },
  {
   "cell_type": "code",
   "execution_count": null,
   "metadata": {},
   "outputs": [],
   "source": [
    "#### Data Quality Objectives (TO CHECK)\n",
    "Explained here http://dx.doi.org/10.1016/j.envint.2016.12.007\n",
    "\n",
    "Sensor values Y, reference values x"
   ]
  },
  {
   "cell_type": "code",
   "execution_count": null,
   "metadata": {
    "code_folding": [
     5
    ],
    "jupyter": {
     "source_hidden": true
    }
   },
   "outputs": [],
   "source": [
    "from scipy.stats.stats import linregress\n",
    "import matplotlib.pyplot as plot\n",
    "import numpy as np\n",
    "%matplotlib inline\n",
    "\n",
    "def fUEREL(ux, values_x, values_Y):\n",
    "    def RSS(values_x, values_Y, intercept, slope):\n",
    "        pre_sum_1 = np.power(values_Y - intercept - np.multiply(slope, values_x), 2)\n",
    "        # pre_sum_2 = np.power(values_Y / (intercept + np.multiply(slope, values_x)) - 1, 2)\n",
    "        \n",
    "        # fig, axes = plot.subplots(1, 2, figsize=(15,10))\n",
    "        # axes[0].plot(pre_sum_1)\n",
    "        # axes[1].plot(pre_sum_2)\n",
    "\n",
    "        RSS = np.sum(np.power(pre_sum_1,2))\n",
    "        \n",
    "        return RSS\n",
    "    \n",
    "    slope, intercept, _, _, _ = linregress(values_x, values_Y)\n",
    "    # fig = plot.figure(figsize=(15,10))\n",
    "    # plot.plot(slope*values_x + intercept, label='Sensor')\n",
    "    # plot.plot(values_Y)\n",
    "    \n",
    "    RSS = RSS(values_x, values_Y, intercept, slope)\n",
    "    n = len(values_x)\n",
    "    if len(values_Y) != n: return\n",
    "    A = RSS/(n-2)-np.power(ux,2)\n",
    "    B = np.power(intercept + (slope-1)*values_x, 2)\n",
    "    C = np.power(A + B, 0.5)\n",
    "    UEREL = np.divide(2*C, values_Y)\n",
    "    \n",
    "    return UEREL"
   ]
  },
  {
   "cell_type": "code",
   "execution_count": null,
   "metadata": {
    "code_folding": [
     33
    ],
    "jupyter": {
     "source_hidden": true
    }
   },
   "outputs": [],
   "source": [
    "import matplotlib.pyplot as plot\n",
    "from matplotlib import gridspec\n",
    "import math\n",
    "\n",
    "dqo_table = (['PM', 50],\n",
    "            ['O3', 30],\n",
    "            ['CO',25],\n",
    "            ['NO',25],\n",
    "            ['NO2',25],\n",
    "            ['NOX',25],\n",
    "            ['SO2',25])\n",
    "\n",
    "ux = 0\n",
    "test_model = '2019-02_EXT_DUBLIN_URBAN_BACKGROUND'\n",
    "\n",
    "## ---\n",
    "number_of_subplots = len(records.readings[test_model]['models'].keys()) \n",
    "\n",
    "if number_of_subplots % 2 == 0: cols = 2\n",
    "else: cols = 3\n",
    "    \n",
    "rows = int(math.ceil(number_of_subplots / cols))\n",
    "gs = gridspec.GridSpec(rows, cols)\n",
    "fig = plot.figure(figsize=(15,10))\n",
    "\n",
    "fig.tight_layout()\n",
    "n = 0\n",
    "\n",
    "for model in records.readings[test_model]['models']:\n",
    "    try:\n",
    "        data = records.readings[test_model]['devices'][model]['data']\n",
    "        dataVal = data.groupby(pd.Grouper(freq='1H')).aggregate(np.mean)\n",
    "        values_x = dataVal['reference'].values\n",
    "        values_Y = dataVal['prediction'].values\n",
    "        \n",
    "        total_len = len(data.index)\n",
    "        n_train_periods = int(round(total_len*ratio_train))\n",
    "    \n",
    "        ax = fig.add_subplot(gs[n])\n",
    "        n += 1      \n",
    "    \n",
    "        uerel = 100*fUEREL(ux, values_x, values_Y)\n",
    "        \n",
    "        plot.plot(values_x, uerel, 'ko')\n",
    "        plot.xlabel('Ref. conc [ppb]')\n",
    "        plot.ylabel('Rel. Exp. Unc (%)')\n",
    "        plot.ylim([0, 100])\n",
    "        plot.title(model)\n",
    "        plot.axhline(y=25, color='r', linestyle='-')\n",
    "    except:\n",
    "        pass\n",
    "            "
   ]
  }
 ],
 "metadata": {
  "celltoolbar": "Raw Cell Format",
  "kernelspec": {
   "display_name": "Python 3",
   "language": "python",
   "name": "python3"
  },
  "language_info": {
   "codemirror_mode": {
    "name": "ipython",
    "version": 3
   },
   "file_extension": ".py",
   "mimetype": "text/x-python",
   "name": "python",
   "nbconvert_exporter": "python",
   "pygments_lexer": "ipython3",
   "version": "3.7.0"
  },
  "toc": {
   "nav_menu": {
    "height": "357px",
    "width": "307px"
   },
   "number_sections": true,
   "sideBar": true,
   "skip_h1_title": false,
   "title_cell": "Table of Contents",
   "title_sidebar": "Contents",
   "toc_cell": true,
   "toc_position": {
    "height": "48px",
    "left": "552px",
    "top": "705.497px",
    "width": "315px"
   },
   "toc_section_display": true,
   "toc_window_display": true
  },
  "toc-autonumbering": false,
  "toc-showcode": false,
  "toc-showmarkdowntxt": false,
  "toc-showtags": false
 },
 "nbformat": 4,
 "nbformat_minor": 4
}
