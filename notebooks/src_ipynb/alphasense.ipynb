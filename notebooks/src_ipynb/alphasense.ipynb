{
 "cells": [
  {
   "cell_type": "code",
   "execution_count": 1,
   "metadata": {
    "Collapsed": "false"
   },
   "outputs": [
    {
     "ename": "NameError",
     "evalue": "name 'baseline_method' is not defined",
     "output_type": "error",
     "traceback": [
      "\u001b[0;31m---------------------------------------------------------------------------\u001b[0m",
      "\u001b[0;31mNameError\u001b[0m                                 Traceback (most recent call last)",
      "\u001b[0;32m<ipython-input-1-6a2eaaef7f1e>\u001b[0m in \u001b[0;36m<module>\u001b[0;34m\u001b[0m\n\u001b[1;32m      1\u001b[0m \u001b[0mvariables\u001b[0m \u001b[0;34m=\u001b[0m \u001b[0mlist\u001b[0m\u001b[0;34m(\u001b[0m\u001b[0;34m)\u001b[0m\u001b[0;34m\u001b[0m\u001b[0m\n\u001b[1;32m      2\u001b[0m \u001b[0;34m\u001b[0m\u001b[0m\n\u001b[0;32m----> 3\u001b[0;31m \u001b[0;32mif\u001b[0m \u001b[0mbaseline_method\u001b[0m \u001b[0;34m==\u001b[0m \u001b[0;34m'deltas'\u001b[0m\u001b[0;34m:\u001b[0m\u001b[0;34m\u001b[0m\u001b[0m\n\u001b[0m\u001b[1;32m      4\u001b[0m     \u001b[0mappend_name\u001b[0m \u001b[0;34m=\u001b[0m \u001b[0mbaseline_method\u001b[0m\u001b[0;34m[\u001b[0m\u001b[0;34m:\u001b[0m\u001b[0;34m]\u001b[0m\u001b[0;34m.\u001b[0m\u001b[0mupper\u001b[0m\u001b[0;34m(\u001b[0m\u001b[0;34m)\u001b[0m \u001b[0;34m+\u001b[0m \u001b[0;34m'_OVL_'\u001b[0m \u001b[0;34m+\u001b[0m \u001b[0mstr\u001b[0m\u001b[0;34m(\u001b[0m\u001b[0moverlapHours\u001b[0m\u001b[0;34m)\u001b[0m \u001b[0;34m+\u001b[0m \u001b[0;34m'-'\u001b[0m \u001b[0;34m+\u001b[0m \u001b[0mstr\u001b[0m\u001b[0;34m(\u001b[0m\u001b[0mmin_delta\u001b[0m\u001b[0;34m)\u001b[0m \u001b[0;34m+\u001b[0m \u001b[0;34m'-'\u001b[0m \u001b[0;34m+\u001b[0m\u001b[0mstr\u001b[0m\u001b[0;34m(\u001b[0m\u001b[0mmax_delta\u001b[0m\u001b[0;34m)\u001b[0m\u001b[0;34m\u001b[0m\u001b[0m\n\u001b[1;32m      5\u001b[0m \u001b[0;34m\u001b[0m\u001b[0m\n",
      "\u001b[0;31mNameError\u001b[0m: name 'baseline_method' is not defined"
     ]
    }
   ],
   "source": [
    "variables = list()\n",
    "\n",
    "if baseline_method == 'deltas':\n",
    "    append_name = baseline_method[:].upper() + '_OVL_' + str(overlapHours) + '-' + str(min_delta) + '-' +str(max_delta)\n",
    "             \n",
    "    variables.append(np.arange(min_delta, max_delta, delta_delta))\n",
    "\n",
    "elif baseline_method == 'als':\n",
    "    append_name = baseline_method[:].upper() + '_OVL_' + str(overlapHours) + '-LAMBDA_' + str(lam_als[0]) + '-' +str(lam_als[-1]) + '_P_'+ str(p_als)\n",
    "\n",
    "    variables.append([lam_als, p_als])\n",
    "    \n",
    "variables.append(methods)\n",
    "variables.append(overlapHours)\n",
    "variables.append(baseline_method)\n",
    "\n",
    "out_alpha = widgets.Output()\n",
    "\n",
    "selectedTestsAD = tuple()\n",
    "def selectTestAD(x):\n",
    "    global selectedTestsAD\n",
    "    selectedTestsAD = list(x)\n",
    "    \n",
    "def calculateCorrectionAD(b):\n",
    "    # Check options\n",
    "    options = dict()\n",
    "    options['checkBoxDecomp'] = checkBoxDecomp.value\n",
    "    options['checkBoxPlotsIn'] = checkBoxPlotsIn.value\n",
    "    options['checkBoxPlotsResult'] = checkBoxPlotsResult.value\n",
    "    options['checkBoxVerb'] = checkBoxVerb.value\n",
    "    options['checkBoxStats'] = checkBoxStats.value\n",
    "    \n",
    "    with out_alpha:\n",
    "        clear_output()\n",
    "        for testAD in selectedTestsAD:\n",
    "            # Calculate alphasense correction\n",
    "            data.calculate_alphasense(testAD, append_name, variables, options)\n",
    "\n",
    "# Find out which tests have alphasense values\n",
    "testAlphaSense = list()\n",
    "for test in data.tests.keys():\n",
    "    for kit in data.tests[test].devices.keys():\n",
    "        print (kit)\n",
    "        if test not in testAlphaSense:\n",
    "            testAlphaSense.append(test)\n",
    "\n",
    "            \n",
    "display(widgets.HTML('<h4>Select the tests containing alphasense to calculate correction</h4>'))\n",
    "            \n",
    "interact(selectTestAD,\n",
    "         x = widgets.SelectMultiple(options=testAlphaSense, \n",
    "                           description='Select tests below', \n",
    "                           selected_labels = selectedTestsAD, \n",
    "                           layout=widgets.Layout(width='700px')))\n",
    "\n",
    "calculateCorrection = widgets.Button(description='Calculate Baseline',\n",
    "                                     layout=widgets.Layout(width='200px'))\n",
    "calculateCorrection.on_click(calculateCorrectionAD)\n",
    "\n",
    "# Synchronise Checkbox\n",
    "\n",
    "checkBoxDecomp = widgets.Checkbox(value=False, \n",
    "                                  description='Decomp')\n",
    "checkBoxPlotsIn = widgets.Checkbox(value=False, \n",
    "                                  description='Plots Inter')     \n",
    "checkBoxVerb = widgets.Checkbox(value=False, \n",
    "                                  description='Verbose') \n",
    "checkBoxPlotsResult = widgets.Checkbox(value=False, \n",
    "                                  description='Plots Results') \n",
    "checkBoxStats = widgets.Checkbox(value=True, \n",
    "                                  description='Print Stats') \n",
    "\n",
    "Box = widgets.VBox([calculateCorrection, checkBoxDecomp, checkBoxPlotsIn, checkBoxVerb, checkBoxPlotsResult, checkBoxStats])\n",
    "display(Box)\n",
    "display(out_alpha)"
   ]
  },
  {
   "cell_type": "code",
   "execution_count": null,
   "metadata": {
    "Collapsed": "false"
   },
   "outputs": [],
   "source": []
  }
 ],
 "metadata": {
  "kernelspec": {
   "display_name": "Python 3",
   "language": "python",
   "name": "python3"
  },
  "language_info": {
   "codemirror_mode": {
    "name": "ipython",
    "version": 3
   },
   "file_extension": ".py",
   "mimetype": "text/x-python",
   "name": "python",
   "nbconvert_exporter": "python",
   "pygments_lexer": "ipython3",
   "version": "3.7.0"
  }
 },
 "nbformat": 4,
 "nbformat_minor": 4
}
