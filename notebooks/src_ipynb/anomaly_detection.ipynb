{
 "cells": [
  {
   "cell_type": "markdown",
   "metadata": {},
   "source": [
    "## Dataframe cleaning: anomaly detection\n",
    "\n",
    "Inspired by the code of Dmitriy Sergeev at https://medium.com/open-machine-learning-course/open-machine-learning-course-topic-9-time-series-analysis-in-python-a270cb05e0b3.\n",
    "\n",
    "### XGBoost regressor"
   ]
  },
  {
   "cell_type": "code",
   "execution_count": null,
   "metadata": {},
   "outputs": [],
   "source": [
    "from src.data.signal_utils import mean_absolute_percentage_error, timeseries_train_test_split, \\\n",
    "                         plotModelResults, prepareDataFrame\n",
    "\n",
    "test_name = '2018-09_EXT_BOLOGNA_TEST_WALL_MO'\n",
    "device_name = 'SCK2'\n",
    "\n",
    "## Ignore columns\n",
    "\n",
    "irrelevantColumns = ['BATT', 'LIGHT', 'TEMP', 'HUM', 'CO_MICS_THEAT', 'NO2_MICS_THEAT',\n",
    "       'PRESS', 'GB_1A', 'GB_1W', 'GB_CO', 'GB_2A', 'GB_2W', 'GB_NO2', 'GB_3A',\n",
    "       'GB_3W', 'GB_O3', 'EXT_TEMP', 'EXT_HUM', 'EXT_PM_1', 'EXT_PM_25',\n",
    "       'EXT_PM_10']\n",
    "frequency = '1Min'\n",
    "\n",
    "# Resample data\n",
    "data = prepareDataFrame(records.readings[test_name]['devices'][device_name]['data'], \n",
    "                 frequency, irrelevantColumns, _numberPasses = 3, _plotModelAnom = True, \n",
    "                 _scaleAnom = 1.9, _methodAnom = 'before-after-avg')\n",
    "\n",
    "# Make a copy to a 'CLEAN' keyword\n",
    "records.readings[test_name]['devices'][device_name + '_CLEAN'] = dict()\n",
    "\n",
    "# Put everything except data inside\n",
    "for key in records.readings[test_name]['devices'][device_name].keys():\n",
    "    \n",
    "    if 'data' not in key:\n",
    "        records.readings[test_name]['devices'][device_name + '_CLEAN'][key] = records.readings[test_name]['devices'][device_name][key]\n",
    "\n",
    "# Put data inside\n",
    "records.readings[test_name]['devices'][device_name + '_CLEAN']['data'] = data\n",
    "records.readings[test_name]['ready_to_model'] = False"
   ]
  }
 ],
 "metadata": {
  "kernelspec": {
   "display_name": "Python 3",
   "language": "python",
   "name": "python3"
  },
  "language_info": {
   "codemirror_mode": {
    "name": "ipython",
    "version": 3
   },
   "file_extension": ".py",
   "mimetype": "text/x-python",
   "name": "python",
   "nbconvert_exporter": "python",
   "pygments_lexer": "ipython3",
   "version": "3.7.0"
  }
 },
 "nbformat": 4,
 "nbformat_minor": 4
}
