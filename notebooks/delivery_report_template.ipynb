{
 "cells": [
  {
   "cell_type": "code",
   "execution_count": null,
   "metadata": {},
   "outputs": [],
   "source": [
    "%load_ext autoreload\n",
    "%autoreload 2"
   ]
  },
  {
   "cell_type": "code",
   "execution_count": null,
   "metadata": {},
   "outputs": [],
   "source": [
    "import scdata as sc\n",
    "\n",
    "from tools.backup import S3handler\n",
    "from os.path import join\n",
    "from scdata._config import config\n",
    "config._out_level = 'DEBUG'\n",
    "import pandas as pd\n",
    "import re\n",
    "import pprint\n",
    "from IPython.display import display, HTML\n",
    "\n",
    "pp = pprint.PrettyPrinter(indent=4)\n",
    "\n",
    "s3handler = S3handler()\n",
    "# s3handler.get_objects()\n",
    "inventory_path = join(config.paths['inventory'], 'inventory', 'inventory.csv')\n",
    "s3_inventory_path = 'inventory/deliveries/inventory.csv'\n",
    "# Download it\n",
    "s3handler.download(inventory_path, s3_inventory_path)\n",
    "# Load files\n",
    "with open(inventory_path, 'r') as inventory_csv:\n",
    "    print (f'Loading inventory file from: {inventory_path}')\n",
    "    inventory = pd.read_csv(inventory_csv).set_index('time')"
   ]
  },
  {
   "cell_type": "code",
   "execution_count": null,
   "metadata": {},
   "outputs": [],
   "source": [
    "inventory.tail(6)"
   ]
  },
  {
   "cell_type": "markdown",
   "metadata": {},
   "source": [
    "## Load"
   ]
  },
  {
   "cell_type": "code",
   "execution_count": null,
   "metadata": {},
   "outputs": [],
   "source": [
    "destination = ''\n",
    "batch = 1"
   ]
  },
  {
   "cell_type": "code",
   "execution_count": null,
   "metadata": {
    "scrolled": true
   },
   "outputs": [],
   "source": [
    "batch = str(batch)\n",
    "test_names = list(set(list(inventory.loc[(inventory['destination'] == destination), 'test'])))\n",
    "\n",
    "data_st = dict()\n",
    "print ('--------')\n",
    "\n",
    "for ntest in test_names:\n",
    "    data_st[ntest] = dict()\n",
    "    data_st[ntest]['kits'] = [re.sub('https://smartcitizen.me/kits/','',x) \n",
    "                              for x in list(inventory.loc[(inventory['test'] == ntest), 'platform_url'].values)]\n",
    "\n",
    "    data_st[ntest]['min_date'] = list(set(list(inventory.loc[(inventory['destination'] == destination) \n",
    "                                                             & (inventory['test'] == ntest)\n",
    "                                                             & (inventory['validated'] == 'y'), \n",
    "                                                             'min_validation_date'].dropna().values)))\n",
    "\n",
    "    data_st[ntest]['max_date'] = list(set(list(inventory.loc[(inventory['destination'] == destination)\n",
    "                                                             & (inventory['test'] == ntest)\n",
    "                                                             & (inventory['validated'] == 'y'), \n",
    "                                                             'max_validation_date'].dropna().values)))\n",
    "\n",
    "    print (f'TEST: {ntest}')\n",
    "    print (data_st[ntest])    \n",
    "    data_st[ntest]['test'] = sc.Test(ntest)\n",
    "    data_st[ntest]['test'].purge()    \n",
    "    data_st[ntest]['test'].load()\n",
    "    print ('--------')"
   ]
  },
  {
   "cell_type": "markdown",
   "metadata": {},
   "source": [
    "## Dispersion Analysis"
   ]
  },
  {
   "cell_type": "code",
   "execution_count": null,
   "metadata": {
    "scrolled": true
   },
   "outputs": [],
   "source": [
    "for ntest in test_names:\n",
    "    data_st[ntest]['test'].get_common_channels()\n",
    "    print('\\nDispersion Analysis Summary:\\n')\n",
    "    pp.pprint(data_st[ntest]['test'].dispersion_analysis())"
   ]
  },
  {
   "cell_type": "markdown",
   "metadata": {},
   "source": [
    "#### Static"
   ]
  },
  {
   "cell_type": "code",
   "execution_count": null,
   "metadata": {},
   "outputs": [],
   "source": [
    "for ntest in test_names:\n",
    "    [data_st[ntest]['test'].ts_dispersion_plot(channel = ch) for ch in data_st[ntest]['test'].common_channels];"
   ]
  },
  {
   "cell_type": "markdown",
   "metadata": {},
   "source": [
    "#### Interactive"
   ]
  },
  {
   "cell_type": "code",
   "execution_count": null,
   "metadata": {},
   "outputs": [],
   "source": [
    "for ch in data_st[ntest]['test'].common_channels:\n",
    "    display(data_st[ntest]['test'].ts_dispersion_uplot(channel = ch, formatting = {'width': 1000, 'height': 300, 'padding-bottom': 600}))"
   ]
  },
  {
   "cell_type": "markdown",
   "metadata": {},
   "source": [
    "### Fill details"
   ]
  },
  {
   "cell_type": "code",
   "execution_count": null,
   "metadata": {},
   "outputs": [],
   "source": [
    "ntest = ''\n",
    "data_st[ntest]['test'].descriptor['notes'] = '* 2021-04-26 17:44 replaced urban board of 2C47 (13997)'\n",
    "data_st[ntest]['test'].__update_descriptor__()"
   ]
  },
  {
   "cell_type": "code",
   "execution_count": null,
   "metadata": {},
   "outputs": [],
   "source": [
    "min_date_val = '2020-07-28'\n",
    "max_date_val = '2020-08-03'"
   ]
  },
  {
   "cell_type": "code",
   "execution_count": null,
   "metadata": {},
   "outputs": [],
   "source": [
    "failing_kits   = {'13084': ['PM_SENSOR'],\n",
    "                  '13087': ['PM_SENSOR']\n",
    "                 }"
   ]
  },
  {
   "cell_type": "code",
   "execution_count": null,
   "metadata": {},
   "outputs": [],
   "source": [
    "delivered_kits = {'13077': {'replacement': 'none', 'min_date': min_date_val, 'max_date': max_date_val}, \n",
    "                  '13079': {'replacement': 'none', 'min_date': min_date_val, 'max_date': max_date_val},\n",
    "                  '13081': {'replacement': 'none', 'min_date': min_date_val, 'max_date': max_date_val}, \n",
    "                  '13082': {'replacement': 'none', 'min_date': min_date_val, 'max_date': max_date_val},\n",
    "                  '13086': {'replacement': 'none', 'min_date': min_date_val, 'max_date': max_date_val},\n",
    "                  '13089': {'replacement': 'none', 'min_date': min_date_val, 'max_date': max_date_val}\n",
    "                 }"
   ]
  },
  {
   "cell_type": "code",
   "execution_count": null,
   "metadata": {},
   "outputs": [],
   "source": [
    "for kit in failing_kits.keys():\n",
    "    inventory.loc[inventory.platform_url == f'https://smartcitizen.me/kits/{kit}', 'validated'] = 'n'\n",
    "    inventory.loc[inventory.platform_url == f'https://smartcitizen.me/kits/{kit}', 'replacement'] = failing_kits[kit]\n",
    "\n",
    "for kit in delivered_kits.keys():\n",
    "    inventory.loc[inventory.platform_url == f'https://smartcitizen.me/kits/{kit}', 'validated'] = 'y'\n",
    "    inventory.loc[inventory.platform_url == f'https://smartcitizen.me/kits/{kit}', 'replacement'] = delivered_kits[kit]['replacement']\n",
    "    inventory.loc[inventory.platform_url == f'https://smartcitizen.me/kits/{kit}', 'min_validation_date'] = delivered_kits[kit]['min_date']    \n",
    "    inventory.loc[inventory.platform_url == f'https://smartcitizen.me/kits/{kit}', 'max_validation_date'] = delivered_kits[kit]['max_date']"
   ]
  },
  {
   "cell_type": "markdown",
   "metadata": {},
   "source": [
    "#### Upload inventory"
   ]
  },
  {
   "cell_type": "code",
   "execution_count": null,
   "metadata": {},
   "outputs": [],
   "source": [
    "inventory.to_csv(inventory_path)"
   ]
  },
  {
   "cell_type": "code",
   "execution_count": null,
   "metadata": {},
   "outputs": [],
   "source": [
    "s3handler.upload(inventory_path, s3_inventory_path) #expiration in seconds"
   ]
  },
  {
   "cell_type": "markdown",
   "metadata": {},
   "source": [
    "## Report"
   ]
  },
  {
   "cell_type": "markdown",
   "metadata": {},
   "source": [
    "### Description"
   ]
  },
  {
   "cell_type": "code",
   "execution_count": null,
   "metadata": {},
   "outputs": [],
   "source": [
    "nok_devices = inventory.loc[(inventory['destination'] == destination)\\\n",
    "                                         & (inventory['batch'] == batch)\\\n",
    "                                         & (inventory['validated'] == 'n'),\n",
    "                                         'platform_url']\n",
    "print (f'NOK Devices ({len(nok_devices)})')\n",
    "display (nok_devices)\n",
    "\n",
    "ok_devices = inventory.loc[(inventory['destination'] == destination)\\\n",
    "                                  & (inventory['batch'] == str(batch))\\\n",
    "                                  & (inventory['validated'] == 'y'),\n",
    "                                  ['platform_url', 'tested','validated', \n",
    "                                   'min_validation_date', 'max_validation_date']]\n",
    "print (f'OK Devices ({len(ok_devices)})')\n",
    "display(ok_devices)"
   ]
  },
  {
   "cell_type": "code",
   "execution_count": null,
   "metadata": {},
   "outputs": [],
   "source": [
    "t = sc.Test(f'{destination}_JOIN_DELIVERY')\n",
    "\n",
    "t.descriptor['author']= config.author\n",
    "t.descriptor['type_test']= 'indoor'\n",
    "t.descriptor['comment']= f'Join test for delivery of batch #{batch} to {destination}'\n",
    "\n",
    "t.descriptor['delivery'] = {\n",
    "    'destination': destination,\n",
    "    'batch': str(batch),\n",
    "    'devices': HTML(ok_devices.to_html())\n",
    "}\n",
    "\n",
    "t.create(force=True)"
   ]
  },
  {
   "cell_type": "markdown",
   "metadata": {},
   "source": [
    "### Timeseries Grid"
   ]
  },
  {
   "cell_type": "code",
   "execution_count": null,
   "metadata": {},
   "outputs": [],
   "source": [
    "for ntest in test_names:\n",
    "    fig = data_st[ntest]['test'].ts_dispersion_grid()\n",
    "    t.add_content(title=f'Timeseries test {ntest}', figure = fig)"
   ]
  },
  {
   "cell_type": "markdown",
   "metadata": {},
   "source": [
    "### Scatter grid"
   ]
  },
  {
   "cell_type": "code",
   "execution_count": null,
   "metadata": {},
   "outputs": [],
   "source": [
    "for ntest in test_names:\n",
    "    fig = data_st[ntest]['test'].scatter_dispersion_grid()\n",
    "    t.add_content(title=f'Scatter test {ntest}', figure = fig)"
   ]
  },
  {
   "cell_type": "markdown",
   "metadata": {},
   "source": [
    "## Upload"
   ]
  },
  {
   "cell_type": "code",
   "execution_count": null,
   "metadata": {},
   "outputs": [],
   "source": [
    "report_path = join(t.path, 'export', f'{t.full_name}.html')\n",
    "t.to_html('Validation report', template = 'delivery_template.html', devices_summary = False);\n",
    "t.descriptor['report'] = report_path\n",
    "t.__update_descriptor__()\n",
    "!open $report_path"
   ]
  },
  {
   "cell_type": "code",
   "execution_count": null,
   "metadata": {},
   "outputs": [],
   "source": [
    "s3_report_path = f'reports/{t.full_name}.html'\n",
    "url = s3handler.upload(report_path, s3_report_path, expiration=14*24*3600) #expiration in seconds"
   ]
  }
 ],
 "metadata": {
  "kernelspec": {
   "display_name": "Python 3",
   "language": "python",
   "name": "python3"
  },
  "language_info": {
   "codemirror_mode": {
    "name": "ipython",
    "version": 3
   },
   "file_extension": ".py",
   "mimetype": "text/x-python",
   "name": "python",
   "nbconvert_exporter": "python",
   "pygments_lexer": "ipython3",
   "version": "3.7.3"
  }
 },
 "nbformat": 4,
 "nbformat_minor": 4
}
