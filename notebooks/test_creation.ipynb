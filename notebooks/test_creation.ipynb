{
 "cells": [
  {
   "cell_type": "markdown",
   "metadata": {},
   "source": [
    "This notebook will create the necessary folder structure for later use in the data_analysis notebook. Run this cell first."
   ]
  },
  {
   "cell_type": "code",
   "execution_count": 5,
   "metadata": {},
   "outputs": [
    {
     "name": "stdout",
     "output_type": "stream",
     "text": [
      "The autoreload extension is already loaded. To reload it, use:\n",
      "  %reload_ext autoreload\n"
     ]
    }
   ],
   "source": [
    "%load_ext autoreload\n",
    "%autoreload 2\n",
    "from src.data.test_tools import test\n",
    "import pandas as pd"
   ]
  },
  {
   "cell_type": "markdown",
   "metadata": {},
   "source": [
    "## Test information"
   ]
  },
  {
   "cell_type": "code",
   "execution_count": 6,
   "metadata": {},
   "outputs": [
    {
     "ename": "SystemError",
     "evalue": "Test already exists with this name. Since you want to create a new test, I will stop here so that I avoid to overwrite",
     "output_type": "error",
     "traceback": [
      "\u001b[0;31m---------------------------------------------------------------------------\u001b[0m",
      "\u001b[0;31mSystemError\u001b[0m                               Traceback (most recent call last)",
      "\u001b[0;32m<ipython-input-6-606e5d244670>\u001b[0m in \u001b[0;36m<module>\u001b[0;34m\u001b[0m\n\u001b[1;32m     23\u001b[0m \u001b[0;34m\u001b[0m\u001b[0m\n\u001b[1;32m     24\u001b[0m \u001b[0;31m# Create test object\u001b[0m\u001b[0;34m\u001b[0m\u001b[0;34m\u001b[0m\u001b[0m\n\u001b[0;32m---> 25\u001b[0;31m \u001b[0mnewtest\u001b[0m \u001b[0;34m=\u001b[0m \u001b[0mtest\u001b[0m\u001b[0;34m(\u001b[0m\u001b[0mpd\u001b[0m\u001b[0;34m.\u001b[0m\u001b[0mto_datetime\u001b[0m\u001b[0;34m(\u001b[0m\u001b[0mdate\u001b[0m\u001b[0;34m)\u001b[0m\u001b[0;34m.\u001b[0m\u001b[0mstrftime\u001b[0m\u001b[0;34m(\u001b[0m\u001b[0;34m'%Y-%m'\u001b[0m\u001b[0;34m)\u001b[0m \u001b[0;34m+\u001b[0m \u001b[0;34m'_'\u001b[0m \u001b[0;34m+\u001b[0m \u001b[0mwho\u001b[0m \u001b[0;34m+\u001b[0m \u001b[0;34m'_'\u001b[0m \u001b[0;34m+\u001b[0m \u001b[0mshort_name\u001b[0m\u001b[0;34m,\u001b[0m \u001b[0mpd\u001b[0m\u001b[0;34m.\u001b[0m\u001b[0mto_datetime\u001b[0m\u001b[0;34m(\u001b[0m\u001b[0mdate\u001b[0m\u001b[0;34m)\u001b[0m\u001b[0;34m,\u001b[0m \u001b[0mnew\u001b[0m \u001b[0;34m=\u001b[0m \u001b[0misnewtest\u001b[0m\u001b[0;34m)\u001b[0m\u001b[0;34m\u001b[0m\u001b[0m\n\u001b[0m\u001b[1;32m     26\u001b[0m \u001b[0;34m\u001b[0m\u001b[0m\n\u001b[1;32m     27\u001b[0m \u001b[0;31m# Add General test details\u001b[0m\u001b[0;34m\u001b[0m\u001b[0;34m\u001b[0m\u001b[0m\n",
      "\u001b[0;32m~/Documents/04_Projects/02_FabLab/01_SmartCitizen/01_Repositories/DataAnalysis/smartcitizen-iscape-data/src/data/test_tools.py\u001b[0m in \u001b[0;36m__init__\u001b[0;34m(self, ID, date, verbose, new)\u001b[0m\n\u001b[1;32m    113\u001b[0m                         \u001b[0mos\u001b[0m\u001b[0;34m.\u001b[0m\u001b[0mmakedirs\u001b[0m\u001b[0;34m(\u001b[0m\u001b[0mself\u001b[0m\u001b[0;34m.\u001b[0m\u001b[0mnewpath\u001b[0m\u001b[0;34m)\u001b[0m\u001b[0;34m\u001b[0m\u001b[0m\n\u001b[1;32m    114\u001b[0m                 \u001b[0;32melif\u001b[0m \u001b[0mself\u001b[0m\u001b[0;34m.\u001b[0m\u001b[0mnew\u001b[0m\u001b[0;34m:\u001b[0m\u001b[0;34m\u001b[0m\u001b[0m\n\u001b[0;32m--> 115\u001b[0;31m                         \u001b[0;32mraise\u001b[0m \u001b[0mSystemError\u001b[0m\u001b[0;34m(\u001b[0m\u001b[0;34m'Test already exists with this name. Since you want to create a new test, I will stop here so that I avoid to overwrite'\u001b[0m\u001b[0;34m)\u001b[0m\u001b[0;34m\u001b[0m\u001b[0m\n\u001b[0m\u001b[1;32m    116\u001b[0m \u001b[0;34m\u001b[0m\u001b[0m\n\u001b[1;32m    117\u001b[0m                 \u001b[0;32mwith\u001b[0m \u001b[0mopen\u001b[0m\u001b[0;34m(\u001b[0m\u001b[0mjoin\u001b[0m\u001b[0;34m(\u001b[0m\u001b[0minterimDirectory\u001b[0m\u001b[0;34m,\u001b[0m \u001b[0;34m'sensorData.yaml'\u001b[0m\u001b[0;34m)\u001b[0m\u001b[0;34m,\u001b[0m \u001b[0;34m'r'\u001b[0m\u001b[0;34m)\u001b[0m \u001b[0;32mas\u001b[0m \u001b[0myml\u001b[0m\u001b[0;34m:\u001b[0m\u001b[0;34m\u001b[0m\u001b[0m\n",
      "\u001b[0;31mSystemError\u001b[0m: Test already exists with this name. Since you want to create a new test, I will stop here so that I avoid to overwrite"
     ]
    }
   ],
   "source": [
    "#----\n",
    "# Is you are creating a new test (True) or if the test is going to be updated (False)\n",
    "isnewtest = True\n",
    "# Date when you performed the test in 'YYYY-MM-DD' format\n",
    "date = '2019-09-17'\n",
    "# INTernal or EXTernal test (made by your organisation or others)\n",
    "who = 'INT' \n",
    "# Short title for the test\n",
    "short_name = 'DEMO_HASSELT'\n",
    "# Comment for your test. Make this as long as you need to describe fully the purpose of this test\n",
    "comment = '''Deliveries september'''\n",
    "# Project\n",
    "project = 'iScape'\n",
    "# Firmware version\n",
    "commit = ''\n",
    "# Who made the test\n",
    "author = 'Oscar'\n",
    "# Test type (indoor, outdoor, anything that helps you organise later on)\n",
    "type_test = ''\n",
    "# If you are going to document the results somewhere, you can put a link below\n",
    "report = ''\n",
    "#----\n",
    "\n",
    "# Create test object\n",
    "newtest = test(pd.to_datetime(date).strftime('%Y-%m') + '_' + who + '_' + short_name, pd.to_datetime(date), new = isnewtest)\n",
    "\n",
    "# Add General test details\n",
    "newtest.add_details(project = project, \n",
    "                     commit = commit, \n",
    "                     author = author, \n",
    "                     type_test = type_test, \n",
    "                     report = report, \n",
    "                     comment = comment)"
   ]
  },
  {
   "cell_type": "markdown",
   "metadata": {},
   "source": [
    "## Add devices"
   ]
  },
  {
   "cell_type": "code",
   "execution_count": 4,
   "metadata": {},
   "outputs": [
    {
     "ename": "NameError",
     "evalue": "name 'newtest' is not defined",
     "output_type": "error",
     "traceback": [
      "\u001b[0;31m---------------------------------------------------------------------------\u001b[0m",
      "\u001b[0;31mNameError\u001b[0m                                 Traceback (most recent call last)",
      "\u001b[0;32m<ipython-input-4-061558cab61d>\u001b[0m in \u001b[0;36m<module>\u001b[0;34m\u001b[0m\n\u001b[0;32m----> 1\u001b[0;31m newtest.add_device(\"10014\",device_type = 'KIT',\n\u001b[0m\u001b[1;32m      2\u001b[0m                    \u001b[0mlocation\u001b[0m \u001b[0;34m=\u001b[0m \u001b[0;34m'Europe/Brussels'\u001b[0m\u001b[0;34m,\u001b[0m\u001b[0;34m\u001b[0m\u001b[0m\n\u001b[1;32m      3\u001b[0m                    \u001b[0mpm_sensor\u001b[0m \u001b[0;34m=\u001b[0m \u001b[0;34m'PMS5003'\u001b[0m\u001b[0;34m,\u001b[0m\u001b[0;34m\u001b[0m\u001b[0m\n\u001b[1;32m      4\u001b[0m                    device_files = {'device_id': \"10014\", \n\u001b[1;32m      5\u001b[0m                                    \u001b[0;34m'frequency'\u001b[0m\u001b[0;34m:\u001b[0m \u001b[0;34m'1Min'\u001b[0m\u001b[0;34m,\u001b[0m\u001b[0;34m\u001b[0m\u001b[0m\n",
      "\u001b[0;31mNameError\u001b[0m: name 'newtest' is not defined"
     ]
    }
   ],
   "source": [
    "newtest.add_device(\"10014\",device_type = 'KIT',\n",
    "                   location = 'Europe/Brussels',\n",
    "                   pm_sensor = 'PMS5003', \n",
    "                   device_files = {'device_id': \"10014\", \n",
    "                                   'frequency': '1Min',\n",
    "                                   'source': 'api',\n",
    "                                   'min_date': None,\n",
    "                                   'max_date': None})\n",
    "newtest.add_device(\"10022\",device_type = 'KIT',\n",
    "                   location = 'Europe/Brussels',\n",
    "                   pm_sensor = 'PMS5003', \n",
    "                   device_files = {'device_id': \"10022\", \n",
    "                                   'frequency': '1Min',\n",
    "                                   'source': 'api',\n",
    "                                   'min_date': None,\n",
    "                                   'max_date': None})\n",
    "newtest.add_device(\"10023\",device_type = 'KIT',\n",
    "                   location = 'Europe/Brussels',\n",
    "                   pm_sensor = 'PMS5003', \n",
    "                   device_files = {'device_id': \"10023\", \n",
    "                                   'frequency': '1Min',\n",
    "                                   'source': 'api',\n",
    "                                   'min_date': None,\n",
    "                                   'max_date': None})\n",
    "newtest.add_device(\"10021\",device_type = 'KIT',\n",
    "                   location = 'Europe/Brussels',\n",
    "                   pm_sensor = 'PMS5003', \n",
    "                   device_files = {'device_id': \"10021\", \n",
    "                                   'frequency': '1Min',\n",
    "                                   'source': 'api',\n",
    "                                   'min_date': None,\n",
    "                                   'max_date': None})\n",
    "newtest.add_device(\"10026\",device_type = 'KIT',\n",
    "                   location = 'Europe/Brussels',\n",
    "                   pm_sensor = 'PMS5003', \n",
    "                   device_files = {'device_id': \"10026\", \n",
    "                                   'frequency': '1Min',\n",
    "                                   'source': 'api',\n",
    "                                   'min_date': None,\n",
    "                                   'max_date': None})"
   ]
  },
  {
   "cell_type": "markdown",
   "metadata": {},
   "source": [
    "## Process the test"
   ]
  },
  {
   "cell_type": "code",
   "execution_count": 5,
   "metadata": {},
   "outputs": [
    {
     "name": "stdout",
     "output_type": "stream",
     "text": [
      "Processing files...\n",
      "Copy raw files... \n",
      "\tOK\n",
      "Test Creation Finished\n"
     ]
    }
   ],
   "source": [
    "# Process the stuff\n",
    "newtest.process_files()"
   ]
  },
  {
   "cell_type": "code",
   "execution_count": null,
   "metadata": {},
   "outputs": [],
   "source": [
    "# ----------------------------------\n",
    "# Examples\n",
    "# ----------------------------------\n",
    "# Add Device (as many as needed)\n",
    "# Devices can be sourced from a csv file or from the API\n",
    "# ['source']: either 'csv_old', 'csv_new' or 'api'\n",
    "# CSV: \n",
    "#    - ['fileNameRaw']: file name of the csv containing the data\n",
    "#    - ['fileNameInfo']: file name of the info\n",
    "#    - ['frequency']: frequency of the data\n",
    "#  API:\n",
    "#    - ['device_id']: platform device ID\n",
    "#    - ['frequency']: target frequency of the data\n",
    "#    - ['min_date']: min_date (can be None and it will get from the first)\n",
    "#    - ['max_date']: max_date (can be None and it will update till the latest)\n",
    "# If the device is in the history, it can be directly referenced. If not, you can specify a dictionary (alphasense, with slots and IDs)\n",
    "# ----------------------------------\n",
    "# Example of csv device with old csv\n",
    "# ----------------------------------\n",
    "#newtest.add_device('5527', \n",
    "#                device_type = 'STATION', \n",
    "#                sck_version = '2.0', \n",
    "#                pm_sensor = 'none', \n",
    "#                device_history = '5527',\n",
    "#                location = 'Europe/London',\n",
    "#                device_files = {'fileNameRaw': '5261.csv', \n",
    "#                                  'fileNameInfo': '', \n",
    "#                                  'frequency': '1Min',\n",
    "#                                  'source': 'csv_old'})\n",
    "# ----------------------------------\n",
    "# Example of device from API with alphasense data\n",
    "# ----------------------------------\n",
    "# newtest.add_device('5565', \n",
    "#                 device_type = 'STATION', \n",
    "#                 sck_version = '2.0', \n",
    "#                 pm_sensor = 'none',\n",
    "#                 alphasense = {'CO': 162581708,\n",
    "#                               'NO2': 202160421,\n",
    "#                               'O3': 204160144,\n",
    "#                               'slots': ['CO', 'NO2', 'O3']\n",
    "#                              },\n",
    "#                 location = 'Europe/Dublin',\n",
    "#                 device_files = {'device_id': '5265', \n",
    "#                                   'frequency': '1Min',\n",
    "#                                   'source': 'api',\n",
    "#                                    'min_date': '2019-02-01',\n",
    "#                                    'max_date': None})\n",
    "# ----------------------------------\n",
    "# Example of device from API in history\n",
    "# ----------------------------------\n",
    "# newtest.add_device('8739',\n",
    "#                    device_type = 'STATION',\n",
    "#                    location = 'Europe/London',\n",
    "#                    pm_sensor = 'PMS5003',\n",
    "#                    device_history = '8739',\n",
    "#                    device_files = {'device_id': '8739', \n",
    "#                                    'frequency': '1Min',\n",
    "#                                    'source': 'api',\n",
    "#                                    'min_date': '2019-06-18',\n",
    "#                                    'max_date': None})\n",
    "#\n",
    "# ----------------------------------\n",
    "# Example of reference device with 15' frequency\n",
    "# ----------------------------------\n",
    "# newtest.add_reference('CITY_COUNCIL', \n",
    "#                   fileNameRaw = 'CITY_COUNCIL.csv', \n",
    "#                   index = {'name' : 'Time',\n",
    "#                            'format' : '%Y-%m-%d %H:%M:%S',\n",
    "#                            'frequency' : '15Min'}, \n",
    "#                   channels = {'pollutants' : ('CO', 'SO2', 'NO2', 'NO', 'NOX'), \n",
    "#                               'units' : ('ppm', 'ppb', 'ppb', 'ppb', 'ppb'),\n",
    "#                               'names' : ('CO_ppm', 'SO2_ppb', 'NO2_ppb', 'NO_ppb', 'NOx_ppb')\n",
    "#                              },\n",
    "#                   location = 'Europe/Dublin')\n",
    "#\n",
    "# ----------------------------------\n",
    "# Example of reference device with 1D frequency\n",
    "# ----------------------------------\n",
    "# test.add_reference('CITY_COUNCIL_DAY', \n",
    "#                   fileNameRaw = 'CITY_COUNCIL_DAY.csv', \n",
    "#                   index = {'name' : 'Time',\n",
    "#                            'format' : '%d/%m/%Y',\n",
    "#                            'frequency' : '1D'}, \n",
    "#                   channels = {'pollutants' : ['PM10'], \n",
    "#                               'units' : ['ugm3'],\n",
    "#                               'names' : ['PM10']\n",
    "#                              },\n",
    "#                   location = 'Europe/Dublin')"
   ]
  }
 ],
 "metadata": {
  "kernelspec": {
   "display_name": "Python 3",
   "language": "python",
   "name": "python3"
  },
  "language_info": {
   "codemirror_mode": {
    "name": "ipython",
    "version": 3
   },
   "file_extension": ".py",
   "mimetype": "text/x-python",
   "name": "python",
   "nbconvert_exporter": "python",
   "pygments_lexer": "ipython3",
   "version": "3.7.0"
  },
  "toc": {
   "nav_menu": {},
   "number_sections": true,
   "sideBar": true,
   "skip_h1_title": false,
   "title_cell": "Table of Contents",
   "title_sidebar": "Contents",
   "toc_cell": false,
   "toc_position": {
    "height": "calc(100% - 180px)",
    "left": "10px",
    "top": "150px",
    "width": "178px"
   },
   "toc_section_display": true,
   "toc_window_display": true
  }
 },
 "nbformat": 4,
 "nbformat_minor": 4
}
