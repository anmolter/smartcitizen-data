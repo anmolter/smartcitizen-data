{
 "cells": [
  {
   "cell_type": "markdown",
   "metadata": {
    "Collapsed": "false"
   },
   "source": [
    "This notebook will create the necessary folder structure for later use. See examples below."
   ]
  },
  {
   "cell_type": "code",
   "execution_count": null,
   "metadata": {
    "Collapsed": "false"
   },
   "outputs": [],
   "source": [
    "%load_ext autoreload\n",
    "%autoreload 2"
   ]
  },
  {
   "cell_type": "markdown",
   "metadata": {
    "Collapsed": "false"
   },
   "source": [
    "## Test information"
   ]
  },
  {
   "cell_type": "code",
   "execution_count": null,
   "metadata": {
    "Collapsed": "false"
   },
   "outputs": [],
   "source": [
    "from src.data.test import *\n",
    "\n",
    "#----\n",
    "# Is you are creating a new test (True) or if the test is going to be updated (False)\n",
    "isnewtest = True\n",
    "# Date when you performed the test in 'YYYY-MM-DD' format\n",
    "date = '2019-12-02'\n",
    "# INTernal or EXTernal test (made by your organisation or others)\n",
    "who = 'INT' \n",
    "# Short title for the test\n",
    "short_name = 'Test_test'\n",
    "# Comment for your test. Make this as long as you need to describe fully the purpose of this test\n",
    "comment = '''2 Stations MUV for Rafel for Smart City Congress'''\n",
    "# Project\n",
    "project = 'MUV'\n",
    "# Firmware version\n",
    "commit = ''\n",
    "# Who made the test\n",
    "author = 'Oscar'\n",
    "# Test type (indoor, outdoor, anything that helps you organise later on)\n",
    "type_test = ''\n",
    "# If you are going to document the results somewhere, you can put a link below\n",
    "report = ''\n",
    "#----\n",
    "\n",
    "# Create test object\n",
    "newtest = test_wrapper(pd.to_datetime(date).strftime('%Y-%m') + '_' + who + '_' + short_name)\n",
    "\n",
    "# Add General test details\n",
    "details = {'project': project, \n",
    "           'commit': commit, \n",
    "           'author': author, \n",
    "           'type_test': type_test, \n",
    "           'report': report, \n",
    "           'comment': comment}"
   ]
  },
  {
   "cell_type": "markdown",
   "metadata": {
    "Collapsed": "false"
   },
   "source": [
    "## Add devices"
   ]
  },
  {
   "cell_type": "code",
   "execution_count": null,
   "metadata": {
    "Collapsed": "false"
   },
   "outputs": [],
   "source": [
    "ISCAPE_MAC = [\"7913\", \"4F25\", \"9994\", \"3E35\"]\n",
    "list_devices = list()\n",
    "\n",
    "for device_name in ISCAPE_MAC:\n",
    "    list_devices.append(device_wrapper({'name': device_name,\n",
    "                                        'type': 'STATION', \n",
    "                                        'version': '2.1', \n",
    "                                        'alphasense': {'CO': 162581708,\n",
    "                                                       'NO2': 202160421,\n",
    "                                                       'O3': 204160144,\n",
    "                                                       'slots': ['CO', 'NO2', 'O3']\n",
    "                                                      },\n",
    "                                        'pm_sensor': 'PMS5003', \n",
    "                                        'location': 'Europe/London',\n",
    "                                        'frequency': '1Min',\n",
    "                                        'source': 'csv_new',\n",
    "                                        'fileNameRaw': device_name + '.csv', \n",
    "                                        'fileNameInfo': ''}, newtest.data))\n",
    "    \n",
    "list_devices.append(device_wrapper({'device_id': '5565',\n",
    "                                     'type': 'STATION', \n",
    "                                     'version': '2.1', \n",
    "                                     'alphasense': {'CO': 162581708,\n",
    "                                                    'NO2': 202160421,\n",
    "                                                    'O3': 204160144,\n",
    "                                                    'slots': ['CO', 'NO2', 'O3']\n",
    "                                                   },\n",
    "                                     'pm_sensor': 'PMS5003', \n",
    "                                     'location': 'Europe/London',\n",
    "                                     'frequency': '1Min',\n",
    "                                     'source': 'api'}))"
   ]
  },
  {
   "cell_type": "markdown",
   "metadata": {
    "Collapsed": "false"
   },
   "source": [
    "## Process the test"
   ]
  },
  {
   "cell_type": "code",
   "execution_count": null,
   "metadata": {
    "Collapsed": "false"
   },
   "outputs": [],
   "source": [
    "# Process the stuff\n",
    "newtest.update(details, list_devices)"
   ]
  },
  {
   "cell_type": "markdown",
   "metadata": {
    "Collapsed": "false"
   },
   "source": [
    "# Examples"
   ]
  },
  {
   "cell_type": "code",
   "execution_count": null,
   "metadata": {
    "Collapsed": "false"
   },
   "outputs": [],
   "source": [
    "# ----------------------------------\n",
    "# Example of csv device with new csv\n",
    "# ----------------------------------\n",
    "# device_wrapper({'name': device_name,\n",
    "#                 'type': 'KIT', \n",
    "#                 'version': '2.1', \n",
    "#                 'pm_sensor': 'PMS5003', \n",
    "#                 'location': 'Europe/London',\n",
    "#                 'frequency': '1Min',\n",
    "#                 'source': 'csv_new',\n",
    "#                 'fileNameRaw': device_name + '.csv', \n",
    "#                 'fileNameInfo': ''})\n",
    "# ----------------------------------\n",
    "# Example of device from API with alphasense data\n",
    "# ----------------------------------\n",
    "# device_wrapper({'device_id': device_name,\n",
    "#                 'type': 'STATION', \n",
    "#                 'version': '2.1', \n",
    "#                 'alphasense': {'CO': 162581708,\n",
    "#                                'NO2': 202160421,\n",
    "#                                'O3': 204160144,\n",
    "#                                'slots': ['CO', 'NO2', 'O3']\n",
    "#                               },\n",
    "#                 'pm_sensor': 'PMS5003', \n",
    "#                 'location': 'Europe/London',\n",
    "#                 'frequency': '1Min',\n",
    "#                 'source': 'api'})\n",
    "# ----------------------------------\n",
    "# Example of device from API in history\n",
    "# ----------------------------------\n",
    "# device_wrapper({'device_id': 5262,\n",
    "#                 'type': 'STATION', \n",
    "#                 'version': '2.1', \n",
    "#                 'device_history': '5262', \n",
    "#                 'pm_sensor': 'PMS5003', \n",
    "#                 'location': 'Europe/London',\n",
    "#                 'frequency': '1Min',\n",
    "#                 'source': 'api'})\n",
    "# ----------------------------------\n",
    "# Example of reference device\n",
    "# ----------------------------------\n",
    "# device_wrapper({'name': 'PARROT_3',\n",
    "#                 'type': 'REFERENCE', \n",
    "#                 'location': 'Europe/London',\n",
    "#                 'fileNameRaw': 'grow_parrot_u6dODj2Dnm1570629407808.csv', \n",
    "#                 'fileNameInfo': '',\n",
    "#                 'source': 'csv',\n",
    "#                 'equipment': 'PARROT_SENSOR',\n",
    "#                 'index': {'name' : 'Time','format' : '%Y-%m-%d %H:%M:%S', 'frequency' : '15Min'}, \n",
    "#                 'channels': {'pollutants' : ('air_temperature_celsius', 'battery_percent', 'calibrated_soil_moisture_percent', 'fertilizer_level', 'light', 'soil_moisture_percent', 'water_tank_level_percent'), \n",
    "#                            'units' : ('degC', '%', '%', '-', 'lux', '%', '%'),\n",
    "#                            'names' : ('TEMP', 'BATT', 'Cal Soil Moisture', 'Fertilizer', 'Soil Moisture', 'Water Level')\n",
    "#                               },\n",
    "#                 'location': 'Europe/Madrid'})"
   ]
  }
 ],
 "metadata": {
  "kernelspec": {
   "display_name": "Python 3",
   "language": "python",
   "name": "python3"
  },
  "language_info": {
   "codemirror_mode": {
    "name": "ipython",
    "version": 3
   },
   "file_extension": ".py",
   "mimetype": "text/x-python",
   "name": "python",
   "nbconvert_exporter": "python",
   "pygments_lexer": "ipython3",
   "version": "3.7.0"
  },
  "toc": {
   "nav_menu": {},
   "number_sections": true,
   "sideBar": true,
   "skip_h1_title": false,
   "title_cell": "Table of Contents",
   "title_sidebar": "Contents",
   "toc_cell": false,
   "toc_position": {
    "height": "calc(100% - 180px)",
    "left": "10px",
    "top": "150px",
    "width": "178px"
   },
   "toc_section_display": true,
   "toc_window_display": true
  }
 },
 "nbformat": 4,
 "nbformat_minor": 4
}
