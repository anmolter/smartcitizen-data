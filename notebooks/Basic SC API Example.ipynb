{
 "cells": [
  {
   "cell_type": "code",
   "execution_count": null,
   "metadata": {},
   "outputs": [],
   "source": [
    "import requests\n",
    "import pandas as pd"
   ]
  },
  {
   "cell_type": "code",
   "execution_count": null,
   "metadata": {},
   "outputs": [],
   "source": [
    "params = {'near': '2.215319,41.401108', 'within': 1000, 'per_page': 100}\n",
    "\n",
    "req = requests.get('https://api.smartcitizen.me/v0/devices', params=params).json()"
   ]
  },
  {
   "cell_type": "code",
   "execution_count": null,
   "metadata": {},
   "outputs": [],
   "source": [
    "devices = pd.DataFrame(req)\n",
    "devices['added_at'] = pd.to_datetime(devices['added_at'])\n",
    "devices['last_reading_at'] = pd.to_datetime(devices['last_reading_at'])\n",
    "devices.index = devices['id']\n",
    "\n",
    "print (devices)"
   ]
  }
 ],
 "metadata": {
  "kernelspec": {
   "display_name": "Python 3",
   "language": "python",
   "name": "python3"
  },
  "language_info": {
   "codemirror_mode": {
    "name": "ipython",
    "version": 3
   },
   "file_extension": ".py",
   "mimetype": "text/x-python",
   "name": "python",
   "nbconvert_exporter": "python",
   "pygments_lexer": "ipython3",
   "version": "3.6.5"
  }
 },
 "nbformat": 4,
 "nbformat_minor": 2
}
