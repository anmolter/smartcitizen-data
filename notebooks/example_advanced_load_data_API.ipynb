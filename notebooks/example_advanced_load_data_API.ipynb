{
 "cells": [
  {
   "cell_type": "markdown",
   "metadata": {
    "Collapsed": "false"
   },
   "source": [
    "# Load data, plot, and export\n",
    "This example will load data from the SmartCitizen API, do some plots, and export it in CSV format"
   ]
  },
  {
   "cell_type": "markdown",
   "metadata": {
    "Collapsed": "false"
   },
   "source": [
    "## Initialise framework"
   ]
  },
  {
   "cell_type": "code",
   "execution_count": null,
   "metadata": {
    "Collapsed": "false"
   },
   "outputs": [],
   "source": [
    "%load_ext autoreload\n",
    "%autoreload 2"
   ]
  },
  {
   "cell_type": "code",
   "execution_count": null,
   "metadata": {
    "Collapsed": "false"
   },
   "outputs": [],
   "source": [
    "import warnings                                  \n",
    "warnings.filterwarnings('ignore')\n",
    "from IPython.display import HTML, display, clear_output\n",
    "from ipywidgets import interact\n",
    "import ipywidgets as widgets\n",
    "\n",
    "from src.data.data import *\n",
    "data = data_wrapper()"
   ]
  },
  {
   "cell_type": "markdown",
   "metadata": {
    "Collapsed": "false"
   },
   "source": [
    "## Load data"
   ]
  },
  {
   "cell_type": "code",
   "execution_count": null,
   "metadata": {
    "Collapsed": "false"
   },
   "outputs": [],
   "source": [
    "# Here we give a name to the test that we will put the data in\n",
    "testname = 'PM_SENSOR_CHECK'\n",
    "# Here we define the list of sensor ids we want to download\n",
    "devices = ['10709', '10604', '10605', '10606', '10607', '10608', '10609', \n",
    "           '10610', '10611', '10612', '10613', '10614', '10616', '10617', \n",
    "           '10618', '10619', '10620', '10621', '10622', '10623', '10624', '10626', '10685']\n",
    "\n",
    "# Here we specify the different options for data load\n",
    "options = {'frequency': '1Min',\n",
    "            'min_date': None,\n",
    "            'max_date': None,\n",
    "            'clean_na': False,\n",
    "            'clean_na_method': None \n",
    "            }\n",
    "\n",
    "# Other example for options\n",
    "# options = {'frequency': '1Min',\n",
    "#             'min_date': '2019-01-20',\n",
    "#             'max_date': '2019-10-25',\n",
    "#             'clean_na': True, \n",
    "#             'clean_na_method': \"drop\" or \"fill\"\n",
    "#             }"
   ]
  },
  {
   "cell_type": "code",
   "execution_count": null,
   "metadata": {
    "Collapsed": "false"
   },
   "outputs": [],
   "source": [
    "# We load the data based on the input above\n",
    "data.load_devices_API(testname, devices, options = options)"
   ]
  },
  {
   "cell_type": "markdown",
   "metadata": {
    "Collapsed": "false"
   },
   "source": [
    "## Data structure\n",
    "Here we show how the data is structure in the data object.\n",
    "\n",
    "First the tests:"
   ]
  },
  {
   "cell_type": "code",
   "execution_count": null,
   "metadata": {
    "Collapsed": "false"
   },
   "outputs": [],
   "source": [
    "data.tests.keys()"
   ]
  },
  {
   "cell_type": "markdown",
   "metadata": {
    "Collapsed": "false"
   },
   "source": [
    "Then, the devices inside a test"
   ]
  },
  {
   "cell_type": "code",
   "execution_count": null,
   "metadata": {
    "Collapsed": "false"
   },
   "outputs": [],
   "source": [
    "data.tests[testname].devices.keys()"
   ]
  },
  {
   "cell_type": "markdown",
   "metadata": {
    "Collapsed": "false"
   },
   "source": [
    "Then the data inside the devices"
   ]
  },
  {
   "cell_type": "code",
   "execution_count": null,
   "metadata": {
    "Collapsed": "false"
   },
   "outputs": [],
   "source": [
    "data.tests[testname].devices[devices[0]].readings"
   ]
  },
  {
   "cell_type": "markdown",
   "metadata": {
    "Collapsed": "false"
   },
   "source": [
    "## Export data\n",
    "This will export the data in csv file format, in the specified path"
   ]
  },
  {
   "cell_type": "code",
   "execution_count": null,
   "metadata": {
    "Collapsed": "false"
   },
   "outputs": [],
   "source": [
    "testname = ''\n",
    "devicename = devices[0] # Example exporting only the first. We can iterate over devices with a for loop and export them all in separate CSV files\n",
    "data.export_data(testname, devicename, export_path = '/path/to/folder', all_channels = True, forced_overwrite = True)"
   ]
  },
  {
   "cell_type": "markdown",
   "metadata": {
    "Collapsed": "false",
    "toc-hr-collapsed": false
   },
   "source": [
    "## Explore data\n",
    "\n",
    "Make some plots about the data and export them - put a file name and the export path in the field"
   ]
  },
  {
   "cell_type": "code",
   "execution_count": null,
   "metadata": {
    "Collapsed": "false"
   },
   "outputs": [],
   "source": [
    "from src.visualization.visualization import plot_wrapper"
   ]
  },
  {
   "cell_type": "markdown",
   "metadata": {
    "Collapsed": "false"
   },
   "source": [
    "All the devices in the test with name `testname`:"
   ]
  },
  {
   "cell_type": "code",
   "execution_count": null,
   "metadata": {
    "Collapsed": "false"
   },
   "outputs": [],
   "source": [
    "plot_description = {\"plot_type\": \"timeseries\",\n",
    "                    \"plotting_library\": \"matplotlib\",\n",
    "                    \"data\": {\"test\": testname,\n",
    "                                    \"traces\": {\"1\": {\"device\": 'all',\n",
    "                                                    \"channel\" : \"EXT_PM_1\",\n",
    "                                                    \"subplot\": 1},\n",
    "                                              \"2\": {\"device\": 'all',\n",
    "                                                    \"channel\" : \"EXT_PM_25\",\n",
    "                                                    \"subplot\": 2},\n",
    "                                              \"3\": {\"device\": 'all',\n",
    "                                                    \"channel\" : \"EXT_PM_10\",\n",
    "                                                    \"subplot\": 3}}},\n",
    "                    \"options\": {\"show_plot\": True,\n",
    "                                \"export_path\": None, \n",
    "                                \"file_name\": None,\n",
    "                                \"frequency\": '3Min',\n",
    "                                \"clean_na\": False,\n",
    "                                \"clean_na_method\": '',\n",
    "                                \"max_date\": None,\n",
    "                                \"min_date\": None},\n",
    "                    \"formatting\": {\"xlabel\": \"Time (-)\",\n",
    "                                   \"ylabel\": {1: \"EXT_PM_1 (ug/m3)\", 2: \"EXT_PM_25 (ug/m3)\", 3: \"EXT_PM_10 (ug/m3)\"},\n",
    "                                   \"yrange\": {1: [0, 300], 2: [0, 300], 3: [0, 300]},\n",
    "                                   \"title\": \"PM Sensor tests\",\n",
    "                                   \"sharex\":True,\n",
    "                                   \"grid\": True,\n",
    "                                   \"height\": 20,\n",
    "                                   \"width\": 15,\n",
    "                                   \"style\": \"seaborn-whitegrid\"}\n",
    "                    }\n",
    "\n",
    "plot_object = plot_wrapper(plot_description, verbose = False)\n",
    "plot_object.plot(data)\n",
    "# Uncomment below to export the plot\n",
    "# plot_object.export_plot()"
   ]
  },
  {
   "cell_type": "markdown",
   "metadata": {
    "Collapsed": "false"
   },
   "source": [
    "Only one device, with different metrics:"
   ]
  },
  {
   "cell_type": "code",
   "execution_count": null,
   "metadata": {
    "Collapsed": "false"
   },
   "outputs": [],
   "source": [
    "plot_description = {\"plot_type\": \"timeseries\",\n",
    "                    \"plotting_library\": \"matplotlib\",\n",
    "                    \"data\": {\"test\": testname,\n",
    "                                    \"traces\": {\"1\": {\"device\": '10709',\n",
    "                                                    \"channel\" : \"EXT_PM_A_1\",\n",
    "                                                    \"subplot\": 1},\n",
    "                                              \"2\": {\"device\": '10709',\n",
    "                                                    \"channel\" : \"EXT_PM_A_25\",\n",
    "                                                    \"subplot\": 2},\n",
    "                                              \"3\": {\"device\": '10709',\n",
    "                                                    \"channel\" : \"EXT_PM_A_10\",\n",
    "                                                    \"subplot\": 3},\n",
    "                                              \"4\": {\"device\": '10709',\n",
    "                                                    \"channel\" : \"EXT_PM_B_1\",\n",
    "                                                    \"subplot\": 1},\n",
    "                                              \"5\": {\"device\": '10709',\n",
    "                                                    \"channel\" : \"EXT_PM_B_25\",\n",
    "                                                    \"subplot\": 2},\n",
    "                                              \"6\": {\"device\": '10709',\n",
    "                                                    \"channel\" : \"EXT_PM_B_10\",\n",
    "                                                    \"subplot\": 3}}},\n",
    "                    \"options\": {\"show_plot\": True,\n",
    "                                \"export_path\": None, \n",
    "                                \"file_name\": None,\n",
    "                                \"frequency\": '3Min',\n",
    "                                \"clean_na\": False,\n",
    "                                \"clean_na_method\": '',\n",
    "                                \"max_date\": None,\n",
    "                                \"min_date\": None},\n",
    "                    \"formatting\": {\"xlabel\": \"Time (-)\",\n",
    "                                   \"ylabel\": {1: \"EXT_PM_1 (ug/m3)\", 2: \"EXT_PM_25 (ug/m3)\", 3: \"EXT_PM_10 (ug/m3)\"},\n",
    "                                   \"yrange\": {1: [0, 300], 2: [0, 300], 3: [0, 300]},\n",
    "                                   \"title\": \"PM Sensor tests\",\n",
    "                                   \"sharex\":True,\n",
    "                                   \"grid\": True,\n",
    "                                   \"height\": 20,\n",
    "                                   \"width\": 15,\n",
    "                                   \"style\": \"seaborn-whitegrid\"}\n",
    "                    }\n",
    "\n",
    "plot_object = plot_wrapper(plot_description, False)\n",
    "plot_object.plot(data)\n",
    "# Uncomment below to export the plot\n",
    "# plot_object.export_plot()"
   ]
  }
 ],
 "metadata": {
  "celltoolbar": "Raw Cell Format",
  "kernelspec": {
   "display_name": "Python 3",
   "language": "python",
   "name": "python3"
  },
  "language_info": {
   "codemirror_mode": {
    "name": "ipython",
    "version": 3
   },
   "file_extension": ".py",
   "mimetype": "text/x-python",
   "name": "python",
   "nbconvert_exporter": "python",
   "pygments_lexer": "ipython3",
   "version": "3.7.0"
  },
  "toc": {
   "nav_menu": {
    "height": "357px",
    "width": "307px"
   },
   "number_sections": true,
   "sideBar": true,
   "skip_h1_title": false,
   "title_cell": "Table of Contents",
   "title_sidebar": "Contents",
   "toc_cell": true,
   "toc_position": {
    "height": "48px",
    "left": "552px",
    "top": "705.497px",
    "width": "315px"
   },
   "toc_section_display": true,
   "toc_window_display": true
  },
  "toc-autonumbering": false,
  "toc-showcode": false,
  "toc-showmarkdowntxt": false,
  "toc-showtags": false
 },
 "nbformat": 4,
 "nbformat_minor": 4
}
