{
 "cells": [
  {
   "cell_type": "code",
   "execution_count": 152,
   "metadata": {},
   "outputs": [],
   "source": [
    "import requests\n",
    "import pandas as pd\n",
    "from geopy.geocoders import Nominatim\n",
    "import pytz\n",
    "from datetime import datetime\n",
    "import numpy as np\n",
    "from IPython.display import display, clear_output, Markdown\n",
    "\n",
    "\n",
    "date = datetime(2018, 11, 1, 0, 0, 0, tzinfo=pytz.utc)\n",
    "#places = ['Bottrop, DE']\n",
    "places = ['Bottrop, DE', 'Vantaa, FI', 'Bologna, IT', 'Hasselt, BE', 'Surrey, UK']\n",
    "\n",
    "devices_api = 'https://api.smartcitizen.me/v0/devices/'"
   ]
  },
  {
   "cell_type": "code",
   "execution_count": 153,
   "metadata": {},
   "outputs": [],
   "source": [
    "def devices(place):\n",
    "\n",
    "    geolocator = Nominatim(user_agent=\"iSCAPE\")\n",
    "\n",
    "    location = geolocator.geocode(place)\n",
    "\n",
    "    location_str = str(location.latitude) + ',' + str(location.longitude)\n",
    "\n",
    "    params = {'near': location_str, 'within': '10000'}\n",
    "\n",
    "    req = requests.get(devices_api, params=params).json()\n",
    "    \n",
    "    # for item in req:\n",
    "    #     print item\n",
    "    devices = pd.DataFrame(req)\n",
    "    devices['iscape_site'] = place\n",
    "    devices['added_at'] = pd.to_datetime(devices['added_at'])\n",
    "    devices['last_reading_at'] = pd.to_datetime(devices['last_reading_at'])\n",
    "    devices = devices[devices['last_reading_at'] > date.isoformat()]\n",
    "    devices = devices[devices['added_at'] > date.isoformat()]\n",
    "\n",
    "    # Probably this could be done via list comprehension but it's clearer this way\n",
    "    # The problem comes with the dict within the pandas series, that it's not directly indexable from pandas (same sintax)\n",
    "    list_kits = list()\n",
    "    for item in devices.kit:\n",
    "        if item['id'] == 20: list_kits = devices[devices.kit == item].index\n",
    "    \n",
    "    # Filter devices\n",
    "    devices = devices.loc[list_kits]\n",
    "    \n",
    "    devices['total_readings'] = devices.apply(lambda row: readings(row), axis=1)\n",
    "    \n",
    "    devices['total_readings_days'] = devices.apply(lambda row: row['total_readings'] / (60.0*24.0), axis = 1)\n",
    "    devices['total_days_last_reading'] = devices.apply(lambda row: max(0, (row['last_reading_at'] - row['added_at']).days), axis=1)\n",
    "    devices['total_days_since_registered'] = devices.apply(lambda row: (datetime.now() - row['added_at']).days, axis=1)\n",
    "\n",
    "    devices['user_name'] = devices.apply(lambda row: row['owner']['username'], axis = 1)\n",
    "    \n",
    "    devices['ratio_readings_days'] = devices.apply(lambda row: ratio_days(row), axis = 1)\n",
    "    devices['id'] = devices['id'].astype(str)\n",
    "    return devices\n",
    "\n",
    "def ratio_days(row):\n",
    "    return row['total_readings_days'] / row['total_days_since_registered'] if row['total_days_since_registered'] else np.nan\n",
    "\n",
    "def readings(row):\n",
    "\n",
    "    params = {'from': date.isoformat(), 'to': datetime.now().isoformat(), 'rollup': '60s', 'sensor_id': 10 }\n",
    "\n",
    "    req = requests.get(devices_api + str(row['id']) + '/readings', params=params).json()\n",
    "\n",
    "    readings = req['readings']\n",
    "\n",
    "    total_readings = len(readings)\n",
    "\n",
    "    return total_readings"
   ]
  },
  {
   "cell_type": "code",
   "execution_count": null,
   "metadata": {},
   "outputs": [],
   "source": [
    "sites = []\n",
    "for place in places:\n",
    "    \n",
    "    sites.append(devices(place))\n",
    "    \n",
    "sites = pd.concat(sites)\n",
    "display(sites)   "
   ]
  },
  {
   "cell_type": "markdown",
   "metadata": {},
   "source": [
    "## Charts report for all sites"
   ]
  },
  {
   "cell_type": "code",
   "execution_count": null,
   "metadata": {
    "scrolled": false
   },
   "outputs": [],
   "source": [
    "import matplotlib.pyplot as plot\n",
    "% matplotlib inline\n",
    "\n",
    "gg = [x for _, x in sites.groupby('iscape_site')]\n",
    "\n",
    "for i in gg:\n",
    "    i = i[['id', 'iscape_site', 'ratio_readings_days', 'total_readings', 'total_readings_days', 'total_days_last_reading', 'total_days_since_registered']]\n",
    "    list_sites =  i['iscape_site'].values\n",
    "    fig, axes = plot.subplots(1, 3, figsize = (16,4))\n",
    "    axes[0].bar(i['id'], i ['total_readings'])\n",
    "    axes[0].set_ylabel('total_readings')\n",
    "    axes[0].grid(True)\n",
    "\n",
    "    axes[1].bar(i['id'], i['total_readings_days'])\n",
    "    axes[1].set_ylabel('total_readings_days')\n",
    "    axes[1].grid(True)\n",
    "\n",
    "    axes[2].bar(i['id'], i['ratio_readings_days'])\n",
    "    axes[2].set_ylabel('ratio_readings_days')\n",
    "    axes[2].set_ylim([0, 1])\n",
    "    axes[2].grid(True)\n",
    "    fig.suptitle(list_sites[0] + ' Metrics')\n",
    "    "
   ]
  },
  {
   "cell_type": "markdown",
   "metadata": {},
   "source": [
    "## Table report for all sites"
   ]
  },
  {
   "cell_type": "code",
   "execution_count": null,
   "metadata": {},
   "outputs": [],
   "source": [
    "clean_sites = sites.drop(['data', 'description','added_at','last_reading_at','kit', 'total_days_since_registered', 'total_days_last_reading','mac_address', 'owner', 'state', 'system_tags', 'user_tags', 'uuid', 'updated_at' ], axis=1)  \n",
    "    \n",
    "clean_sites = clean_sites.sort_values(['iscape_site', 'total_readings'], ascending=[True, False])\n",
    "\n",
    "clean_sites.index = clean_sites['id']\n",
    "\n",
    "clean_sites = clean_sites[['iscape_site', 'name', 'user_name', 'ratio_readings_days', 'total_readings']]\n",
    "\n",
    "clean_sites_print = clean_sites.copy()\n",
    "\n",
    "clean_sites_print['ratio_readings_days'] = pd.Series([\"{0:.2f}%\".format(val * 100) for val in clean_sites_print['ratio_readings_days']], index = clean_sites.index)    \n",
    "\n",
    "display(clean_sites_print)   "
   ]
  },
  {
   "cell_type": "code",
   "execution_count": null,
   "metadata": {},
   "outputs": [],
   "source": [
    "## Table report per site "
   ]
  },
  {
   "cell_type": "code",
   "execution_count": null,
   "metadata": {},
   "outputs": [],
   "source": [
    "gg = [x for _, x in sites.groupby('iscape_site')]\n",
    "\n",
    "for i in gg:\n",
    "    \n",
    "    clean_sites = i.drop(['data', 'description','added_at','last_reading_at','kit', 'total_days_last_reading','mac_address', 'owner', 'state', 'system_tags', 'user_tags', 'uuid', 'updated_at' ], axis=1)  \n",
    "    \n",
    "    clean_sites = clean_sites.sort_values(['iscape_site', 'total_readings'], ascending=[True, False])\n",
    "\n",
    "    clean_sites.index = clean_sites['id']\n",
    "\n",
    "    clean_sites = clean_sites[['iscape_site', 'name', 'user_name', 'total_days_since_registered', 'total_readings', 'ratio_readings_days']]\n",
    "    \n",
    "    clean_sites['ratio_readings_days'] = clean_sites.apply(lambda row: row['ratio_readings_days'] if row['ratio_readings_days'] <= 1 else 1, axis=1)\n",
    "    \n",
    "    clean_sites_print = clean_sites.copy()\n",
    "    \n",
    "    clean_sites_print['ratio_readings_days'] = pd.Series([\"{0:.2f}%\".format(val * 100) for val in clean_sites_print['ratio_readings_days']], index = clean_sites.index)    \n",
    "\n",
    "    ## This is temporary for Markdown output...\n",
    "    \n",
    "    print '## ' + clean_sites['iscape_site'][0]\n",
    "    print '\\n'\n",
    "    \n",
    "    clean_sites_print = clean_sites_print.drop(['iscape_site'], axis=1)  \n",
    "    \n",
    "    print tabulate(clean_sites_print, headers=\"keys\", tablefmt=\"html\")\n",
    "    \n",
    "    print '\\n'\n",
    "    print '\\n'"
   ]
  },
  {
   "cell_type": "code",
   "execution_count": null,
   "metadata": {},
   "outputs": [],
   "source": [
    "## Aggregated report for all sites"
   ]
  },
  {
   "cell_type": "code",
   "execution_count": null,
   "metadata": {},
   "outputs": [],
   "source": [
    "from tabulate import tabulate\n",
    "\n",
    "clean_sites = sites.drop(['data', 'description','added_at','last_reading_at','kit', 'total_days_last_reading','mac_address', 'owner', 'state', 'system_tags', 'user_tags', 'uuid', 'updated_at' ], axis=1)  \n",
    "    \n",
    "clean_sites = clean_sites.sort_values(['iscape_site', 'total_readings'], ascending=[True, False])\n",
    "\n",
    "clean_sites.index = clean_sites['id']\n",
    "\n",
    "clean_sites = clean_sites[['iscape_site', 'name', 'user_name', 'total_days_since_registered', 'total_readings', 'ratio_readings_days']]\n",
    "    \n",
    "clean_sites['ratio_readings_days'] = clean_sites.apply(lambda row: row['ratio_readings_days'] if row['ratio_readings_days'] <= 1 else 1, axis=1)\n",
    "    \n",
    "clean_sites_print = clean_sites.copy()\n",
    "    \n",
    "clean_sites_print['ratio_readings_days'] = pd.Series([\"{0:.2f}%\".format(val * 100) for val in clean_sites_print['ratio_readings_days']], index = clean_sites.index)    \n",
    "\n",
    "sites_total_records2 = clean_sites.groupby(['iscape_site'])['total_readings'].sum()\n",
    "\n",
    "sites_total_records3 = clean_sites.groupby(['iscape_site'])['ratio_readings_days'].mean()\n",
    "\n",
    "sites_total_records4 = clean_sites.groupby(['iscape_site'])['total_days_since_registered'].mean()\n",
    "\n",
    "sites_total_records2.plot.bar(x='Living Labs', y='Readings')\n",
    "\n",
    "sites_total_records5 = pd.concat([sites_total_records4, sites_total_records2, sites_total_records3], axis=1)\n",
    "\n",
    "sites_total_records5['total_days_since_registered'] = sites_total_records5['total_days_since_registered'].astype(int)\n",
    "\n",
    "sites_total_records5['ratio_readings_days'] = pd.Series([\"{0:.0f}%\".format(val * 100) for val in sites_total_records5['ratio_readings_days']], index = sites_total_records5.index)    \n",
    "\n",
    "sites_total_records5 = sites_total_records5.sort_values(['total_readings'], ascending=[False])\n",
    "\n",
    "display(sites_total_records5)\n",
    "\n",
    "print tabulate(sites_total_records5, ['Sites', 'Average Days registered', 'Total Sensor Readings', 'Average'], tablefmt=\"html\")\n",
    "\n"
   ]
  }
 ],
 "metadata": {
  "kernelspec": {
   "display_name": "Python 2",
   "language": "python",
   "name": "python2"
  },
  "language_info": {
   "codemirror_mode": {
    "name": "ipython",
    "version": 2
   },
   "file_extension": ".py",
   "mimetype": "text/x-python",
   "name": "python",
   "nbconvert_exporter": "python",
   "pygments_lexer": "ipython2",
   "version": "2.7.15"
  },
  "toc": {
   "nav_menu": {},
   "number_sections": true,
   "sideBar": true,
   "skip_h1_title": false,
   "title_cell": "Table of Contents",
   "title_sidebar": "Contents",
   "toc_cell": false,
   "toc_position": {},
   "toc_section_display": true,
   "toc_window_display": false
  }
 },
 "nbformat": 4,
 "nbformat_minor": 2
}
