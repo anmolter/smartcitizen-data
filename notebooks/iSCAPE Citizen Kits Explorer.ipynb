{
 "cells": [
  {
   "cell_type": "code",
   "execution_count": null,
   "metadata": {
    "collapsed": true
   },
   "outputs": [],
   "source": [
    "import requests\n",
    "import pandas as pd\n",
    "from geopy.geocoders import Nominatim\n",
    "import pytz\n",
    "from datetime import datetime\n",
    "import numpy as np\n",
    "from IPython.display import display, clear_output, Markdown\n",
    "\n",
    "\n",
    "date = datetime(2018, 11, 1, 0, 0, 0, tzinfo=pytz.utc)\n",
    "places = ['Bottrop, DE']\n",
    "#places = ['Bottrop, DE', 'Vantaa, FI', 'Bologna, IT', 'Hasselt, BE', 'Surrey, UK']\n",
    "\n",
    "devices_api = 'https://api.smartcitizen.me/v0/devices/'"
   ]
  },
  {
   "cell_type": "code",
   "execution_count": null,
   "metadata": {
    "collapsed": true
   },
   "outputs": [],
   "source": [
    "def devices(place):\n",
    "\n",
    "    geolocator = Nominatim(user_agent=\"iSCAPE\")\n",
    "\n",
    "    location = geolocator.geocode(place)\n",
    "\n",
    "    location_str = str(location.latitude) + ',' + str(location.longitude)\n",
    "\n",
    "    params = {'near': location_str, 'within': '10000'}\n",
    "\n",
    "    req = requests.get(devices_api, params=params).json()\n",
    "    \n",
    "    # for item in req:\n",
    "    #     print item\n",
    "    devices = pd.DataFrame(req)\n",
    "    devices['iscape_site'] = place\n",
    "    devices['last_reading_at'] = pd.to_datetime(devices['last_reading_at'])\n",
    "    devices = devices[devices['last_reading_at'] > date.isoformat()]\n",
    "    devices = devices[devices['added_at'] > date.isoformat()]\n",
    "    \n",
    "    # Just for the testing\n",
    "    devices.kit[0]['id'] = 21\n",
    "    devices.kit[3]['id'] = 19\n",
    "    \n",
    "    # If we are looking for the 20, it should give us everything but 0 and 3\n",
    "    # Probably this could be done via list comprehension but it's clearer this way\n",
    "    # The problem comes with the dict within the pandas series, that it's not directly indexable from pandas (same sintax)\n",
    "    list_kits = list()\n",
    "    for item in devices.kit:\n",
    "        if item['id'] == 20: list_kits = devices[devices.kit == item].index\n",
    "    \n",
    "    # Filter devices\n",
    "    devices = devices.loc[list_kits]\n",
    "\n",
    "    devices['total_readings'] = devices.apply(lambda row: readings(row), axis=1)\n",
    "\n",
    "    return devices\n",
    "\n",
    "def readings(row):\n",
    "\n",
    "    params = {'from': date.isoformat(), 'to': datetime.now().isoformat(), 'rollup': '60s', 'sensor_id': 10 }\n",
    "\n",
    "    req = requests.get(devices_api + str(row['id']) + '/readings', params=params).json()\n",
    "\n",
    "    readings = req['readings']\n",
    "\n",
    "    total_readings = len(readings)\n",
    "\n",
    "    return total_readings"
   ]
  },
  {
   "cell_type": "code",
   "execution_count": null,
   "metadata": {},
   "outputs": [],
   "source": [
    "## Remove lines 21-23 in the function devices (it's just an example)\n",
    "sites = []\n",
    "for place in places:\n",
    "    \n",
    "    sites.append(devices(place))\n",
    "    \n",
    "sites = pd.concat(sites)\n",
    "\n",
    "display(sites)   "
   ]
  },
  {
   "cell_type": "code",
   "execution_count": null,
   "metadata": {
    "collapsed": true
   },
   "outputs": [],
   "source": []
  }
 ],
 "metadata": {
  "kernelspec": {
   "display_name": "Python 2",
   "language": "python",
   "name": "python2"
  },
  "language_info": {
   "codemirror_mode": {
    "name": "ipython",
    "version": 2
   },
   "file_extension": ".py",
   "mimetype": "text/x-python",
   "name": "python",
   "nbconvert_exporter": "python",
   "pygments_lexer": "ipython2",
   "version": "2.7.14"
  },
  "toc": {
   "nav_menu": {},
   "number_sections": true,
   "sideBar": true,
   "skip_h1_title": false,
   "title_cell": "Table of Contents",
   "title_sidebar": "Contents",
   "toc_cell": false,
   "toc_position": {},
   "toc_section_display": true,
   "toc_window_display": false
  }
 },
 "nbformat": 4,
 "nbformat_minor": 2
}
