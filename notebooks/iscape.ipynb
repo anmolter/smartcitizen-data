{
 "cells": [
  {
   "cell_type": "markdown",
   "metadata": {
    "toc-hr-collapsed": false
   },
   "source": [
    "# iSCAPE Sensor Evaluation Campaign"
   ]
  },
  {
   "cell_type": "markdown",
   "metadata": {},
   "source": [
    "## Motivation\n",
    "\n",
    "Why we make the Sensor Evaluation Campaign."
   ]
  },
  {
   "cell_type": "markdown",
   "metadata": {},
   "source": [
    "## Test description\n",
    "\n",
    "How we proceeded with the tests. What locations we used, equipment, time ranges. What was initially expected and what we managed to get after that.\n",
    "Test data from:\n",
    "\n",
    "1. Dublin Jan 2018\n",
    "2. Bologna Aug 2018\n",
    "3. Dublin Nov 2018 - Aug 2019\n",
    "4. Vantaa Nov 2019\n",
    "5. Barcelona?"
   ]
  },
  {
   "cell_type": "markdown",
   "metadata": {},
   "source": [
    "## Data Modeling\n",
    "\n",
    "Chapter related to the data modeling aproach. Describe the data, how much data we managed to collect, how we processed it, amount of valid data with respect to total data."
   ]
  },
  {
   "cell_type": "markdown",
   "metadata": {
    "toc-hr-collapsed": true
   },
   "source": [
    "### Modeling approach\n",
    "\n",
    "The model we will use will be a combination of models from different locations, which has inputs from recent and not so recent data from sensors already deployed. We will use one ML technique (Random Forest) to determine which features are usable. Then, we will use this to feed a xgboost model and compare how the models are able to predict. The improvement of the xgboost aims to be able to extrapolate over the RF method."
   ]
  },
  {
   "cell_type": "markdown",
   "metadata": {},
   "source": [
    "#### Overview of modeling methods\n",
    "\n",
    "From traditional methods to other possibilities. Why and how we use machine learning and how we will use Random Forest and Gradient boosting techniques.\n",
    "Random forest will not be able to generalise out of the observed data, and, since we cannot test any possibility, we will use RF for:\n",
    "+ Identify features\n",
    "+ Understand partial dependence\n",
    "+ Evaluate if the co-location approach is sufficient\n",
    "\n",
    "Present the two approaches: \n",
    "1. Initial co-location and further testing on the same site without reference\n",
    "2. Co-location and model development for several locations. Create an ensemble model from all the gathered data. Find ways to normalise the data for model transferrability. Then, when new data from co-location comes in, use it for improving the model on the fly."
   ]
  },
  {
   "cell_type": "markdown",
   "metadata": {},
   "source": [
    "#### Physical modeling - baseline extraction\n",
    "\n",
    "Initial approach for data modeling. We use the physical sensor data from the stations to create a baseline and aim to normalize the sensor data. However, as seen in the Bologna dataset, the sensor data can be sometimes not valid due to high temperature gradients that unstabilise the EC. \n",
    "\n",
    "This approach is then used to review whether or not the sensors can be normalised with temperature or not."
   ]
  },
  {
   "cell_type": "markdown",
   "metadata": {},
   "source": [
    "#### Random Forest\n",
    "\n",
    "Explain the principles of a Random Forest. Explain how the algorithm makes it's predictions in a basic way and how it could be used to interpret the data further. "
   ]
  },
  {
   "cell_type": "markdown",
   "metadata": {},
   "source": [
    "#### Gradient Boosting"
   ]
  },
  {
   "cell_type": "markdown",
   "metadata": {},
   "source": [
    "Explain the principles of gradient boosting. Explain how can the boosting algorithm can be a good approach for sensor data, aiming to capture better sensor variability."
   ]
  },
  {
   "cell_type": "markdown",
   "metadata": {},
   "source": [
    "### Dataset description"
   ]
  },
  {
   "cell_type": "markdown",
   "metadata": {},
   "source": [
    "### Data preprocessing\n",
    "\n",
    "Explain how we pre-process the data. Explain if we smooth the data to avoid model misinterpretation due to confusing training data.\n",
    "Explain the baseline method, referencing the algorithm published by the people in alphasense."
   ]
  },
  {
   "cell_type": "markdown",
   "metadata": {},
   "source": [
    "### Feature analysis"
   ]
  },
  {
   "cell_type": "markdown",
   "metadata": {},
   "source": [
    "#### Feature importance"
   ]
  },
  {
   "cell_type": "markdown",
   "metadata": {},
   "source": [
    "#### Partial dependence of raw sensor data"
   ]
  },
  {
   "cell_type": "markdown",
   "metadata": {},
   "source": [
    "#### Random Forest first models"
   ]
  },
  {
   "cell_type": "markdown",
   "metadata": {},
   "source": [
    "### Regression with gradient boosting"
   ]
  },
  {
   "cell_type": "markdown",
   "metadata": {},
   "source": [
    "#### Analysis for each approach\n",
    "\n",
    "Describe which approach is better: the co-location or the recurrent model feed."
   ]
  }
 ],
 "metadata": {
  "kernelspec": {
   "display_name": "Python 3",
   "language": "python",
   "name": "python3"
  },
  "language_info": {
   "codemirror_mode": {
    "name": "ipython",
    "version": 3
   },
   "file_extension": ".py",
   "mimetype": "text/x-python",
   "name": "python",
   "nbconvert_exporter": "python",
   "pygments_lexer": "ipython3",
   "version": "3.7.0"
  },
  "toc-autonumbering": false,
  "toc-showtags": false
 },
 "nbformat": 4,
 "nbformat_minor": 4
}
