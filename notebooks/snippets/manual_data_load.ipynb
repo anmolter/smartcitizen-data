{
 "cells": [
  {
   "cell_type": "markdown",
   "metadata": {},
   "source": [
    "## Manual data load"
   ]
  },
  {
   "cell_type": "code",
   "execution_count": null,
   "metadata": {},
   "outputs": [],
   "source": [
    "# Load tests manually\n",
    "\n",
    "from os.path import join\n",
    "import os\n",
    "import pandas as pd\n",
    "\n",
    "folder = '/Deployments/KITS/05_6_pack/'\n",
    "\n",
    "name_reading = 'DISPERSION'\n",
    "\n",
    "for root, dirs, files in os.walk(folder):\n",
    "    print 'Loading files in', folder\n",
    "    for _file in files:\n",
    "        if _file.endswith(\".CSV\") or _file.endswith(\".csv\"):\n",
    "            print _file\n",
    "            name = _file[:_file.find('.')]\n",
    "            dataframe = pd.read_csv(join(folder, _file), skiprows=range(1,4)).set_index('Time')\n",
    "            dataframe.index = pd.to_datetime(dataframe.index).tz_localize('UTC').tz_convert('Europe/Madrid')\n",
    "            # dataframe.index = pd.to_datetime(dataframe.index).tz_convert('Europe/Madrid')\n",
    "            dataframe.index.rename('Time', inplace = True)\n",
    "            dataframe.index.strftime('%Y-%m-%dT%H%M%SZ')\n",
    "            dataframe.sort_index(inplace=True)\n",
    "            \n",
    "            # Remove duplicates from index\n",
    "            dataframe = dataframe[~dataframe.index.duplicated(keep='first')]\n",
    "            \n",
    "            dataframe = dataframe.apply(pd.to_numeric,errors='coerce')     \n",
    "            dataframe.fillna(0)\n",
    "            \n",
    "            records.readings[name_reading]['devices'][name] = dict()\n",
    "            records.readings[name_reading]['devices'][name]['data'] = dataframe"
   ]
  }
 ],
 "metadata": {
  "kernelspec": {
   "display_name": "Python 3",
   "language": "python",
   "name": "python3"
  },
  "language_info": {
   "codemirror_mode": {
    "name": "ipython",
    "version": 3
   },
   "file_extension": ".py",
   "mimetype": "text/x-python",
   "name": "python",
   "nbconvert_exporter": "python",
   "pygments_lexer": "ipython3",
   "version": "3.7.0"
  }
 },
 "nbformat": 4,
 "nbformat_minor": 4
}
