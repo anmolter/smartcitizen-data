{
 "cells": [
  {
   "cell_type": "markdown",
   "metadata": {},
   "source": [
    "# Notebook init"
   ]
  },
  {
   "cell_type": "code",
   "execution_count": 1,
   "metadata": {},
   "outputs": [
    {
     "name": "stdout",
     "output_type": "stream",
     "text": [
      "Enabling notebook extension jupyter-js-widgets/extension...\r\n",
      "      - Validating: \u001b[32mOK\u001b[0m\r\n"
     ]
    },
    {
     "data": {
      "text/html": [
       "\n",
       "    <script>\n",
       "    code_show=true; \n",
       "    function code_toggle() {\n",
       "        if (code_show){\n",
       "            $('div.input').show();\n",
       "        } else {\n",
       "            $('div.input').hide();\n",
       "        }\n",
       "        code_show = !code_show\n",
       "    } \n",
       "    $( document ).ready(code_toggle);\n",
       "    </script>\n",
       "    \n",
       "The raw code for this IPython notebook is by default hidden for easier reading.\n",
       "To toggle on/off the raw code, click <a href=\"javascript:code_toggle()\">here</a>."
      ],
      "text/plain": [
       "<IPython.core.display.HTML object>"
      ]
     },
     "execution_count": 1,
     "metadata": {},
     "output_type": "execute_result"
    }
   ],
   "source": [
    "from os import getcwd, pardir\n",
    "from os.path import join, abspath\n",
    "\n",
    "# ! pip install jupyter_nbextensions_configurator jupyter_contrib_nbextensions\n",
    "# ! jupyter contrib nbextension install\n",
    "# ! jupyter nbextension install --py fileupload \n",
    "# ! jupyter nbextension enable --py fileupload\n",
    "# ! jupyter nbextension install --py widgetsnbextension \n",
    "# ! jupyter nbextension enable --py widgetsnbextension\n",
    "# ! jupyter nbextensions_configurator enable\n",
    "# ! jupyter nbextension enable codefolding/main\n",
    "# ! jupyter nbextension enable toc2/main\n",
    "\n",
    "! jupyter nbextension enable --py --sys-prefix widgetsnbextension\n",
    "# init_notebook_mode(connected=True)\n",
    "\n",
    "## Get Root Directory\n",
    "rootDirectory = abspath(join(abspath(join(getcwd(), pardir)), pardir))\n",
    "\n",
    "# `do not disturb` mode\n",
    "import warnings                                  \n",
    "warnings.filterwarnings('ignore')\n",
    "\n",
    "## Create a button that hides cells\n",
    "from IPython.display import HTML\n",
    "\n",
    "HTML(\n",
    "    '''\n",
    "    <script>\n",
    "    code_show=true; \n",
    "    function code_toggle() {\n",
    "        if (code_show){\n",
    "            $('div.input').show();\n",
    "        } else {\n",
    "            $('div.input').hide();\n",
    "        }\n",
    "        code_show = !code_show\n",
    "    } \n",
    "    $( document ).ready(code_toggle);\n",
    "    </script>\n",
    "    \n",
    "The raw code for this IPython notebook is by default hidden for easier reading.\n",
    "To toggle on/off the raw code, click <a href=\"javascript:code_toggle()\">here</a>.''')"
   ]
  },
  {
   "cell_type": "markdown",
   "metadata": {},
   "source": [
    "# Data Load"
   ]
  },
  {
   "cell_type": "markdown",
   "metadata": {},
   "source": [
    "## Normal load"
   ]
  },
  {
   "cell_type": "code",
   "execution_count": null,
   "metadata": {
    "collapsed": true
   },
   "outputs": [],
   "source": [
    "from test_utils import *\n",
    "\n",
    "testsDir = join(rootDirectory, 'smartcitizen-iscape-tests')\n",
    "\n",
    "def loadButton(b):\n",
    "    frequency = frequency_text.value + frequency_drop.value\n",
    "    readings_selected = loadTest(frequency)\n",
    "    \n",
    "    for key in readings_selected.keys():\n",
    "        try:\n",
    "            readings[key] = dict()\n",
    "            readings[key] = readings_selected[key]\n",
    "        except NameError:\n",
    "            global readings\n",
    "            readings = dict()\n",
    "            readings[key] = readings_selected[key]\n",
    "    \n",
    "\n",
    "def clearButton(b):\n",
    "    \n",
    "    global readings\n",
    "    clearTests()\n",
    "    readings = {}\n",
    "\n",
    "display(widgets.HTML('<hr><h4>Import Local Tests</h4>'))\n",
    "\n",
    "tests = getTests(testsDir)\n",
    "interact(selectTests,\n",
    "         x = widgets.SelectMultiple(options=tests, \n",
    "                           selected_labels = selectedTests, \n",
    "                           layout=widgets.Layout(width='700px')))\n",
    "\n",
    "loadB = widgets.Button(description='Load Local Tests')\n",
    "loadB.on_click(loadButton)\n",
    "\n",
    "frequency_text = widgets.Text(description = 'Frequency',\n",
    "                              value = '1',\n",
    "                              layout = widgets.Layout(width='300px'))\n",
    "frequency_drop = widgets.Dropdown(options = ['H', 'Min', 'S'],\n",
    "                                  value = 'Min',\n",
    "                                  description = '',\n",
    "                                  layout = widgets.Layout(width='100px'))\n",
    "\n",
    "frequency_box = widgets.HBox([frequency_text, frequency_drop])\n",
    "\n",
    "resetB = widgets.Button(description='Clear Tests')\n",
    "resetB.on_click(clearButton)\n",
    "\n",
    "buttonBox = widgets.HBox([loadB, resetB])\n",
    "totalBox = widgets.VBox([frequency_box, buttonBox])\n",
    "display(totalBox)"
   ]
  },
  {
   "cell_type": "markdown",
   "metadata": {},
   "source": [
    "## Manual load"
   ]
  },
  {
   "cell_type": "code",
   "execution_count": null,
   "metadata": {
    "collapsed": true
   },
   "outputs": [],
   "source": [
    "folder = ''\n",
    "\n",
    "name_reading = 'DISPERSION'\n",
    "readings = dict()\n",
    "readings[name_reading] = dict()\n",
    "readings[name_reading]['devices'] = dict()"
   ]
  },
  {
   "cell_type": "markdown",
   "metadata": {},
   "source": [
    "# Load metrics"
   ]
  },
  {
   "cell_type": "markdown",
   "metadata": {},
   "source": [
    "## Calculate them"
   ]
  },
  {
   "cell_type": "code",
   "execution_count": null,
   "metadata": {
    "collapsed": true
   },
   "outputs": [],
   "source": [
    "from os import getcwd, walk\n",
    "from os.path import join\n",
    "import pandas as pd\n",
    "\n",
    "devices = dict()\n",
    "for root, dirs, files in walk(folder):\n",
    "    for _file in files:\n",
    "        if _file.endswith(\".csv\"):\n",
    "            ocur = _file.find('.')\n",
    "            readings_name = _file[:ocur]\n",
    "            readings[name_reading]['devices'][readings_name] = dict()\n",
    "            \n",
    "            # Create pandas dataframe\n",
    "            df = pd.read_csv(join(folder,_file), verbose=False).set_index('Unnamed: 0')\n",
    "\n",
    "            df.index.rename('Time', inplace = True)\n",
    "            df.index = pd.to_datetime(df.index).tz_localize('UTC')\n",
    "        \n",
    "            df.sort_index(inplace=True)\n",
    "            df = df.apply(pd.to_numeric,errors='coerce')            \n",
    "            df.fillna(0)\n",
    "            max_date = df.index[-1]            \n",
    "            readings[name_reading]['devices'][readings_name]['data'] = df\n",
    "            \n",
    "list_channels = list()\n",
    "\n",
    "# Get list of devices\n",
    "list_devices = list(readings[dispersion_test]['devices'].keys())\n",
    "# Init list of common channels\n",
    "list_channels = readings[dispersion_test]['devices'][list_devices[0]]['data'].columns\n",
    "\n",
    "# Extract list of common channels\n",
    "for device in readings[dispersion_test]['devices']:\n",
    "    list_channels = list(set(list_channels) & set(readings[dispersion_test]['devices'][device]['data'].columns))\n",
    "\n",
    "print(list_channels)         \n",
    "            \n",
    "dispersion_df = pd.DataFrame()\n",
    "\n",
    "for channel in list_channels:\n",
    "    list_columns = list()\n",
    "    fig, (ax1, ax2) = plot.subplots(nrows = 2, figsize= (15,10))\n",
    "    for device in list_devices:\n",
    "        \n",
    "        dispersion_df[channel + '-' + device] = readings[dispersion_test]['devices'][device]['data'].loc[:,channel].astype('float64')\n",
    "        list_columns.append(channel + '-' + device)\n",
    "\n",
    "    # Calculate Metrics\n",
    "    dispersion_df[channel + '_STD'] = dispersion_df.loc[:,list_columns].std(skipna=True, axis = 1)\n",
    "    dispersion_global = dispersion_df[channel + '_STD'].mean()\n",
    "    print channel, dispersion_global"
   ]
  },
  {
   "cell_type": "markdown",
   "metadata": {},
   "source": [
    "## Load history"
   ]
  },
  {
   "cell_type": "code",
   "execution_count": 2,
   "metadata": {
    "collapsed": true
   },
   "outputs": [],
   "source": [
    "## Channel, dev, sigma\n",
    "dispersion_history = (['NOISE_A', 2.33323416585, 5],\n",
    "                      ['TEMP', 0.402864267636, 5],\n",
    "                      ['HUM', 1.49624685732, 5],\n",
    "                      ['PM_1', 1.35653211631, 5],\n",
    "                      ['PM_10', 2.3327409954, 5],\n",
    "                      ['PM_25', 1.94100236525, 5],\n",
    "                      ['PRESS', 0.0490177780217, 3])"
   ]
  },
  {
   "cell_type": "markdown",
   "metadata": {},
   "source": [
    "# Extract faulty devices"
   ]
  },
  {
   "cell_type": "code",
   "execution_count": null,
   "metadata": {
    "collapsed": true
   },
   "outputs": [],
   "source": [
    "import numpy as np\n",
    "import matplotlib.pyplot as plot\n",
    "\n",
    "dispersion_test = 'DISPERSION'\n",
    "\n",
    "list_channels = list()\n",
    "\n",
    "# Get list of devices\n",
    "list_devices = list(readings[dispersion_test]['devices'].keys())\n",
    "# Init list of common channels\n",
    "list_channels = readings[dispersion_test]['devices'][list_devices[0]]['data'].columns\n",
    "\n",
    "# Extract list of common channels\n",
    "for device in readings[dispersion_test]['devices']:\n",
    "    list_channels = list(set(list_channels) & set(readings[dispersion_test]['devices'][device]['data'].columns))\n",
    "\n",
    "if 'BATT' in list_channels: list_channels.remove('BATT')\n",
    "if 'LIGHT' in list_channels: list_channels.remove('LIGHT')\n",
    "\n",
    "print(list_channels)\n",
    "\n",
    "dispersion_df = pd.DataFrame()\n",
    "\n",
    "for channel in list_channels:\n",
    "    list_columns = list()\n",
    "    fig, (ax1, ax2) = plot.subplots(nrows = 2, figsize= (15,10))\n",
    "    for device in list_devices:\n",
    "        \n",
    "        dispersion_df[channel + '-' + device] = readings[dispersion_test]['devices'][device]['data'].loc[:,channel].astype('float64')\n",
    "        list_columns.append(channel + '-' + device)\n",
    "\n",
    "    # Calculate Metrics\n",
    "    # dispersion_df = dispersion_df.apply(pd.to_numeric, errors='coerce') \n",
    "    dispersion_df[channel + '_AVG'] = dispersion_df.loc[:,list_columns].mean(skipna=True, axis = 1)\n",
    "    dispersion_df[channel + '_STD'] = dispersion_df.loc[:,list_columns].std(skipna=True, axis = 1)\n",
    "    \n",
    "    dispersion_global = 0\n",
    "    limit_confidence_sigma = 0\n",
    "    for item in dispersion_history:\n",
    "        if channel == item[0]:\n",
    "            dispersion_global = item[1]\n",
    "            limit_confidence_sigma = item[2]\n",
    "    \n",
    "    dispersion_df[channel + '_MAX'] = dispersion_df.loc[:,list_columns].max(skipna=True, axis = 1)\n",
    "    dispersion_df[channel + '_MIN'] = dispersion_df.loc[:,list_columns].min(skipna=True, axis = 1)\n",
    "    \n",
    "    upper_bound = dispersion_df[channel + '_AVG'] + limit_confidence_sigma*dispersion_df[channel + '_STD']\n",
    "    lower_bound = dispersion_df[channel + '_AVG'] - limit_confidence_sigma*dispersion_df[channel + '_STD']\n",
    "    \n",
    "    upper_bound2 = dispersion_df[channel + '_AVG'] + limit_confidence_sigma*dispersion_global\n",
    "    lower_bound2 = dispersion_df[channel + '_AVG'] - limit_confidence_sigma*dispersion_global\n",
    "    \n",
    "    for device in list_devices:\n",
    "        \n",
    "        if any(dispersion_df[channel + '-' + device] > upper_bound2) or any(dispersion_df[channel + '-' + device] < lower_bound2):\n",
    "            alpha = 0.3\n",
    "            color = 'r'\n",
    "            ax1.plot(dispersion_df.index, dispersion_df[channel + '-' + device], color = color, label = device, alpha = alpha)\n",
    "\n",
    "        else:\n",
    "            alpha = 0.1\n",
    "            color = 'g'\n",
    "            ax2.plot(dispersion_df.index, dispersion_df[channel + '-' + device], color = color, label = device, alpha = alpha)\n",
    "\n",
    "    ax1.plot(dispersion_df.index, dispersion_df[channel + '_AVG'],'b', label = 'Average', alpha = 0.9)\n",
    "    ax1.plot(dispersion_df.index, upper_bound, 'k', label = 'Upper-Bound', alpha = 0.2)\n",
    "    ax1.plot(dispersion_df.index, lower_bound, 'k',label = 'Lower-Bound', alpha = 0.2)\n",
    "    \n",
    "    ax1.plot(dispersion_df.index, upper_bound2, 'b', label = 'Upper-Bound2', alpha = 0.2)\n",
    "    ax1.plot(dispersion_df.index, lower_bound2, 'b',label = 'Lower-Bound2', alpha = 0.2)\n",
    "    ax1.legend(loc='best', ncol = 10)\n",
    "    ax1.grid(True)\n",
    "    ax1.set_ylabel(channel + ' TBR')\n",
    "    ax1.set_xlabel('Time')\n",
    "    \n",
    "    ax2.plot(dispersion_df.index, dispersion_df[channel + '_AVG'],'b', label = 'Average', alpha = 0.9)\n",
    "    ax2.plot(dispersion_df.index, upper_bound, 'k', label = 'Upper-Bound', alpha = 0.4)\n",
    "    ax2.plot(dispersion_df.index, lower_bound, 'k',label = 'Lower-Bound', alpha = 0.4)\n",
    "\n",
    "    ax2.plot(dispersion_df.index, upper_bound2, 'b', label = 'Upper-Bound2', alpha = 0.2)\n",
    "    ax2.plot(dispersion_df.index, lower_bound2, 'b',label = 'Lower-Bound2', alpha = 0.2)\n",
    "    ax2.legend(loc='best', ncol = 10)\n",
    "    ax2.grid(True)\n",
    "    ax2.set_ylabel(channel + ' OK')\n",
    "    ax2.set_xlabel('Time')\n",
    "    \n",
    "plot.show()"
   ]
  }
 ],
 "metadata": {
  "kernelspec": {
   "display_name": "Python 2",
   "language": "python",
   "name": "python2"
  },
  "language_info": {
   "codemirror_mode": {
    "name": "ipython",
    "version": 2
   },
   "file_extension": ".py",
   "mimetype": "text/x-python",
   "name": "python",
   "nbconvert_exporter": "python",
   "pygments_lexer": "ipython2",
   "version": "2.7.14"
  },
  "toc": {
   "nav_menu": {},
   "number_sections": true,
   "sideBar": true,
   "skip_h1_title": false,
   "title_cell": "Table of Contents",
   "title_sidebar": "Contents",
   "toc_cell": false,
   "toc_position": {},
   "toc_section_display": true,
   "toc_window_display": false
  }
 },
 "nbformat": 4,
 "nbformat_minor": 2
}
