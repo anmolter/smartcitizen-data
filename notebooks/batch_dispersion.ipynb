{
 "cells": [
  {
   "cell_type": "markdown",
   "metadata": {},
   "source": [
    "# Batch dispersion analysis"
   ]
  },
  {
   "cell_type": "markdown",
   "metadata": {},
   "source": [
    "## Notebook init"
   ]
  },
  {
   "cell_type": "code",
   "execution_count": null,
   "metadata": {},
   "outputs": [],
   "source": [
    "%run src_ipynb/init.ipynb"
   ]
  },
  {
   "cell_type": "markdown",
   "metadata": {},
   "source": [
    "## Data Load"
   ]
  },
  {
   "cell_type": "markdown",
   "metadata": {},
   "source": [
    "### Normal data load"
   ]
  },
  {
   "cell_type": "code",
   "execution_count": null,
   "metadata": {},
   "outputs": [],
   "source": [
    "%run src_ipynb/load_data.ipynb"
   ]
  },
  {
   "cell_type": "markdown",
   "metadata": {},
   "source": [
    "### Manual data load"
   ]
  },
  {
   "cell_type": "code",
   "execution_count": null,
   "metadata": {},
   "outputs": [],
   "source": [
    "# Load tests manually\n",
    "\n",
    "from os.path import join\n",
    "import os\n",
    "import pandas as pd\n",
    "\n",
    "folder = '/Users/macoscar/Documents/04_Projects/02_FabLab/01_SmartCitizen/04_Development/iScape/02_Deployments/KITS/05_6_pack/'\n",
    "\n",
    "name_reading = 'DISPERSION'\n",
    "\n",
    "for root, dirs, files in os.walk(folder):\n",
    "    print 'Loading files in', folder\n",
    "    for _file in files:\n",
    "        if _file.endswith(\".CSV\") or _file.endswith(\".csv\"):\n",
    "            print _file\n",
    "            name = _file[:_file.find('.')]\n",
    "            dataframe = pd.read_csv(join(folder, _file), skiprows=range(1,4)).set_index('Time')\n",
    "            dataframe.index = pd.to_datetime(dataframe.index).tz_localize('UTC').tz_convert('Europe/Madrid')\n",
    "            dataframe.index.rename('Time', inplace = True)\n",
    "            dataframe.index.strftime('%Y-%m-%dT%H%M%SZ')\n",
    "            dataframe.sort_index(inplace=True)\n",
    "            \n",
    "            # Remove duplicates from index\n",
    "            dataframe = dataframe[~dataframe.index.duplicated(keep='first')]\n",
    "            \n",
    "            dataframe = dataframe.apply(pd.to_numeric,errors='coerce')     \n",
    "            dataframe.fillna(0)\n",
    "            \n",
    "            records.readings[name_reading]['devices'][name] = dict()\n",
    "            records.readings[name_reading]['devices'][name]['data'] = dataframe"
   ]
  },
  {
   "cell_type": "markdown",
   "metadata": {},
   "source": [
    "## Input options"
   ]
  },
  {
   "cell_type": "code",
   "execution_count": null,
   "metadata": {},
   "outputs": [],
   "source": [
    "import pandas as pd\n",
    "\n",
    "# INPUT DATA\n",
    "dispersion_test = '2019-06_INT_MUV_CORRELATION_TEST_STATION_21_CSIC'\n",
    "limit = 10 # number_of_measurements/limit to be considered NG sensor\n",
    "save_path = '/Users/macoscar/Documents/04_Projects/02_FabLab/01_SmartCitizen/01_Repositories/DataAnalysis/smartcitizen-iscape-data/data/export/figs'\n",
    "type_file = 'nada' # 'png' or 'fig' or 'nada'\n",
    "limit = 10 # number_of_measurements/limit to be considered NG sensor\n",
    "min_date = pd.to_datetime('2019-07-02 13:00:00')\n",
    "max_date = None\n",
    "# ----------   "
   ]
  },
  {
   "cell_type": "markdown",
   "metadata": {},
   "source": [
    "## Get list of common channels"
   ]
  },
  {
   "cell_type": "code",
   "execution_count": null,
   "metadata": {},
   "outputs": [],
   "source": [
    "# Get list of common channels\n",
    "\n",
    "from os import getcwd, walk\n",
    "from os.path import join\n",
    "import pandas as pd\n",
    "\n",
    "# List Readings list\n",
    "print (records.readings[dispersion_test]['devices'].keys())\n",
    "            \n",
    "list_channels = list()\n",
    "# Get list of devices\n",
    "list_devices = list(records.readings[dispersion_test]['devices'].keys())\n",
    "# Init list of common channels\n",
    "list_channels = records.readings[dispersion_test]['devices'][list_devices[0]]['data'].columns\n",
    "# Extract list of common channels\n",
    "\n",
    "for device in records.readings[dispersion_test]['devices']:\n",
    "    list_channels = list(set(list_channels) & set(records.readings[dispersion_test]['devices'][device]['data'].columns))\n",
    "    # print(list_channels)         \n",
    "\n",
    "print(list_channels)\n",
    "\n",
    "if min_date != None: min_date = min_date.tz_localize('UTC').tz_convert('Europe/Madrid')\n",
    "if max_date != None: max_date = max_date.tz_localize('UTC').tz_convert('Europe/Madrid')"
   ]
  },
  {
   "cell_type": "markdown",
   "metadata": {},
   "source": [
    "## Dispersion analysis"
   ]
  },
  {
   "cell_type": "markdown",
   "metadata": {},
   "source": [
    "### Dataset analysis"
   ]
  },
  {
   "cell_type": "code",
   "execution_count": null,
   "metadata": {
    "scrolled": true
   },
   "outputs": [],
   "source": [
    "# Calculate the dispersion for the sensors present in the dataset\n",
    "dispersion_df = pd.DataFrame()\n",
    "dispersion_history = list()\n",
    "\n",
    "print ('SENSOR DISPERSION')\n",
    "for channel in list_channels:\n",
    "    list_columns = list()\n",
    "    for device in list_devices:\n",
    "        \n",
    "        dispersion_df[channel + '-' + device] = records.readings[dispersion_test]['devices'][device]['data'].loc[:,channel].astype('float64')\n",
    "        list_columns.append(channel + '-' + device)\n",
    "        # Trim dataset to min and max dates (normally these tests are carried out with _minutes_ of differences)\n",
    "        if min_date != None: dispersion_df = dispersion_df[dispersion_df.index > min_date]\n",
    "        if max_date != None: dispersion_df = dispersion_df[dispersion_df.index < max_date]\n",
    "    \n",
    "    # Calculate Metrics\n",
    "    dispersion_df[channel + '_STD'] = dispersion_df.loc[:,list_columns].std(skipna=True, axis = 1)\n",
    "    dispersion_global = dispersion_df[channel + '_STD'].mean()\n",
    "    print (dispersion_df.index[0], dispersion_df.index[-1], channel, dispersion_global)\n",
    "    dispersion_history.append([channel, dispersion_global, 1.5])\n",
    "\n",
    "dispersion_history = tuple(dispersion_history)"
   ]
  },
  {
   "cell_type": "markdown",
   "metadata": {},
   "source": [
    "### Historic data \n",
    "For low amount of kits (<15)"
   ]
  },
  {
   "cell_type": "code",
   "execution_count": null,
   "metadata": {},
   "outputs": [],
   "source": [
    "## Channel, dev, sigma\n",
    "dispersion_history = (['NOISE_A', 1.4985941320690142, 3],\n",
    "                      ['TEMP', 0.402864267636, 3],\n",
    "                      ['HUM', 1.093261343673646, 3],\n",
    "                      ['PM_1', 1.0993547541085011, 3],\n",
    "                      ['PM_10', 1.8032029938488807, 3],\n",
    "                      ['PM_25', 1.5317464142148285, 3],                      \n",
    "                      ['EXT_PM_1', 1.0993547541085011, 3],\n",
    "                      ['EXT_PM_10', 1.8032029938488807, 3],\n",
    "                      ['EXT_PM_25', 1.5317464142148285, 3],\n",
    "                      ['PRESS', 0.09164764646778648, 3],\n",
    "                      ['LIGHT', 4.296821068348175, 3],\n",
    "                      ['CCS811_VOCS', 2.4695145652624584, 3],\n",
    "                      ['CCS811_ECO2', 18.211133488940373, 3])"
   ]
  },
  {
   "cell_type": "code",
   "execution_count": null,
   "metadata": {},
   "outputs": [],
   "source": [
    "for device in list_devices:\n",
    "    print ('Device {} number of points {}'.format(device, len(records.readings[dispersion_test]['devices'][device]['data'].index)))\n",
    "    if (len(records.readings[dispersion_test]['devices'][device]['data'].index) == 0):\n",
    "        records.readings[dispersion_test]['devices'].pop(device)"
   ]
  },
  {
   "cell_type": "markdown",
   "metadata": {},
   "source": [
    "# Extract faulty devices"
   ]
  },
  {
   "cell_type": "code",
   "execution_count": null,
   "metadata": {
    "scrolled": false
   },
   "outputs": [],
   "source": [
    "import numpy as np\n",
    "import pandas as pd\n",
    "import matplotlib.pyplot as plot\n",
    "import pickle\n",
    "\n",
    "# Get list of devices\n",
    "list_channels = list()\n",
    "list_devices = list(records.readings[dispersion_test]['devices'].keys())\n",
    "\n",
    "# Init list of common channels\n",
    "list_channels = records.readings[dispersion_test]['devices'][list_devices[0]]['data'].columns\n",
    "\n",
    "# Extract list of common channels\n",
    "for device in records.readings[dispersion_test]['devices']:\n",
    "    list_channels = list(set(list_channels) & set(records.readings[dispersion_test]['devices'][device]['data'].columns))\n",
    "    #min_date = max(records.readings[dispersion_test]['devices'][device]['data'].index[0], min_date)\n",
    "    #max_date = min(records.readings[dispersion_test]['devices'][device]['data'].index[-1], max_date)\n",
    "\n",
    "print ('Min - Max Date')\n",
    "print (min_date, max_date)\n",
    "if 'BATT' in list_channels: list_channels.remove('BATT')\n",
    "# if 'LIGHT' in list_channels: list_channels.remove('LIGHT')\n",
    "\n",
    "print(list_channels)\n",
    "\n",
    "dispersion_df = pd.DataFrame()\n",
    "\n",
    "for channel in list_channels:\n",
    "    list_columns = list()\n",
    "    fig, (ax1, ax2) = plot.subplots(nrows = 2, figsize= (15,10))\n",
    "    for device in list_devices:\n",
    "        # Important to resample and bfill for unmatching measures\n",
    "        dispersion_df[channel + '-' + device] = records.readings[dispersion_test]['devices'][device]['data'][channel].resample('1Min').bfill()\n",
    "        list_columns.append(channel + '-' + device)\n",
    "    \n",
    "    \n",
    "    # Trim dataset to min and max dates (normally these tests are carried out with _minutes_ of differences)\n",
    "    if min_date != None: dispersion_df = dispersion_df[dispersion_df.index > min_date]\n",
    "    if max_date != None: dispersion_df = dispersion_df[dispersion_df.index < max_date]\n",
    "    \n",
    "    # Calculate Metrics\n",
    "    dispersion_df[channel + '_AVG'] = dispersion_df.loc[:,list_columns].mean(skipna=True, axis = 1)\n",
    "    dispersion_df[channel + '_STD'] = dispersion_df.loc[:,list_columns].std(skipna=True, axis = 1)\n",
    "    \n",
    "    dispersion_global = 0\n",
    "    limit_confidence_sigma = 0\n",
    "    for item in dispersion_history:\n",
    "        if channel == item[0]:\n",
    "            dispersion_global = item[1]\n",
    "            limit_confidence_sigma = item[2]\n",
    "    \n",
    "    dispersion_df[channel + '_MAX'] = dispersion_df.loc[:,list_columns].max(skipna=True, axis = 1)\n",
    "    dispersion_df[channel + '_MIN'] = dispersion_df.loc[:,list_columns].min(skipna=True, axis = 1)\n",
    "    \n",
    "    upper_bound = dispersion_df[channel + '_AVG'] + limit_confidence_sigma*dispersion_df[channel + '_STD']\n",
    "    lower_bound = dispersion_df[channel + '_AVG'] - limit_confidence_sigma*dispersion_df[channel + '_STD']\n",
    "    \n",
    "    upper_bound2 = dispersion_df[channel + '_AVG'] + limit_confidence_sigma*dispersion_global\n",
    "    lower_bound2 = dispersion_df[channel + '_AVG'] - limit_confidence_sigma*dispersion_global\n",
    "        \n",
    "    for device in list_devices:\n",
    "        count_problems_up = dispersion_df[channel + '-' + device] > upper_bound2\n",
    "        count_problems_down =  dispersion_df[channel + '-' + device] < lower_bound2\n",
    "        count_problems = [1 if (count_problems_up[i] or count_problems_down[i]) else 0 for i in range(len(count_problems_up))]\n",
    "        # print (channel, device, np.sum(count_problems), len(count_problems))\n",
    "        if np.sum(count_problems) > len(count_problems)/limit:\n",
    "        #if any(dispersion_df[channel + '-' + device] > upper_bound2) or any(dispersion_df[channel + '-' + device] < lower_bound2):\n",
    "            alpha = 0.3\n",
    "            color = 'r'\n",
    "            ax1.plot(dispersion_df.index, dispersion_df[channel + '-' + device], color = color, label = device, alpha = alpha)\n",
    "\n",
    "        else:\n",
    "            alpha = 1\n",
    "            color = 'g'\n",
    "            ax2.plot(dispersion_df.index, dispersion_df[channel + '-' + device], color = color, label = device, alpha = alpha)\n",
    "\n",
    "    ax1.plot(dispersion_df.index, dispersion_df[channel + '_AVG'],'b', label = 'Average', alpha = 0.9)\n",
    "    ax1.plot(dispersion_df.index, upper_bound, 'k', label = 'Upper-Bound - Batch', alpha = 0.2)\n",
    "    ax1.plot(dispersion_df.index, lower_bound, 'k',label = 'Lower-Bound - Batch', alpha = 0.2)\n",
    "    \n",
    "    ax1.plot(dispersion_df.index, upper_bound2, 'b', label = 'Upper-Bound - History', alpha = 0.2)\n",
    "    ax1.plot(dispersion_df.index, lower_bound2, 'b',label = 'Lower-Bound - History', alpha = 0.2)\n",
    "    lgd1 = ax1.legend(bbox_to_anchor=(1.1, 0.5), fancybox=True, loc='center left', ncol = 5)\n",
    "    ax1.grid(True)\n",
    "    ax1.set_ylabel(channel + ' TBR')\n",
    "    ax1.set_xlabel('Time')\n",
    "    \n",
    "    ax2.plot(dispersion_df.index, dispersion_df[channel + '_AVG'],'b', label = 'Average', alpha = 0.9)\n",
    "    ax2.plot(dispersion_df.index, upper_bound, 'k', label = 'Upper-Bound - Batch', alpha = 0.4)\n",
    "    ax2.plot(dispersion_df.index, lower_bound, 'k',label = 'Lower-Bound - Batch', alpha = 0.4)\n",
    "\n",
    "    ax2.plot(dispersion_df.index, upper_bound2, 'b', label = 'Upper-Bound - History', alpha = 0.2)\n",
    "    ax2.plot(dispersion_df.index, lower_bound2, 'b',label = 'Lower-Bound - History', alpha = 0.2)\n",
    "    ax2.legend(bbox_to_anchor=(1.1, 0.5), fancybox=True, loc='center left', ncol = 5)\n",
    "    lgd2 = ax2.legend(bbox_to_anchor=(1.1, 0.5), fancybox=True, loc='center left', ncol = 5)\n",
    "    ax2.grid(True)\n",
    "    ax2.set_ylabel(channel + ' OK')\n",
    "    ax2.set_xlabel('Time')\n",
    "    \n",
    "    if type_file == 'fig':\n",
    "        pickle.dump(fig, open(save_path + '/' + dispersion_test + '_' + channel + '.fig.pickle', 'wb'))\n",
    "    elif type_file == 'png':\n",
    "        fig.savefig(save_path + '/' + dispersion_test + '_' + channel + '.png', dpi=300, trasnparent = True, bbox_extra_artists=(lgd1, lgd2), bbox_inches='tight' )\n",
    "        \n",
    "plot.show()"
   ]
  }
 ],
 "metadata": {
  "kernelspec": {
   "display_name": "Python 3",
   "language": "python",
   "name": "python3"
  },
  "language_info": {
   "codemirror_mode": {
    "name": "ipython",
    "version": 3
   },
   "file_extension": ".py",
   "mimetype": "text/x-python",
   "name": "python",
   "nbconvert_exporter": "python",
   "pygments_lexer": "ipython3",
   "version": "3.6.8"
  },
  "toc": {
   "nav_menu": {},
   "number_sections": true,
   "sideBar": true,
   "skip_h1_title": false,
   "title_cell": "Table of Contents",
   "title_sidebar": "Contents",
   "toc_cell": false,
   "toc_position": {},
   "toc_section_display": true,
   "toc_window_display": false
  }
 },
 "nbformat": 4,
 "nbformat_minor": 2
}
