{
 "cells": [
  {
   "cell_type": "code",
   "execution_count": null,
   "metadata": {
    "Collapsed": "false"
   },
   "outputs": [],
   "source": [
    "%load_ext autoreload\n",
    "%autoreload 2"
   ]
  },
  {
   "cell_type": "code",
   "execution_count": null,
   "metadata": {
    "Collapsed": "false"
   },
   "outputs": [],
   "source": [
    "# General\n",
    "import warnings                                  \n",
    "warnings.filterwarnings('ignore')\n",
    "from IPython.display import display, HTML\n",
    "import math\n",
    "from os.path import join\n",
    "import sys\n",
    "# Plots\n",
    "import matplotlib.pyplot as plot\n",
    "import matplotlib.colors\n",
    "from matplotlib import gridspec\n",
    "%matplotlib inline\n",
    "import pprint\n",
    "pp = pprint.PrettyPrinter(indent=4)\n",
    "# SAF\n",
    "from src.data.data import *\n",
    "data = data_wrapper()\n",
    "\n",
    "cmd_subfolder = data.toolsDirectory\n",
    "print ('Comand subfolder')\n",
    "print (cmd_subfolder)\n",
    "\n",
    "if cmd_subfolder not in sys.path:\n",
    "    sys.path.insert(0, cmd_subfolder)\n",
    "    \n",
    "from backup import *\n",
    "s3handler = S3handler()\n",
    "s3handler.get_objects()"
   ]
  },
  {
   "cell_type": "code",
   "execution_count": null,
   "metadata": {
    "Collapsed": "false"
   },
   "outputs": [],
   "source": [
    "deliveries_path = join(data.inventoryDirectory, 'deliveries', 'deliveries.yaml')\n",
    "inventory_path = join(data.inventoryDirectory, 'deliveries', 'inventory.csv')\n",
    "s3handler.download(deliveries_path)\n",
    "s3handler.download(inventory_path)"
   ]
  },
  {
   "cell_type": "code",
   "execution_count": null,
   "metadata": {
    "Collapsed": "false"
   },
   "outputs": [],
   "source": [
    "with open(deliveries_path, 'r') as deliveries_yaml:\n",
    "    print (f'Loading deliveries file from: {deliveries_path}')\n",
    "    deliveries = yaml.load(deliveries_yaml, Loader=yaml.SafeLoader)\n",
    "with open(inventory_path, 'r') as inventory_csv:\n",
    "    print (f'Loading inventory file from: {inventory_path}')\n",
    "    inventory = pd.read_csv(inventory_csv).set_index('time')"
   ]
  },
  {
   "cell_type": "code",
   "execution_count": null,
   "metadata": {
    "Collapsed": "false"
   },
   "outputs": [],
   "source": [
    "inventory"
   ]
  },
  {
   "cell_type": "code",
   "execution_count": null,
   "metadata": {
    "Collapsed": "false"
   },
   "outputs": [],
   "source": [
    "# INPUT DATA\n",
    "# Name of test to be analysed\n",
    "client = 'ISGLOBAL'\n",
    "batch = 4\n",
    "type_file = None\n",
    "# Percentage of points to be considered NG sensor\n",
    "limit_errors = 3\n",
    "# Multiplier for std_dev (sigma) - Normal distribution (99.73%)\n",
    "limit_confidence_sigma = 3\n",
    "# t-student confidence level (%)\n",
    "t_confidence_level = 99\n",
    "# Use average dispersion or instantaneous\n",
    "use_instantatenous_dispersion = False\n",
    "# Min/max date for the analysis\n",
    "min_date = None\n",
    "max_date = None\n",
    "raster = '10Min'\n",
    "# In case there is a device with lower amount of channels, ignore the missing channels and keep going\n",
    "ignore_missing_channels = True\n",
    "# Smooth channels\n",
    "smooth_channels = True\n",
    "smooth_number = 5\n",
    "# Set options below or use defaults from config.yaml \n",
    "options = {'clean_na': True, \n",
    "           'clean_na_method': 'drop', \n",
    "           'load_cached_API': True}\n",
    "\n",
    "## Get kits from inventory and put it in a comprehensible structure\n",
    "KITS_IDS = [re.sub('https://smartcitizen.me/kits/','',x) for x in list(inventory.loc[(inventory['delivery'] == client) & (inventory['batch'] == batch), 'platform_url'].values)]\n",
    "#print (KITS_IDS)\n",
    "test_names = list(set(list(inventory.loc[(inventory['delivery'] == client) & (inventory['batch'] == batch), 'test'])))\n",
    "#print (test_names)\n",
    "data_st = dict()\n",
    "for test in test_names:\n",
    "    data_st[test] = dict()\n",
    "    data_st[test]['dispersion_df'] = pd.DataFrame()\n",
    "    data_st[test]['kits'] = [re.sub('https://smartcitizen.me/kits/','',x) for x in list(inventory.loc[(inventory['delivery'] == client) & (inventory['test'] == test) & (inventory['delivered'] == 'y'), 'platform_url'].values)]\n",
    "    data_st[test]['min_date'] = list(set(list(inventory.loc[(inventory['delivery'] == client) & (inventory['test'] == test) & (inventory['delivered'] == 'y'), 'min_validation_date'].dropna().values)))\n",
    "    data_st[test]['max_date'] = list(set(list(inventory.loc[(inventory['delivery'] == client) & (inventory['test'] == test) & (inventory['delivered'] == 'y'), 'max_validation_date'].dropna().values)))\n",
    "print (data_st)"
   ]
  },
  {
   "cell_type": "code",
   "execution_count": null,
   "metadata": {
    "Collapsed": "false"
   },
   "outputs": [],
   "source": [
    "for test in test_names:\n",
    "    data.load_test(test, options)"
   ]
  },
  {
   "cell_type": "code",
   "execution_count": null,
   "metadata": {
    "Collapsed": "false",
    "tags": [
     "show_only_output"
    ]
   },
   "outputs": [],
   "source": [
    "display(HTML('<h2>Delivery report</h2>'))\n",
    "display(HTML('<h3>Information</h3>'))\n",
    "display(HTML('<p><strong>Delivery:</strong> {}</p>'.format(client)))\n",
    "display(HTML('<p><strong>Batch:</strong> {}</p>'.format(round(batch))))\n",
    "display(HTML('<p><strong>Total number of devices tested:</strong> {}</p>'.format(len(KITS_IDS))))\n",
    "for test in test_names:\n",
    "    delivered_devices = len(list(inventory.loc[(inventory['test'] == test) & (inventory['delivery'] == client) & (inventory['batch'] == batch), 'platform_url']))\n",
    "    tested_in_test = len(list(inventory.loc[(inventory['test'] == test), 'platform_url']))\n",
    "    display(HTML('<div style=\"page-break-before: always\"> </div>'))\n",
    "    display(HTML(f'- {delivered_devices} devices tested in a group of {tested_in_test}. Batch summary:'))\n",
    "    display(inventory.loc[(inventory['test'] == test) & (inventory['delivery'] == client) & (inventory['batch'] == batch) & (inventory['delivered'] == 'y'), ['platform_name', 'platform_url', 'tested','delivered']])\n",
    "display(HTML('<p><strong>Test author(s):</strong><br> {}</p><hr>'.format('Óscar González - Victor Barberán')))"
   ]
  },
  {
   "cell_type": "markdown",
   "metadata": {
    "Collapsed": "false",
    "tags": [
     "show_only_output"
    ]
   },
   "source": [
    "### Test Explanation\n",
    "\n",
    "The devices are co-located for a period of at least 3 days in an **indoor** environment. Devices that show an abnormal behaviour are analysed and replaced if necessary.\n",
    "\n",
    "#### Conditions\n",
    "\n",
    "- Indoor environment\n",
    "- No controlled temperature/humidity setup\n",
    "\n",
    "#### Additional comments\n",
    "\n",
    "- The test batch average is considered reference for batch dispersion limits\n",
    "- The confidence intervals used are those of the normal distribution (sample numbers >30) and of the t-student distribution (sample numbers <30).\n",
    "- The individual sensors components integrated in the Smart Citizen hardware have their own accuracies and dispersions, for which Smart Citizen cannot assume any liability other than trying to work with the most appropiate selection. The tests we perform are aimed to determine and assume any failures in the sensors and their integration within the Smart Citizen hardware. For more information, please check the <a href=\"https://docs.smartcitizen.me\">official documentation</a> and the datasheets of each of the sensors in the [sensors part](https://docs.smartcitizen.me/Components/Urban%20Sensor%20Board/)."
   ]
  },
  {
   "cell_type": "code",
   "execution_count": null,
   "metadata": {
    "Collapsed": "false"
   },
   "outputs": [],
   "source": [
    "list_channels =  ['PRESS', 'CCS811_ECO2', 'EXT_PM_10', 'NOISE_A', 'TEMP', 'CCS811_VOCS', 'HUM', 'EXT_PM_1', 'LIGHT', 'EXT_PM_25']\n",
    "min_date = None\n",
    "max_date = None\n",
    "\n",
    "warning_displayed = False\n",
    "\n",
    "for test in test_names:\n",
    "    print (f'Calculating test:\\n {test}')\n",
    "    kits_delivered = data_st[test]['kits']\n",
    "    kits_in_test = list(data.tests[test].devices.keys())\n",
    "    \n",
    "    print (f'Kits delivered from this test:\\n {kits_delivered}')\n",
    "    print (f'All kits tested in this test:\\n {kits_in_test}')\n",
    "    \n",
    "    dispersion_df = pd.DataFrame()\n",
    "    location_test = list(set([data.tests[test].devices[device].location for device in data.tests[test].devices.keys()]))[0]\n",
    "    print (f'Test location:\\n {location_test}')\n",
    "    \n",
    "    for channel in list_channels:\n",
    "        columns = list()\n",
    "        \n",
    "        for device in kits_delivered:\n",
    "            if channel in data.tests[test].devices[device].readings.columns and len(data.tests[test].devices[device].readings.loc[:,channel]) >0 :\n",
    "                # Important to resample and bfill for unmatching measures\n",
    "                if smooth_channels:\n",
    "                    channel_new = data.tests[test].devices[device].readings[channel].resample(raster).bfill().rolling(window=smooth_number).mean()\n",
    "                    dispersion_df[channel + '-' + device] = channel_new\n",
    "                else:\n",
    "                    dispersion_df[channel + '-' + device] = data.tests[test].devices[device].readings[channel].resample(raster).bfill()\n",
    "\n",
    "                columns.append(channel + '-' + device)\n",
    "            else:\n",
    "                display(HTML('<p>WARNING: Device {} does not contain {}</p>'.format(device, channel)))\n",
    "                warning_displayed = True\n",
    "    \n",
    "        try:\n",
    "            if dispersion_df.index.tzinfo is None: dispersion_df.index = dispersion_df.index.tz_localize('UTC').tz_convert(location_test)\n",
    "        except:\n",
    "            traceback.print_exc()\n",
    "            pass\n",
    "        # Trim dataset to min and max dates (normally these tests are carried out with _minutes_ of differences)\n",
    "        if data_st[test]['min_date'] != []: \n",
    "            dispersion_df = dispersion_df[dispersion_df.index > pd.to_datetime(data_st[test]['min_date'][0]).tz_localize('UTC').tz_convert(location_test)]\n",
    "        if data_st[test]['max_date'] != []: \n",
    "            dispersion_df = dispersion_df[dispersion_df.index < pd.to_datetime(data_st[test]['max_date'][0]).tz_localize('UTC').tz_convert(location_test)]\n",
    "\n",
    "        # Calculate Metrics\n",
    "        dispersion_df[channel + '_AVG'] = dispersion_df.loc[:,columns].mean(skipna=True, axis = 1)\n",
    "        dispersion_df[channel + '_STD'] = dispersion_df.loc[:,columns].std(skipna=True, axis = 1)\n",
    "        data_st[test]['dispersion_df'] = dispersion_df\n",
    "    if data_st[test]['min_date'] != []: print (f\"Test min validation date:\\n {data_st[test]['min_date'][0]}\")\n",
    "    if data_st[test]['max_date'] != []: print (f\"Test max validation date:\\n {data_st[test]['max_date'][0]}\")"
   ]
  },
  {
   "cell_type": "markdown",
   "metadata": {
    "Collapsed": "false"
   },
   "source": [
    "## Plots"
   ]
  },
  {
   "cell_type": "code",
   "execution_count": null,
   "metadata": {
    "Collapsed": "false",
    "tags": [
     "show_only_output"
    ]
   },
   "outputs": [],
   "source": [
    "# Number of subplots\n",
    "import matplotlib.cm as cm\n",
    "plot.style.use('seaborn-white')\n",
    "number_of_subplots = len(list_channels) \n",
    "if number_of_subplots % 2 == 0: cols = 2\n",
    "else: cols = 3\n",
    "rows = int(math.ceil(number_of_subplots / cols))\n",
    "\n",
    "for test in test_names:\n",
    "    gs = gridspec.GridSpec(rows, cols, wspace=0.9, hspace=0.4)\n",
    "    fig = plot.figure(figsize=(cols*10,rows*5))\n",
    "    fig.tight_layout()\n",
    "\n",
    "    n = 0\n",
    "    display(HTML('<div style=\"page-break-before: always\"> </div>'))\n",
    "    display(HTML(f'<h4>Test number: {test_names.index(test) +1} of {len(test_names)}</h4>'))\n",
    "    display(HTML('<h5>Scatter plots</h5>'))\n",
    "    # Scatter plots\n",
    "    for channel in list_channels:\n",
    "        ax = fig.add_subplot(gs[n])\n",
    "        n += 1\n",
    "\n",
    "        for device in data_st[test]['kits']:\n",
    "            color = cm.viridis.colors[round(data_st[test]['kits'].index(device)*len(cm.viridis.colors)/len(data_st[test]['kits']))]\n",
    "            plot.scatter(data_st[test]['dispersion_df'][channel + '_AVG'], \n",
    "                      data_st[test]['dispersion_df'][channel + '-' + device], \n",
    "                      label = device, alpha = 0.3, color = color)\n",
    " \n",
    "        plot.plot([min(data_st[test]['dispersion_df'][channel + '_AVG']), max(data_st[test]['dispersion_df'][channel + '_AVG'])], \n",
    "                  [min(data_st[test]['dispersion_df'][channel + '_AVG']), max(data_st[test]['dispersion_df'][channel + '_AVG'])], \n",
    "                  'r', label = 'AVG', alpha = 0.9, linewidth = 1.5)\n",
    "\n",
    "        plot.plot([min(data_st[test]['dispersion_df'][channel + '_AVG']), max(data_st[test]['dispersion_df'][channel + '_AVG'])],\n",
    "                  [min(data_st[test]['dispersion_df'][channel + '_AVG']-limit_confidence_sigma*data_st[test]['dispersion_df'][channel + '_STD'].mean()), \n",
    "                   max(data_st[test]['dispersion_df'][channel + '_AVG']-limit_confidence_sigma*data_st[test]['dispersion_df'][channel + '_STD'].mean())], \n",
    "                  'g', label = 'AVG ± σSTD', alpha = 0.8, linewidth = 1.5)\n",
    "        \n",
    "        plot.plot([min(data_st[test]['dispersion_df'][channel + '_AVG']), max(data_st[test]['dispersion_df'][channel + '_AVG'])],\n",
    "                  [min(data_st[test]['dispersion_df'][channel + '_AVG']+limit_confidence_sigma*data_st[test]['dispersion_df'][channel + '_STD'].mean()), \n",
    "                   max(data_st[test]['dispersion_df'][channel + '_AVG']+limit_confidence_sigma*data_st[test]['dispersion_df'][channel + '_STD'].mean())], \n",
    "                  'g', alpha = 0.8, linewidth = 1.5)\n",
    "        \n",
    "        plot.legend(bbox_to_anchor=(1, 0.4), fancybox=True, loc='center left', ncol = 2)\n",
    "        plot.xlabel('Refererence (avg. of test)')\n",
    "        plot.ylabel('Individual device (-)')\n",
    "        plot.title(f\"Dispersion analysis for {channel} sensor - STD = {round(data_st[test]['dispersion_df'][channel + '_STD'].mean(), 2)}\")\n",
    "        plot.grid()\n",
    "    plot.show()\n",
    "\n",
    "    display(HTML('<div style=\"page-break-before: always\"> </div>'))\n",
    "    display(HTML('<h5>Time Series plots</h5>'))\n",
    "    # Time series plot\n",
    "    gs = gridspec.GridSpec(rows, cols, wspace=0.9, hspace=0.4)\n",
    "    fig = plot.figure(figsize=(cols*10,rows*5))\n",
    "    fig.tight_layout()\n",
    "\n",
    "    n = 0    \n",
    "    # Make the actual plots\n",
    "    for channel in list_channels:\n",
    "        ax = fig.add_subplot(gs[n])\n",
    "        n += 1\n",
    "\n",
    "        for device in data_st[test]['kits']:\n",
    "            color = cm.viridis.colors[round(data_st[test]['kits'].index(device)*len(cm.viridis.colors)/len(data_st[test]['kits']))]\n",
    "            plot.plot(data_st[test]['dispersion_df'].index, \n",
    "                      data_st[test]['dispersion_df'][channel + '-' + device], \n",
    "                      label = device, alpha = 0.3, color = color)\n",
    " \n",
    "        plot.plot(data_st[test]['dispersion_df'].index, data_st[test]['dispersion_df'][channel + '_AVG'] , 'r', label = 'AVG', alpha = 0.9, linewidth = 1.5)\n",
    "        plot.plot(data_st[test]['dispersion_df'].index, data_st[test]['dispersion_df'][channel + '_AVG'] , 'r', label = 'AVG', alpha = 0.9, linewidth = 1.5)\n",
    "\n",
    "        plot.plot(data_st[test]['dispersion_df'].index,\n",
    "                  data_st[test]['dispersion_df'][channel + '_AVG']-limit_confidence_sigma*data_st[test]['dispersion_df'][channel + '_STD'].mean(), \n",
    "                  'g', label = 'AVG ± σSTD', alpha = 0.8, linewidth = 1.5)\n",
    "\n",
    "        plot.plot(data_st[test]['dispersion_df'].index,\n",
    "                  data_st[test]['dispersion_df'][channel + '_AVG']+limit_confidence_sigma*data_st[test]['dispersion_df'][channel + '_STD'].mean(), \n",
    "                  'g', alpha = 0.8, linewidth = 1.5)\n",
    "\n",
    "        plot.legend(bbox_to_anchor=(1, 0.4), fancybox=True, loc='center left', ncol = 2)\n",
    "        plot.xlabel('Refererence (avg. of test)')\n",
    "        plot.ylabel('Individual device (-)')\n",
    "        plot.title(f\"Dispersion analysis for {channel} sensor - STD = {round(data_st[test]['dispersion_df'][channel + '_STD'].mean(), 2)}\")\n",
    "        plot.grid()\n",
    "    plot.show()"
   ]
  },
  {
   "cell_type": "markdown",
   "metadata": {
    "Collapsed": "false",
    "tags": [
     "show_only_output"
    ]
   },
   "source": [
    "## Additional Comment\n",
    "\n",
    "- FD94: Only published battery - 10615. Shows signs of water corrosion - Replaced full kit by a new one (not PM\n",
    "sensor)\n",
    "\n",
    "<div style=\"text-align:center\">\n",
    "<img src=\"https://i.imgur.com/f02F9mD.jpg\" width=600px>\n",
    "</div>"
   ]
  },
  {
   "cell_type": "code",
   "execution_count": null,
   "metadata": {
    "Collapsed": "false"
   },
   "outputs": [],
   "source": [
    "# Create report"
   ]
  },
  {
   "cell_type": "code",
   "execution_count": null,
   "metadata": {
    "Collapsed": "false"
   },
   "outputs": [],
   "source": [
    "import subprocess\n",
    "import traceback\n",
    "\n",
    "\n",
    "filename = str(datetime.now().year)[-2:] + \\\n",
    "            '{:02d}'.format(datetime.now().month) \\\n",
    "            + '_' + client + '_' + str(round(batch))\n",
    "print (f'Creating delivery report for {filename}')\n",
    "\n",
    "subprocess.call(['jupyter', 'nbconvert', 'delivery_report.ipynb',\n",
    "                 '--config', 'sc_nbconvert_config.py',  '--sc_Preprocessor.expression=\"show_only_output\"',\n",
    "                 '--to', 'html',  '--TemplateExporter.template_file=./templates/full_sc',\n",
    "                 '--output-dir=../data/reports/deliveries', f'--output={filename}.html'])\n",
    "\n",
    "subprocess.call(['open', f'../data/reports/deliveries/{filename}.html'])"
   ]
  },
  {
   "cell_type": "code",
   "execution_count": null,
   "metadata": {
    "Collapsed": "false"
   },
   "outputs": [],
   "source": [
    "# Upload it"
   ]
  },
  {
   "cell_type": "code",
   "execution_count": null,
   "metadata": {
    "Collapsed": "false"
   },
   "outputs": [],
   "source": [
    "cmd_subfolder = data.toolsDirectory\n",
    "print ('Comand subfolder')\n",
    "print (cmd_subfolder)\n",
    "\n",
    "if cmd_subfolder not in sys.path:\n",
    "    sys.path.insert(0, cmd_subfolder)\n",
    "    \n",
    "from backup import *\n",
    "s3handler = S3handler()\n",
    "s3handler.get_objects()\n",
    "\n",
    "filehtml = join(data.dataDirectory, f'reports/deliveries/{filename}.html')\n",
    "filepdf = join(data.dataDirectory, f'reports/deliveries/{filename}.pdf')\n",
    "\n",
    "try:\n",
    "    s3handler.upload(filehtml, expiration=14*24*3600) #expiration in seconds\n",
    "    s3handler.upload(filepdf, expiration=14*24*3600) #expiration in seconds\n",
    "except:\n",
    "    traceback.print_exc()\n",
    "    pass"
   ]
  },
  {
   "cell_type": "code",
   "execution_count": null,
   "metadata": {
    "Collapsed": "false"
   },
   "outputs": [],
   "source": [
    "# Update deliveries\n",
    "deliveries[client]['batches'][batch]['report'] = filename\n",
    "with open(deliveries_path, 'w') as deliveries_yaml:\n",
    "    print (f'Saving deliveries file from: {deliveries_path}')\n",
    "    yaml.dump(deliveries, deliveries_yaml)\n",
    "\n",
    "s3handler.upload(deliveries_path)"
   ]
  }
 ],
 "metadata": {
  "kernelspec": {
   "display_name": "Python 3",
   "language": "python",
   "name": "python3"
  },
  "language_info": {
   "codemirror_mode": {
    "name": "ipython",
    "version": 3
   },
   "file_extension": ".py",
   "mimetype": "text/x-python",
   "name": "python",
   "nbconvert_exporter": "python",
   "pygments_lexer": "ipython3",
   "version": "3.7.0"
  }
 },
 "nbformat": 4,
 "nbformat_minor": 4
}
