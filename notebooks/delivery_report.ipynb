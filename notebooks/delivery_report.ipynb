{
 "cells": [
  {
   "cell_type": "code",
   "execution_count": null,
   "metadata": {
    "Collapsed": "false"
   },
   "outputs": [],
   "source": [
    "%load_ext autoreload\n",
    "%autoreload 2"
   ]
  },
  {
   "cell_type": "code",
   "execution_count": null,
   "metadata": {
    "Collapsed": "false"
   },
   "outputs": [],
   "source": [
    "import warnings                                  \n",
    "warnings.filterwarnings('ignore')\n",
    "from IPython.display import display, HTML\n",
    "import matplotlib.pyplot as plot\n",
    "import matplotlib.colors\n",
    "from os.path import join\n",
    "import pprint\n",
    "pp = pprint.PrettyPrinter(indent=4)\n",
    "\n",
    "from src.data.data import *\n",
    "data = data_wrapper()\n",
    "\n",
    "deliveries_path = join(data.interimDirectory, 'deliveries', 'deliveries.yaml')\n",
    "with open(deliveries_path, 'r') as deliveries_yaml:\n",
    "    print (f'Loading deliveries file from: {deliveries_path}')\n",
    "    deliveries = yaml.load(deliveries_yaml, Loader=yaml.SafeLoader)"
   ]
  },
  {
   "cell_type": "code",
   "execution_count": null,
   "metadata": {
    "Collapsed": "false"
   },
   "outputs": [],
   "source": [
    "# INPUT DATA\n",
    "# Name of test to be analysed\n",
    "client = 'ILLA_DE_AROUSA'\n",
    "batch = 1\n",
    "\n",
    "type_file = None\n",
    "# Percentage of points to be considered NG sensor\n",
    "limit_errors = 3\n",
    "# Multiplier for std_dev (sigma) - Normal distribution (99.73%)\n",
    "limit_confidence_sigma = 3\n",
    "# t-student confidence level (%)\n",
    "t_confidence_level = 99\n",
    "# Use average dispersion or instantaneous\n",
    "use_instantatenous_dispersion = False\n",
    "# Min/max date for the analysis\n",
    "# min_date = '2019-12-10 18:00:00'\n",
    "min_date = None\n",
    "max_date = None\n",
    "# In case there is a device with lower amount of channels, ignore the missing channels and keep going\n",
    "ignore_missing_channels = True\n",
    "# Smooth channels\n",
    "smooth_channels = True\n",
    "smooth_number = 5"
   ]
  },
  {
   "cell_type": "code",
   "execution_count": null,
   "metadata": {
    "Collapsed": "false"
   },
   "outputs": [],
   "source": [
    "display(HTML('<p><strong>Delivery:</strong><br> {}</p>'.format(client)))\n",
    "display(HTML('<p><strong>Delivery:</strong><br> {}</p>'.format(client)))\n",
    "display(HTML('<p><strong>Total number of devices tested:</strong><br> {}</p>'.format(len(list_devices))))\n",
    "display(HTML('<p><strong>Test dates:</strong><br> {} - {}</p>'.format(min_date, max_date)))\n",
    "display(HTML('<p><strong>Test author(s):</strong><br> {}</p><hr>'.format('Óscar González - Victor Barberán')))"
   ]
  },
  {
   "cell_type": "markdown",
   "metadata": {
    "Collapsed": "false"
   },
   "source": [
    "### Test Explanation\n",
    "\n",
    "The devices are co-located for a period of at least 3 days in an **indoor** environment. Devices that show an abnormal behaviour are analysed and replaced if necessary. **In this case, the devices were tested for 2+ weeks during Christmas holidays**.\n",
    "\n",
    "#### Comment on methods\n",
    "- This analysis is conditioned to the low amount of devices tested. The plots below indicate only trends and highlight some (but not all) potential faulty devices.\n",
    "- Below, the confidence intervals used are those of the normal distribution (sample numbers >30) and of the t-student distribution (sample numbers <30).\n",
    "The testing of the devices is done for at least 3-5 days. If any problem is seen, longer periods are tested if needed. Also note that statistical significance cannot be inferred from these amounts of devices, and some assumptions have to be accepted. Comments and further discussion are always welcome.\n",
    "- The individual sensors components integrated in the Smart Citizen hardware have their own accuracies and dispersions, for which Smart Citizen cannot assume any liability other than trying to work with the most appropiate selection. The tests we perform are aimed to determine and assume any failures in the sensors and their integration within the Smart Citizen hardware. For more information, please check the <a href=\"https://docs.smartcitizen.me\">official documentation</a> and the datasheets of each of the sensors in the [sensors part](https://docs.smartcitizen.me/Components/Urban%20Sensor%20Board/)."
   ]
  }
 ],
 "metadata": {
  "kernelspec": {
   "display_name": "Python 3",
   "language": "python",
   "name": "python3"
  },
  "language_info": {
   "codemirror_mode": {
    "name": "ipython",
    "version": 3
   },
   "file_extension": ".py",
   "mimetype": "text/x-python",
   "name": "python",
   "nbconvert_exporter": "python",
   "pygments_lexer": "ipython3",
   "version": "3.7.0"
  }
 },
 "nbformat": 4,
 "nbformat_minor": 4
}
