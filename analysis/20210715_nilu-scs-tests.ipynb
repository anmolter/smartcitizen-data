{
 "cells": [
  {
   "cell_type": "markdown",
   "metadata": {},
   "source": [
    "# NILU-SCS Tests"
   ]
  },
  {
   "cell_type": "markdown",
   "metadata": {},
   "source": [
    "## Test units description\n",
    "\n",
    "### SCAS21013\n",
    "- url: https://smartcitizen.me/kits/14362\n",
    "- name: NILU21013\n",
    "- tag: NILU\n",
    "\n",
    "### SCAS21002\n",
    "- url: https://smartcitizen.me/kits/14407\n",
    "- name: NILU21002\n",
    "- tag: NILU\n",
    "- CHANGES: \n",
    "    - Changed ASBs--> 4A -> 49"
   ]
  },
  {
   "cell_type": "markdown",
   "metadata": {},
   "source": [
    "## Laboratory tests"
   ]
  },
  {
   "cell_type": "code",
   "execution_count": null,
   "metadata": {},
   "outputs": [],
   "source": [
    "import scdata as sc\n",
    "from scdata._config import config\n",
    "\n",
    "config._out_level = 'DEBUG'"
   ]
  },
  {
   "cell_type": "code",
   "execution_count": null,
   "metadata": {},
   "outputs": [],
   "source": [
    "test = sc.Test('NILU_LAB')"
   ]
  },
  {
   "cell_type": "code",
   "execution_count": null,
   "metadata": {},
   "outputs": [],
   "source": [
    "test.add_device(sc.Device(blueprint='sc_21_station_module', descriptor={'source': 'api', 'id': 14407, 'frequency': '1Min'}))"
   ]
  },
  {
   "cell_type": "code",
   "execution_count": null,
   "metadata": {},
   "outputs": [],
   "source": [
    "test.add_device(sc.Device(blueprint='sc_21_station_module', descriptor={'source': 'api', 'id': 14362, 'frequency': '1Min'}))"
   ]
  },
  {
   "cell_type": "code",
   "execution_count": null,
   "metadata": {},
   "outputs": [],
   "source": [
    "test.create()"
   ]
  },
  {
   "cell_type": "code",
   "execution_count": null,
   "metadata": {
    "scrolled": true
   },
   "outputs": [],
   "source": [
    "test.load()"
   ]
  },
  {
   "cell_type": "markdown",
   "metadata": {},
   "source": [
    "### Electrochemical sensors\n",
    "\n",
    "- External sensors with Alphasense ISB interfaced with 16-bit ADCs.\n",
    "- ADC boards: https://github.com/fablabbcn/smartcitizen-analog-sensor-board\n",
    "- Alphasense B series sensors - https://www.alphasense.com/products/"
   ]
  },
  {
   "cell_type": "code",
   "execution_count": null,
   "metadata": {},
   "outputs": [],
   "source": [
    "traces = {\n",
    "            \"1\": {\"devices\": \"all\",\n",
    "                  \"channel\": [\"ADC_48_0\", \"ADC_48_1\"],\n",
    "                  \"subplot\": 1}\n",
    "        }\n",
    "options = {'frequency': '1Min'}\n",
    "formatting = {'width': 1000, 'title': 'CO electrodes', 'ylabel': {1:'ADC_48_[0,1] (V)'}}\n",
    "test.ts_uplot(traces=traces, options = options, formatting = formatting)"
   ]
  },
  {
   "cell_type": "code",
   "execution_count": null,
   "metadata": {},
   "outputs": [],
   "source": [
    "traces = {\n",
    "            \"1\": {\"devices\": \"all\",\n",
    "                  \"channel\": [\"ADC_48_2\", \"ADC_48_3\"],\n",
    "                  \"subplot\": 1}\n",
    "        }\n",
    "options = {'frequency': '1Min'}\n",
    "formatting = {'width': 1000, 'title': 'NO2 electrodes', 'ylabel': {1:'ADC_48_[2,3] (V)'}}\n",
    "test.ts_uplot(traces=traces, options = options, formatting = formatting)"
   ]
  },
  {
   "cell_type": "code",
   "execution_count": null,
   "metadata": {},
   "outputs": [],
   "source": [
    "traces = {\n",
    "            \"1\": {\"devices\": \"all\",\n",
    "                  \"channel\": [\"ADC_49_0\", \"ADC_49_1\", \"ADC_4A_0\", \"ADC_4A_1\"],\n",
    "                  \"subplot\": 1}\n",
    "        }\n",
    "options = {'frequency': '1Min'}\n",
    "formatting = {'width': 1000, 'title': 'SO2 electrodes', 'ylabel': {1:'ADC_4[9,A]_[0,1] (V)'}}\n",
    "test.ts_uplot(traces=traces, options = options, formatting = formatting)"
   ]
  },
  {
   "cell_type": "code",
   "execution_count": null,
   "metadata": {},
   "outputs": [],
   "source": [
    "traces = {\n",
    "            \"1\": {\"devices\": \"all\",\n",
    "                  \"channel\": [\"ADC_49_2\", \"ADC_49_3\", \"ADC_4A_2\", \"ADC_4A_3\"],\n",
    "                  \"subplot\": 1}\n",
    "        }\n",
    "options = {'frequency': '1Min'}\n",
    "formatting = {'width': 1000, 'title': 'OX electrodes', 'ylabel': {1:'ADC_4[9,A]_[2,3] (V)'}}\n",
    "test.ts_uplot(traces=traces, options = options, formatting = formatting)"
   ]
  },
  {
   "cell_type": "markdown",
   "metadata": {},
   "source": [
    "### External PM Sensor\n",
    "\n",
    "- External sensor (x2)\n",
    "- Plantower PMS5003: https://docs.smartcitizen.me/Components/sensors/performance/#external-pm-sensor-v20-onwards"
   ]
  },
  {
   "cell_type": "code",
   "execution_count": null,
   "metadata": {},
   "outputs": [],
   "source": [
    "traces = {\n",
    "            \"1\": {\"devices\": \"all\",\n",
    "                  \"channel\": [\"EXT_PM_A_1\", \"EXT_PM_B_1\"],\n",
    "                  \"subplot\": 1}\n",
    "        }\n",
    "options = {'frequency': '1Min'}\n",
    "formatting = {'width': 1000, 'title': 'PM1', 'ylabel': {1:'PM 1.0 (ug/m3)'}}\n",
    "test.ts_uplot(traces=traces, options = options, formatting = formatting)"
   ]
  },
  {
   "cell_type": "code",
   "execution_count": null,
   "metadata": {},
   "outputs": [],
   "source": [
    "traces = {\n",
    "            \"1\": {\"devices\": \"all\",\n",
    "                  \"channel\": [\"EXT_PM_A_25\", \"EXT_PM_B_25\"],\n",
    "                  \"subplot\": 1}\n",
    "        }\n",
    "options = {'frequency': '1Min'}\n",
    "formatting = {'width': 1000, 'title': 'PM2.5', 'ylabel': {1:'PM 2.5 (ug/m3)'}}\n",
    "test.ts_uplot(traces=traces, options = options, formatting = formatting)"
   ]
  },
  {
   "cell_type": "markdown",
   "metadata": {},
   "source": [
    "### Relative humidity\n",
    "\n",
    "- Sensor on Urban Board (to be corrected with external probe and pressure)\n",
    "- Sensor on Urban Board: Sensirion SHT31 - https://docs.smartcitizen.me/Components/sensors/performance/#relative-humidity-and-air-temperature-sensor-v20-onwards\n"
   ]
  },
  {
   "cell_type": "code",
   "execution_count": null,
   "metadata": {},
   "outputs": [],
   "source": [
    "traces = {\n",
    "            \"1\": {\"devices\": \"all\",\n",
    "                  \"channel\": [\"HUM\"],\n",
    "                  \"subplot\": 1}\n",
    "        }\n",
    "options = {'frequency': '1Min'}\n",
    "formatting = {'width': 1000}\n",
    "test.ts_uplot(traces=traces, options = options, formatting = formatting)"
   ]
  },
  {
   "cell_type": "markdown",
   "metadata": {},
   "source": [
    "### External Temperature\n",
    "\n",
    "- External probe: MAXIM DS18B20 - https://datasheets.maximintegrated.com/en/ds/DS18B20.pdf"
   ]
  },
  {
   "cell_type": "code",
   "execution_count": null,
   "metadata": {},
   "outputs": [],
   "source": [
    "traces = {\n",
    "            \"1\": {\"devices\": \"all\",\n",
    "                  \"channel\": [\"PM_DALLAS_TEMP\"],\n",
    "                  \"subplot\": 1}\n",
    "        }\n",
    "options = {'frequency': '1Min'}\n",
    "formatting = {'width': 1000, 'title': 'External Temperature', 'ylabel': {1:'T (ºC)'}}\n",
    "test.ts_uplot(traces=traces, options = options, formatting = formatting)"
   ]
  },
  {
   "cell_type": "markdown",
   "metadata": {},
   "source": [
    "### Temperature comparisons\n",
    "\n",
    "- Sensor on Urban Board vs external probe.\n",
    "- Sensor on Urban Board: Sensirion SHT31 - https://docs.smartcitizen.me/Components/sensors/performance/#relative-humidity-and-air-temperature-sensor-v20-onwards\n",
    "- External probe: MAXIM DS18B20 - https://datasheets.maximintegrated.com/en/ds/DS18B20.pdf"
   ]
  },
  {
   "cell_type": "code",
   "execution_count": null,
   "metadata": {},
   "outputs": [],
   "source": [
    "traces = {\n",
    "            \"1\": {\"devices\": \"all\",\n",
    "                  \"channel\": [\"TEMP\", \"PM_DALLAS_TEMP\"],\n",
    "                  \"subplot\": 1}\n",
    "        }\n",
    "options = {'frequency': '1Min'}\n",
    "formatting = {'width': 1000, 'title': 'Temperatures', 'ylabel': {1:'T (ºC)'}}\n",
    "test.ts_uplot(traces=traces, options = options, formatting = formatting)"
   ]
  },
  {
   "cell_type": "markdown",
   "metadata": {},
   "source": [
    "### Noise level\n",
    "\n",
    "- Sensor on Urban Board.\n",
    "- TDK ICS43432 - https://docs.smartcitizen.me/Components/sensors/performance/#noise-level-sensor-v20-onwards"
   ]
  },
  {
   "cell_type": "code",
   "execution_count": null,
   "metadata": {},
   "outputs": [],
   "source": [
    "traces = {\n",
    "            \"1\": {\"devices\": \"all\",\n",
    "                  \"channel\": [\"NOISE_A\"],\n",
    "                  \"subplot\": 1}\n",
    "        }\n",
    "options = {'frequency': '1Min'}\n",
    "formatting = {'width': 1000, 'title': 'NOISE', 'ylabel': {1:'Noise Level (dBA scale)'}}\n",
    "test.ts_uplot(traces=traces, options = options, formatting = formatting)"
   ]
  },
  {
   "cell_type": "markdown",
   "metadata": {},
   "source": [
    "### Barometric pressure\n",
    "\n",
    "- Sensor on Urban Board.\n",
    "- NXP MPL3115A26 - https://docs.smartcitizen.me/Components/sensors/performance/#barometric-pressure-v20-onwards"
   ]
  },
  {
   "cell_type": "code",
   "execution_count": null,
   "metadata": {},
   "outputs": [],
   "source": [
    "traces = {\n",
    "            \"1\": {\"devices\": \"all\",\n",
    "                  \"channel\": [\"PRESS\"],\n",
    "                  \"subplot\": 1}\n",
    "        }\n",
    "options = {'frequency': '1Min'}\n",
    "formatting = {'width': 1000, 'title': 'BAROMETRIC PRESSURE', 'ylabel': {1:'Barometric Pressure (kPa)'}}\n",
    "test.ts_uplot(traces=traces, options = options, formatting = formatting)"
   ]
  },
  {
   "cell_type": "code",
   "execution_count": null,
   "metadata": {},
   "outputs": [],
   "source": []
  }
 ],
 "metadata": {
  "kernelspec": {
   "display_name": "Python 3",
   "language": "python",
   "name": "python3"
  },
  "language_info": {
   "codemirror_mode": {
    "name": "ipython",
    "version": 3
   },
   "file_extension": ".py",
   "mimetype": "text/x-python",
   "name": "python",
   "nbconvert_exporter": "python",
   "pygments_lexer": "ipython3",
   "version": "3.7.3"
  }
 },
 "nbformat": 4,
 "nbformat_minor": 4
}
