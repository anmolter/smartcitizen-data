{
 "cells": [
  {
   "cell_type": "markdown",
   "metadata": {},
   "source": [
    "# ElementAIR Kits analysis"
   ]
  },
  {
   "cell_type": "code",
   "execution_count": null,
   "metadata": {},
   "outputs": [],
   "source": [
    "import scdata as sc"
   ]
  },
  {
   "cell_type": "code",
   "execution_count": null,
   "metadata": {},
   "outputs": [],
   "source": [
    "from scdata._config import config\n",
    "\n",
    "config._outlevel = 'DEBUG'"
   ]
  },
  {
   "cell_type": "code",
   "execution_count": null,
   "metadata": {},
   "outputs": [],
   "source": [
    "from scdata.io.device_api import ScApiDevice"
   ]
  },
  {
   "cell_type": "code",
   "execution_count": null,
   "metadata": {},
   "outputs": [],
   "source": [
    "import seaborn as sns"
   ]
  },
  {
   "cell_type": "markdown",
   "metadata": {},
   "source": [
    "### Find sensors"
   ]
  },
  {
   "cell_type": "code",
   "execution_count": null,
   "metadata": {},
   "outputs": [],
   "source": [
    "sensors = ScApiDevice.global_search(value='ElementAIR_6', full=True)\n",
    "sensors"
   ]
  },
  {
   "cell_type": "code",
   "execution_count": null,
   "metadata": {},
   "outputs": [],
   "source": [
    "devices = sensors.index.tolist()\n",
    "devices"
   ]
  },
  {
   "cell_type": "code",
   "execution_count": null,
   "metadata": {},
   "outputs": [],
   "source": [
    "test = sc.Test('UCLL_KITS_ANALYSIS')"
   ]
  },
  {
   "cell_type": "markdown",
   "metadata": {},
   "source": [
    "### Create test"
   ]
  },
  {
   "cell_type": "code",
   "execution_count": null,
   "metadata": {},
   "outputs": [],
   "source": [
    "for device in devices:\n",
    "    test.add_device(sc.Device(blueprint = 'sck_21', descriptor = {'source': 'api',\n",
    "                                                  'id': device,\n",
    "                                                  'frequency': '1Min',\n",
    "                                                  'location': 'Europe/Madrid'}))"
   ]
  },
  {
   "cell_type": "code",
   "execution_count": null,
   "metadata": {},
   "outputs": [],
   "source": [
    "test.create()"
   ]
  },
  {
   "cell_type": "markdown",
   "metadata": {},
   "source": [
    "### Load Data"
   ]
  },
  {
   "cell_type": "code",
   "execution_count": null,
   "metadata": {
    "scrolled": true
   },
   "outputs": [],
   "source": [
    "test.load()"
   ]
  },
  {
   "cell_type": "markdown",
   "metadata": {},
   "source": [
    "### Basic exploration"
   ]
  },
  {
   "cell_type": "code",
   "execution_count": null,
   "metadata": {},
   "outputs": [],
   "source": [
    "traces = {1: {'devices': 'all', 'channel': 'TEMP', 'subplot': 1}\n",
    "         }\n",
    "\n",
    "formatting = {'width': 1000, 'title': 'Temperature', 'ylabel': {1: 'Temperature (degC)'}}\n",
    "options = {'clean_na': 'None', 'frequency': '5Min'}\n",
    "\n",
    "iframe = test.ts_uplot(traces = traces, formatting = formatting, options = options)\n",
    "\n",
    "test.add_content(title = 'Temperature graph', iframe = iframe)\n",
    "iframe"
   ]
  },
  {
   "cell_type": "code",
   "execution_count": null,
   "metadata": {},
   "outputs": [],
   "source": [
    "traces = {1: {'devices': 'all', 'channel': 'NOISE_A', 'subplot': 1}\n",
    "         }\n",
    "\n",
    "formatting = {'width': 1000, 'title': 'Noise', 'ylabel': {1: 'Noise (dBA)'}}\n",
    "options = {'clean_na': 'None', 'frequency': '5Min'}\n",
    "\n",
    "iframe = test.ts_uplot(traces = traces, formatting = formatting, options = options)\n",
    "test.add_content(title = 'Noise graph', iframe = iframe, text = 'Please, note here the effect of the noise floor as mentioned')\n",
    "iframe"
   ]
  },
  {
   "cell_type": "code",
   "execution_count": null,
   "metadata": {},
   "outputs": [],
   "source": [
    "traces = {1: {'devices': 'all', 'channel': 'PM_25', 'subplot': 1}\n",
    "         }\n",
    "\n",
    "formatting = {'width': 1000, 'title': 'PM 2.5', 'ylabel': {1: 'PM 2.5 (ug/m3)'}}\n",
    "options = {'clean_na': 'None', 'frequency': '5Min'}\n",
    "\n",
    "iframe = test.ts_uplot(traces = traces, formatting = formatting, options = options)\n",
    "test.add_content(title = 'PM 2.5 graph', iframe = iframe)\n",
    "iframe"
   ]
  },
  {
   "cell_type": "code",
   "execution_count": null,
   "metadata": {},
   "outputs": [],
   "source": [
    "traces = {\n",
    "            \"1\": {\"devices\": \"13167\",\n",
    "                  \"channel\": \"NOISE_A\",\n",
    "                  \"subplot\": 1},\n",
    "        }\n",
    "\n",
    "options = {'frequency':'1H', 'clean_na': 'drop', 'frequency_hours': 6, 'session': '1D'}\n",
    "formatting = {'width': 28}\n",
    "\n",
    "figure = test.heatmap_plot(traces = traces, options = options, formatting = formatting);\n",
    "\n",
    "test.add_content(title = 'Noise Visualisations (ElementAIR_6A_1)', figure = figure)"
   ]
  },
  {
   "cell_type": "code",
   "execution_count": null,
   "metadata": {},
   "outputs": [],
   "source": [
    "traces = {\n",
    "            \"1\": {\"devices\": \"13172\",\n",
    "                  \"channel\": \"NOISE_A\",\n",
    "                  \"subplot\": 1},\n",
    "        }\n",
    "\n",
    "options = {'frequency':'1H', 'clean_na': 'drop', 'frequency_hours': 6, 'session': '1D'}\n",
    "formatting = {'width': 28}\n",
    "\n",
    "figure = test.heatmap_plot(traces = traces, options = options, formatting = formatting);\n",
    "test.add_content(title = 'Noise Visualisations (ElementAIR_6C_2)', figure = figure)"
   ]
  },
  {
   "cell_type": "markdown",
   "metadata": {},
   "source": [
    "## Agregated data"
   ]
  },
  {
   "cell_type": "code",
   "execution_count": null,
   "metadata": {},
   "outputs": [],
   "source": [
    "import numpy as np\n",
    "import pandas as pd"
   ]
  },
  {
   "cell_type": "code",
   "execution_count": null,
   "metadata": {},
   "outputs": [],
   "source": [
    "combined_df = pd.concat([test.devices[str(device)].readings for device in devices])"
   ]
  },
  {
   "cell_type": "code",
   "execution_count": null,
   "metadata": {},
   "outputs": [],
   "source": [
    "combined_df['device'] = np.repeat([str(device) for device in devices], [len(test.devices[str(device)].readings) for device in devices])"
   ]
  },
  {
   "cell_type": "code",
   "execution_count": null,
   "metadata": {},
   "outputs": [],
   "source": [
    "combined_df['day_of_week'] = combined_df.index.day_name()"
   ]
  },
  {
   "cell_type": "code",
   "execution_count": null,
   "metadata": {},
   "outputs": [],
   "source": [
    "def is_business(x):\n",
    "    if x['day_of_week'] in ['Monday', 'Tuesday', 'Wednesday', 'Thursday', 'Friday']: return True\n",
    "    else: return False\n",
    "    \n",
    "combined_df['is_business'] = combined_df.apply(lambda x: is_business(x), axis = 1)\n",
    "combined_df.head(5)"
   ]
  },
  {
   "cell_type": "code",
   "execution_count": null,
   "metadata": {},
   "outputs": [],
   "source": [
    "g = sns.catplot(x=\"is_business\", y=\"PM_25\",\n",
    "            col = \"device\", col_wrap=3,\n",
    "            data=combined_df, height=8, aspect=0.8)\n",
    "\n",
    "(g.set_axis_labels(\"\", \"PM 2.5 (ug/m3)\")\n",
    "  .set_xticklabels([\"Weekends\", \"Mondays to Fridays\"])\n",
    "# .set(ylim=(0, 80))\n",
    "  .despine(left=True))\n",
    "\n",
    "test.add_content(title= \"PM 2.5 weekday comparison\", figure = g)"
   ]
  },
  {
   "cell_type": "code",
   "execution_count": null,
   "metadata": {},
   "outputs": [],
   "source": [
    "g = sns.catplot(x=\"is_business\", y=\"NOISE_A\",\n",
    "            col = \"device\", col_wrap=3,\n",
    "            data=combined_df, height=8, aspect=0.8)\n",
    "\n",
    "(g.set_axis_labels(\"\", \"Noise Level (dBA)\")\n",
    "  .set_xticklabels([\"Weekends\", \"Mondays to Fridays\"])\n",
    "# .set(ylim=(0, 80))\n",
    "  .despine(left=True))\n",
    "\n",
    "test.add_content(title= \"Noise weekday comparison\", figure = g, text = 'Noise levels are clearly much higher in every case')"
   ]
  },
  {
   "cell_type": "markdown",
   "metadata": {},
   "source": [
    "## Export in html"
   ]
  },
  {
   "cell_type": "code",
   "execution_count": null,
   "metadata": {},
   "outputs": [],
   "source": [
    "test.to_html(title = 'ElementAIR sensors', details=False);"
   ]
  },
  {
   "cell_type": "markdown",
   "metadata": {},
   "source": [
    "## Simplified data"
   ]
  },
  {
   "cell_type": "code",
   "execution_count": null,
   "metadata": {},
   "outputs": [],
   "source": [
    "for device in devices:\n",
    "    df = test.devices[str(device)].readings.copy()\n",
    "    df = df.resample('1H').mean()\n",
    "    \n",
    "    df.to_csv(f'~/Desktop/{device}.csv')"
   ]
  }
 ],
 "metadata": {
  "kernelspec": {
   "display_name": "Python 3",
   "language": "python",
   "name": "python3"
  },
  "language_info": {
   "codemirror_mode": {
    "name": "ipython",
    "version": 3
   },
   "file_extension": ".py",
   "mimetype": "text/x-python",
   "name": "python",
   "nbconvert_exporter": "python",
   "pygments_lexer": "ipython3",
   "version": "3.7.3"
  }
 },
 "nbformat": 4,
 "nbformat_minor": 4
}
