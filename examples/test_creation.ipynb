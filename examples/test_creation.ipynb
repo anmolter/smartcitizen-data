{
 "cells": [
  {
   "cell_type": "markdown",
   "metadata": {
    "Collapsed": "false"
   },
   "source": [
    "# Test creation"
   ]
  },
  {
   "cell_type": "markdown",
   "metadata": {
    "Collapsed": "false"
   },
   "source": [
    "This notebook will create the necessary folder structure for your tests. \n",
    "See more documentation in: https://docs.smartcitizen.me/Guides/Organise%20your%20data/"
   ]
  },
  {
   "cell_type": "markdown",
   "metadata": {
    "Collapsed": "false"
   },
   "source": [
    "## Test information\n",
    "Add the information from your test. Some inputs are given below as an example."
   ]
  },
  {
   "cell_type": "code",
   "execution_count": null,
   "metadata": {
    "Collapsed": "false"
   },
   "outputs": [],
   "source": [
    "from src.data.test import test_wrapper\n",
    "import pandas as pd\n",
    "from src.saf import std_out\n",
    "\n",
    "### ---------------------------------------\n",
    "### ------------INPUT METADATA-------------\n",
    "### ---------------------------------------\n",
    "\n",
    "# Date when you performed the test in 'YYYY-MM-DD' format\n",
    "date = '2020-03-26'\n",
    "# INTernal or EXTernal test (made by you or others)\n",
    "who = 'INT' \n",
    "# Short title for the test\n",
    "short_name = 'AMAZING_TEST'\n",
    "# Comment for your test. Make this as long as you need to describe fully the purpose of this test\n",
    "comment = ''\n",
    "# Project\n",
    "project = 'SmartCitizen'\n",
    "# Firmware version\n",
    "commit = ''\n",
    "# Who made the test\n",
    "author = 'Myself'\n",
    "# Test type (indoor, outdoor, anything that helps you organise later on)\n",
    "type_test = 'outdoor'\n",
    "# If you are going to document the results somewhere, you can put a link below\n",
    "report = ''\n",
    "notes = ''\n",
    "\n",
    "### ---------------------------------------\n",
    "### ----------END INPUT METADATA-----------\n",
    "### ---------------------------------------\n",
    "\n",
    "# Create test object\n",
    "newtest = test_wrapper(pd.to_datetime(date).strftime('%Y-%m') + '_' + who + '_' + short_name)\n",
    "\n",
    "# Add General test details\n",
    "details = {'project': project, \n",
    "           'commit': commit, \n",
    "           'author': author, \n",
    "           'type_test': type_test, \n",
    "           'report': report, \n",
    "           'comment': comment,\n",
    "           'notes': notes}\n",
    "\n",
    "# Output test name\n",
    "std_out(f'New test name: {newtest.name}', 'SUCCESS')"
   ]
  },
  {
   "cell_type": "markdown",
   "metadata": {
    "Collapsed": "false"
   },
   "source": [
    "## Add devices\n",
    "Here we will add the devices for our test. The devices must be an instanc of `src.data.device`. \n",
    "There are plenty of blueprints already for each device available at `data/interim/blueprints.yml` . If not filled in, the blueprint default value will be used."
   ]
  },
  {
   "cell_type": "code",
   "execution_count": null,
   "metadata": {
    "Collapsed": "false"
   },
   "outputs": [],
   "source": [
    "from src.data.device import device_wrapper\n",
    "\n",
    "STATIONS = {'10752':{'CO':162700911,'NO2':202702041,'OX':204702949},\n",
    "            '10751':{'CO':162700906,'NO2':202702038,'OX':204702950}}\n",
    "\n",
    "devices = list()\n",
    "\n",
    "for device_name in STATIONS.keys():\n",
    "    # Example of a sck_21_station from the SC API, using three electrochemical sensors with given ids\n",
    "    devices.append(device_wrapper(blueprint = 'sck_21_station', descriptor = {'id': '10752', \n",
    "                                                                             'source': 'api',\n",
    "                                                                             'metrics': {'CO': {'id': 2168293},\n",
    "                                                                                         'NO2': {'id': 2168294},\n",
    "                                                                                         'O3': {'id': 2168295}\n",
    "                                                                                        },\n",
    "                                                                              'frequency': '1Min'\n",
    "                                                                             }))\n",
    "    \n",
    "    # Example of a sck_20_station from the local csv data. In this case no alphasense data is specified\n",
    "    devices.append(device_wrapper(blueprint = 'sck_20_station', descriptor = {'id': '5261',\n",
    "                                                                             'source': 'csv',\n",
    "                                                                             'frequency': '1Min',\n",
    "                                                                             'location': 'Europe/Madrid',                                                                              \n",
    "                                                                             'raw_data_file': '5261.csv'}))"
   ]
  },
  {
   "cell_type": "markdown",
   "metadata": {
    "Collapsed": "false"
   },
   "source": [
    "\n",
    "## Process the test\n",
    "This will generate a folder under `data/processed/YYYY/MM/<test_name>` and add raw files (if any), load csv files, convert units and names, resample according to frequency, and export accordingly. The test and devices description will then be dumped into `test_description.yaml`.\n",
    "\n",
    "If source is from API, it will add the information in the `test_description.yaml` for later download."
   ]
  },
  {
   "cell_type": "code",
   "execution_count": null,
   "metadata": {
    "Collapsed": "false"
   },
   "outputs": [],
   "source": [
    "# Add details\n",
    "newtest.add_details(details)\n",
    "# Add devices\n",
    "for device in devices: newtest.add_device(device)\n",
    "# Process data\n",
    "newtest.make()"
   ]
  }
 ],
 "metadata": {
  "kernelspec": {
   "display_name": "Python 3",
   "language": "python",
   "name": "python3"
  },
  "language_info": {
   "codemirror_mode": {
    "name": "ipython",
    "version": 3
   },
   "file_extension": ".py",
   "mimetype": "text/x-python",
   "name": "python",
   "nbconvert_exporter": "python",
   "pygments_lexer": "ipython3",
   "version": "3.7.0"
  },
  "toc": {
   "nav_menu": {},
   "number_sections": true,
   "sideBar": true,
   "skip_h1_title": false,
   "title_cell": "Table of Contents",
   "title_sidebar": "Contents",
   "toc_cell": false,
   "toc_position": {
    "height": "calc(100% - 180px)",
    "left": "10px",
    "top": "150px",
    "width": "178px"
   },
   "toc_section_display": true,
   "toc_window_display": true
  }
 },
 "nbformat": 4,
 "nbformat_minor": 4
}
