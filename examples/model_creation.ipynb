{
 "cells": [
  {
   "cell_type": "markdown",
   "metadata": {
    "Collapsed": "false",
    "toc-hr-collapsed": false
   },
   "source": [
    "# Sensor Calibration\n",
    "\n",
    "This example will walk you through the model creation using two different methods"
   ]
  },
  {
   "cell_type": "code",
   "execution_count": null,
   "metadata": {
    "Collapsed": "false"
   },
   "outputs": [],
   "source": [
    "from src.data.data import *\n",
    "data = data_wrapper()"
   ]
  },
  {
   "cell_type": "markdown",
   "metadata": {
    "Collapsed": "false"
   },
   "source": [
    "## Load data"
   ]
  },
  {
   "cell_type": "code",
   "execution_count": null,
   "metadata": {
    "Collapsed": "false"
   },
   "outputs": [],
   "source": [
    "# Set these below or use defaults from config.yaml \n",
    "#options = {'clean_na': False, 'clean_na_method': 'drop', 'frequency': '3Min', 'load_cached_API': True, 'store_cached_API': True}\n",
    "options = {'clean_na': True, 'clean_na_method': 'drop'}\n",
    "testname = \"2019-03_EXT_UCD_URBAN_BACKGROUND_API\"\n",
    "data.load_test(testname, options)"
   ]
  },
  {
   "cell_type": "markdown",
   "metadata": {
    "Collapsed": "false"
   },
   "source": [
    "## Create a Linear Model"
   ]
  },
  {
   "cell_type": "code",
   "execution_count": null,
   "metadata": {
    "Collapsed": "false"
   },
   "outputs": [],
   "source": [
    "from src.models.model import model_wrapper\n",
    "\n",
    "# Input model description\n",
    "model_description_ols = {\"model_name\": \"OLS_UCD\",\n",
    "                    \"model_type\": \"OLS\",\n",
    "                    \"model_target\": \"ALPHASENSE\",\n",
    "                    \"data\": {\"train\": {\"2019-03_EXT_UCD_URBAN_BACKGROUND_API\": {\"devices\": [\"5262\"],\n",
    "                                                                               \"reference_device\": \"CITY_COUNCIL\"}},\n",
    "                            \"test\": {\"2019-03_EXT_UCD_URBAN_BACKGROUND_API\": {\"devices\": [\"5565\"],\n",
    "                                                                               \"reference_device\": \"CITY_COUNCIL\"}},\n",
    "                            \"features\":  {\"REF\": \"NO2_CONV\",\n",
    "                                            \"A\": \"GB_2W\",\n",
    "                                            \"B\": \"GB_2A\",\n",
    "                                            \"C\": \"HUM\"},\n",
    "                            \"data_options\": {\"frequency\": '1Min',\n",
    "                                            \"clean_na\": True,\n",
    "                                            \"clean_na_method\": \"drop\",\n",
    "                                            \"min_date\": None,\n",
    "                                            \"frequency\": \"1Min\",\n",
    "                                            \"max_date\": '2019-01-15'},\n",
    "                            },\n",
    "                    \"hyperparameters\": {\"ratio_train\": 0.75},\n",
    "                    \"model_options\": {\"session_active_model\": True,\n",
    "                                \"show_plots\": True,\n",
    "                                \"export_model\": False,\n",
    "\t\t\t\t\t\t\t\t\"export_model_file\": False,\n",
    "\t\t\t\t\t\t\t\t\"extract_metrics\": True}\n",
    "                    }\n",
    "\n",
    "# --- \n",
    "# Init rf model\n",
    "ols_model = model_wrapper(model_description_ols, verbose = True)\n",
    "\n",
    "# Prepare dataframe for modeling\n",
    "test_name = data.prepare_dataframe_model(ols_model)\n",
    "                    \n",
    "# Train Model based on training dataset\n",
    "ols_model.train()\n",
    "\n",
    "# Get prediction for train device\n",
    "device = ols_model.data['train'][test_name]['devices'][0]\n",
    "prediction_name = device + '_' + ols_model.name\n",
    "prediction = ols_model.predict(data.tests[test_name].devices[device].readings, prediction_name)\n",
    "# Combine it in readings\n",
    "data.tests[test_name].devices[device].readings.combine_first(prediction)\n",
    "\n",
    "# Archive model\n",
    "if ols_model.options['session_active_model']:\n",
    "    data.archive_model(ols_model)\n",
    "\n",
    "# Print metrics\n",
    "if ols_model.options['extract_metrics']:\n",
    "    metrics_model_ols = ols_model.extract_metrics('train')"
   ]
  },
  {
   "cell_type": "markdown",
   "metadata": {
    "Collapsed": "false",
    "toc-hr-collapsed": false
   },
   "source": [
    "## Create a Random Forest"
   ]
  },
  {
   "cell_type": "code",
   "execution_count": null,
   "metadata": {
    "Collapsed": "false"
   },
   "outputs": [],
   "source": [
    "from src.models.model import model_wrapper\n",
    "\n",
    "# Input model description\n",
    "model_description_rf = {\"model_name\": \"RF_UCD\",\n",
    "                    \"model_type\": \"RF\",\n",
    "                    \"model_target\": \"ALPHASENSE\",\n",
    "                    \"data\": {\"train\": {\"2019-03_EXT_UCD_URBAN_BACKGROUND_API\": {\"devices\": [\"5262\"],\n",
    "                                                                               \"reference_device\": \"CITY_COUNCIL\"}},\n",
    "                            \"test\": {\"2019-03_EXT_UCD_URBAN_BACKGROUND_API\": {\"devices\": [\"5565\"],\n",
    "                                                                               \"reference_device\": \"CITY_COUNCIL\"}},\n",
    "                            \"features\":  {\"REF\": \"NO2_CONV\",\n",
    "                                            \"A\": \"GB_2W\",\n",
    "                                            \"B\": \"GB_2A\",\n",
    "                                            \"C\": \"HUM\"},\n",
    "                            \"data_options\": {\"target_raster\": '1Min',\n",
    "                                            \"clean_na\": True,\n",
    "                                            \"clean_na_method\": \"drop\",\n",
    "                                            \"min_date\": None,\n",
    "                                            \"frequency\": \"1Min\",\n",
    "                                            \"max_date\": '2019-01-15'},\n",
    "                            },\n",
    "                    \"hyperparameters\": {\"ratio_train\": 0.75, \n",
    "                                        \"min_samples_leaf\": 2,\n",
    "                                        \"max_features\": None,\n",
    "                                       \"n_estimators\": 100,\n",
    "\t\t\t\t\t\t\t\t\t\t\"shuffle_split\": True},\n",
    "                    \"model_options\": {\"session_active_model\": True,\n",
    "                                \"show_plots\": True,\n",
    "                                \"export_model\": False,\n",
    "\t\t\t\t\t\t\t\t\"export_model_file\": False,\n",
    "\t\t\t\t\t\t\t\t\"extract_metrics\": True}\n",
    "                    }\n",
    "\n",
    "# --- \n",
    "# Init rf model\n",
    "rf_model = model_wrapper(model_description_rf, verbose = True)\n",
    "\n",
    "# Prepare dataframe for modeling\n",
    "test_name = data.prepare_dataframe_model(rf_model)\n",
    "                    \n",
    "# Train Model based on training dataset\n",
    "rf_model.train()\n",
    "\n",
    "# Get prediction for train device\n",
    "device = rf_model.data['train'][test_name]['devices'][0]\n",
    "prediction_name = device + '_' + rf_model.name\n",
    "prediction = rf_model.predict(data.tests[test_name].devices[device].readings, prediction_name)\n",
    "# Combine it in readings\n",
    "data.tests[test_name].devices[device].readings.combine_first(prediction)\n",
    "\n",
    "# Archive model\n",
    "if rf_model.options['session_active_model']:\n",
    "    data.archive_model(rf_model)\n",
    "\n",
    "# Print metrics\n",
    "if rf_model.options['extract_metrics']:\n",
    "    metrics_model_rf = rf_model.extract_metrics('train')"
   ]
  },
  {
   "cell_type": "markdown",
   "metadata": {
    "Collapsed": "false"
   },
   "source": [
    "## Model comparison"
   ]
  },
  {
   "cell_type": "code",
   "execution_count": null,
   "metadata": {
    "Collapsed": "false"
   },
   "outputs": [],
   "source": [
    "from src.visualization.visualization import targetDiagram\n",
    "%matplotlib inline\n",
    "models = dict()\n",
    "\n",
    "group = 0\n",
    "for model in [ols_model, rf_model]:\n",
    "    for dataset in ['train', 'validation']:\n",
    "        if dataset in model.metrics.keys(): \n",
    "            models[model.name + '_' + dataset] = model.metrics[dataset]\n",
    "            models[model.name + '_' + dataset]['group'] = group\n",
    "\n",
    "targetDiagram(models, True, 'seaborn-talk')"
   ]
  }
 ],
 "metadata": {
  "celltoolbar": "Raw Cell Format",
  "kernelspec": {
   "display_name": "Python 3",
   "language": "python",
   "name": "python3"
  },
  "language_info": {
   "codemirror_mode": {
    "name": "ipython",
    "version": 3
   },
   "file_extension": ".py",
   "mimetype": "text/x-python",
   "name": "python",
   "nbconvert_exporter": "python",
   "pygments_lexer": "ipython3",
   "version": "3.7.0"
  },
  "toc": {
   "nav_menu": {
    "height": "357px",
    "width": "307px"
   },
   "number_sections": true,
   "sideBar": true,
   "skip_h1_title": false,
   "title_cell": "Table of Contents",
   "title_sidebar": "Contents",
   "toc_cell": true,
   "toc_position": {
    "height": "48px",
    "left": "552px",
    "top": "705.497px",
    "width": "315px"
   },
   "toc_section_display": true,
   "toc_window_display": true
  },
  "toc-autonumbering": false,
  "toc-showcode": false,
  "toc-showmarkdowntxt": false,
  "toc-showtags": false
 },
 "nbformat": 4,
 "nbformat_minor": 4
}
