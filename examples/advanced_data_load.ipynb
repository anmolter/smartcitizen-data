{
 "cells": [
  {
   "cell_type": "markdown",
   "metadata": {
    "Collapsed": "false"
   },
   "source": [
    "# Load data, plot, and export\n",
    "This example will load data from the SmartCitizen API, do some plots, and export it in CSV format"
   ]
  },
  {
   "cell_type": "markdown",
   "metadata": {
    "Collapsed": "false"
   },
   "source": [
    "## Initialise framework"
   ]
  },
  {
   "cell_type": "code",
   "execution_count": null,
   "metadata": {},
   "outputs": [],
   "source": [
    "%load_ext autoreload\n",
    "%autoreload 2"
   ]
  },
  {
   "cell_type": "code",
   "execution_count": null,
   "metadata": {
    "Collapsed": "false"
   },
   "outputs": [],
   "source": [
    "from src.data.data import Data\n",
    "data = Data()"
   ]
  },
  {
   "cell_type": "markdown",
   "metadata": {
    "Collapsed": "false"
   },
   "source": [
    "## Define the devices\n",
    "\n",
    "The sensor readings will be stored, for each device (a SCK, station, or other), into a test. That test will need a name.\n",
    "\n",
    "Devices also have predefined or custom blueprints, that can be found in `src/data/interim/blueprints.yaml`.\n"
   ]
  },
  {
   "cell_type": "code",
   "execution_count": null,
   "metadata": {
    "Collapsed": "false"
   },
   "outputs": [],
   "source": [
    "# Here we give a name to the test that we will put the data in\n",
    "testname = 'EXAMPLE'\n",
    "\n",
    "# Here we define the list of sensor ids we want to download\n",
    "devices = ['10604', '10605', '10606', '10607', '10608', '10609', \n",
    "           '10610', '10611', '10612', '10613', '10614', '10616']\n",
    "\n",
    "blueprint = 'sck_21'\n",
    "\n",
    "# Here we specify the different options for data load\n",
    "options = {'frequency': '5Min',\n",
    "            'min_date': '2020-01-07',\n",
    "            'max_date': '2020-01-25',\n",
    "            'clean_na': \"drop\"\n",
    "            }\n",
    "\n",
    "# Other example for options\n",
    "# options = {'frequency': '1Min',\n",
    "#             'min_date': None,\n",
    "#             'max_date': None,\n",
    "#             'clean_na': None\n",
    "#             }"
   ]
  },
  {
   "cell_type": "code",
   "execution_count": null,
   "metadata": {},
   "outputs": [],
   "source": [
    "# Add devices to list. You don't need to touch anything here\n",
    "from src.data.device import Device\n",
    "tdevices = list()\n",
    "for device in devices:\n",
    "    tdevices.append(Device(blueprint = blueprint, descriptor = {'id': device, \n",
    "                                                                'source': 'api'\n",
    "                                                                }))"
   ]
  },
  {
   "cell_type": "markdown",
   "metadata": {},
   "source": [
    "# Load the data\n",
    "\n",
    "The test defined above, with all the devices, will be stored in an overarching data structure conveniently called `Data`. This exposes methods to load, export and process tests and devices. It will also create a folder in the `data/processed` directory where we will store the test information, and cache some data for the devices to speed things up next time you load the test"
   ]
  },
  {
   "cell_type": "code",
   "execution_count": null,
   "metadata": {
    "Collapsed": "false"
   },
   "outputs": [],
   "source": [
    "# We load the data based on the input above\n",
    "data.load_devices(testname, tdevices, options = options)"
   ]
  },
  {
   "cell_type": "markdown",
   "metadata": {
    "Collapsed": "false"
   },
   "source": [
    "## Data structure\n",
    "Here we show how the data is structure in the data object.\n",
    "\n",
    "First the tests:"
   ]
  },
  {
   "cell_type": "code",
   "execution_count": null,
   "metadata": {
    "Collapsed": "false"
   },
   "outputs": [],
   "source": [
    "tests = list(data.tests.keys())\n",
    "tests"
   ]
  },
  {
   "cell_type": "markdown",
   "metadata": {
    "Collapsed": "false"
   },
   "source": [
    "Then, the devices inside a test"
   ]
  },
  {
   "cell_type": "code",
   "execution_count": null,
   "metadata": {
    "Collapsed": "false"
   },
   "outputs": [],
   "source": [
    "devices = list(data.tests[tests[0]].devices.keys())\n",
    "devices"
   ]
  },
  {
   "cell_type": "markdown",
   "metadata": {
    "Collapsed": "false"
   },
   "source": [
    "Then the data inside the devices"
   ]
  },
  {
   "cell_type": "code",
   "execution_count": null,
   "metadata": {
    "Collapsed": "false"
   },
   "outputs": [],
   "source": [
    "data.tests[tests[0]].devices[devices[0]].readings.head(5)"
   ]
  },
  {
   "cell_type": "markdown",
   "metadata": {
    "Collapsed": "false"
   },
   "source": [
    "## Export the whole test\n",
    "This will export all the devices in a test in csv file format, in the specified path"
   ]
  },
  {
   "cell_type": "code",
   "execution_count": null,
   "metadata": {
    "Collapsed": "false"
   },
   "outputs": [],
   "source": [
    "testname = tests[0]\n",
    "# Example exporting only the first. We can iterate over devices with a for loop and export them all in separate CSV files\n",
    "data.export(testname, path = '/path/to/folder', forced_overwrite = True)"
   ]
  },
  {
   "cell_type": "markdown",
   "metadata": {},
   "source": [
    "## Export one device\n",
    "This will export one device in csv format, in the specified path"
   ]
  },
  {
   "cell_type": "code",
   "execution_count": null,
   "metadata": {},
   "outputs": [],
   "source": [
    "data.tests[tests[0]].devices['10604'].export(path = '/path/to/folder', forced_overwrite = True)"
   ]
  },
  {
   "cell_type": "markdown",
   "metadata": {
    "Collapsed": "false",
    "toc-hr-collapsed": false
   },
   "source": [
    "## Explore data\n",
    "\n",
    "Make some plots about the data and export them - put a file name and the export path in the field"
   ]
  },
  {
   "cell_type": "code",
   "execution_count": null,
   "metadata": {
    "Collapsed": "false"
   },
   "outputs": [],
   "source": [
    "from src.visualization.visualization import Plot"
   ]
  },
  {
   "cell_type": "markdown",
   "metadata": {
    "Collapsed": "false"
   },
   "source": [
    "All the devices in the test with name `testname`:"
   ]
  },
  {
   "cell_type": "code",
   "execution_count": null,
   "metadata": {
    "Collapsed": "false"
   },
   "outputs": [],
   "source": [
    "plot_description = {\"plot_type\": \"timeseries\",\n",
    "                    \"plotting_library\": \"matplotlib\",\n",
    "                    \"data\": {\"test\": testname,\n",
    "                                    \"traces\": {\"1\": {\"device\": 'all',\n",
    "                                                    \"channel\" : \"PM_1\",\n",
    "                                                    \"subplot\": 1},\n",
    "                                              \"2\": {\"device\": 'all',\n",
    "                                                    \"channel\" : \"PM_25\",\n",
    "                                                    \"subplot\": 2},\n",
    "                                              \"3\": {\"device\": 'all',\n",
    "                                                    \"channel\" : \"PM_10\",\n",
    "                                                    \"subplot\": 3}}},\n",
    "                    \"options\": {\"show_plot\": True,\n",
    "                                \"export_path\": None, \n",
    "                                \"file_name\": None,\n",
    "                                \"frequency\": '3Min',\n",
    "                                \"clean_na\": False,\n",
    "                                \"clean_na_method\": '',\n",
    "                                \"max_date\": None,\n",
    "                                \"min_date\": None},\n",
    "                    \"formatting\": {\"xlabel\": \"Time (-)\",\n",
    "                                   \"ylabel\": {1: \"EXT_PM_1 (ug/m3)\", 2: \"EXT_PM_25 (ug/m3)\", 3: \"EXT_PM_10 (ug/m3)\"},\n",
    "                                   \"yrange\": {1: [0, 50], 2: [0, 50], 3: [0, 50]},\n",
    "                                   \"title\": \"PM Sensor tests\",\n",
    "                                   \"sharex\":True,\n",
    "                                   \"grid\": True,\n",
    "                                   \"height\": 20,\n",
    "                                   \"width\": 15,\n",
    "                                   \"style\": \"seaborn-whitegrid\"}\n",
    "                    }\n",
    "\n",
    "plot = Plot(plot_description, verbose = False)\n",
    "plot.plot(data)\n",
    "# Uncomment below to export the plot\n",
    "# plot.export()"
   ]
  },
  {
   "cell_type": "markdown",
   "metadata": {
    "Collapsed": "false"
   },
   "source": [
    "Only one device, with different metrics:"
   ]
  },
  {
   "cell_type": "code",
   "execution_count": null,
   "metadata": {
    "Collapsed": "false"
   },
   "outputs": [],
   "source": [
    "plot_description = {\"plot_type\": \"timeseries\",\n",
    "                    \"plotting_library\": \"matplotlib\",\n",
    "                    \"data\": {\"test\": testname,\n",
    "                                    \"traces\": {\"1\": {\"device\": '10604',\n",
    "                                                    \"channel\" : \"PM_1\",\n",
    "                                                    \"subplot\": 1},\n",
    "                                              \"2\": {\"device\": '10604',\n",
    "                                                    \"channel\" : \"PM_25\",\n",
    "                                                    \"subplot\": 2},\n",
    "                                              \"3\": {\"device\": '10604',\n",
    "                                                    \"channel\" : \"PM_10\",\n",
    "                                                    \"subplot\": 3}}},\n",
    "                    \"options\": {\"show_plot\": True,\n",
    "                                \"export_path\": None, \n",
    "                                \"file_name\": None,\n",
    "                                \"frequency\": '3Min',\n",
    "                                \"clean_na\": False,\n",
    "                                \"clean_na_method\": '',\n",
    "                                \"max_date\": None,\n",
    "                                \"min_date\": None},\n",
    "                    \"formatting\": {\"xlabel\": \"Time (-)\",\n",
    "                                   \"ylabel\": {1: \"PM_1 (ug/m3)\", 2: \"PM_25 (ug/m3)\", 3: \"PM_10 (ug/m3)\"},\n",
    "                                   \"yrange\": {1: [0, 50], 2: [0, 50], 3: [0, 50]},\n",
    "                                   \"title\": \"PM Sensor tests\",\n",
    "                                   \"sharex\":True,\n",
    "                                   \"grid\": True,\n",
    "                                   \"height\": 20,\n",
    "                                   \"width\": 15,\n",
    "                                   \"style\": \"seaborn-whitegrid\"}\n",
    "                    }\n",
    "\n",
    "plot = Plot(plot_description, False)\n",
    "plot.plot(data)\n",
    "# Uncomment below to export the plot\n",
    "# plot.export()"
   ]
  }
 ],
 "metadata": {
  "celltoolbar": "Raw Cell Format",
  "kernelspec": {
   "display_name": "Python 3",
   "language": "python",
   "name": "python3"
  },
  "language_info": {
   "codemirror_mode": {
    "name": "ipython",
    "version": 3
   },
   "file_extension": ".py",
   "mimetype": "text/x-python",
   "name": "python",
   "nbconvert_exporter": "python",
   "pygments_lexer": "ipython3",
   "version": "3.7.0"
  },
  "toc": {
   "nav_menu": {
    "height": "357px",
    "width": "307px"
   },
   "number_sections": true,
   "sideBar": true,
   "skip_h1_title": false,
   "title_cell": "Table of Contents",
   "title_sidebar": "Contents",
   "toc_cell": true,
   "toc_position": {
    "height": "48px",
    "left": "552px",
    "top": "705.497px",
    "width": "315px"
   },
   "toc_section_display": true,
   "toc_window_display": true
  },
  "toc-autonumbering": false,
  "toc-showcode": false,
  "toc-showmarkdowntxt": false,
  "toc-showtags": false
 },
 "nbformat": 4,
 "nbformat_minor": 4
}
