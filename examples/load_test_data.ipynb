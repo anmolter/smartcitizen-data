{
 "cells": [
  {
   "cell_type": "markdown",
   "metadata": {
    "Collapsed": "false",
    "toc-hr-collapsed": false
   },
   "source": [
    "# Load data from local tests, and plot it\n",
    "This example will load data from the local database, and do some plots. Before using this notebook, you need to go to test_creation.ipynb and create a test. \n",
    "Tests have more information than simple CSV files. The test contains information about the authors, the project, the devices metadata such as SN, calibration data and so on. This is important for traceability and reporting during testing and development."
   ]
  },
  {
   "cell_type": "code",
   "execution_count": null,
   "metadata": {
    "Collapsed": "false"
   },
   "outputs": [],
   "source": [
    "from src.data.data import Data\n",
    "from src.saf import std_out, paths\n",
    "data = Data()"
   ]
  },
  {
   "cell_type": "markdown",
   "metadata": {
    "Collapsed": "false"
   },
   "source": [
    "## Load data\n",
    "Check what tests have been done in `2020`"
   ]
  },
  {
   "cell_type": "code",
   "execution_count": null,
   "metadata": {
    "Collapsed": "false"
   },
   "outputs": [],
   "source": [
    "[test for test in data.get_tests(paths['dataDirectory']).keys() if '2020' in test]"
   ]
  },
  {
   "cell_type": "code",
   "execution_count": null,
   "metadata": {
    "Collapsed": "false"
   },
   "outputs": [],
   "source": [
    "testname = '2020-03_INT_AMAZING_TEST_90'\n",
    "\n",
    "# Set options below or use defaults from config.yaml \n",
    "options = {'clean_na': None}\n",
    "# options = {'clean_na': 'drop', 'frequency': '3Min', 'load_cached_API': True, 'store_cached_API': True}"
   ]
  },
  {
   "cell_type": "code",
   "execution_count": null,
   "metadata": {
    "Collapsed": "false"
   },
   "outputs": [],
   "source": [
    "data.load_test(testname, options)"
   ]
  },
  {
   "cell_type": "markdown",
   "metadata": {
    "Collapsed": "false"
   },
   "source": [
    "## Plot data"
   ]
  },
  {
   "cell_type": "code",
   "execution_count": null,
   "metadata": {
    "Collapsed": "false"
   },
   "outputs": [],
   "source": [
    "from src.visualization.visualization import Plot"
   ]
  },
  {
   "cell_type": "code",
   "execution_count": null,
   "metadata": {
    "Collapsed": "false"
   },
   "outputs": [],
   "source": [
    "plot_description = {\"plot_type\": \"timeseries\",\n",
    "                    \"plotting_library\": \"matplotlib\",\n",
    "                    \"data\": {\"test\": testname,\n",
    "                                    \"traces\": {\"1\": {\"device\": 'all',\n",
    "                                                    \"channel\" : \"EXT_PM_25\",\n",
    "                                                    \"subplot\": 1},\n",
    "                                              \"2\": {\"device\": 'all',\n",
    "                                                    \"channel\" : \"EXT_PM_10\",\n",
    "                                                    \"subplot\": 2}}},\n",
    "                    \"options\": {\"show_plot\": True,\n",
    "                                \"export_path\": None, \n",
    "                                \"file_name\": None,\n",
    "                                \"frequency\": '3Min',\n",
    "                                \"clean_na\": False,\n",
    "                                \"clean_na_method\": '',\n",
    "                                \"max_date\": None,\n",
    "                                \"min_date\": None},\n",
    "                    \"formatting\": {\"xlabel\": \"Time (-)\",\n",
    "                                   \"ylabel\": {1: \"EXT_PM_25 (ug/m3)\", 2: \"EXT_PM_10 (ug/m3)\"},\n",
    "                                   \"yrange\": {1: [0, 150], 2: [0, 150]},\n",
    "                                   \"title\": \"MUV Sensor tests\",\n",
    "                                   \"sharex\":True,\n",
    "                                   \"grid\": True,\n",
    "                                   \"height\": 12,\n",
    "                                   \"width\": 15,\n",
    "                                   \"style\": \"seaborn-whitegrid\"}\n",
    "                    }\n",
    "\n",
    "plot = Plot(plot_description, verbose = False)\n",
    "plot.plot(data)\n",
    "# Uncomment below to export the plot\n",
    "# plot.export_plot()"
   ]
  }
 ],
 "metadata": {
  "celltoolbar": "Raw Cell Format",
  "kernelspec": {
   "display_name": "Python 3",
   "language": "python",
   "name": "python3"
  },
  "language_info": {
   "codemirror_mode": {
    "name": "ipython",
    "version": 3
   },
   "file_extension": ".py",
   "mimetype": "text/x-python",
   "name": "python",
   "nbconvert_exporter": "python",
   "pygments_lexer": "ipython3",
   "version": "3.7.0"
  },
  "toc": {
   "nav_menu": {
    "height": "357px",
    "width": "307px"
   },
   "number_sections": true,
   "sideBar": true,
   "skip_h1_title": false,
   "title_cell": "Table of Contents",
   "title_sidebar": "Contents",
   "toc_cell": true,
   "toc_position": {
    "height": "48px",
    "left": "552px",
    "top": "705.497px",
    "width": "315px"
   },
   "toc_section_display": true,
   "toc_window_display": true
  },
  "toc-autonumbering": false,
  "toc-showcode": false,
  "toc-showmarkdowntxt": false,
  "toc-showtags": false
 },
 "nbformat": 4,
 "nbformat_minor": 4
}
