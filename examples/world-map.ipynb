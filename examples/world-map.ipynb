{
 "cells": [
  {
   "cell_type": "code",
   "execution_count": null,
   "metadata": {},
   "outputs": [],
   "source": [
    "%load_ext autoreload\n",
    "%autoreload 2"
   ]
  },
  {
   "cell_type": "code",
   "execution_count": null,
   "metadata": {},
   "outputs": [],
   "source": [
    "from src.data.data import Data\n",
    "data = Data()"
   ]
  },
  {
   "cell_type": "code",
   "execution_count": null,
   "metadata": {},
   "outputs": [],
   "source": [
    "from src.data.api import ScApiDevice\n",
    "\n",
    "outdoor_kitsdf = ScApiDevice.get_world_map(min_date='2020-03-01', max_date='2020-04-01', tags = ['outdoor'], tag_method = 'all', full = True)\n",
    "outdoor_kits = list(outdoor_kitsdf.index)\n",
    "print ('Outdoor Kits')\n",
    "print (outdoor_kits)\n",
    "print (len(outdoor_kits))"
   ]
  },
  {
   "cell_type": "code",
   "execution_count": null,
   "metadata": {},
   "outputs": [],
   "source": [
    "from src.visualization.visualization_tools import device_history_map\n",
    "import pandas as pd\n",
    "options = {'fillOpacity':1.0, 'radius': 5000, 'zoom': 3.5}\n",
    "device_history_map(map_type = 'static', dataframe = outdoor_kitsdf, options = options)"
   ]
  },
  {
   "cell_type": "code",
   "execution_count": null,
   "metadata": {},
   "outputs": [],
   "source": [
    "from src.saf import config\n",
    "from src.visualization.visualization_tools import *\n",
    "config.cached_data_margin = 6"
   ]
  },
  {
   "cell_type": "code",
   "execution_count": null,
   "metadata": {
    "scrolled": true
   },
   "outputs": [],
   "source": [
    "blueprint = 'sck_21'\n",
    "_sck_testname_outdoor = 'COVID_SCK_WORLD_OUTDOOR'\n",
    "\n",
    "# Here we specify the different options for data load\n",
    "options = {'frequency': '60Min',\n",
    "            'min_date': None,\n",
    "            'max_date': None,\n",
    "            'clean_na': None\n",
    "            }\n",
    "\n",
    "# Add devices to list\n",
    "from src.data.device import Device\n",
    "\n",
    "tdevices = list()\n",
    "for device in outdoor_kits:\n",
    "    tdevices.append(Device(blueprint = blueprint, descriptor = {'id': str(device), \n",
    "                                                                'source': 'api'\n",
    "                                                                }))\n",
    "# We load the data based on the input above\n",
    "sck_testname_outdoor = data.load_devices(_sck_testname_outdoor, tdevices, options = options)"
   ]
  },
  {
   "cell_type": "code",
   "execution_count": null,
   "metadata": {
    "scrolled": true
   },
   "outputs": [],
   "source": [
    "sck_testname_outdoor='2020-04_INT_COVID_SCK_WORLD_OUTDOOR'\n",
    "data.load_test(sck_testname_outdoor, options = options)"
   ]
  },
  {
   "cell_type": "code",
   "execution_count": null,
   "metadata": {
    "scrolled": true
   },
   "outputs": [],
   "source": [
    "for metric in ['NOISE_A']:\n",
    "    for device in data.tests[sck_testname_outdoor].devices:\n",
    "        data.tests[sck_testname_outdoor].devices[str(device)].add_metric({f'{metric}_AVG_7D': {'process': 'rolling_avg',\n",
    "                                                                'kwargs': {'name': metric,\n",
    "                                                                           'window_size': '7D'}\n",
    "                                                               }\n",
    "                                                     })"
   ]
  },
  {
   "cell_type": "code",
   "execution_count": null,
   "metadata": {
    "scrolled": true
   },
   "outputs": [],
   "source": [
    "data.process_test('2020-04_INT_COVID_SCK_WORLD_OUTDOOR')"
   ]
  },
  {
   "cell_type": "code",
   "execution_count": null,
   "metadata": {},
   "outputs": [],
   "source": [
    "m = device_metric_map(data.tests['2020-04_INT_COVID_SCK_WORLD_OUTDOOR'], channel = \"NOISE_A_AVG_3D\",\\\n",
    "                  start_date = '2020-02-01', end_date = '2020-04-17',\\\n",
    "                  options = {'period': '1D'})\n",
    "\n",
    "#m.save('/Users/macoscar/Desktop/Noise_map.html')"
   ]
  },
  {
   "cell_type": "code",
   "execution_count": null,
   "metadata": {},
   "outputs": [],
   "source": [
    "m.save('/Users/macoscar/Desktop/Noise_map.html')"
   ]
  },
  {
   "cell_type": "code",
   "execution_count": null,
   "metadata": {},
   "outputs": [],
   "source": [
    "m = device_metric_map(data.tests['2020-04_INT_COVID_SCK_WORLD_OUTDOOR'], channel = \"PM_1\",\\\n",
    "                  start_date = '2020-01-01', end_date = '2020-04-17',\\\n",
    "                  options = {'period': '1D'})\n",
    "m.save('/Users/macoscar/Desktop/PM_map.html')"
   ]
  },
  {
   "cell_type": "code",
   "execution_count": null,
   "metadata": {},
   "outputs": [],
   "source": [
    "from src.visualization.visualization import Plot"
   ]
  },
  {
   "cell_type": "code",
   "execution_count": null,
   "metadata": {},
   "outputs": [],
   "source": [
    "plot_description = {\"type\": \"timeseries\",\n",
    "                    \"library\": \"matplotlib\",\n",
    "                    \"data\": {\"test\": sck_testname_outdoor,\n",
    "                                    \"traces\": {\"1\": {\"device\": [9946],\n",
    "                                                    \"channel\" : \"NOISE_A\",\n",
    "                                                    \"subplot\": 1},\n",
    "                                               \"2\": {\"device\": [9946],\n",
    "                                                    \"channel\" : \"NOISE_A_AVG_3D\",\n",
    "                                                    \"subplot\": 1}, \n",
    "                                              \"3\": {\"device\": [10751],\n",
    "                                                    \"channel\" : \"NOISE_A\",\n",
    "                                                    \"subplot\": 2},\n",
    "                                              \"4\": {\"device\": [10751],\n",
    "                                                    \"channel\" : \"NOISE_A_AVG_3D\",\n",
    "                                                    \"subplot\": 2},\n",
    "                                              \"5\": {\"device\": [9575],\n",
    "                                                    \"channel\" : \"NOISE_A\",\n",
    "                                                    \"subplot\": 3},\n",
    "                                              \"6\": {\"device\": [9575],\n",
    "                                                    \"channel\" : \"NOISE_A_AVG_3D\",\n",
    "                                                    \"subplot\": 3}}},\n",
    "                    \"options\": {\"show_plot\": True,\n",
    "                                \"export_path\": '/Users/macoscar/Desktop/IAAC-Article', \n",
    "                                \"file_name\": 'Noise-world',\n",
    "                                \"frequency\": '2H',\n",
    "                                \"clean_na\": None,\n",
    "                                \"max_date\": None,\n",
    "                                \"min_date\": '2020-02-01'},\n",
    "                    \"formatting\": {\"xlabel\": \"Date\",\n",
    "                                   \"ylabel\": {1: \"Noise (dBA Scale)\", 2: \"Noise (dBA Scale)\", 3: \"Noise (dBA Scale)\"},\n",
    "                                   \"yrange\": {1: [45, 75], 2: [45, 75], 3: [45, 75]},\n",
    "                                   \"xrange\": {1: ['2020-01-29', '2020-04-25'], 2: ['2020-01-29', '2020-04-25'], 3: ['2020-01-29', '2020-04-25']},\n",
    "                                   \"title\": \"Noise Evolution - During COVID-19 lockdown\",\n",
    "                                   \"sharex\":True,\n",
    "                                   \"grid\": True,\n",
    "                                   \"legend\": False,\n",
    "                                   \"fontsize\": 13,\n",
    "                                   \"height\": 10,\n",
    "                                   \"width\": 20,\n",
    "                                   \"suptitle_factor\": 0.92,\n",
    "                                   \"palette\": \"gray_r\",\n",
    "                                   \"style\": \"seaborn-whitegrid\",\n",
    "                                   \"decorators\": {'axvline': ['2020-03-15', '2020-04-16'],\n",
    "                                                  'xtext': {'2020-03-16': 'Lockdown starts'},\n",
    "                                                  }\n",
    "                                  }\n",
    "                    }\n",
    "\n",
    "plot = Plot(plot_description)\n",
    "plot.plot(data)\n",
    "plot.export()"
   ]
  },
  {
   "cell_type": "code",
   "execution_count": null,
   "metadata": {},
   "outputs": [],
   "source": []
  }
 ],
 "metadata": {
  "kernelspec": {
   "display_name": "Python 3",
   "language": "python",
   "name": "python3"
  },
  "language_info": {
   "codemirror_mode": {
    "name": "ipython",
    "version": 3
   },
   "file_extension": ".py",
   "mimetype": "text/x-python",
   "name": "python",
   "nbconvert_exporter": "python",
   "pygments_lexer": "ipython3",
   "version": "3.7.0"
  }
 },
 "nbformat": 4,
 "nbformat_minor": 4
}
