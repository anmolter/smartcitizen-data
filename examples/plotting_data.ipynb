{
 "cells": [
  {
   "cell_type": "markdown",
   "metadata": {
    "Collapsed": "false",
    "toc-hr-collapsed": false
   },
   "source": [
    "# Plotting examples\n",
    "This example will show how to make various types of data visualisations in matplotlib/plotly"
   ]
  },
  {
   "cell_type": "code",
   "execution_count": 1,
   "metadata": {
    "Collapsed": "false"
   },
   "outputs": [],
   "source": [
    "%load_ext autoreload\n",
    "%autoreload 2"
   ]
  },
  {
   "cell_type": "code",
   "execution_count": 3,
   "metadata": {
    "Collapsed": "false"
   },
   "outputs": [
    {
     "name": "stdout",
     "output_type": "stream",
     "text": [
      "\u001b[32m[SUCCESS]: \u001b[0mData initialisation done\n"
     ]
    }
   ],
   "source": [
    "from src.data.data import Data\n",
    "data = Data()"
   ]
  },
  {
   "cell_type": "markdown",
   "metadata": {
    "Collapsed": "false"
   },
   "source": [
    "## Load data"
   ]
  },
  {
   "cell_type": "code",
   "execution_count": 7,
   "metadata": {
    "Collapsed": "false"
   },
   "outputs": [],
   "source": [
    "# Here we give a name to the test that we will put the data in\n",
    "testname = 'EXAMPLE_RAUL'\n",
    "\n",
    "# Here we define the list of sensor ids we want to download\n",
    "devices = ['10604', '10605', '10606', '10607', '10608', '10609', \n",
    "           '10610', '10611', '10612', '10613', '10614', '10616']\n",
    "\n",
    "blueprint = 'sck_21'\n",
    "\n",
    "# Here we specify the different options for data load\n",
    "options = {'frequency': '5Min',\n",
    "            'min_date': '2020-01-07',\n",
    "            'max_date': '2020-01-25',\n",
    "            'clean_na': \"drop\"\n",
    "            }\n",
    "\n",
    "# Other example for options\n",
    "# options = {'frequency': '1Min',\n",
    "#             'min_date': None,\n",
    "#             'max_date': None,\n",
    "#             'clean_na': None\n",
    "#             }"
   ]
  },
  {
   "cell_type": "code",
   "execution_count": 8,
   "metadata": {},
   "outputs": [],
   "source": [
    "# Add devices to list. You don't need to touch anything here\n",
    "from src.data.device import Device\n",
    "tdevices = list()\n",
    "for device in devices:\n",
    "    tdevices.append(Device(blueprint = blueprint, descriptor = {'id': device, \n",
    "                                                                'source': 'api'\n",
    "                                                                }))"
   ]
  },
  {
   "cell_type": "code",
   "execution_count": 9,
   "metadata": {
    "scrolled": true
   },
   "outputs": [
    {
     "name": "stdout",
     "output_type": "stream",
     "text": [
      "\u001b[32m[SUCCESS]: \u001b[0mAdd device 10604 OK\n",
      "\u001b[32m[SUCCESS]: \u001b[0mAdd device 10605 OK\n",
      "\u001b[32m[SUCCESS]: \u001b[0mAdd device 10606 OK\n",
      "\u001b[32m[SUCCESS]: \u001b[0mAdd device 10607 OK\n",
      "\u001b[32m[SUCCESS]: \u001b[0mAdd device 10608 OK\n",
      "\u001b[32m[SUCCESS]: \u001b[0mAdd device 10609 OK\n",
      "\u001b[32m[SUCCESS]: \u001b[0mAdd device 10610 OK\n",
      "\u001b[32m[SUCCESS]: \u001b[0mAdd device 10611 OK\n",
      "\u001b[32m[SUCCESS]: \u001b[0mAdd device 10612 OK\n",
      "\u001b[32m[SUCCESS]: \u001b[0mAdd device 10613 OK\n",
      "\u001b[32m[SUCCESS]: \u001b[0mAdd device 10614 OK\n",
      "\u001b[32m[SUCCESS]: \u001b[0mAdd device 10616 OK\n",
      "Creating new test\n",
      "\u001b[32m[SUCCESS]: \u001b[0mTest update Finished\n",
      "Processing files\n",
      "Test 2020-04_INT_EXAMPLE_RAUL path: /Users/macoscar/Documents/04_Projects/02_FabLab/01_SmartCitizen/01_Repositories/DataAnalysis/smartcitizen-data/data/processed/2020/04/2020-04_INT_EXAMPLE_RAUL\n",
      "\u001b[32m[SUCCESS]: \u001b[0mTest creation finished\n",
      "Loading test 2020-04_INT_EXAMPLE_RAUL\n",
      "Using options: {'cached_data_margin': 1, 'load_cached_api': True, 'store_cached_api': True, 'clean_na': 'drop', 'frequency': '5Min', 'min_date': '2020-01-07', 'max_date': '2020-01-25'}\n",
      "---------------------------\n",
      "Loading device 10604\n",
      "Device 10604 is located at 41.396867, 2.194351\n",
      "Device 10604 timezone is Europe/Madrid\n",
      "Device 10604 has last reading at 2020-01-20T11:50:19Z\n",
      "Checking if we can load cached data\n",
      "\u001b[31m[ERROR]: \u001b[0mFile not found\n",
      "\u001b[33m[WARNING]: \u001b[0mNo valid cached data. Requesting device 10604 to API\n",
      "Downloading device from API\n",
      "First reading requested: 2020-01-07 01:00:00+01:00\n",
      "Last reading requested: 2020-01-25 01:00:00+01:00\n",
      "Requesting up to max available date in the API 2020-01-20 12:50:19+01:00\n",
      "Requesting data from SC API\n",
      "Device ID: 10604\n",
      "Using rollup: 5m\n",
      "Device 10604 timezone is Europe/Madrid\n",
      "Device 10604 has last reading at 2020-01-20T11:50:19Z\n",
      "Device 10604 was added at 2019-12-12T09:07:56Z\n",
      "Min Date: 2020-01-07 01:00:00+01:00\n",
      "Max Date: 2020-01-20 12:50:19+01:00\n",
      "Kit ID: 26\n",
      "Dates: from: 2020-01-07 01:00:00+01:00, to: 2020-01-20 12:50:19+01:00\n",
      "Device timezone: Europe/Madrid\n",
      "Sensor IDs:\n",
      "[113, 112, 14, 10, 53, 58, 89, 88, 87, 56, 55]\n",
      "\u001b[32m[SUCCESS]: \u001b[0mDevice 10604 loaded successfully from API\n",
      "Device sensors after removal: ['BATT', 'CCS811_ECO2', 'CCS811_VOCS', 'HUM', 'LIGHT', 'NOISE_A', 'PM_1', 'PM_10', 'PM_25', 'PRESS', 'TEMP']\n",
      "Checking if units need to be converted\n",
      "Caching files for 10604\n",
      "Creating path for exporting cached data\n",
      "\u001b[32m[SUCCESS]: \u001b[0mFile saved to: \n",
      "/Users/macoscar/Documents/04_Projects/02_FabLab/01_SmartCitizen/01_Repositories/DataAnalysis/smartcitizen-data/data/processed/2020/04/2020-04_INT_EXAMPLE_RAUL/cached/10604.csv\n",
      "\u001b[32m[SUCCESS]: \u001b[0mDevices cached successfully\n",
      "\u001b[32m[SUCCESS]: \u001b[0mDevice 10604 has been loaded\n",
      "---------------------------\n",
      "Loading device 10605\n",
      "Device 10605 is located at 41.396867, 2.194351\n",
      "Device 10605 timezone is Europe/Madrid\n",
      "Device 10605 has last reading at 2020-01-20T11:51:14Z\n",
      "Checking if we can load cached data\n",
      "\u001b[31m[ERROR]: \u001b[0mFile not found\n",
      "\u001b[33m[WARNING]: \u001b[0mNo valid cached data. Requesting device 10605 to API\n",
      "Downloading device from API\n",
      "First reading requested: 2020-01-07 01:00:00+01:00\n",
      "Last reading requested: 2020-01-20 12:50:19+01:00\n",
      "Requesting data from SC API\n",
      "Device ID: 10605\n",
      "Using rollup: 5m\n",
      "Device 10605 timezone is Europe/Madrid\n",
      "Device 10605 has last reading at 2020-01-20T11:51:14Z\n",
      "Device 10605 was added at 2019-12-12T09:10:24Z\n",
      "Min Date: 2020-01-07 01:00:00+01:00\n",
      "Max Date: 2020-01-20 12:50:19+01:00\n",
      "Kit ID: 26\n",
      "Dates: from: 2020-01-07 01:00:00+01:00, to: 2020-01-20 12:50:19+01:00\n",
      "Device timezone: Europe/Madrid\n",
      "Sensor IDs:\n",
      "[113, 112, 14, 10, 53, 58, 89, 88, 87, 56, 55]\n",
      "\u001b[32m[SUCCESS]: \u001b[0mDevice 10605 loaded successfully from API\n",
      "Device sensors after removal: ['BATT', 'CCS811_ECO2', 'CCS811_VOCS', 'HUM', 'LIGHT', 'NOISE_A', 'PM_1', 'PM_10', 'PM_25', 'PRESS', 'TEMP']\n",
      "Checking if units need to be converted\n",
      "Caching files for 10605\n",
      "\u001b[32m[SUCCESS]: \u001b[0mFile saved to: \n",
      "/Users/macoscar/Documents/04_Projects/02_FabLab/01_SmartCitizen/01_Repositories/DataAnalysis/smartcitizen-data/data/processed/2020/04/2020-04_INT_EXAMPLE_RAUL/cached/10605.csv\n",
      "\u001b[32m[SUCCESS]: \u001b[0mDevices cached successfully\n",
      "\u001b[32m[SUCCESS]: \u001b[0mDevice 10605 has been loaded\n",
      "---------------------------\n",
      "Loading device 10606\n",
      "Device 10606 is located at 41.396867, 2.194351\n",
      "Device 10606 timezone is Europe/Madrid\n",
      "Device 10606 has last reading at 2020-01-20T11:49:56Z\n",
      "Checking if we can load cached data\n",
      "\u001b[31m[ERROR]: \u001b[0mFile not found\n",
      "\u001b[33m[WARNING]: \u001b[0mNo valid cached data. Requesting device 10606 to API\n",
      "Downloading device from API\n",
      "First reading requested: 2020-01-07 01:00:00+01:00\n",
      "Last reading requested: 2020-01-20 12:50:19+01:00\n",
      "Requesting up to max available date in the API 2020-01-20 12:49:56+01:00\n",
      "Requesting data from SC API\n",
      "Device ID: 10606\n",
      "Using rollup: 5m\n",
      "Device 10606 timezone is Europe/Madrid\n",
      "Device 10606 has last reading at 2020-01-20T11:49:56Z\n",
      "Device 10606 was added at 2019-12-12T09:12:22Z\n",
      "Min Date: 2020-01-07 01:00:00+01:00\n",
      "Max Date: 2020-01-20 12:49:56+01:00\n",
      "Kit ID: 26\n",
      "Dates: from: 2020-01-07 01:00:00+01:00, to: 2020-01-20 12:49:56+01:00\n",
      "Device timezone: Europe/Madrid\n",
      "Sensor IDs:\n",
      "[113, 112, 14, 10, 53, 58, 89, 88, 87, 56, 55]\n",
      "\u001b[32m[SUCCESS]: \u001b[0mDevice 10606 loaded successfully from API\n",
      "Device sensors after removal: ['BATT', 'CCS811_ECO2', 'CCS811_VOCS', 'HUM', 'LIGHT', 'NOISE_A', 'PM_1', 'PM_10', 'PM_25', 'PRESS', 'TEMP']\n",
      "Checking if units need to be converted\n",
      "Caching files for 10606\n",
      "\u001b[32m[SUCCESS]: \u001b[0mFile saved to: \n",
      "/Users/macoscar/Documents/04_Projects/02_FabLab/01_SmartCitizen/01_Repositories/DataAnalysis/smartcitizen-data/data/processed/2020/04/2020-04_INT_EXAMPLE_RAUL/cached/10606.csv\n",
      "\u001b[32m[SUCCESS]: \u001b[0mDevices cached successfully\n",
      "\u001b[32m[SUCCESS]: \u001b[0mDevice 10606 has been loaded\n",
      "---------------------------\n",
      "Loading device 10607\n",
      "Device 10607 is located at 41.396867, 2.194351\n",
      "Device 10607 timezone is Europe/Madrid\n",
      "Device 10607 has last reading at 2020-01-20T11:46:49Z\n",
      "Checking if we can load cached data\n",
      "\u001b[31m[ERROR]: \u001b[0mFile not found\n",
      "\u001b[33m[WARNING]: \u001b[0mNo valid cached data. Requesting device 10607 to API\n",
      "Downloading device from API\n",
      "First reading requested: 2020-01-07 01:00:00+01:00\n",
      "Last reading requested: 2020-01-20 12:49:56+01:00\n",
      "Requesting up to max available date in the API 2020-01-20 12:46:49+01:00\n",
      "Requesting data from SC API\n",
      "Device ID: 10607\n",
      "Using rollup: 5m\n",
      "Device 10607 timezone is Europe/Madrid\n",
      "Device 10607 has last reading at 2020-01-20T11:46:49Z\n",
      "Device 10607 was added at 2019-12-12T09:14:25Z\n",
      "Min Date: 2020-01-07 01:00:00+01:00\n",
      "Max Date: 2020-01-20 12:46:49+01:00\n",
      "Kit ID: 26\n",
      "Dates: from: 2020-01-07 01:00:00+01:00, to: 2020-01-20 12:46:49+01:00\n",
      "Device timezone: Europe/Madrid\n",
      "Sensor IDs:\n",
      "[113, 112, 14, 10, 53, 58, 89, 88, 87, 56, 55]\n",
      "\u001b[32m[SUCCESS]: \u001b[0mDevice 10607 loaded successfully from API\n",
      "Device sensors after removal: ['BATT', 'CCS811_ECO2', 'CCS811_VOCS', 'HUM', 'LIGHT', 'NOISE_A', 'PM_1', 'PM_10', 'PM_25', 'PRESS', 'TEMP']\n",
      "Checking if units need to be converted\n",
      "Caching files for 10607\n",
      "\u001b[32m[SUCCESS]: \u001b[0mFile saved to: \n",
      "/Users/macoscar/Documents/04_Projects/02_FabLab/01_SmartCitizen/01_Repositories/DataAnalysis/smartcitizen-data/data/processed/2020/04/2020-04_INT_EXAMPLE_RAUL/cached/10607.csv\n",
      "\u001b[32m[SUCCESS]: \u001b[0mDevices cached successfully\n",
      "\u001b[32m[SUCCESS]: \u001b[0mDevice 10607 has been loaded\n",
      "---------------------------\n",
      "Loading device 10608\n",
      "Device 10608 is located at 41.396867, 2.194351\n",
      "Device 10608 timezone is Europe/Madrid\n",
      "Device 10608 has last reading at 2020-01-20T11:47:28Z\n",
      "Checking if we can load cached data\n",
      "\u001b[31m[ERROR]: \u001b[0mFile not found\n",
      "\u001b[33m[WARNING]: \u001b[0mNo valid cached data. Requesting device 10608 to API\n",
      "Downloading device from API\n",
      "First reading requested: 2020-01-07 01:00:00+01:00\n",
      "Last reading requested: 2020-01-20 12:46:49+01:00\n",
      "Requesting data from SC API\n",
      "Device ID: 10608\n",
      "Using rollup: 5m\n",
      "Device 10608 timezone is Europe/Madrid\n",
      "Device 10608 has last reading at 2020-01-20T11:47:28Z\n",
      "Device 10608 was added at 2019-12-12T09:16:11Z\n",
      "Min Date: 2020-01-07 01:00:00+01:00\n",
      "Max Date: 2020-01-20 12:46:49+01:00\n",
      "Kit ID: 26\n",
      "Dates: from: 2020-01-07 01:00:00+01:00, to: 2020-01-20 12:46:49+01:00\n",
      "Device timezone: Europe/Madrid\n",
      "Sensor IDs:\n",
      "[113, 112, 14, 10, 53, 58, 89, 88, 87, 56, 55]\n",
      "\u001b[32m[SUCCESS]: \u001b[0mDevice 10608 loaded successfully from API\n",
      "Device sensors after removal: ['BATT', 'CCS811_ECO2', 'CCS811_VOCS', 'HUM', 'LIGHT', 'NOISE_A', 'PM_1', 'PM_10', 'PM_25', 'PRESS', 'TEMP']\n",
      "Checking if units need to be converted\n",
      "Caching files for 10608\n",
      "\u001b[32m[SUCCESS]: \u001b[0mFile saved to: \n",
      "/Users/macoscar/Documents/04_Projects/02_FabLab/01_SmartCitizen/01_Repositories/DataAnalysis/smartcitizen-data/data/processed/2020/04/2020-04_INT_EXAMPLE_RAUL/cached/10608.csv\n",
      "\u001b[32m[SUCCESS]: \u001b[0mDevices cached successfully\n",
      "\u001b[32m[SUCCESS]: \u001b[0mDevice 10608 has been loaded\n",
      "---------------------------\n",
      "Loading device 10609\n",
      "Device 10609 is located at 41.396867, 2.194351\n",
      "Device 10609 timezone is Europe/Madrid\n",
      "Device 10609 has last reading at 2020-01-20T11:49:44Z\n",
      "Checking if we can load cached data\n",
      "\u001b[31m[ERROR]: \u001b[0mFile not found\n",
      "\u001b[33m[WARNING]: \u001b[0mNo valid cached data. Requesting device 10609 to API\n",
      "Downloading device from API\n",
      "First reading requested: 2020-01-07 01:00:00+01:00\n",
      "Last reading requested: 2020-01-20 12:46:49+01:00\n",
      "Requesting data from SC API\n",
      "Device ID: 10609\n",
      "Using rollup: 5m\n",
      "Device 10609 timezone is Europe/Madrid\n",
      "Device 10609 has last reading at 2020-01-20T11:49:44Z\n",
      "Device 10609 was added at 2019-12-12T09:19:20Z\n",
      "Min Date: 2020-01-07 01:00:00+01:00\n",
      "Max Date: 2020-01-20 12:46:49+01:00\n",
      "Kit ID: 26\n",
      "Dates: from: 2020-01-07 01:00:00+01:00, to: 2020-01-20 12:46:49+01:00\n",
      "Device timezone: Europe/Madrid\n",
      "Sensor IDs:\n",
      "[113, 112, 14, 10, 53, 58, 89, 88, 87, 56, 55]\n",
      "\u001b[32m[SUCCESS]: \u001b[0mDevice 10609 loaded successfully from API\n",
      "Device sensors after removal: ['BATT', 'CCS811_ECO2', 'CCS811_VOCS', 'HUM', 'LIGHT', 'NOISE_A', 'PM_1', 'PM_10', 'PM_25', 'PRESS', 'TEMP']\n",
      "Checking if units need to be converted\n",
      "Caching files for 10609\n",
      "\u001b[32m[SUCCESS]: \u001b[0mFile saved to: \n",
      "/Users/macoscar/Documents/04_Projects/02_FabLab/01_SmartCitizen/01_Repositories/DataAnalysis/smartcitizen-data/data/processed/2020/04/2020-04_INT_EXAMPLE_RAUL/cached/10609.csv\n",
      "\u001b[32m[SUCCESS]: \u001b[0mDevices cached successfully\n",
      "\u001b[32m[SUCCESS]: \u001b[0mDevice 10609 has been loaded\n",
      "---------------------------\n",
      "Loading device 10610\n",
      "Device 10610 is located at 41.396867, 2.194351\n",
      "Device 10610 timezone is Europe/Madrid\n",
      "Device 10610 has last reading at 2020-01-20T11:47:58Z\n",
      "Checking if we can load cached data\n",
      "\u001b[31m[ERROR]: \u001b[0mFile not found\n",
      "\u001b[33m[WARNING]: \u001b[0mNo valid cached data. Requesting device 10610 to API\n",
      "Downloading device from API\n",
      "First reading requested: 2020-01-07 01:00:00+01:00\n",
      "Last reading requested: 2020-01-20 12:46:49+01:00\n",
      "Requesting data from SC API\n",
      "Device ID: 10610\n",
      "Using rollup: 5m\n",
      "Device 10610 timezone is Europe/Madrid\n",
      "Device 10610 has last reading at 2020-01-20T11:47:58Z\n",
      "Device 10610 was added at 2019-12-12T09:20:49Z\n",
      "Min Date: 2020-01-07 01:00:00+01:00\n",
      "Max Date: 2020-01-20 12:46:49+01:00\n",
      "Kit ID: 26\n",
      "Dates: from: 2020-01-07 01:00:00+01:00, to: 2020-01-20 12:46:49+01:00\n",
      "Device timezone: Europe/Madrid\n",
      "Sensor IDs:\n",
      "[113, 112, 14, 10, 53, 58, 89, 88, 87, 56, 55]\n",
      "\u001b[32m[SUCCESS]: \u001b[0mDevice 10610 loaded successfully from API\n",
      "Device sensors after removal: ['BATT', 'CCS811_ECO2', 'CCS811_VOCS', 'HUM', 'LIGHT', 'NOISE_A', 'PM_1', 'PM_10', 'PM_25', 'PRESS', 'TEMP']\n",
      "Checking if units need to be converted\n",
      "Caching files for 10610\n",
      "\u001b[32m[SUCCESS]: \u001b[0mFile saved to: \n",
      "/Users/macoscar/Documents/04_Projects/02_FabLab/01_SmartCitizen/01_Repositories/DataAnalysis/smartcitizen-data/data/processed/2020/04/2020-04_INT_EXAMPLE_RAUL/cached/10610.csv\n",
      "\u001b[32m[SUCCESS]: \u001b[0mDevices cached successfully\n",
      "\u001b[32m[SUCCESS]: \u001b[0mDevice 10610 has been loaded\n",
      "---------------------------\n",
      "Loading device 10611\n",
      "Device 10611 is located at 41.396867, 2.194351\n",
      "Device 10611 timezone is Europe/Madrid\n",
      "Device 10611 has last reading at 2020-01-20T11:50:51Z\n",
      "Checking if we can load cached data\n",
      "\u001b[31m[ERROR]: \u001b[0mFile not found\n",
      "\u001b[33m[WARNING]: \u001b[0mNo valid cached data. Requesting device 10611 to API\n",
      "Downloading device from API\n",
      "First reading requested: 2020-01-07 01:00:00+01:00\n",
      "Last reading requested: 2020-01-20 12:46:49+01:00\n",
      "Requesting data from SC API\n",
      "Device ID: 10611\n",
      "Using rollup: 5m\n",
      "Device 10611 timezone is Europe/Madrid\n",
      "Device 10611 has last reading at 2020-01-20T11:50:51Z\n",
      "Device 10611 was added at 2019-12-12T09:22:14Z\n",
      "Min Date: 2020-01-07 01:00:00+01:00\n",
      "Max Date: 2020-01-20 12:46:49+01:00\n",
      "Kit ID: 26\n",
      "Dates: from: 2020-01-07 01:00:00+01:00, to: 2020-01-20 12:46:49+01:00\n",
      "Device timezone: Europe/Madrid\n",
      "Sensor IDs:\n",
      "[113, 112, 14, 10, 53, 58, 89, 88, 87, 56, 55]\n",
      "\u001b[32m[SUCCESS]: \u001b[0mDevice 10611 loaded successfully from API\n",
      "Device sensors after removal: ['BATT', 'CCS811_ECO2', 'CCS811_VOCS', 'HUM', 'LIGHT', 'NOISE_A', 'PM_1', 'PM_10', 'PM_25', 'PRESS', 'TEMP']\n",
      "Checking if units need to be converted\n",
      "Caching files for 10611\n",
      "\u001b[32m[SUCCESS]: \u001b[0mFile saved to: \n",
      "/Users/macoscar/Documents/04_Projects/02_FabLab/01_SmartCitizen/01_Repositories/DataAnalysis/smartcitizen-data/data/processed/2020/04/2020-04_INT_EXAMPLE_RAUL/cached/10611.csv\n",
      "\u001b[32m[SUCCESS]: \u001b[0mDevices cached successfully\n",
      "\u001b[32m[SUCCESS]: \u001b[0mDevice 10611 has been loaded\n",
      "---------------------------\n",
      "Loading device 10612\n",
      "Device 10612 is located at 41.396867, 2.194351\n",
      "Device 10612 timezone is Europe/Madrid\n",
      "Device 10612 has last reading at 2020-01-20T11:48:04Z\n",
      "Checking if we can load cached data\n",
      "\u001b[31m[ERROR]: \u001b[0mFile not found\n",
      "\u001b[33m[WARNING]: \u001b[0mNo valid cached data. Requesting device 10612 to API\n",
      "Downloading device from API\n",
      "First reading requested: 2020-01-07 01:00:00+01:00\n",
      "Last reading requested: 2020-01-20 12:46:49+01:00\n",
      "Requesting data from SC API\n",
      "Device ID: 10612\n",
      "Using rollup: 5m\n",
      "Device 10612 timezone is Europe/Madrid\n",
      "Device 10612 has last reading at 2020-01-20T11:48:04Z\n",
      "Device 10612 was added at 2019-12-12T09:23:32Z\n",
      "Min Date: 2020-01-07 01:00:00+01:00\n",
      "Max Date: 2020-01-20 12:46:49+01:00\n",
      "Kit ID: 26\n",
      "Dates: from: 2020-01-07 01:00:00+01:00, to: 2020-01-20 12:46:49+01:00\n",
      "Device timezone: Europe/Madrid\n",
      "Sensor IDs:\n",
      "[113, 112, 14, 10, 53, 58, 89, 88, 87, 56, 55]\n",
      "\u001b[32m[SUCCESS]: \u001b[0mDevice 10612 loaded successfully from API\n",
      "Device sensors after removal: ['BATT', 'CCS811_ECO2', 'CCS811_VOCS', 'HUM', 'LIGHT', 'NOISE_A', 'PM_1', 'PM_10', 'PM_25', 'PRESS', 'TEMP']\n",
      "Checking if units need to be converted\n",
      "Caching files for 10612\n",
      "\u001b[32m[SUCCESS]: \u001b[0mFile saved to: \n",
      "/Users/macoscar/Documents/04_Projects/02_FabLab/01_SmartCitizen/01_Repositories/DataAnalysis/smartcitizen-data/data/processed/2020/04/2020-04_INT_EXAMPLE_RAUL/cached/10612.csv\n",
      "\u001b[32m[SUCCESS]: \u001b[0mDevices cached successfully\n",
      "\u001b[32m[SUCCESS]: \u001b[0mDevice 10612 has been loaded\n",
      "---------------------------\n",
      "Loading device 10613\n",
      "Device 10613 is located at 41.396867, 2.194351\n",
      "Device 10613 timezone is Europe/Madrid\n",
      "Device 10613 has last reading at 2020-01-20T11:47:46Z\n",
      "Checking if we can load cached data\n",
      "\u001b[31m[ERROR]: \u001b[0mFile not found\n",
      "\u001b[33m[WARNING]: \u001b[0mNo valid cached data. Requesting device 10613 to API\n",
      "Downloading device from API\n",
      "First reading requested: 2020-01-07 01:00:00+01:00\n",
      "Last reading requested: 2020-01-20 12:46:49+01:00\n",
      "Requesting data from SC API\n",
      "Device ID: 10613\n",
      "Using rollup: 5m\n",
      "Device 10613 timezone is Europe/Madrid\n",
      "Device 10613 has last reading at 2020-01-20T11:47:46Z\n",
      "Device 10613 was added at 2019-12-12T09:24:46Z\n",
      "Min Date: 2020-01-07 01:00:00+01:00\n",
      "Max Date: 2020-01-20 12:46:49+01:00\n",
      "Kit ID: 26\n",
      "Dates: from: 2020-01-07 01:00:00+01:00, to: 2020-01-20 12:46:49+01:00\n",
      "Device timezone: Europe/Madrid\n",
      "Sensor IDs:\n",
      "[113, 112, 14, 10, 53, 58, 89, 88, 87, 56, 55]\n",
      "\u001b[32m[SUCCESS]: \u001b[0mDevice 10613 loaded successfully from API\n",
      "Device sensors after removal: ['BATT', 'CCS811_ECO2', 'CCS811_VOCS', 'HUM', 'LIGHT', 'NOISE_A', 'PM_1', 'PM_10', 'PM_25', 'PRESS', 'TEMP']\n",
      "Checking if units need to be converted\n",
      "Caching files for 10613\n",
      "\u001b[32m[SUCCESS]: \u001b[0mFile saved to: \n",
      "/Users/macoscar/Documents/04_Projects/02_FabLab/01_SmartCitizen/01_Repositories/DataAnalysis/smartcitizen-data/data/processed/2020/04/2020-04_INT_EXAMPLE_RAUL/cached/10613.csv\n",
      "\u001b[32m[SUCCESS]: \u001b[0mDevices cached successfully\n",
      "\u001b[32m[SUCCESS]: \u001b[0mDevice 10613 has been loaded\n",
      "---------------------------\n",
      "Loading device 10614\n",
      "Device 10614 is located at 41.396867, 2.194351\n",
      "Device 10614 timezone is Europe/Madrid\n",
      "Device 10614 has last reading at 2020-01-20T11:45:47Z\n",
      "Checking if we can load cached data\n",
      "\u001b[31m[ERROR]: \u001b[0mFile not found\n",
      "\u001b[33m[WARNING]: \u001b[0mNo valid cached data. Requesting device 10614 to API\n",
      "Downloading device from API\n",
      "First reading requested: 2020-01-07 01:00:00+01:00\n",
      "Last reading requested: 2020-01-20 12:46:49+01:00\n",
      "Requesting up to max available date in the API 2020-01-20 12:45:47+01:00\n",
      "Requesting data from SC API\n",
      "Device ID: 10614\n",
      "Using rollup: 5m\n",
      "Device 10614 timezone is Europe/Madrid\n",
      "Device 10614 has last reading at 2020-01-20T11:45:47Z\n",
      "Device 10614 was added at 2019-12-12T09:27:14Z\n",
      "Min Date: 2020-01-07 01:00:00+01:00\n",
      "Max Date: 2020-01-20 12:45:47+01:00\n",
      "Kit ID: 26\n",
      "Dates: from: 2020-01-07 01:00:00+01:00, to: 2020-01-20 12:45:47+01:00\n",
      "Device timezone: Europe/Madrid\n",
      "Sensor IDs:\n",
      "[113, 112, 14, 10, 53, 58, 89, 88, 87, 56, 55]\n",
      "\u001b[32m[SUCCESS]: \u001b[0mDevice 10614 loaded successfully from API\n",
      "Device sensors after removal: ['BATT', 'CCS811_ECO2', 'CCS811_VOCS', 'HUM', 'LIGHT', 'NOISE_A', 'PM_1', 'PM_10', 'PM_25', 'PRESS', 'TEMP']\n",
      "Checking if units need to be converted\n",
      "Caching files for 10614\n",
      "\u001b[32m[SUCCESS]: \u001b[0mFile saved to: \n",
      "/Users/macoscar/Documents/04_Projects/02_FabLab/01_SmartCitizen/01_Repositories/DataAnalysis/smartcitizen-data/data/processed/2020/04/2020-04_INT_EXAMPLE_RAUL/cached/10614.csv\n",
      "\u001b[32m[SUCCESS]: \u001b[0mDevices cached successfully\n",
      "\u001b[32m[SUCCESS]: \u001b[0mDevice 10614 has been loaded\n",
      "---------------------------\n",
      "Loading device 10616\n",
      "Device 10616 is located at 41.396867, 2.194351\n",
      "Device 10616 timezone is Europe/Madrid\n",
      "Device 10616 has last reading at 2020-01-20T11:47:41Z\n",
      "Checking if we can load cached data\n",
      "\u001b[31m[ERROR]: \u001b[0mFile not found\n",
      "\u001b[33m[WARNING]: \u001b[0mNo valid cached data. Requesting device 10616 to API\n",
      "Downloading device from API\n",
      "First reading requested: 2020-01-07 01:00:00+01:00\n",
      "Last reading requested: 2020-01-20 12:45:47+01:00\n",
      "Requesting data from SC API\n",
      "Device ID: 10616\n",
      "Using rollup: 5m\n",
      "Device 10616 timezone is Europe/Madrid\n",
      "Device 10616 has last reading at 2020-01-20T11:47:41Z\n",
      "Device 10616 was added at 2019-12-12T09:40:35Z\n",
      "Min Date: 2020-01-07 01:00:00+01:00\n",
      "Max Date: 2020-01-20 12:45:47+01:00\n",
      "Kit ID: 26\n",
      "Dates: from: 2020-01-07 01:00:00+01:00, to: 2020-01-20 12:45:47+01:00\n",
      "Device timezone: Europe/Madrid\n",
      "Sensor IDs:\n",
      "[113, 112, 14, 10, 53, 58, 89, 88, 87, 56, 55]\n",
      "\u001b[32m[SUCCESS]: \u001b[0mDevice 10616 loaded successfully from API\n",
      "Device sensors after removal: ['BATT', 'CCS811_ECO2', 'CCS811_VOCS', 'HUM', 'LIGHT', 'NOISE_A', 'PM_1', 'PM_10', 'PM_25', 'PRESS', 'TEMP']\n",
      "Checking if units need to be converted\n",
      "Caching files for 10616\n",
      "\u001b[32m[SUCCESS]: \u001b[0mFile saved to: \n",
      "/Users/macoscar/Documents/04_Projects/02_FabLab/01_SmartCitizen/01_Repositories/DataAnalysis/smartcitizen-data/data/processed/2020/04/2020-04_INT_EXAMPLE_RAUL/cached/10616.csv\n",
      "\u001b[32m[SUCCESS]: \u001b[0mDevices cached successfully\n",
      "\u001b[32m[SUCCESS]: \u001b[0mDevice 10616 has been loaded\n",
      "\u001b[32m[SUCCESS]: \u001b[0mTest update Finished\n",
      "\u001b[32m[SUCCESS]: \u001b[0mTest loaded successfully\n"
     ]
    },
    {
     "data": {
      "text/plain": [
       "'2020-04_INT_EXAMPLE_RAUL'"
      ]
     },
     "execution_count": 9,
     "metadata": {},
     "output_type": "execute_result"
    }
   ],
   "source": [
    "# We load the data based on the input above\n",
    "data.load_devices(testname, tdevices, options = options)"
   ]
  },
  {
   "cell_type": "markdown",
   "metadata": {
    "Collapsed": "false",
    "toc-hr-collapsed": false
   },
   "source": [
    "## Explore that data\n",
    "\n",
    "Some examples for different plots are shown here. The available plots are:\n",
    "- [Time series plot](## Time Series)\n",
    "- Time series comparison (report)\n",
    "- Corr plot\n",
    "- Scatter plot matrix\n",
    "- Violin plot\n",
    "- Target diagram\n",
    "- Coherence plot"
   ]
  },
  {
   "cell_type": "code",
   "execution_count": 10,
   "metadata": {
    "Collapsed": "false"
   },
   "outputs": [],
   "source": [
    "from src.visualization.visualization import Plot"
   ]
  },
  {
   "cell_type": "markdown",
   "metadata": {
    "Collapsed": "false",
    "toc-hr-collapsed": true
   },
   "source": [
    "## Time Series Plots"
   ]
  },
  {
   "cell_type": "code",
   "execution_count": 19,
   "metadata": {
    "Collapsed": "false"
   },
   "outputs": [
    {
     "name": "stdout",
     "output_type": "stream",
     "text": [
      "Preparing data for plot\n",
      "Making 2 subplots\n",
      "Plotting\n",
      "Reducing width to 12\n",
      "Reducing height to 10\n"
     ]
    },
    {
     "data": {
      "text/plain": [
       "<Figure size 432x288 with 0 Axes>"
      ]
     },
     "metadata": {},
     "output_type": "display_data"
    },
    {
     "data": {
      "image/png": "[encoded data removed]",
      "text/plain": [
       "<Figure size 864x720 with 2 Axes>"
      ]
     },
     "metadata": {},
     "output_type": "display_data"
    }
   ],
   "source": [
    "plot_description = {\"type\": \"timeseries\",\n",
    "                    \"library\": \"matplotlib\",\n",
    "                    \"data\": {\"test\": '2020-04_INT_EXAMPLE_RAUL',\n",
    "                                    \"traces\": {\"1\": {\"device\": 'all',\n",
    "                                                    \"channel\" : \"PM_1\",\n",
    "                                                    \"subplot\": 1},\n",
    "                                              \"2\": {\"device\": 'all',\n",
    "                                                    \"channel\" : \"PM_10\",\n",
    "                                                    \"subplot\": 2}}},\n",
    "                    \"options\": {\"show_plot\": True,\n",
    "                                \"export_path\": None, \n",
    "                                \"file_name\": None,\n",
    "                                \"frequency\": '3Min',\n",
    "                                \"clean_na\": 'fill',\n",
    "                                \"clean_na_method\": '',\n",
    "                                \"max_date\": None,\n",
    "                                \"min_date\": '2020-01-20'},\n",
    "                    \"formatting\": {\"xlabel\": \"Time (-)\",\n",
    "                                   \"ylabel\": {1: \"GB_2W (ug/m3)\", 2: \"GB_2W (ug/m3)\"},\n",
    "                                   \"yrange\": {1: [0, 10], 2: [0, 10]},\n",
    "                                   \"title\": \"Check\",\n",
    "                                   \"legend\": True,\n",
    "                                   \"sharex\":True,\n",
    "                                   \"grid\": True,\n",
    "                                   \"height\": 800,\n",
    "                                   \"width\": 800,\n",
    "                                   \"style\": \"seaborn-whitegrid\"}\n",
    "                    }\n",
    "\n",
    "plot_object = Plot(plot_description)\n",
    "plot_object.plot(data)\n",
    "# plot_object.export_plot()"
   ]
  },
  {
   "cell_type": "markdown",
   "metadata": {
    "Collapsed": "true",
    "toc-hr-collapsed": true
   },
   "source": [
    "### Correlation Plot\n",
    "The plot_wrapper instance below is faster to generate. Alternatively, a more GUI _ish_ experience can be found using: [corr_plot](src_ipynb/corr_plot.ipynb)\n",
    "\n",
    "%run src_ipynb/corr_plot.ipynb"
   ]
  },
  {
   "cell_type": "code",
   "execution_count": null,
   "metadata": {
    "Collapsed": "false"
   },
   "outputs": [],
   "source": [
    "plot_description = {\"plot_type\": \"correlation_plot\",\n",
    "                    \"plotting_library\": \"matplotlib\",\n",
    "                    \"data\": {\"test\": \"2019-03_EXT_UCD_URBAN_BACKGROUND_API\",\n",
    "\t\t\t\t\t\t\t\t\t\"traces\": {\"1\": {\"device\": \"5261\",\n",
    "\t\t\t\t\t\t\t\t\t\t\t\t\t\"channel\" : \"HUM\",\n",
    "\t\t\t\t\t\t\t\t\t\t\t\t\t\"subplot\": 1},\n",
    "                                              \"2\": {\"device\": \"5262\",\n",
    "                                                   \"channel\": \"TEMP\",\n",
    "                                                   \"subplot\": 1}}},\n",
    "                    \"options\": {\"show_plot\": True,\n",
    "                                \"separate_device_plots\": False,\n",
    "                                \"export_path\": \"/Users/macoscar/Desktop\", \n",
    "                                \"file_name\": \"plot_corr\",\n",
    "                                \"frequency\": '10Min',\n",
    "                                \"min_date\": None,\n",
    "                                \"max_date\": None},\n",
    "                    \"formatting\": {\"jpkind\": 'scatter',\n",
    "                                   \"title\": \"Magnificent plot\",\n",
    "                                   \"xrange\": [40, 90],\n",
    "                                   \"yrange\": [5, 20],\n",
    "                                   \"grid\": True,\n",
    "                                   \"height\": 10,\n",
    "                                   \"width\": 15}\n",
    "                    }\n",
    "\n",
    "'''\n",
    "\"jpkind\" { “scatter” | “reg” | “resid” | “kde” | “hex” }\n",
    "'''\n",
    "\n",
    "plot_object = plot_wrapper(plot_description, True)\n",
    "plot_object.plot(data)\n",
    "plot_object.export_plot()"
   ]
  },
  {
   "cell_type": "markdown",
   "metadata": {
    "Collapsed": "true"
   },
   "source": [
    "### Coherence plot"
   ]
  },
  {
   "cell_type": "code",
   "execution_count": null,
   "metadata": {
    "Collapsed": "false"
   },
   "outputs": [],
   "source": [
    "plot_description = {\"plot_type\": \"coherence_plot\",\n",
    "                    \"plotting_library\": \"matplotlib\",\n",
    "                    \"data\": {\"test\": \"2019-03_EXT_UCD_URBAN_BACKGROUND_API\",\n",
    "\t\t\t\t\t\t\t\t\t\"traces\": {\"1\": {\"device\": \"5262\",\n",
    "\t\t\t\t\t\t\t\t\t\t\t\t\t\"channel\" : \"GB_2W\",\n",
    "\t\t\t\t\t\t\t\t\t\t\t\t\t\"subplot\": 1},\n",
    "                                              \"2\": {\"device\": \"5262\",\n",
    "                                                   \"channel\": \"TEMP\",\n",
    "                                                   \"subplot\": 1}}},\n",
    "                    \"options\": {\"show_plot\": True,\n",
    "                                \"separate_device_plots\": False,\n",
    "                                \"export_path\": \"/Users/macoscar/Desktop\", \n",
    "                                \"file_name\": \"plot_coherence\",\n",
    "                                \"frequency\": '10Min',\n",
    "                                \"min_date\": None,\n",
    "                                \"max_date\": None},\n",
    "                    \"formatting\": {\"title\": \"Magnificent plot\",\n",
    "                                   \"grid\": True,\n",
    "                                   \"height\": 10,\n",
    "                                   \"width\": 15}\n",
    "                    }\n",
    "\n",
    "\n",
    "from src.visualization.visualization import plot_wrapper\n",
    "\n",
    "plot_object = plot_wrapper(plot_description, True)\n",
    "plot_object.plot(data)\n",
    "plot_object.export_plot()"
   ]
  },
  {
   "cell_type": "markdown",
   "metadata": {
    "Collapsed": "true",
    "toc-hr-collapsed": true
   },
   "source": [
    "### Scatter plot matrix\n",
    "\n",
    "The plot_wrapper instance below is faster to generate. Alternatively, a more GUI _ish_ experience can be found using: [scatter_plot](src_ipynb/scatter_plot.ipynb)\n",
    "\n",
    "%run src_ipynb/scatter_plot.ipynb"
   ]
  },
  {
   "cell_type": "code",
   "execution_count": null,
   "metadata": {
    "Collapsed": "false"
   },
   "outputs": [],
   "source": [
    "plot_description = {\"plot_type\": \"scatter_matrix\",\n",
    "                    \"plotting_library\": \"matplotlib\",\n",
    "                    \"data\": {\"test\": \"2019-10_INT_GROW_PARROT COMPARISON\",\n",
    "\t\t\t\t\t\t\t\t\t\"traces\": {\"1\": {\"device\": \"10232\",\n",
    "\t\t\t\t\t\t\t\t\t\t\t\t\t\"channel\" : \"CHRP_MOIS\",\n",
    "\t\t\t\t\t\t\t\t\t\t\t\t\t\"subplot\": 1},\n",
    "                                              \"2\": {\"device\": \"10260\",\n",
    "                                                   \"channel\": \"CHRP_MOIS\",\n",
    "                                                   \"subplot\": 1},\n",
    "                                              \"3\": {\"device\": \"10261\",\n",
    "                                                   \"channel\": \"CHRP_MOIS\",\n",
    "                                                   \"subplot\": 1},\n",
    "                                              \"4\": {\"device\": \"PARROT_1\",\n",
    "                                                   \"channel\": \"calibrated_soil_moisture_percent\",\n",
    "                                                   \"subplot\": 1},\n",
    "                                              \"5\": {\"device\": \"PARROT_2\",\n",
    "                                                   \"channel\": \"calibrated_soil_moisture_percent\",\n",
    "                                                   \"subplot\": 1},\n",
    "                                              \"6\": {\"device\": \"PARROT_3\",\n",
    "                                                   \"channel\": \"calibrated_soil_moisture_percent\",\n",
    "                                                   \"subplot\": 1}}},\n",
    "                    \"options\": {\"show_plot\": True,\n",
    "                                \"separate_device_plots\": False,\n",
    "                                \"export_path\": \"/Users/macoscar/Desktop\", \n",
    "                                \"file_name\": \"plot_scatter\",\n",
    "                                \"frequency\": '10Min',\n",
    "                                \"min_date\": '2019-10-11 14:00:00',\n",
    "                                \"max_date\": None},\n",
    "                    \"formatting\": {\"title\": \"\",\n",
    "                                   \"grid\": True,\n",
    "                                   \"height\": 4,\n",
    "                                   \"width\": 4}\n",
    "                    }\n",
    "\n",
    "\n",
    "from src.visualization.visualization import plot_wrapper\n",
    "\n",
    "plot_object = plot_wrapper(plot_description, True)\n",
    "plot_object.plot(data)\n",
    "plot_object.export_plot()"
   ]
  },
  {
   "cell_type": "markdown",
   "metadata": {
    "Collapsed": "true",
    "toc-hr-collapsed": true
   },
   "source": [
    "### Heat Map"
   ]
  },
  {
   "cell_type": "code",
   "execution_count": null,
   "metadata": {
    "Collapsed": "false"
   },
   "outputs": [],
   "source": [
    "plot_description = {\"plot_type\": \"heatmap\",\n",
    "                    \"plotting_library\": \"matplotlib\",\n",
    "                    \"data\": {\"test\": \"HASSELT\",\n",
    "                    \t\t\t\t\"traces\": {\"1\": {\"device\": \"10014\",\n",
    "                                        \t\t\t\"channel\" : \"EXT_PM_25\",\n",
    "                                        \t\t\t\"subplot\": 1}}},\n",
    "                    \"options\": {\"show_plot\": True,\n",
    "                                \"separate_device_plots\": False,\n",
    "                                \"export_path\": \"/Users/macoscar/Desktop\", \n",
    "                                \"file_name\": \"plot_heat\",\n",
    "                                \"frequency\": '10Min',\n",
    "                                \"min_date\": None,\n",
    "                                \"max_date\": '2019-01-03',\n",
    "                                \"relative\": False},\n",
    "                    \"formatting\": {\"title\": \"Magnificent plot\",\n",
    "                                   \"grid\": True,\n",
    "                                   \"height\": 10,\n",
    "                                   \"width\": 15,\n",
    "                                   \"frequency_hours\": 6}\n",
    "                    }\n",
    "\n",
    "\n",
    "from src.visualization.visualization import plot_wrapper\n",
    "\n",
    "plot_object = plot_wrapper(plot_description, True)\n",
    "plot_object.plot(data)\n",
    "plot_object.export_plot()"
   ]
  },
  {
   "cell_type": "markdown",
   "metadata": {
    "Collapsed": "true"
   },
   "source": [
    "### Violin plot"
   ]
  },
  {
   "cell_type": "code",
   "execution_count": null,
   "metadata": {
    "Collapsed": "false"
   },
   "outputs": [],
   "source": [
    "plot_description = {\"plot_type\": \"violin\",\n",
    "                    \"plotting_library\": \"matplotlib\",\n",
    "                    \"data\": {\"test\": \"2019-03_EXT_UCD_URBAN_BACKGROUND_API\",\n",
    "                    \t\t\t\t\"traces\": {\"1\": {\"device\": \"5262\",\n",
    "                                                      \"channel\" : \"DALLAS_TEMP\",\n",
    "                                                    \"subplot\": 1},\n",
    "                                                \"2\": {\"device\": \"5262\",\n",
    "                                                       \"channel\" : \"HUM\",\n",
    "                                                       \"subplot\": 1},\n",
    "                                                 \"3\": {\"device\": \"5262\",\n",
    "                                                       \"channel\" : \"TEMP\",\n",
    "                                                       \"subplot\": 1},\n",
    "                                                 \"4\": {\"device\": \"5262\",\n",
    "                                                       \"channel\" : \"GB_2W\",\n",
    "                                                       \"subplot\": 1},\n",
    "                                                 \"5\": {\"device\": \"5262\",\n",
    "                                                       \"channel\" : \"GB_2A\",\n",
    "                                                       \"subplot\": 1},\n",
    "                                                 \"6\": {\"device\": \"5262\",\n",
    "                                                       \"channel\" : \"GB_3W\",\n",
    "                                                       \"subplot\": 1}}},\n",
    "                    \"options\": {\"show_plot\": True,\n",
    "                                \"separate_device_plots\": False,\n",
    "                                \"export_path\": \"/Users/macoscar/Desktop\", \n",
    "                                \"file_name\": \"plot_violin\",\n",
    "                                \"frequency\": '10Min',\n",
    "                                \"min_date\": None,\n",
    "                                \"max_date\": '2019-01-03',\n",
    "                                \"relative\": False,\n",
    "                                \"ylabel\": {1: \"External temperature\",\n",
    "                                           2: \"Humidity (%RH)\",\n",
    "                                           3: \"Temperature (degC)\",\n",
    "                                           4: \"Wir\",\n",
    "                                           5: \"Wor\",\n",
    "                                           6: \"Wur\"},\n",
    "                                \"yrange\": {1: [0, 90],\n",
    "                                           2: [300, 2000],\n",
    "                                           3: [0, 60],\n",
    "                                           4: [0, 60],\n",
    "                                           5: [0,60],\n",
    "                                           6: [0,60]},\n",
    "                               },\n",
    "                    \"formatting\": {\"title\": \"Magnificent plot\",\n",
    "                                   \"grid\": True,\n",
    "                                   \"height\": 10,\n",
    "                                   \"width\": 15}\n",
    "                    }\n",
    "\n",
    "\n",
    "from src.visualization.visualization import plot_wrapper\n",
    "\n",
    "plot_object = plot_wrapper(plot_description, True)\n",
    "plot_object.plot(data)\n",
    "plot_object.export_plot()"
   ]
  },
  {
   "cell_type": "markdown",
   "metadata": {
    "Collapsed": "true",
    "toc-hr-collapsed": false
   },
   "source": [
    "## Alphasense Baseline"
   ]
  },
  {
   "cell_type": "markdown",
   "metadata": {
    "Collapsed": "false"
   },
   "source": [
    "\n",
    "These functions are used to create the alphasense pollutant correction based on Working, Auxiliary and calibration data provided by alphasense."
   ]
  },
  {
   "cell_type": "code",
   "execution_count": null,
   "metadata": {
    "Collapsed": "false",
    "code_folding": [
     60
    ]
   },
   "outputs": [],
   "source": [
    "# ------- INPUT VARIABLE BELOW -------\n",
    "\n",
    "# Input delta in minutes\n",
    "baseline_method = 'deltas' # 'deltas', 'als'\n",
    "\n",
    "# For deltas method (in minutes, except overlapHours)\n",
    "min_delta = 5\n",
    "max_delta = 45\n",
    "delta_delta = 5\n",
    "overlapHours = 0\n",
    "\n",
    "# For ALS method\n",
    "lam_als = [1e3, 1e4] # We only iterate over lambda\n",
    "p_als = 0.01 # Change by hand in different runs\n",
    "\n",
    "# Wrap it up\n",
    "methods= {\"NO2\": [\"baseline\", \"single_aux\"]}\n",
    "\n",
    "variables = list()\n",
    "\n",
    "if baseline_method == 'deltas':\n",
    "    append_name = baseline_method[:].upper() + '_OVL_' + str(overlapHours) + '-' + str(min_delta) + '-' +str(max_delta)\n",
    "             \n",
    "    variables.append(np.arange(min_delta, max_delta, delta_delta))\n",
    "\n",
    "elif baseline_method == 'als':\n",
    "    append_name = baseline_method[:].upper() + '_OVL_' + str(overlapHours) + '-LAMBDA_' + str(lam_als[0]) + '-' +str(lam_als[-1]) + '_P_'+ str(p_als)\n",
    "\n",
    "    variables.append([lam_als, p_als])\n",
    "    \n",
    "variables.append(methods)\n",
    "variables.append(overlapHours)\n",
    "variables.append(baseline_method)\n",
    "\n",
    "options = dict()\n",
    "options['checkBoxDecomp'] = False\n",
    "options['checkBoxPlotsIn'] = False\n",
    "options['checkBoxPlotsResult'] = False\n",
    "options['checkBoxVerb'] = False\n",
    "options['checkBoxStats'] = False\n",
    "\n",
    "# ------------------------------------\n",
    "        \n",
    "data.calculate_alphasense(testname, variables, options)"
   ]
  },
  {
   "cell_type": "markdown",
   "metadata": {
    "Collapsed": "true"
   },
   "source": [
    "### Baseline Model Metrics"
   ]
  },
  {
   "cell_type": "code",
   "execution_count": null,
   "metadata": {
    "Collapsed": "false"
   },
   "outputs": [],
   "source": [
    "## Explore results\n",
    "# test = '2018-08_INT_STATION_TEST_SUMMER_HOLIDAYS'\n",
    "test = selectedTestsAD[0]\n",
    "# device = 'STATION CHIMNEY'\n",
    "device = '5262'\n",
    "dataframe = records.readings[test]['devices'][device]['alphasense']['model_stats'][ad_name]\n",
    "\n",
    "pollutant = 'NO2'\n",
    "\n",
    "# pollutant_avg \tpollutant_max \tpollutant_min \tpollutant_std \tr2_valueRef \t\n",
    "\n",
    "fig, (ax, ax2)= plt.subplots(nrows = 2, figsize= (15,10))\n",
    "ax.plot(dataframe[pollutant]['pollutant_avg'], dataframe[pollutant]['r2_valueRef'], 'o', label=pollutant)\n",
    "#ax.set_xlim([0,1.5])\n",
    "ax.set_ylim([0,1])\n",
    "# plt.setp(ax.xaxis.get_majorticklabels(), rotation=70 )\n",
    "\n",
    "ax2.bar(dataframe[pollutant].index,dataframe[pollutant]['pollutant_avg'], label=pollutant)\n",
    "ax2.bar(dataframe[pollutant].index,dataframe[pollutant]['pollutant_max'], label=pollutant, alpha= 0.3)\n",
    "ax2.bar(dataframe[pollutant].index,dataframe[pollutant]['pollutant_min'], label=pollutant, alpha= 0.3)\n",
    "ax2.set_ylim([0,100])\n",
    "#ax.plot(dataframe['O3'].index,dataframe['O3']['pollutant_avg'],'ro', label='O3')\n",
    "# plt.setp(ax2.xaxis.get_majorticklabels(), rotation=70 )\n",
    "\n",
    "plt.xlabel('Day')\n",
    "plt.title('Average pollutant concentration')\n",
    "plt.legend(loc='best')"
   ]
  },
  {
   "cell_type": "markdown",
   "metadata": {
    "Collapsed": "true"
   },
   "source": [
    "### TODO: Correction Checks"
   ]
  },
  {
   "cell_type": "code",
   "execution_count": null,
   "metadata": {
    "Collapsed": "false",
    "code_folding": [
     5
    ],
    "scrolled": true
   },
   "outputs": [],
   "source": [
    "# Sample For stats checks\n",
    "pollutant = 'NO2'\n",
    "display(CorrParams[pollutant])\n",
    "\n",
    "with plt.style.context('seaborn-white'):\n",
    "    fig1, (ax1, ax2) = plt.subplots(nrows=1, ncols=2, figsize=(18,8))\n",
    "            \n",
    "    ax1.plot(CorrParams[pollutant]['r_valueRef'], CorrParams[pollutant]['avg_temp'], label = 'Temp', linestyle='-', linewidth=0, marker='o')\n",
    "    ax1.plot(CorrParams[pollutant]['r_valueRef'], CorrParams[pollutant]['avg_hum'] , label = 'Hum', linestyle='-', linewidth=0, marker='o')\n",
    "    ax2.plot(CorrParams[pollutant]['r_valueRef'], CorrParams[pollutant]['stderr_temp'], label = 'Temp', linestyle='-', linewidth=0, marker='o')\n",
    "    ax2.plot(CorrParams[pollutant]['r_valueRef'], CorrParams[pollutant]['stderr_hum'] , label = 'Hum', linestyle='-', linewidth=0, marker='o')\n",
    "    \n",
    "    ax1.legend(loc='best')\n",
    "    ax1.set_xlabel('R^2 {} vs Ref'.format(pollutant))\n",
    "    ax1.set_ylabel('Avg Temp-Hum / day')\n",
    "    ax1.grid(True)\n",
    "    ax2.legend(loc='best')\n",
    "    ax2.set_xlabel('R^2 {} vs Ref'.format(pollutant))\n",
    "    ax2.set_ylabel('Avg Temp / day')\n",
    "    ax2.grid(True)\n",
    "    \n",
    "    fig2, (ax3, ax4) = plt.subplots(nrows=1, ncols=2, figsize=(18,8))\n",
    "            \n",
    "    ax3.plot(CorrParams[pollutant]['r_valueRef'], CorrParams[pollutant]['avg_pollutant'], label = 'Avg Pollutant', linestyle='-', linewidth=0, marker='o')\n",
    "    ax4.plot(CorrParams[pollutant]['avg_pollutant'], CorrParams[pollutant]['deltaAuxBas_avg'], label = 'Delta', linestyle='-', linewidth=0, marker='o')\n",
    "    ax4.plot(CorrParams[pollutant]['avg_pollutant'], CorrParams[pollutant]['ratioAuxBas_avg'] , label = 'Ratio', linestyle='-', linewidth=0, marker='o')\n",
    "    \n",
    "    ax3.legend(loc='best')\n",
    "    ax3.set_xlabel('R^2 {} vs Ref'.format(pollutant))\n",
    "    ax3.set_ylabel('Avg {} / day'.format(pollutant))\n",
    "    ax3.grid(True)\n",
    "    ax4.legend(loc='best')\n",
    "    ax4.set_xlabel('{} Average'.format(pollutant))\n",
    "    ax4.set_ylabel('Offset / Ratio Baseline vs Auxiliary')\n",
    "    ax4.grid(True)"
   ]
  },
  {
   "cell_type": "markdown",
   "metadata": {
    "Collapsed": "false",
    "toc-hr-collapsed": false
   },
   "source": [
    "## Model Creation"
   ]
  },
  {
   "cell_type": "markdown",
   "metadata": {
    "Collapsed": "false",
    "toc-hr-collapsed": true
   },
   "source": [
    "### Ordinary Linear Regression\n",
    "\n",
    "Check [here](../references/linear_regression.md) the preliminary checks and model assumptions"
   ]
  },
  {
   "cell_type": "code",
   "execution_count": null,
   "metadata": {
    "Collapsed": "false"
   },
   "outputs": [],
   "source": [
    "testname = '2019-03_EXT_UCD_URBAN_BACKGROUND_API'\n",
    "devicename = 'CITY_COUNCIL'\n",
    "print (data.tests[testname].devices[devicename].readings.columns)"
   ]
  },
  {
   "cell_type": "code",
   "execution_count": null,
   "metadata": {
    "Collapsed": "false",
    "code_folding": []
   },
   "outputs": [],
   "source": [
    "from src.models.model_tools import model_wrapper\n",
    "\n",
    "# Input model description\n",
    "model_description = {\"model_name\": \"OLS_UCD\",\n",
    "                    \"model_type\": \"OLS\",\n",
    "                    \"model_target\": \"ALPHASENSE\",\n",
    "                    \"data\": {\"train\": {testname: devicename},\n",
    "                            \"reference_device\" : \"CITY_COUNCIL\",\n",
    "                            \"features\":  {\"REF\": \"NO2_REF\",\n",
    "                                            \"A\": \"GB_2W\",\n",
    "                                            \"B\": \"GB_2A\",\n",
    "                                            \"C\": \"HUM\"},\n",
    "                            \"options\": {\"frequency\": '1Min',\n",
    "                                        \"clean_na\": True,\n",
    "                                        \"clean_na_method\": \"fill\",\n",
    "                                        \"min_date\": None,\n",
    "                                        \"max_date\": '2019-01-15'},\n",
    "                            \"expression\" : 'REF ~ A + np.log(B)'\n",
    "                            },\n",
    "                    \"hyperparameters\": {\"ratio_train\": 0.75},\n",
    "                    \"options\": {\"session_active_model\": True,\n",
    "                                \"show_plots\": True,\n",
    "                                \"export_model\": False,\n",
    "\t\t\t\t\t\t\t\t\"export_model_file\": False,\n",
    "\t\t\t\t\t\t\t\t\"extract_metrics\": True}\n",
    "                    }\n",
    "\n",
    "\n",
    "# --- \n",
    "# Init OLS model\n",
    "ols_model = model_wrapper(model_description, verbose = True)\n",
    "\n",
    "# Prepare dataframe for modeling\n",
    "records.prepare_dataframe_model(ols_model)\n",
    "                    \n",
    "# Train Model based on training dataset\n",
    "train_dataset = list(ols_model.data['train'].keys())[0]\n",
    "ols_model.training(records.readings[train_dataset]['models'][ols_model.name])\n",
    "\n",
    "# Get prediction for dataset\n",
    "device = ols_model.data['train'][train_dataset]\n",
    "prediction_name = device + '_' + model_name\n",
    "prediction = ols_model.predict_channels(records.readings[train_dataset]['devices'][device]['data'], prediction_name)\n",
    "\n",
    "# Combine it in readings\n",
    "records.readings[train_dataset]['devices'][device]['data'].combine_first(prediction)\n",
    "\n",
    "'''# Preliminary Check\n",
    "    Fuller Plot for all\n",
    "    for column in dataframeModel:\n",
    "        x = dataframeModel.loc[:,column]\n",
    "        tfuller_plot(x, name = x.name, lags=60, lags_diff = 5)\n",
    "    Granger Causality\n",
    "    print ('--------------------------------------')\n",
    "    print ('Granger Causality Test')\n",
    "     Granger Causality Test (WIP)\n",
    "    for item in tuple_features:\n",
    "        if item[0] != 'REF':\n",
    "            print '\\nCausality for x1 = {} and x2 = {}'.format(reference_name, item[1])\n",
    "            x = dataframeModel.loc[:,[reference_name, item[1]]].dropna()\n",
    "            x = x.values\n",
    "            granger_causality_tests = grangercausalitytests(x, 1)\n",
    "            print granger_causality_test\n",
    "'''\n",
    "\n",
    "# Archive model\n",
    "if ols_model.options['session_active_model']:\n",
    "    dataFrameExport = ols_model.dataFrameTrain.copy()\n",
    "    dataFrameExport = dataFrameExport.combine_first(ols_model.dataFrameTest)\n",
    "    records.archive_model(train_dataset, ols_model, dataFrameExport)\n",
    "\n",
    "# Print metrics\n",
    "print ('Metrics Summary:')\n",
    "print (\"{:<23} {:<7} {:<5}\".format('Metric','Train','Test'))\n",
    "if ols_model.options['extract_metrics']:\n",
    "    metrics_model = ols_model.extract_metrics()\n",
    "    for metric in metrics_model['train'].keys():\n",
    "        print (\"{:<20}\".format(metric) +\"\\t\" +\"{:0.3f}\".format(metrics_model['train'][metric]) +\"\\t\"+ \"{:0.3f}\".format(metrics_model['test'][metric]))"
   ]
  },
  {
   "cell_type": "markdown",
   "metadata": {
    "Collapsed": "true",
    "toc-hr-collapsed": true
   },
   "source": [
    "### LSTM"
   ]
  },
  {
   "cell_type": "code",
   "execution_count": null,
   "metadata": {
    "Collapsed": "false"
   },
   "outputs": [],
   "source": [
    "from src.models.model_tools import model_wrapper\n",
    "\n",
    "# Input model description\n",
    "model_description = {\"model_name\": \"LSTM_UCD\",\n",
    "                    \"model_type\": \"LSTM\",\n",
    "                    \"model_target\": \"ALPHASENSE\",\n",
    "                    \"data\": {\"train\": {\"2019-03_EXT_UCD_URBAN_BACKGROUND_API\": \"5262\"},\n",
    "                            \"reference_device\" : \"CITY_COUNCIL\",\n",
    "                            \"features\":  {\"REF\": \"NO2_REF\",\n",
    "                                            \"A\": \"GB_2W\",\n",
    "                                            \"B\": \"GB_2A\",\n",
    "                                            \"C\": \"HUM\"},\n",
    "                            \"options\": {\"target_raster\": '5Min',\n",
    "                                        \"clean_na\": True,\n",
    "                                        \"clean_na_method\": \"fill\",\n",
    "                                        \"min_date\": None,\n",
    "                                        \"max_date\": '2019-01-15'},\n",
    "                            },\n",
    "                    \"hyperparameters\": {\"n_lags\": 2,\n",
    "                                        \"epochs\": 10,\n",
    "                                        \"batch_size\": 72,\n",
    "                                        \"verbose\": True,\n",
    "                                        \"loss\": \"mse\",\n",
    "                                        \"optimizer\": \"adam\",\n",
    "                                        \"ratio_train\": 0.75},\n",
    "                    \"options\": {\"session_active_model\": True,\n",
    "                                \"show_plots\": True,\n",
    "                                \"export_model\": False,\n",
    "\t\t\t\t\t\t\t\t\"export_model_file\": False,\n",
    "\t\t\t\t\t\t\t\t\"extract_metrics\": True}\n",
    "                    }\n",
    "\n",
    "\n",
    "# --- \n",
    "# Init rf model\n",
    "lstm_model = model_wrapper(model_description, verbose = True)\n",
    "\n",
    "# Prepare dataframe for modeling\n",
    "records.prepare_dataframe_model(lstm_model)\n",
    "                    \n",
    "# Train Model based on training dataset\n",
    "train_dataset = list(lstm_model.data['train'].keys())[0]\n",
    "lstm_model.training(records.readings[train_dataset]['models'][lstm_model.name])\n",
    "\n",
    "# Get prediction for dataset\n",
    "device = lstm_model.data['train'][train_dataset]\n",
    "prediction_name = device + '_' + lstm_model.name\n",
    "prediction = lstm_model.predict_channels(records.readings[train_dataset]['devices'][device]['data'], prediction_name)\n",
    "\n",
    "# Combine it in readings\n",
    "records.readings[train_dataset]['devices'][device]['data'].combine_first(prediction)\n",
    "\n",
    "# Archive model\n",
    "if lstm_model.options['session_active_model']:\n",
    "    dataFrameExport = lstm_model.dataFrameTrain.copy()\n",
    "    dataFrameExport = dataFrameExport.combine_first(lstm_model.dataFrameTest)\n",
    "    records.archive_model(train_dataset, lstm_model, dataFrameExport)\n",
    "\n",
    "# Print metrics\n",
    "print ('Metrics Summary:')\n",
    "print (\"{:<23} {:<7} {:<5}\".format('Metric','Train','Test'))\n",
    "if lstm_model.options['extract_metrics']:\n",
    "    metrics_model = lstm_model.extract_metrics()\n",
    "    for metric in metrics_model['train'].keys():\n",
    "        print (\"{:<20}\".format(metric) +\"\\t\" +\"{:0.3f}\".format(metrics_model['train'][metric]) +\"\\t\"+ \"{:0.3f}\".format(metrics_model['test'][metric]))"
   ]
  },
  {
   "cell_type": "markdown",
   "metadata": {
    "Collapsed": "false",
    "toc-hr-collapsed": true
   },
   "source": [
    "### Random Forest Regressor or SVR\n",
    "\n",
    "Find parameters for grid search with cross-validation and random search [here](src_ipynb/cross_validation_rf.ipynb)"
   ]
  },
  {
   "cell_type": "code",
   "execution_count": null,
   "metadata": {
    "Collapsed": "false"
   },
   "outputs": [],
   "source": [
    "from src.models.model import model_wrapper\n",
    "\n",
    "# Input model description\n",
    "model_description = {\"model_name\": \"RF_UCD\",\n",
    "                    \"model_type\": \"RF\",\n",
    "                    \"model_target\": \"ALPHASENSE\",\n",
    "                    \"data\": {\"train\": {\"2019-03_EXT_UCD_URBAN_BACKGROUND_API\": {\"devices\": [\"5262\"],\n",
    "                                                                               \"reference_device\": \"CITY_COUNCIL\"}},\n",
    "                            \"test\": {\"2019-03_EXT_UCD_URBAN_BACKGROUND_API\": {\"devices\": [\"5565\"],\n",
    "                                                                               \"reference_device\": \"CITY_COUNCIL\"}},\n",
    "                            \"features\":  {\"REF\": \"NO2_CONV\",\n",
    "                                            \"A\": \"GB_2W\",\n",
    "                                            \"B\": \"GB_2A\",\n",
    "                                            \"C\": \"HUM\"},\n",
    "                            \"data_options\": {\"target_raster\": '1Min',\n",
    "                                            \"clean_na\": True,\n",
    "                                            \"clean_na_method\": \"drop\",\n",
    "                                            \"min_date\": None,\n",
    "                                            \"frequency\": \"1Min\",\n",
    "                                            \"max_date\": '2019-01-15'},\n",
    "                            },\n",
    "                    \"hyperparameters\": {\"ratio_train\": 0.75, \n",
    "                                        \"min_samples_leaf\": 2,\n",
    "                                        \"max_features\": None,\n",
    "                                       \"n_estimators\": 100,\n",
    "\t\t\t\t\t\t\t\t\t\t\"shuffle_split\": True},\n",
    "                    \"model_options\": {\"session_active_model\": True,\n",
    "                                \"show_plots\": True,\n",
    "                                \"export_model\": False,\n",
    "\t\t\t\t\t\t\t\t\"export_model_file\": False,\n",
    "\t\t\t\t\t\t\t\t\"extract_metrics\": True}\n",
    "                    }\n",
    "\n",
    "# --- \n",
    "# Init rf model\n",
    "rf_model = model_wrapper(model_description, verbose = True)\n",
    "\n",
    "# Prepare dataframe for modeling\n",
    "test_name = data.prepare_dataframe_model(rf_model)\n",
    "                    \n",
    "# Train Model based on training dataset\n",
    "rf_model.train()\n",
    "\n",
    "# Get prediction for train device\n",
    "device = rf_model.data['train'][test_name]['devices'][0]\n",
    "prediction_name = device + '_' + rf_model.name\n",
    "prediction = rf_model.predict(data.tests[test_name].devices[device].readings, prediction_name)\n",
    "# Combine it in readings\n",
    "data.tests[test_name].devices[device].readings.combine_first(prediction)\n",
    "\n",
    "# Archive model\n",
    "if rf_model.options['session_active_model']:\n",
    "    data.archive_model(rf_model)\n",
    "\n",
    "# Print metrics\n",
    "if rf_model.options['extract_metrics']:\n",
    "    metrics_model = rf_model.extract_metrics('train')"
   ]
  },
  {
   "cell_type": "code",
   "execution_count": null,
   "metadata": {
    "Collapsed": "false"
   },
   "outputs": [],
   "source": [
    "rf_model.export(data.modelDirectory)"
   ]
  },
  {
   "cell_type": "markdown",
   "metadata": {
    "Collapsed": "false",
    "toc-hr-collapsed": false
   },
   "source": [
    "## Model Comparison"
   ]
  },
  {
   "cell_type": "markdown",
   "metadata": {
    "Collapsed": "false"
   },
   "source": [
    "### TimeSeries Comparison"
   ]
  },
  {
   "cell_type": "code",
   "execution_count": null,
   "metadata": {
    "Collapsed": "false",
    "code_folding": []
   },
   "outputs": [],
   "source": [
    "import matplotlib.pyplot as plt\n",
    "import plotly.tools as tls\n",
    "%matplotlib inline\n",
    "\n",
    "fig = plt.figure(figsize=(20,10))\n",
    "referencePlotted = False\n",
    "\n",
    "test_model = \"2019-03_EXT_UCD_URBAN_BACKGROUND_API\"\n",
    "\n",
    "for model_name in records.readings[test_model]['models']:\n",
    "    try:\n",
    "        ratio_train = records.readings[test_model]['models'][model_name]['model_object'].hyperparameters['ratio_train']\n",
    "        data = records.readings[test_model]['devices'][model_name]['data']\n",
    "                \n",
    "        total_len = len(data.index)\n",
    "        n_train_periods = int(round(total_len*ratio_train))\n",
    "    \n",
    "        dataframeTrain = data.iloc[:n_train_periods,:]\n",
    "        dataframeTest = data.iloc[n_train_periods:,:]\n",
    "                        \n",
    "        if (not referencePlotted):\n",
    "            plt.plot(dataframeTrain.index, dataframeTrain['reference'], 'b.-', label = 'Reference Train', alpha = 0.6)\n",
    "            plt.plot(dataframeTest.index, dataframeTest['reference'], 'b.-', label = 'Reference Test', alpha = 0.6)\n",
    "            referencePlotted = True\n",
    "            \n",
    "        plt.plot(dataframeTrain.index, dataframeTrain['prediction'], 'r', linewidth = 0.6, label = 'Prediction Train ' + model_name, alpha = 0.6)\n",
    "        plt.plot(dataframeTest.index, dataframeTest['prediction'], 'r', linewidth = 0.6, label = 'Prediction Test ' + model_name, alpha = 0.6)\n",
    "    except:\n",
    "        pass\n",
    "\n",
    "plt.legend(loc = 'best')\n",
    "plt.title('Model Comparison for ' + test_model)\n",
    "plt.ylabel(str(records.readings[test_model]['models'][model_name]['reference']))\n",
    "plt.xlabel('Date (-)')\n",
    "plt.grid(True)\n"
   ]
  },
  {
   "cell_type": "markdown",
   "metadata": {
    "Collapsed": "false"
   },
   "source": [
    "### Scatter Comparison"
   ]
  },
  {
   "cell_type": "code",
   "execution_count": null,
   "metadata": {
    "Collapsed": "false"
   },
   "outputs": [],
   "source": [
    "import matplotlib.pyplot as plot\n",
    "from matplotlib import gridspec\n",
    "import pandas as pd\n",
    "import math\n",
    "import numpy as np\n",
    "%matplotlib inline\n",
    "\n",
    "number_of_subplots = len(records.readings[test_model]['models'].keys()) \n",
    "if number_of_subplots % 2 == 0: cols = 2\n",
    "else: cols = 3\n",
    "rows = int(math.ceil(number_of_subplots / cols))\n",
    "gs = gridspec.GridSpec(rows, cols)\n",
    "fig = plot.figure(figsize=(20,10))\n",
    "\n",
    "fig.tight_layout()\n",
    "n = 0\n",
    "\n",
    "for model_name in records.readings[test_model]['models']:\n",
    "\n",
    "    ratio_train = records.readings[test_model]['models'][model_name]['model_object'].hyperparameters['ratio_train']\n",
    "    \n",
    "    data = records.readings[test_model]['devices'][model_name]['data']\n",
    "    dataVal = data.groupby(pd.Grouper(freq='1H')).aggregate(np.mean)    \n",
    "    total_len = len(dataVal.index)\n",
    "    n_train_periods = int(round(total_len*ratio_train))\n",
    "    \n",
    "    dataframeTrain = dataVal.iloc[:n_train_periods,:]\n",
    "    dataframeTest = dataVal.iloc[n_train_periods:,:]\n",
    "    \n",
    "    ax = fig.add_subplot(gs[n])\n",
    "    n += 1          \n",
    "    plot.plot(dataframeTrain['reference'], dataframeTrain['prediction'], 'go', label = 'Train ' + model_name, alpha = 0.3)\n",
    "    plot.plot(dataframeTest['reference'], dataframeTest['prediction'], 'bo', label = 'Test ' + model_name, alpha = 0.3)\n",
    "    plot.plot(dataframeTrain['reference'], dataframeTrain['reference'], 'k', label = '1:1 Line', linewidth = 0.4, alpha = 0.3)\n",
    "    \n",
    "    plot.legend(loc = 'best', prop={'size': 8})\n",
    "    plot.ylabel('Prediction (-)')\n",
    "    plot.xlabel('Reference (-)')\n",
    "    plot.show()"
   ]
  },
  {
   "cell_type": "markdown",
   "metadata": {
    "Collapsed": "false"
   },
   "source": [
    "### Target diagram\n",
    "\n",
    "Model Metrics Comparison using target diagram"
   ]
  },
  {
   "cell_type": "code",
   "execution_count": null,
   "metadata": {
    "Collapsed": "false",
    "code_folding": [
     4,
     12,
     18
    ]
   },
   "outputs": [],
   "source": [
    "from src.visualization.visualization import targetDiagram\n",
    "%matplotlib inline\n",
    "\n",
    "models = dict()\n",
    "for model in records.readings[test_model]['models']:\n",
    "\n",
    "        print ('\\nModel Name: {}'.format(model))\n",
    "        print (\"{:<23} {:<7} {:<5}\".format('Metric','Train','Test'))\n",
    "        metrics_model = records.readings[test_model]['models'][model]['model_object'].extract_metrics()\n",
    "        models[model] = metrics_model\n",
    "        for metric in metrics_model['train'].keys():\n",
    "            print (\"{:<20}\".format(metric) +\"\\t\" +\"{:0.3f}\".format(metrics_model['train'][metric]) +\"\\t\"+ \"{:0.3f}\".format(metrics_model['test'][metric]))\n",
    "        \n",
    "targetDiagram(models, True)"
   ]
  },
  {
   "cell_type": "markdown",
   "metadata": {
    "Collapsed": "false",
    "toc-hr-collapsed": false
   },
   "source": [
    "## Model Application"
   ]
  },
  {
   "cell_type": "code",
   "execution_count": null,
   "metadata": {
    "Collapsed": "false"
   },
   "outputs": [],
   "source": [
    "%run src_ipynb/apply_model.ipynb"
   ]
  },
  {
   "cell_type": "code",
   "execution_count": null,
   "metadata": {
    "Collapsed": "false"
   },
   "outputs": [],
   "source": [
    "#### Data Quality Objectives (TO CHECK)\n",
    "Explained here http://dx.doi.org/10.1016/j.envint.2016.12.007\n",
    "\n",
    "Sensor values Y, reference values x"
   ]
  },
  {
   "cell_type": "code",
   "execution_count": null,
   "metadata": {
    "Collapsed": "false",
    "code_folding": [
     5
    ]
   },
   "outputs": [],
   "source": [
    "from scipy.stats.stats import linregress\n",
    "import matplotlib.pyplot as plot\n",
    "import numpy as np\n",
    "%matplotlib inline\n",
    "\n",
    "def fUEREL(ux, values_x, values_Y):\n",
    "    def RSS(values_x, values_Y, intercept, slope):\n",
    "        pre_sum_1 = np.power(values_Y - intercept - np.multiply(slope, values_x), 2)\n",
    "        # pre_sum_2 = np.power(values_Y / (intercept + np.multiply(slope, values_x)) - 1, 2)\n",
    "        \n",
    "        # fig, axes = plot.subplots(1, 2, figsize=(15,10))\n",
    "        # axes[0].plot(pre_sum_1)\n",
    "        # axes[1].plot(pre_sum_2)\n",
    "\n",
    "        RSS = np.sum(np.power(pre_sum_1,2))\n",
    "        \n",
    "        return RSS\n",
    "    \n",
    "    slope, intercept, _, _, _ = linregress(values_x, values_Y)\n",
    "    # fig = plot.figure(figsize=(15,10))\n",
    "    # plot.plot(slope*values_x + intercept, label='Sensor')\n",
    "    # plot.plot(values_Y)\n",
    "    \n",
    "    RSS = RSS(values_x, values_Y, intercept, slope)\n",
    "    n = len(values_x)\n",
    "    if len(values_Y) != n: return\n",
    "    A = RSS/(n-2)-np.power(ux,2)\n",
    "    B = np.power(intercept + (slope-1)*values_x, 2)\n",
    "    C = np.power(A + B, 0.5)\n",
    "    UEREL = np.divide(2*C, values_Y)\n",
    "    \n",
    "    return UEREL"
   ]
  },
  {
   "cell_type": "code",
   "execution_count": null,
   "metadata": {
    "Collapsed": "false",
    "code_folding": [
     33
    ]
   },
   "outputs": [],
   "source": [
    "import matplotlib.pyplot as plot\n",
    "from matplotlib import gridspec\n",
    "import math\n",
    "\n",
    "dqo_table = (['PM', 50],\n",
    "            ['O3', 30],\n",
    "            ['CO',25],\n",
    "            ['NO',25],\n",
    "            ['NO2',25],\n",
    "            ['NOX',25],\n",
    "            ['SO2',25])\n",
    "\n",
    "ux = 0\n",
    "test_model = '2019-02_EXT_DUBLIN_URBAN_BACKGROUND'\n",
    "\n",
    "## ---\n",
    "number_of_subplots = len(records.readings[test_model]['models'].keys()) \n",
    "\n",
    "if number_of_subplots % 2 == 0: cols = 2\n",
    "else: cols = 3\n",
    "    \n",
    "rows = int(math.ceil(number_of_subplots / cols))\n",
    "gs = gridspec.GridSpec(rows, cols)\n",
    "fig = plot.figure(figsize=(15,10))\n",
    "\n",
    "fig.tight_layout()\n",
    "n = 0\n",
    "\n",
    "for model in records.readings[test_model]['models']:\n",
    "    try:\n",
    "        data = records.readings[test_model]['devices'][model]['data']\n",
    "        dataVal = data.groupby(pd.Grouper(freq='1H')).aggregate(np.mean)\n",
    "        values_x = dataVal['reference'].values\n",
    "        values_Y = dataVal['prediction'].values\n",
    "        \n",
    "        total_len = len(data.index)\n",
    "        n_train_periods = int(round(total_len*ratio_train))\n",
    "    \n",
    "        ax = fig.add_subplot(gs[n])\n",
    "        n += 1      \n",
    "    \n",
    "        uerel = 100*fUEREL(ux, values_x, values_Y)\n",
    "        \n",
    "        plot.plot(values_x, uerel, 'ko')\n",
    "        plot.xlabel('Ref. conc [ppb]')\n",
    "        plot.ylabel('Rel. Exp. Unc (%)')\n",
    "        plot.ylim([0, 100])\n",
    "        plot.title(model)\n",
    "        plot.axhline(y=25, color='r', linestyle='-')\n",
    "    except:\n",
    "        pass\n",
    "            "
   ]
  }
 ],
 "metadata": {
  "celltoolbar": "Raw Cell Format",
  "kernelspec": {
   "display_name": "Python 3",
   "language": "python",
   "name": "python3"
  },
  "language_info": {
   "codemirror_mode": {
    "name": "ipython",
    "version": 3
   },
   "file_extension": ".py",
   "mimetype": "text/x-python",
   "name": "python",
   "nbconvert_exporter": "python",
   "pygments_lexer": "ipython3",
   "version": "3.7.0"
  },
  "toc": {
   "nav_menu": {
    "height": "357px",
    "width": "307px"
   },
   "number_sections": true,
   "sideBar": true,
   "skip_h1_title": false,
   "title_cell": "Table of Contents",
   "title_sidebar": "Contents",
   "toc_cell": true,
   "toc_position": {
    "height": "48px",
    "left": "552px",
    "top": "705.497px",
    "width": "315px"
   },
   "toc_section_display": true,
   "toc_window_display": true
  },
  "toc-autonumbering": false,
  "toc-showcode": false,
  "toc-showmarkdowntxt": false,
  "toc-showtags": false
 },
 "nbformat": 4,
 "nbformat_minor": 4
}
