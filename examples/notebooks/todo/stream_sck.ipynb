{
 "cells": [
  {
   "cell_type": "code",
   "execution_count": null,
   "metadata": {
    "Collapsed": "false"
   },
   "outputs": [],
   "source": [
    "%load_ext autoreload\n",
    "%autoreload 2"
   ]
  },
  {
   "cell_type": "markdown",
   "metadata": {
    "Collapsed": "false"
   },
   "source": [
    "Set things up"
   ]
  },
  {
   "cell_type": "code",
   "execution_count": null,
   "metadata": {
    "Collapsed": "false"
   },
   "outputs": [],
   "source": [
    "from src.tools.sck import sck\n",
    "from src.saf import *\n",
    "import time\n",
    "from bokeh.models.sources import ColumnDataSource\n",
    "from bokeh.plotting import figure\n",
    "from bokeh.io import output_notebook, show, push_notebook\n",
    "from threading import Thread\n",
    "\n",
    "output_notebook()"
   ]
  },
  {
   "cell_type": "markdown",
   "metadata": {
    "Collapsed": "false"
   },
   "source": [
    "Make the kit"
   ]
  },
  {
   "cell_type": "code",
   "execution_count": null,
   "metadata": {
    "Collapsed": "false"
   },
   "outputs": [],
   "source": [
    "kit = sck()\n",
    "kit.begin()"
   ]
  },
  {
   "cell_type": "markdown",
   "metadata": {
    "Collapsed": "false"
   },
   "source": [
    "Some things we can know about this kit"
   ]
  },
  {
   "cell_type": "code",
   "execution_count": null,
   "metadata": {
    "Collapsed": "false"
   },
   "outputs": [],
   "source": [
    "print (kit.sensor_enabled)\n",
    "print (kit.serialPort)\n",
    "print (kit.serialPort_name)\n",
    "print (kit.sam_firmVer)\n",
    "print (kit.sam_firmCommit)\n",
    "print (kit.sam_firmBuildDate)\n",
    "print (kit.esp_macAddress)"
   ]
  },
  {
   "cell_type": "markdown",
   "metadata": {
    "Collapsed": "false"
   },
   "source": [
    "We can set shell mode for easier interaction"
   ]
  },
  {
   "cell_type": "code",
   "execution_count": null,
   "metadata": {
    "Collapsed": "false"
   },
   "outputs": [],
   "source": [
    "kit.toggleShell()"
   ]
  },
  {
   "cell_type": "markdown",
   "metadata": {
    "Collapsed": "false"
   },
   "source": [
    "Here we can define what channels we would like to see, and some processing for them.\n",
    "<br>Each channel can have several processing to do:"
   ]
  },
  {
   "cell_type": "code",
   "execution_count": null,
   "metadata": {
    "Collapsed": "false"
   },
   "outputs": [],
   "source": [
    "channels_to_monitor = {'Temperature': {'smooth': 10, \n",
    "                                       'time_derivative': 1},\n",
    "                       'Humidity': {'time_derivative': None}\n",
    "                      }"
   ]
  },
  {
   "cell_type": "code",
   "execution_count": null,
   "metadata": {
    "Collapsed": "false"
   },
   "outputs": [],
   "source": [
    "store_to_csv = True\n",
    "if store_to_csv: path_to_store = join(getcwd(), 'csv_export.csv'); print (path_to_store)\n",
    "# And start monitoring them\n",
    "kit.monitor(list(channels_to_monitor.keys()), noms = True)"
   ]
  },
  {
   "cell_type": "markdown",
   "metadata": {
    "Collapsed": "false"
   },
   "source": [
    "### Time series plot"
   ]
  },
  {
   "cell_type": "code",
   "execution_count": null,
   "metadata": {
    "Collapsed": "false"
   },
   "outputs": [],
   "source": [
    "def process_data(data):\n",
    "    for channel in channels_to_monitor.keys():\n",
    "        for process in channels_to_monitor[channel].keys():\n",
    "            if data.empty: data[channel + '_' + process] = []\n",
    "            else:\n",
    "                formula = process + f\"(new_data['{channel}'], channels_to_monitor['{channel}']['{process}'])\"\n",
    "                data[channel + '_' + process] = eval(formula)\n",
    "    return data\n",
    "\n",
    "test_data = ColumnDataSource(data = process_data(kit.worker.example))\n",
    "\n",
    "from bokeh.models import Panel, Tabs\n",
    "from bokeh.layouts import column\n",
    "from bokeh.plotting import figure\n",
    "from bokeh.io import show\n",
    "from bokeh.layouts import gridplot\n",
    "\n",
    "n_tabs = len(list(channels_to_monitor.keys()))\n",
    "tabs = Tabs(tabs = [])\n",
    "\n",
    "for channel in channels_to_monitor.keys():\n",
    "    gridplots = list()\n",
    "    p = figure(background_fill_color=\"#fafafa\", x_axis_type='datetime')\n",
    "    list_channels = [channel]\n",
    "    \n",
    "    if 'smooth' in channels_to_monitor[channel].keys(): list_channels.append(channel + '_' + 'smooth')\n",
    "    print (list_channels)\n",
    "    p.scatter(y=list_channels[0], x=\"Time\", source = test_data)\n",
    "    gridplots.append([p])\n",
    "    print (gridplots)\n",
    "    for process in channels_to_monitor[channel].keys():\n",
    "        if process != 'smooth':\n",
    "            p = figure(background_fill_color=\"#fafafa\", x_axis_type='datetime')\n",
    "            print (channel + '_' + process)\n",
    "            p.scatter(y=channel + '_' + process, x=\"Time\", source = test_data)\n",
    "            gridplots.append([p])\n",
    "    \n",
    "    grid = gridplot(gridplots, plot_width=600, plot_height=400)\n",
    "    tab = Panel(child=grid, title=channel)\n",
    "    tabs.tabs.append(tab)\n",
    "\n",
    "handle = show(tabs, notebook_handle=True)\n",
    "    \n",
    "stop_threads = False\n",
    "\n",
    "def worker_call(id, stop):\n",
    "    \n",
    "    period = .1  # in seconds (simulate waiting for new data)\n",
    "    n_show = 10  # number of points to keep and show\n",
    "\n",
    "    while True:\n",
    "        if not kit.worker.output.empty():\n",
    "            new_data = kit.worker.output.get()\n",
    "            if 'Time' in new_data.columns: new_data.set_index('Time')\n",
    "            \n",
    "            # Add processing\n",
    "            process_data (new_data)\n",
    "\n",
    "            test_data.stream(new_data, n_show)\n",
    "            # Store to csv\n",
    "            if store_to_csv: \n",
    "                dataframe = pd.DataFrame(test_data.data)\n",
    "                dataframe.to_csv(path_to_store, sep=\",\")\n",
    "            \n",
    "            # Update plot\n",
    "            push_notebook(handle=handle)\n",
    "            time.sleep(period)\n",
    "\n",
    "            if stop():\n",
    "                print(\"Finished thread\")\n",
    "                break\n",
    "\n",
    "thread = Thread(target=worker_call, args=(id, lambda: stop_threads))\n",
    "thread.start()"
   ]
  },
  {
   "cell_type": "code",
   "execution_count": null,
   "metadata": {
    "Collapsed": "false"
   },
   "outputs": [],
   "source": [
    "stop_threads = True"
   ]
  }
 ],
 "metadata": {
  "kernelspec": {
   "display_name": "Python 3",
   "language": "python",
   "name": "python3"
  },
  "language_info": {
   "codemirror_mode": {
    "name": "ipython",
    "version": 3
   },
   "file_extension": ".py",
   "mimetype": "text/x-python",
   "name": "python",
   "nbconvert_exporter": "python",
   "pygments_lexer": "ipython3",
   "version": "3.7.0"
  },
  "toc": {
   "nav_menu": {},
   "number_sections": true,
   "sideBar": true,
   "skip_h1_title": false,
   "title_cell": "Table of Contents",
   "title_sidebar": "Contents",
   "toc_cell": false,
   "toc_position": {},
   "toc_section_display": true,
   "toc_window_display": false
  }
 },
 "nbformat": 4,
 "nbformat_minor": 4
}
