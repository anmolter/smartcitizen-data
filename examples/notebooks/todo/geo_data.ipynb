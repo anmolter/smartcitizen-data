{
 "cells": [
  {
   "cell_type": "markdown",
   "metadata": {},
   "source": [
    "# Geo data example\n",
    "\n",
    "This example uses the Smart Citizen API python wrapper to make an animation of the SCK history in the world. It uses folium (a leaflet.js implementation)"
   ]
  },
  {
   "cell_type": "code",
   "execution_count": 1,
   "metadata": {},
   "outputs": [],
   "source": [
    "%load_ext autoreload\n",
    "%autoreload 2"
   ]
  },
  {
   "cell_type": "code",
   "execution_count": 2,
   "metadata": {
    "Collapsed": "false"
   },
   "outputs": [
    {
     "name": "stdout",
     "output_type": "stream",
     "text": [
      "Loading blueprints file from: /Users/macoscar/Documents/04_Projects/02_FabLab/01_SmartCitizen/01_Repositories/DataAnalysis/smartcitizen-data/data/interim/blueprints.yaml\n",
      "Loaded blueprints file\n",
      "\u001b[32m[SUCCESS]: \u001b[0mMerged blueprints\n",
      "\u001b[32m[SUCCESS]: \u001b[0mSaved updated sensor names and dumped into /Users/macoscar/Documents/04_Projects/02_FabLab/01_SmartCitizen/01_Repositories/DataAnalysis/smartcitizen-data/data/interim/sensornames_21.json\n",
      "\u001b[32m[SUCCESS]: \u001b[0mSaved updated sensor names and dumped into /Users/macoscar/Documents/04_Projects/02_FabLab/01_SmartCitizen/01_Repositories/DataAnalysis/smartcitizen-data/data/interim/sensornames_20.json\n",
      "Updating blueprints file from: /Users/macoscar/Documents/04_Projects/02_FabLab/01_SmartCitizen/01_Repositories/DataAnalysis/smartcitizen-data/data/interim/blueprints.yaml\n",
      "\u001b[32m[SUCCESS]: \u001b[0mUpdated blueprints file\n",
      "Loading calibration data from: /Users/macoscar/Documents/04_Projects/02_FabLab/01_SmartCitizen/01_Repositories/DataAnalysis/smartcitizen-data/data/interim/calibrations.json\n",
      "\u001b[32m[SUCCESS]: \u001b[0mLoaded calibration data file\n"
     ]
    }
   ],
   "source": [
    "from src.data.api import ScApiDevice\n",
    "import folium\n",
    "from folium import plugins\n",
    "import pandas as pd\n",
    "import branca"
   ]
  },
  {
   "cell_type": "markdown",
   "metadata": {},
   "source": [
    "## Get data\n",
    "\n",
    "Use the `ScApiDevice.get_word_map()` to get the whole map from the API"
   ]
  },
  {
   "cell_type": "code",
   "execution_count": 3,
   "metadata": {},
   "outputs": [
    {
     "data": {
      "text/html": [
       "<div>\n",
       "<style scoped>\n",
       "    .dataframe tbody tr th:only-of-type {\n",
       "        vertical-align: middle;\n",
       "    }\n",
       "\n",
       "    .dataframe tbody tr th {\n",
       "        vertical-align: top;\n",
       "    }\n",
       "\n",
       "    .dataframe thead th {\n",
       "        text-align: right;\n",
       "    }\n",
       "</style>\n",
       "<table border=\"1\" class=\"dataframe\">\n",
       "  <thead>\n",
       "    <tr style=\"text-align: right;\">\n",
       "      <th></th>\n",
       "      <th>added_at</th>\n",
       "      <th>city</th>\n",
       "      <th>country_code</th>\n",
       "      <th>description</th>\n",
       "      <th>kit_id</th>\n",
       "      <th>last_reading_at</th>\n",
       "      <th>latitude</th>\n",
       "      <th>longitude</th>\n",
       "      <th>name</th>\n",
       "      <th>owner_id</th>\n",
       "      <th>owner_username</th>\n",
       "      <th>state</th>\n",
       "      <th>system_tags</th>\n",
       "      <th>updated_at</th>\n",
       "      <th>user_tags</th>\n",
       "    </tr>\n",
       "    <tr>\n",
       "      <th>id</th>\n",
       "      <th></th>\n",
       "      <th></th>\n",
       "      <th></th>\n",
       "      <th></th>\n",
       "      <th></th>\n",
       "      <th></th>\n",
       "      <th></th>\n",
       "      <th></th>\n",
       "      <th></th>\n",
       "      <th></th>\n",
       "      <th></th>\n",
       "      <th></th>\n",
       "      <th></th>\n",
       "      <th></th>\n",
       "      <th></th>\n",
       "    </tr>\n",
       "  </thead>\n",
       "  <tbody>\n",
       "    <tr>\n",
       "      <th>4365</th>\n",
       "      <td>2017-07-17T14:53:49Z</td>\n",
       "      <td>Barcelona</td>\n",
       "      <td>ES</td>\n",
       "      <td>Making Sense Pilot #1</td>\n",
       "      <td>11</td>\n",
       "      <td>2017-07-17T14:54:54Z</td>\n",
       "      <td>41.396570</td>\n",
       "      <td>2.194473</td>\n",
       "      <td>Giant Spark Eggnog</td>\n",
       "      <td>6066</td>\n",
       "      <td>Marabales</td>\n",
       "      <td>has_published</td>\n",
       "      <td>[offline, outdoor]</td>\n",
       "      <td>2017-07-17T14:53:49Z</td>\n",
       "      <td>[Barcelona, MakingSense, Inside, First Floor, ...</td>\n",
       "    </tr>\n",
       "    <tr>\n",
       "      <th>4140</th>\n",
       "      <td>2017-01-12T13:17:54Z</td>\n",
       "      <td>Antofagasta</td>\n",
       "      <td>CL</td>\n",
       "      <td>Departamento feliz Geomensura - Geomática =)</td>\n",
       "      <td>3</td>\n",
       "      <td>2017-01-14T11:20:24Z</td>\n",
       "      <td>-23.701574</td>\n",
       "      <td>-70.420252</td>\n",
       "      <td>UA_F.A</td>\n",
       "      <td>5696</td>\n",
       "      <td>sck.fablab.atacama</td>\n",
       "      <td>has_published</td>\n",
       "      <td>[offline, outdoor]</td>\n",
       "      <td>2017-10-14T14:21:02Z</td>\n",
       "      <td>[Research, Experimental]</td>\n",
       "    </tr>\n",
       "    <tr>\n",
       "      <th>4122</th>\n",
       "      <td>2017-01-05T00:27:58Z</td>\n",
       "      <td>Lewisham</td>\n",
       "      <td>AU</td>\n",
       "      <td>Tracking the environment of our farm &amp; food fo...</td>\n",
       "      <td>3</td>\n",
       "      <td>2017-08-17T08:57:21Z</td>\n",
       "      <td>-33.892412</td>\n",
       "      <td>151.147368</td>\n",
       "      <td>Lewisham House</td>\n",
       "      <td>2940</td>\n",
       "      <td>jamesr</td>\n",
       "      <td>has_published</td>\n",
       "      <td>[indoor, offline]</td>\n",
       "      <td>2017-01-22T04:51:40Z</td>\n",
       "      <td>[Experimental]</td>\n",
       "    </tr>\n",
       "    <tr>\n",
       "      <th>3618</th>\n",
       "      <td>2016-07-15T16:26:20Z</td>\n",
       "      <td>Esplugues de Llobregat</td>\n",
       "      <td>ES</td>\n",
       "      <td>None</td>\n",
       "      <td>3</td>\n",
       "      <td>2017-07-22T15:07:39Z</td>\n",
       "      <td>41.374510</td>\n",
       "      <td>2.100678</td>\n",
       "      <td>ISP01</td>\n",
       "      <td>5452</td>\n",
       "      <td>ISP01</td>\n",
       "      <td>has_published</td>\n",
       "      <td>[offline, outdoor]</td>\n",
       "      <td>2016-07-15T16:45:37Z</td>\n",
       "      <td>[Barcelona]</td>\n",
       "    </tr>\n",
       "    <tr>\n",
       "      <th>2451</th>\n",
       "      <td>2015-07-22T12:39:32Z</td>\n",
       "      <td>Karlsruhe</td>\n",
       "      <td>DE</td>\n",
       "      <td>Smart Citizen Kit located in Karlsruhe inside ...</td>\n",
       "      <td>3</td>\n",
       "      <td>2015-12-23T21:03:45Z</td>\n",
       "      <td>49.006890</td>\n",
       "      <td>8.403653</td>\n",
       "      <td>ZKM - Citizen-KiT</td>\n",
       "      <td>3921</td>\n",
       "      <td>ZKM4Karlsruhe</td>\n",
       "      <td>has_published</td>\n",
       "      <td>[indoor, offline]</td>\n",
       "      <td>2015-10-10T00:09:53Z</td>\n",
       "      <td>[]</td>\n",
       "    </tr>\n",
       "  </tbody>\n",
       "</table>\n",
       "</div>"
      ],
      "text/plain": [
       "                  added_at                    city country_code  \\\n",
       "id                                                                \n",
       "4365  2017-07-17T14:53:49Z               Barcelona           ES   \n",
       "4140  2017-01-12T13:17:54Z             Antofagasta           CL   \n",
       "4122  2017-01-05T00:27:58Z                Lewisham           AU   \n",
       "3618  2016-07-15T16:26:20Z  Esplugues de Llobregat           ES   \n",
       "2451  2015-07-22T12:39:32Z               Karlsruhe           DE   \n",
       "\n",
       "                                            description  kit_id  \\\n",
       "id                                                                \n",
       "4365                              Making Sense Pilot #1      11   \n",
       "4140       Departamento feliz Geomensura - Geomática =)       3   \n",
       "4122  Tracking the environment of our farm & food fo...       3   \n",
       "3618                                               None       3   \n",
       "2451  Smart Citizen Kit located in Karlsruhe inside ...       3   \n",
       "\n",
       "           last_reading_at   latitude   longitude                name  \\\n",
       "id                                                                      \n",
       "4365  2017-07-17T14:54:54Z  41.396570    2.194473  Giant Spark Eggnog   \n",
       "4140  2017-01-14T11:20:24Z -23.701574  -70.420252              UA_F.A   \n",
       "4122  2017-08-17T08:57:21Z -33.892412  151.147368      Lewisham House   \n",
       "3618  2017-07-22T15:07:39Z  41.374510    2.100678               ISP01   \n",
       "2451  2015-12-23T21:03:45Z  49.006890    8.403653   ZKM - Citizen-KiT   \n",
       "\n",
       "      owner_id      owner_username          state         system_tags  \\\n",
       "id                                                                      \n",
       "4365      6066           Marabales  has_published  [offline, outdoor]   \n",
       "4140      5696  sck.fablab.atacama  has_published  [offline, outdoor]   \n",
       "4122      2940              jamesr  has_published   [indoor, offline]   \n",
       "3618      5452               ISP01  has_published  [offline, outdoor]   \n",
       "2451      3921       ZKM4Karlsruhe  has_published   [indoor, offline]   \n",
       "\n",
       "                updated_at                                          user_tags  \n",
       "id                                                                             \n",
       "4365  2017-07-17T14:53:49Z  [Barcelona, MakingSense, Inside, First Floor, ...  \n",
       "4140  2017-10-14T14:21:02Z                           [Research, Experimental]  \n",
       "4122  2017-01-22T04:51:40Z                                     [Experimental]  \n",
       "3618  2016-07-15T16:45:37Z                                        [Barcelona]  \n",
       "2451  2015-10-10T00:09:53Z                                                 []  "
      ]
     },
     "execution_count": 3,
     "metadata": {},
     "output_type": "execute_result"
    }
   ],
   "source": [
    "# Sensor IDs (you can filter, see help(ScApiDevice.get_world_map))\n",
    "sensors = ScApiDevice.get_world_map(full = True)\n",
    "sensors.set_index('kit_id')\n",
    "sensors.head(5)"
   ]
  },
  {
   "cell_type": "markdown",
   "metadata": {},
   "source": [
    "## Plot Static map"
   ]
  },
  {
   "cell_type": "code",
   "execution_count": null,
   "metadata": {
    "Collapsed": "false"
   },
   "outputs": [],
   "source": [
    "from src.visualization.visualization_tools import device_history_map\n",
    "\n",
    "options = {'fillOpacity':1.0, 'radius': 10, 'zoom': 3.5}\n",
    "m = device_history_map(map_type = 'static', dataframe = sensors, options = options)"
   ]
  },
  {
   "cell_type": "code",
   "execution_count": null,
   "metadata": {},
   "outputs": [],
   "source": [
    "# Save it or show it\n",
    "m.save('/path/map.html')"
   ]
  },
  {
   "cell_type": "markdown",
   "metadata": {},
   "source": [
    "## Plot Dynamic Map"
   ]
  },
  {
   "cell_type": "code",
   "execution_count": 13,
   "metadata": {},
   "outputs": [],
   "source": [
    "from src.visualization.visualization_tools import device_history_map\n",
    "\n",
    "options = {'fillOpacity':0.7, 'radius': 10, 'zoom': 2.5, 'period': '1W'}\n",
    "m = device_history_map(map_type = 'dynamic', dataframe = sensors, options = options)"
   ]
  },
  {
   "cell_type": "code",
   "execution_count": 14,
   "metadata": {},
   "outputs": [],
   "source": [
    "# Save it or show it\n",
    "m.save('/Users/macoscar/Desktop/IAAC-Article/kit_history.html')"
   ]
  },
  {
   "cell_type": "code",
   "execution_count": null,
   "metadata": {},
   "outputs": [],
   "source": []
  }
 ],
 "metadata": {
  "kernelspec": {
   "display_name": "Python 3",
   "language": "python",
   "name": "python3"
  },
  "language_info": {
   "codemirror_mode": {
    "name": "ipython",
    "version": 3
   },
   "file_extension": ".py",
   "mimetype": "text/x-python",
   "name": "python",
   "nbconvert_exporter": "python",
   "pygments_lexer": "ipython3",
   "version": "3.7.0"
  }
 },
 "nbformat": 4,
 "nbformat_minor": 4
}
