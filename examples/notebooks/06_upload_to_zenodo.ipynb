{
 "cells": [
  {
   "cell_type": "markdown",
   "metadata": {},
   "source": [
    "# Upload to Zenodo"
   ]
  },
  {
   "cell_type": "markdown",
   "metadata": {
    "collapsed": "false"
   },
   "source": [
    "This is an example to upload datasets or publications to zenodo.org.\n",
    "\n",
    "You have to fill up the yaml file in the data/uploads folder and put your reports or pdfs there. The data that comes from the tests are not needed in that folder."
   ]
  },
  {
   "cell_type": "code",
   "execution_count": null,
   "metadata": {},
   "outputs": [],
   "source": [
    "import scdata as sc"
   ]
  },
  {
   "cell_type": "code",
   "execution_count": null,
   "metadata": {},
   "outputs": [],
   "source": [
    "from scdata.utils.zenodo import zenodo_upload\n",
    "from scdata._config import config\n",
    "\n",
    "config._out_level = 'DEBUG'"
   ]
  },
  {
   "cell_type": "markdown",
   "metadata": {},
   "source": [
    "Remember to have the `ZENODO_TOKEN` environment variable set. If you don't have one, visit the [docs](https://docs.smartcitizen.me/Guides/data/Upload%20data%20to%20zenodo/).\n",
    "You can load an .env file using the util below:"
   ]
  },
  {
   "cell_type": "code",
   "execution_count": null,
   "metadata": {},
   "outputs": [],
   "source": [
    "from scdata.utils.meta import load_env\n",
    "\n",
    "envfile = '/path/to/.env'\n",
    "\n",
    "load_env(envfile)"
   ]
  },
  {
   "cell_type": "markdown",
   "metadata": {},
   "source": [
    "Now check that your token is there"
   ]
  },
  {
   "cell_type": "code",
   "execution_count": null,
   "metadata": {},
   "outputs": [],
   "source": [
    "environ['ZENODO_TOKEN']"
   ]
  },
  {
   "cell_type": "markdown",
   "metadata": {},
   "source": [
    "The cell below will use the example_zenodo_upload.yaml file that will find in the ~/.cache/scdata/uploads folder. This submission is not valid (will return a `Validation error`), and needs to be modified to get a valid HTTP response."
   ]
  },
  {
   "cell_type": "code",
   "execution_count": null,
   "metadata": {
    "scrolled": true
   },
   "outputs": [],
   "source": [
    "# You can use the sandbox.zenodo.org for tests, as well as a dry_run. When you are happy with your upload, set these variables to False\n",
    "# Then go to uploads in the zenodo section and publish whenever you are ready\n",
    "zenodo_upload('example_zenodo_upload', sandbox = False, dry_run = True)"
   ]
  }
 ],
 "metadata": {
  "kernelspec": {
   "display_name": "Python 3",
   "language": "python",
   "name": "python3"
  },
  "language_info": {
   "codemirror_mode": {
    "name": "ipython",
    "version": 3
   },
   "file_extension": ".py",
   "mimetype": "text/x-python",
   "name": "python",
   "nbconvert_exporter": "python",
   "pygments_lexer": "ipython3",
   "version": "3.7.3"
  }
 },
 "nbformat": 4,
 "nbformat_minor": 4
}
