{
 "cells": [
  {
   "cell_type": "code",
   "execution_count": null,
   "metadata": {},
   "outputs": [],
   "source": [
    "stest = Test('ALMABIKE_POBLENOU_0930_DUST')"
   ]
  },
  {
   "cell_type": "code",
   "execution_count": null,
   "metadata": {},
   "outputs": [],
   "source": [
    "test.add_device(Device(blueprint = 'sck_21_gps' , descriptor = {'source': 'csv',\n",
    "                                                                  'id': 'VAUDE',\n",
    "                                                                  'raw_data_file': 'VAUDE-20-09-30.CSV',\n",
    "                                                                  'frequency': '5S',\n",
    "                                                                  'location': 'Europe/Madrid'\n",
    "                                                         }\n",
    "                     )\n",
    "           )"
   ]
  },
  {
   "cell_type": "code",
   "execution_count": null,
   "metadata": {},
   "outputs": [],
   "source": [
    "# Create the test\n",
    "test.create()"
   ]
  },
  {
   "cell_type": "code",
   "execution_count": null,
   "metadata": {},
   "outputs": [],
   "source": [
    "# Load it\n",
    "stest.load()"
   ]
  },
  {
   "cell_type": "code",
   "execution_count": null,
   "metadata": {},
   "outputs": [],
   "source": [
    "metric = {f'WITHIN_YANN': {'process': 'geo_located',\n",
    "                           'kwargs': {'within': (41.3978514, 2.1935695, 50)}\n",
    "                        }}\n",
    "\n",
    "stest.devices['VAUDE'].add_metric(metric)\n",
    "stest.devices['VAUDE'].process(metrics = metric)"
   ]
  },
  {
   "cell_type": "code",
   "execution_count": null,
   "metadata": {},
   "outputs": [],
   "source": [
    "traces = {\n",
    "            \"1\": {\"devices\": \"VAUDE\",\n",
    "                  \"channel\": \"PM_1\",\n",
    "                  'filter': {'col': 'WITHIN_WORK', 'value': True, 'relationship': '=='}, \n",
    "                  \"subplot\": 1}, \n",
    "            \"2\": {\"devices\": \"YANN\",\n",
    "                  \"channel\": \"PM_1\", \n",
    "                  \"subplot\": 1}\n",
    "        }\n",
    "\n",
    "options = {'clean_na': None, 'min_date': '2020-09-30 18:35:00+02:00', 'max_date': '2020-09-30 18:55:00+02:00'}\n",
    "stest.ts_iplot(traces=traces, options = options);"
   ]
  }
 ],
 "metadata": {
  "kernelspec": {
   "display_name": "Python 3",
   "language": "python",
   "name": "python3"
  },
  "language_info": {
   "codemirror_mode": {
    "name": "ipython",
    "version": 3
   },
   "file_extension": ".py",
   "mimetype": "text/x-python",
   "name": "python",
   "nbconvert_exporter": "python",
   "pygments_lexer": "ipython3",
   "version": "3.7.3"
  }
 },
 "nbformat": 4,
 "nbformat_minor": 4
}
