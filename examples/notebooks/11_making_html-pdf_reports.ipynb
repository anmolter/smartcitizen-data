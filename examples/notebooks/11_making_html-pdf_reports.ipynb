{
 "cells": [
  {
   "cell_type": "markdown",
   "metadata": {},
   "source": [
    "# Making an html-pdf report\n",
    "\n",
    "This example shows how to make an html report based on the analysis carried out in the text."
   ]
  },
  {
   "cell_type": "code",
   "execution_count": null,
   "metadata": {},
   "outputs": [],
   "source": [
    "from scdata.test import Test\n",
    "from scdata._config import config\n",
    "\n",
    "config.out_level='DEBUG'\n",
    "config.framework='jupyterlab'"
   ]
  },
  {
   "cell_type": "code",
   "execution_count": null,
   "metadata": {},
   "outputs": [],
   "source": [
    "# Load the test from the other example\n",
    "test = Test('EXAMPLE')\n",
    "test.load()"
   ]
  },
  {
   "cell_type": "markdown",
   "metadata": {},
   "source": [
    "Make a plot and show it"
   ]
  },
  {
   "cell_type": "code",
   "execution_count": null,
   "metadata": {},
   "outputs": [],
   "source": [
    "traces = {1: {'devices': '10751', 'channel': 'NOISE_A', 'subplot': 1}\n",
    "         }\n",
    "\n",
    "options = {'min_date': '2020-12-18 12:00:00', 'frequency': '5Min', 'clean_na': None}\n",
    "formatting = {'width': 14, 'ylabel': {1: 'Noise (dBA)'}}\n",
    "fig = test.ts_plot(traces = traces, options = options, formatting = formatting)"
   ]
  },
  {
   "cell_type": "markdown",
   "metadata": {},
   "source": [
    "Add the figure and some text on the report"
   ]
  },
  {
   "cell_type": "code",
   "execution_count": null,
   "metadata": {},
   "outputs": [],
   "source": [
    "text = '''\n",
    "Eius nesciunt quae perspiciatis sequi. Aliquid exercitationem aliquam similique neque quod velit. Saepe voluptas earum similique facilis. Consectetur inventore magnam cupiditate id excepturi ea. Rerum odit a maxime rem eum cumque quos. Ut exercitationem exercitationem officia.\n",
    "Ipsa laborum aspernatur in. Est itaque doloribus est unde adipisci ut. Eaque sint voluptatem quo ab.\n",
    "Cumque ipsa est quas ut qui aliquam. Non labore aspernatur atque. Repellat quo ut quos autem quam. Ut quis ex voluptatem at adipisci. Officiis sint dicta vero soluta numquam. Natus repudiandae et magnam.\n",
    "Deserunt aspernatur ullam quasi voluptas. Quam pariatur ut incidunt. Totam labore itaque eaque est illo est. Dolorem dicta voluptatibus quis qui consectetur rem.\n",
    "Dolores dolores fuga reprehenderit ea ut vel. Eaque quia debitis voluptatum corporis dicta delectus. Consequatur voluptas aspernatur et inventore. Aut eaque nihil totam dolore.\n",
    "Voluptas error quia magnam aliquid aliquam nesciunt consequatur. Provident saepe quia consequatur blanditiis inventore. Totam ex ut laudantium cum quae non magni. Vel quaerat cumque nulla omnis.\n",
    "Perferendis qui non omnis perspiciatis aliquam ut. Nihil voluptates fugiat repellendus veniam saepe sed dolorem consequatur. Itaque nulla dolor id perferendis earum vitae.\n",
    "Autem sit quia quia nihil et reprehenderit ipsa exercitationem. Mollitia perferendis voluptas odio consequuntur voluptatem natus dolorem ipsa. Labore harum quas voluptatem consequatur blanditiis quidem praesentium iste.\n",
    "Nobis recusandae nihil quas in rem nihil. Ea vel veniam quam. Beatae consequatur architecto sit cumque sit ut nihil dolore. Qui et quos eos temporibus. Consequatur iure velit voluptatem velit.\n",
    "Aut minus nobis repellendus quis. Ducimus esse animi quod ab est fuga perferendis. Doloribus voluptatum illum et. Ut fuga animi a architecto maxime quia neque sit.\n",
    "'''\n",
    "\n",
    "test.add_content(title = 'Noise analysis for in Avinguda Roma', figure = fig, text = text)"
   ]
  },
  {
   "cell_type": "markdown",
   "metadata": {},
   "source": [
    "And maybe another one"
   ]
  },
  {
   "cell_type": "code",
   "execution_count": null,
   "metadata": {},
   "outputs": [],
   "source": [
    "traces = {1: {'devices': 'csv_device', 'channel': 'NOISE_A', 'subplot': 1}\n",
    "         }\n",
    "\n",
    "options = {'frequency': '1Min', 'clean_na': None}\n",
    "formatting = {'width': 14, 'ylabel': {1: 'Noise (dBA)'}}\n",
    "fig = test.ts_plot(traces = traces, options = options, formatting = formatting)"
   ]
  },
  {
   "cell_type": "code",
   "execution_count": null,
   "metadata": {},
   "outputs": [],
   "source": [
    "text = '''\n",
    "Eius nesciunt quae perspiciatis sequi. Aliquid exercitationem aliquam similique neque quod velit. Saepe voluptas earum similique facilis. Consectetur inventore magnam cupiditate id excepturi ea. Rerum odit a maxime rem eum cumque quos. Ut exercitationem exercitationem officia.\n",
    "Ipsa laborum aspernatur in. Est itaque doloribus est unde adipisci ut. Eaque sint voluptatem quo ab.\n",
    "Cumque ipsa est quas ut qui aliquam. Non labore aspernatur atque. Repellat quo ut quos autem quam. Ut quis ex voluptatem at adipisci. Officiis sint dicta vero soluta numquam. Natus repudiandae et magnam.\n",
    "Deserunt aspernatur ullam quasi voluptas. Quam pariatur ut incidunt. Totam labore itaque eaque est illo est. Dolorem dicta voluptatibus quis qui consectetur rem.\n",
    "Dolores dolores fuga reprehenderit ea ut vel. Eaque quia debitis voluptatum corporis dicta delectus. Consequatur voluptas aspernatur et inventore. Aut eaque nihil totam dolore.\n",
    "Voluptas error quia magnam aliquid aliquam nesciunt consequatur. Provident saepe quia consequatur blanditiis inventore. Totam ex ut laudantium cum quae non magni. Vel quaerat cumque nulla omnis.\n",
    "Perferendis qui non omnis perspiciatis aliquam ut. Nihil voluptates fugiat repellendus veniam saepe sed dolorem consequatur. Itaque nulla dolor id perferendis earum vitae.\n",
    "Autem sit quia quia nihil et reprehenderit ipsa exercitationem. Mollitia perferendis voluptas odio consequuntur voluptatem natus dolorem ipsa. Labore harum quas voluptatem consequatur blanditiis quidem praesentium iste.\n",
    "Nobis recusandae nihil quas in rem nihil. Ea vel veniam quam. Beatae consequatur architecto sit cumque sit ut nihil dolore. Qui et quos eos temporibus. Consequatur iure velit voluptatem velit.\n",
    "Aut minus nobis repellendus quis. Ducimus esse animi quod ab est fuga perferendis. Doloribus voluptatum illum et. Ut fuga animi a architecto maxime quia neque sit.\n",
    "'''\n",
    "test.add_content(title = 'Noise analysis', figure = fig, text = text)"
   ]
  },
  {
   "cell_type": "code",
   "execution_count": null,
   "metadata": {},
   "outputs": [],
   "source": [
    "traces = {1: {'devices': 'csv_device', 'channel': 'NOISE_A', 'subplot': 1}\n",
    "         }\n",
    "\n",
    "options = {'frequency': '1Min'}\n",
    "formatting = {'width': 14, 'ylabel': {1: 'Noise (dBA)'}, 'title': 'Noise'}\n",
    "\n",
    "iframe = test.ts_uplot(traces = traces, options = options, formatting = formatting)\n",
    "iframe"
   ]
  },
  {
   "cell_type": "code",
   "execution_count": null,
   "metadata": {},
   "outputs": [],
   "source": [
    "text = '''\n",
    "Eius nesciunt quae perspiciatis sequi. Aliquid exercitationem aliquam similique neque quod velit. Saepe voluptas earum similique facilis. Consectetur inventore magnam cupiditate id excepturi ea. Rerum odit a maxime rem eum cumque quos. Ut exercitationem exercitationem officia.\n",
    "Ipsa laborum aspernatur in. Est itaque doloribus est unde adipisci ut. Eaque sint voluptatem quo ab.\n",
    "Cumque ipsa est quas ut qui aliquam. Non labore aspernatur atque. Repellat quo ut quos autem quam. Ut quis ex voluptatem at adipisci. Officiis sint dicta vero soluta numquam. Natus repudiandae et magnam.\n",
    "Deserunt aspernatur ullam quasi voluptas. Quam pariatur ut incidunt. Totam labore itaque eaque est illo est. Dolorem dicta voluptatibus quis qui consectetur rem.\n",
    "Dolores dolores fuga reprehenderit ea ut vel. Eaque quia debitis voluptatum corporis dicta delectus. Consequatur voluptas aspernatur et inventore. Aut eaque nihil totam dolore.\n",
    "Voluptas error quia magnam aliquid aliquam nesciunt consequatur. Provident saepe quia consequatur blanditiis inventore. Totam ex ut laudantium cum quae non magni. Vel quaerat cumque nulla omnis.\n",
    "Perferendis qui non omnis perspiciatis aliquam ut. Nihil voluptates fugiat repellendus veniam saepe sed dolorem consequatur. Itaque nulla dolor id perferendis earum vitae.\n",
    "Autem sit quia quia nihil et reprehenderit ipsa exercitationem. Mollitia perferendis voluptas odio consequuntur voluptatem natus dolorem ipsa. Labore harum quas voluptatem consequatur blanditiis quidem praesentium iste.\n",
    "Nobis recusandae nihil quas in rem nihil. Ea vel veniam quam. Beatae consequatur architecto sit cumque sit ut nihil dolore. Qui et quos eos temporibus. Consequatur iure velit voluptatem velit.\n",
    "Aut minus nobis repellendus quis. Ducimus esse animi quod ab est fuga perferendis. Doloribus voluptatum illum et. Ut fuga animi a architecto maxime quia neque sit.\n",
    "'''\n",
    "\n",
    "test.add_content(title = 'Interactive Noise',iframe = iframe, text = text, show_title = True, force = True)"
   ]
  },
  {
   "cell_type": "code",
   "execution_count": null,
   "metadata": {},
   "outputs": [],
   "source": [
    "report_path, _ = test.to_html(title='Noise analysis', devices_summary=True);\n",
    "report_path"
   ]
  }
 ],
 "metadata": {
  "kernelspec": {
   "display_name": "Python 3",
   "language": "python",
   "name": "python3"
  },
  "language_info": {
   "codemirror_mode": {
    "name": "ipython",
    "version": 3
   },
   "file_extension": ".py",
   "mimetype": "text/x-python",
   "name": "python",
   "nbconvert_exporter": "python",
   "pygments_lexer": "ipython3",
   "version": "3.7.3"
  }
 },
 "nbformat": 4,
 "nbformat_minor": 4
}
