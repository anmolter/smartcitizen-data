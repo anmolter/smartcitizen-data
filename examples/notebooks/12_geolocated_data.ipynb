{
 "cells": [
  {
   "cell_type": "markdown",
   "metadata": {},
   "source": [
    "# GeoJSON visualisation\n",
    "\n",
    "This example walks through the process of plotting geolocated data in a leaflet interactive map"
   ]
  },
  {
   "cell_type": "code",
   "execution_count": null,
   "metadata": {},
   "outputs": [],
   "source": [
    "import scdata as sc"
   ]
  },
  {
   "cell_type": "code",
   "execution_count": null,
   "metadata": {},
   "outputs": [],
   "source": [
    "test = sc.Test('GEOJSON_EXAMPLE')"
   ]
  },
  {
   "cell_type": "code",
   "execution_count": null,
   "metadata": {},
   "outputs": [],
   "source": [
    "test.add_device(sc.Device(blueprint = 'sck_21_gps' , \n",
    "                       descriptor = {'source': 'csv',\n",
    "                                     'id': 'BIKE',\n",
    "                                     'raw_data_file': 'geodata.csv',\n",
    "                                     'location': 'Europe/Madrid',\n",
    "                                     'frequency': '5S'\n",
    "                                    }\n",
    "                      )\n",
    ")"
   ]
  },
  {
   "cell_type": "code",
   "execution_count": null,
   "metadata": {},
   "outputs": [],
   "source": [
    "test.create(force=True)"
   ]
  },
  {
   "cell_type": "code",
   "execution_count": null,
   "metadata": {
    "scrolled": true
   },
   "outputs": [],
   "source": [
    "test.load()"
   ]
  },
  {
   "cell_type": "markdown",
   "metadata": {},
   "source": [
    "## Static Map\n",
    "\n",
    "Static maps can be rendered by passing the `map_type = 'static'` argument. "
   ]
  },
  {
   "cell_type": "markdown",
   "metadata": {},
   "source": [
    "### Color mapping to channel\n",
    "\n",
    "A variable can be mapped into the colors of each reading."
   ]
  },
  {
   "cell_type": "code",
   "execution_count": null,
   "metadata": {},
   "outputs": [],
   "source": [
    "options = {\n",
    "    'period': '20S', # Resampling period (change to 5S for larger resolution)\n",
    "    'zoom': '14', # Zoom position on map\n",
    "    'markers': True, # Show markers on plot    \n",
    "    'radius': 4, # Marker radius \n",
    "    'stroke-width': 2, # Line-width\n",
    "    'tiles': 'cartodbpositron', # Map tiles\n",
    "    'minmax': True, # Map channel (if passed) to min max values or config._channel_bins\n",
    "    'location': 'average' # Either list with [LAT, LONG] or 'average' for the points\n",
    "}\n",
    "ms = test.path_plot(devices=['BIKE'], channel = 'PM_25', map_type = 'static', options = options);\n",
    "ms"
   ]
  },
  {
   "cell_type": "markdown",
   "metadata": {},
   "source": [
    "### GPX viewer\n",
    "\n",
    "If no channel is provided, a GPX viewer is returned"
   ]
  },
  {
   "cell_type": "code",
   "execution_count": null,
   "metadata": {},
   "outputs": [],
   "source": [
    "options = {\n",
    "    'period': '5S', # Resampling period\n",
    "    'zoom': '14', # Zoom position on map\n",
    "    'markers': True, # Show markers on plot    \n",
    "    'stroke-width': 2, # Line-width\n",
    "    'tiles': 'cartodbpositron', # Map tiles\n",
    "    'location': 'average' # Either list with [LAT, LONG] or 'average' for the points\n",
    "}\n",
    "gv = test.path_plot(devices=['BIKE'], map_type = 'static', options = options);\n",
    "gv"
   ]
  },
  {
   "cell_type": "markdown",
   "metadata": {},
   "source": [
    "## Dynamic map\n",
    "\n",
    "Small animations can be done with `map_style='dynamic'`"
   ]
  },
  {
   "cell_type": "markdown",
   "metadata": {},
   "source": [
    "### Color mapping to channel\n",
    "\n",
    "As above, if a variable is passed, a color mapping will be done in the traces. If the channel is not in `config._channel_bins`, the min and max limits will be used"
   ]
  },
  {
   "cell_type": "code",
   "execution_count": null,
   "metadata": {},
   "outputs": [],
   "source": [
    "options = {\n",
    "    'period': '5S', # Resampling period\n",
    "    'zoom': '14', # Zoom position on map\n",
    "    'markers': True, # Show markers on plot    \n",
    "    'stroke-width': 2, # Line-width\n",
    "    'radius': 4,\n",
    "    'tiles': 'cartodbpositron', # Map tiles\n",
    "    'location': 'average' # Either list with [LAT, LONG] or 'average' for the points\n",
    "}\n",
    "gv = test.path_plot(devices=['BIKE'], channel = 'GPS_SPEED', start_date = '2020-10-01 17:50:00', \n",
    "                    map_type = 'dynamic', options = options);\n",
    "gv"
   ]
  },
  {
   "cell_type": "markdown",
   "metadata": {},
   "source": [
    "### Animated GPX viewer\n",
    "\n",
    "If no channel is passed, an animated single color GPX viewer is generated"
   ]
  },
  {
   "cell_type": "code",
   "execution_count": null,
   "metadata": {},
   "outputs": [],
   "source": [
    "options = {\n",
    "    'period': '5S', # Resampling period\n",
    "    'zoom': '14', # Zoom position on map\n",
    "    'markers': True, # Show markers on plot    \n",
    "    'stroke-width': 2, # Line-width\n",
    "    'radius': 4,\n",
    "    'tiles': 'cartodbpositron', # Map tiles\n",
    "    'location': 'average' # Either list with [LAT, LONG] or 'average' for the points\n",
    "}\n",
    "gv = test.path_plot(devices=['BIKE'], start_date = '2020-10-01 17:50:00', end_date = '2020-10-01 18:02:00',\n",
    "                    map_type = 'dynamic', options = options);\n",
    "gv"
   ]
  },
  {
   "cell_type": "code",
   "execution_count": null,
   "metadata": {},
   "outputs": [],
   "source": []
  }
 ],
 "metadata": {
  "kernelspec": {
   "display_name": "Python 3",
   "language": "python",
   "name": "python3"
  },
  "language_info": {
   "codemirror_mode": {
    "name": "ipython",
    "version": 3
   },
   "file_extension": ".py",
   "mimetype": "text/x-python",
   "name": "python",
   "nbconvert_exporter": "python",
   "pygments_lexer": "ipython3",
   "version": "3.7.3"
  }
 },
 "nbformat": 4,
 "nbformat_minor": 4
}
