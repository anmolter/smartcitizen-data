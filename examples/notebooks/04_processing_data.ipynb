{
 "cells": [
  {
   "cell_type": "markdown",
   "metadata": {},
   "source": [
    "# Data processing\n",
    "\n",
    "This example walks through the basics for processing data and added metrics.\n",
    "\n",
    "## Concepts\n",
    "\n",
    "Devices in the framework contain _raw readings_ that are under the device.readings pandas dataframe. A list of the sensors raw metrics can be shown in device.sensors.\n",
    "\n",
    "Devices can also contain processed values called metrics. These metrics can be added by passing a callable function and then processed."
   ]
  },
  {
   "cell_type": "code",
   "execution_count": null,
   "metadata": {},
   "outputs": [],
   "source": [
    "%load_ext autoreload\n",
    "%autoreload 2"
   ]
  },
  {
   "cell_type": "code",
   "execution_count": 3,
   "metadata": {},
   "outputs": [
    {
     "name": "stdout",
     "output_type": "stream",
     "text": [
      "[INFO]: 63 --- 2020_05_EXAMPLE\n",
      "[INFO]: 66 --- 2020_05_EXAMPLE2\n"
     ]
    },
    {
     "name": "stdin",
     "output_type": "stream",
     "text": [
      "Similar tests found, please select one or input other name [New]:  63\n"
     ]
    },
    {
     "name": "stdout",
     "output_type": "stream",
     "text": [
      "[INFO]: Test full name, 2020_05_EXAMPLE\n"
     ]
    }
   ],
   "source": [
    "from scdata.test import Test\n",
    "from scdata.device import Device\n",
    "from scdata._config import config\n",
    "\n",
    "config.out_level='DEBUG'\n",
    "config.framework='jupyterlab'\n",
    "\n",
    "test = Test('EXAMPLE')"
   ]
  },
  {
   "cell_type": "code",
   "execution_count": null,
   "metadata": {
    "scrolled": true
   },
   "outputs": [],
   "source": [
    "test.load()"
   ]
  },
  {
   "cell_type": "markdown",
   "metadata": {},
   "source": [
    "## Process basics"
   ]
  },
  {
   "cell_type": "code",
   "execution_count": null,
   "metadata": {},
   "outputs": [],
   "source": [
    "## The readings for each device are accessible via\n",
    "test.devices['10751'].readings"
   ]
  },
  {
   "cell_type": "code",
   "execution_count": null,
   "metadata": {
    "scrolled": true
   },
   "outputs": [],
   "source": [
    "## The sensors for each device are accessible via\n",
    "test.devices['10751'].sensors"
   ]
  },
  {
   "cell_type": "code",
   "execution_count": null,
   "metadata": {
    "scrolled": true
   },
   "outputs": [],
   "source": [
    "## The metrics for each device are accessible via\n",
    "test.devices['10751'].metrics"
   ]
  },
  {
   "cell_type": "code",
   "execution_count": 2,
   "metadata": {},
   "outputs": [
    {
     "name": "stdout",
     "output_type": "stream",
     "text": [
      "Help on function process in module scdata.test:\n",
      "\n",
      "process(self, only_new=False)\n",
      "    Calculates all the metrics in each of the devices\n",
      "    Returns True if done OK\n",
      "\n"
     ]
    }
   ],
   "source": [
    "help(Test.process)"
   ]
  },
  {
   "cell_type": "code",
   "execution_count": null,
   "metadata": {},
   "outputs": [],
   "source": [
    "## Process the metrics as a default\n",
    "test.process()"
   ]
  },
  {
   "cell_type": "markdown",
   "metadata": {},
   "source": [
    "## Add metrics"
   ]
  },
  {
   "cell_type": "code",
   "execution_count": 4,
   "metadata": {
    "scrolled": true
   },
   "outputs": [
    {
     "name": "stdout",
     "output_type": "stream",
     "text": [
      "Help on function add_metric in module scdata.device:\n",
      "\n",
      "add_metric(self, metric={})\n",
      "    Add a metric to the device to be processed by a callable function\n",
      "    Parameters\n",
      "    ----------\n",
      "        metric: dict\n",
      "        Empty dict\n",
      "        Description of the metric to be added. It only adds it to\n",
      "        Device.metrics, but does not calculate anything yet. The metric dict needs \n",
      "        to follow the format:\n",
      "            metric = {\n",
      "                        'metric_name': {'process': <function_name>\n",
      "                                        'args': <iterable>\n",
      "                                        'kwargs': <**kwargs for @function_name>\n",
      "                                        'from_list': <module to load function from>\n",
      "                        }\n",
      "            }\n",
      "        \n",
      "        The 'from_list' parameter is optional, and onle needed if the process is not \n",
      "        already available in scdata.device.process.\n",
      "    \n",
      "        For a list of available processes call help(scdata.device.process)\n",
      "    \n",
      "        Example:\n",
      "        --------\n",
      "            metric = {'NO2_CLEAN': {'process': 'clean_ts',\n",
      "                                    'kwargs': {'name': pollutant,\n",
      "                                               'limits': [0, 350],\n",
      "                                                'window_size': 5}\n",
      "                    }}\n",
      "    Returns\n",
      "    ----------\n",
      "    True if added metric\n",
      "\n"
     ]
    }
   ],
   "source": [
    "help(Device.add_metric)"
   ]
  },
  {
   "cell_type": "code",
   "execution_count": 5,
   "metadata": {
    "scrolled": true
   },
   "outputs": [
    {
     "name": "stdout",
     "output_type": "stream",
     "text": [
      "Help on function process in module scdata.device:\n",
      "\n",
      "process(self, only_new=False, metrics=None)\n",
      "    Processes devices metrics, either added by the blueprint definition\n",
      "    or the addition using Device.add_metric(). See help(Device.add_metric) for\n",
      "    more information about the definition of the metrics to be added\n",
      "    \n",
      "    Parameters\n",
      "    ----------\n",
      "    only_new: boolean\n",
      "        False\n",
      "        To process or not the existing channels in the Device.readings that are\n",
      "        defined in Device.metrics\n",
      "    metrics: list\n",
      "        None\n",
      "        List of metrics to process. If none, processes all\n",
      "    Returns\n",
      "    ----------\n",
      "        boolean\n",
      "        True if processed ok, False otherwise\n",
      "\n"
     ]
    }
   ],
   "source": [
    "help(Device.process)"
   ]
  },
  {
   "cell_type": "code",
   "execution_count": 10,
   "metadata": {
    "scrolled": true
   },
   "outputs": [
    {
     "name": "stdout",
     "output_type": "stream",
     "text": [
      "Help on module scdata.device.process.timeseries in scdata.device.process:\n",
      "\n",
      "NAME\n",
      "    scdata.device.process.timeseries\n",
      "\n",
      "FUNCTIONS\n",
      "    clean_ts(dataframe, **kwargs)\n",
      "        Cleans the time series measurements sensors, by filling the out of band values with NaN\n",
      "        Parameters\n",
      "        ----------\n",
      "            name: string\n",
      "                column to clean to apply.\n",
      "            limits: list, optional \n",
      "                (0, 99999)\n",
      "                Sensor limits. The function will fill with NaN in the values that exceed the band\n",
      "            window_size: int, optional \n",
      "                3\n",
      "                If not None, will smooth the time series by applying a rolling window of that size\n",
      "            window_type: str, optional\n",
      "                None\n",
      "                Accepts arguments in the list of windows for scipy.signal windows:\n",
      "                https://docs.scipy.org/doc/scipy/reference/signal.html#window-functions\n",
      "                Default to None implies normal rolling average\n",
      "        Returns\n",
      "        -------\n",
      "            pandas series containing the clean\n",
      "    \n",
      "    merge_ts(dataframe, **kwargs)\n",
      "        Merges readings from sensors into one clean ts. The function checks the dispersion and \n",
      "        picks the desired one (min, max, min_nonzero, avg)\n",
      "        Parameters\n",
      "        ----------\n",
      "            names: list of strings\n",
      "                List of sensors to merge into one. Currently only support two ts.\n",
      "            pick: string\n",
      "                'min'\n",
      "                One of the following 'min', 'max', 'avg', 'min_nonzero'\n",
      "                Which one two pick in case of high deviation between the metrics. Picks the avg \n",
      "                otherwise\n",
      "            factor: float (factor > 0)\n",
      "                0.3\n",
      "                Maximum allowed deviation of the difference with respect to the each of signals.\n",
      "                It creates a window of [factor*signal_X, -factor*signal_X] for X being each signal\n",
      "                out of which there will be a flag where one of the signals will be picked. This \n",
      "                factor should be set to a value that is similar to the sensor typical deviation\n",
      "            Same parameters as clean_ts apply below:\n",
      "            limits: list, optional \n",
      "                (0, 99999)\n",
      "                Sensor limits. The function will fill with NaN in the values that exceed the band\n",
      "            window_size: int, optional \n",
      "                3\n",
      "                If not None, will smooth the time series by applying a rolling window of that size\n",
      "            window_type: str, optional\n",
      "                None\n",
      "                Accepts arguments in the list of windows for scipy.signal windows:\n",
      "                https://docs.scipy.org/doc/scipy/reference/signal.html#window-functions\n",
      "                Default to None implies normal rolling average\n",
      "        Returns\n",
      "        -------\n",
      "            pandas series containing the clean\n",
      "    \n",
      "    poly_ts(dataframe, **kwargs)\n",
      "        Calculates the a polinomy based on channels.\n",
      "        Parameters\n",
      "        ----------\n",
      "            channels: list of strings\n",
      "                list containing channels\n",
      "            coefficients: list or np array\n",
      "                list containing coefficients\n",
      "            exponents: list or np array\n",
      "                list containing exponents\n",
      "            extra_term: float\n",
      "                0\n",
      "                Independent term\n",
      "        Returns\n",
      "        -------\n",
      "            result = sum(coefficients[i]*channels[i]^exponents[i] + extra_term)\n",
      "    \n",
      "    rolling_avg(dataframe, **kwargs)\n",
      "        Performs pandas.rolling with input\n",
      "        Parameters\n",
      "        ----------\n",
      "            name: string\n",
      "                column to clean to apply.\n",
      "            window_size: int, optional \n",
      "                3\n",
      "                If not None, will smooth the time series by applying a rolling window of that size\n",
      "            window_type: str, optional\n",
      "                None\n",
      "                Accepts arguments in the list of windows for scipy.signal windows:\n",
      "                https://docs.scipy.org/doc/scipy/reference/signal.html#window-functions\n",
      "                Default to None implies normal rolling average\n",
      "        Returns\n",
      "        -------\n",
      "            pandas series containing the rolling average\n",
      "\n",
      "DATA\n",
      "    nan = nan\n",
      "    power = <ufunc 'power'>\n",
      "\n",
      "FILE\n",
      "    /Users/macoscar/Documents/04_Projects/02_FabLab/01_SmartCitizen/01_Repositories/DataAnalysis/smartcitizen-data/scdata/device/process/timeseries.py\n",
      "\n",
      "\n"
     ]
    }
   ],
   "source": [
    "import scdata\n",
    "help(scdata.device.process.timeseries)\n",
    "# help(sc.device.process.alphasense)\n",
    "# help(sc.device.process.regression)"
   ]
  },
  {
   "cell_type": "code",
   "execution_count": 11,
   "metadata": {},
   "outputs": [
    {
     "name": "stdout",
     "output_type": "stream",
     "text": [
      "Help on function poly_ts in module scdata.device.process.timeseries:\n",
      "\n",
      "poly_ts(dataframe, **kwargs)\n",
      "    Calculates the a polinomy based on channels.\n",
      "    Parameters\n",
      "    ----------\n",
      "        channels: list of strings\n",
      "            list containing channels\n",
      "        coefficients: list or np array\n",
      "            list containing coefficients\n",
      "        exponents: list or np array\n",
      "            list containing exponents\n",
      "        extra_term: float\n",
      "            0\n",
      "            Independent term\n",
      "    Returns\n",
      "    -------\n",
      "        result = sum(coefficients[i]*channels[i]^exponents[i] + extra_term)\n",
      "\n"
     ]
    }
   ],
   "source": [
    "help(scdata.device.process.timeseries.poly_ts)"
   ]
  },
  {
   "cell_type": "code",
   "execution_count": null,
   "metadata": {},
   "outputs": [],
   "source": [
    "metric = {f'TEMP_POLY': {'process': 'poly_ts',\n",
    "                           'kwargs': {'channels': ['TEMP', 'EXT_TEMP'],\n",
    "                                      'coefficients': [1, -1]}\n",
    "                        }}\n",
    "\n",
    "test.devices['10751'].add_metric(metric)\n",
    "test.devices['10751'].process(metrics = metric)"
   ]
  },
  {
   "cell_type": "code",
   "execution_count": null,
   "metadata": {
    "scrolled": true
   },
   "outputs": [],
   "source": [
    "test.devices['10751'].readings"
   ]
  },
  {
   "cell_type": "code",
   "execution_count": null,
   "metadata": {},
   "outputs": [],
   "source": [
    "traces = {1: {'devices': '10751',\n",
    "              'channel': 'TEMP_POLY',\n",
    "              'subplot': 1},\n",
    "          2: {'devices': '10751',\n",
    "              'channel': 'TEMP',\n",
    "              'subplot': 1},          \n",
    "         }\n",
    "\n",
    "options = {\n",
    "            'frequency': '1H'\n",
    "}\n",
    "test.ts_iplot(traces = traces, options = options);"
   ]
  },
  {
   "cell_type": "markdown",
   "metadata": {},
   "source": [
    "## Reprocessing\n",
    "\n",
    "When adding a new metric, one can only process the added metric as above or the whole test (test.process()).\n",
    "\n",
    "If processes take too long, when adding a metric, the new ones can be processed as: test.reprocess()"
   ]
  },
  {
   "cell_type": "code",
   "execution_count": 13,
   "metadata": {},
   "outputs": [
    {
     "name": "stdout",
     "output_type": "stream",
     "text": [
      "Help on function reprocess in module scdata.test:\n",
      "\n",
      "reprocess(self)\n",
      "    Calculates only the new metrics in each of the devices\n",
      "    Returns True if done OK\n",
      "\n"
     ]
    }
   ],
   "source": [
    "help(Test.reprocess)"
   ]
  },
  {
   "cell_type": "code",
   "execution_count": 12,
   "metadata": {},
   "outputs": [
    {
     "name": "stdout",
     "output_type": "stream",
     "text": [
      "Help on function clean_ts in module scdata.device.process.timeseries:\n",
      "\n",
      "clean_ts(dataframe, **kwargs)\n",
      "    Cleans the time series measurements sensors, by filling the out of band values with NaN\n",
      "    Parameters\n",
      "    ----------\n",
      "        name: string\n",
      "            column to clean to apply.\n",
      "        limits: list, optional \n",
      "            (0, 99999)\n",
      "            Sensor limits. The function will fill with NaN in the values that exceed the band\n",
      "        window_size: int, optional \n",
      "            3\n",
      "            If not None, will smooth the time series by applying a rolling window of that size\n",
      "        window_type: str, optional\n",
      "            None\n",
      "            Accepts arguments in the list of windows for scipy.signal windows:\n",
      "            https://docs.scipy.org/doc/scipy/reference/signal.html#window-functions\n",
      "            Default to None implies normal rolling average\n",
      "    Returns\n",
      "    -------\n",
      "        pandas series containing the clean\n",
      "\n"
     ]
    }
   ],
   "source": [
    "help(scdata.device.process.timeseries.clean_ts)"
   ]
  },
  {
   "cell_type": "code",
   "execution_count": null,
   "metadata": {},
   "outputs": [],
   "source": [
    "metric = {f'PM_1_CLEAN': {'process': 'clean_ts',\n",
    "                           'kwargs': {'name': 'PM_1', 'limits': [0, 1000], 'window_size': 3}\n",
    "                        }}\n",
    "\n",
    "test.devices['10751'].add_metric(metric)\n",
    "test.reprocess()"
   ]
  },
  {
   "cell_type": "code",
   "execution_count": null,
   "metadata": {},
   "outputs": [],
   "source": [
    "traces = {1: {'devices': '10751',\n",
    "              'channel': 'PM_1',\n",
    "              'subplot': 1},\n",
    "          2: {'devices': '10751',\n",
    "              'channel': 'PM_1_CLEAN',\n",
    "              'subplot': 1},          \n",
    "         }\n",
    "\n",
    "options = {\n",
    "            'frequency': '1H'\n",
    "}\n",
    "test.ts_iplot(traces = traces, options = options);"
   ]
  }
 ],
 "metadata": {
  "kernelspec": {
   "display_name": "Python 3",
   "language": "python",
   "name": "python3"
  },
  "language_info": {
   "codemirror_mode": {
    "name": "ipython",
    "version": 3
   },
   "file_extension": ".py",
   "mimetype": "text/x-python",
   "name": "python",
   "nbconvert_exporter": "python",
   "pygments_lexer": "ipython3",
   "version": "3.7.3"
  }
 },
 "nbformat": 4,
 "nbformat_minor": 4
}
