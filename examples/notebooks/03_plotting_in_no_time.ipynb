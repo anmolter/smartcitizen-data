{
 "cells": [
  {
   "cell_type": "markdown",
   "metadata": {},
   "source": [
    "# Visualising data\n",
    "\n",
    "This example shows different types of plots available. Two libraries are used, matplotlib (plot) or plotly (iplot)"
   ]
  },
  {
   "cell_type": "code",
   "execution_count": null,
   "metadata": {},
   "outputs": [],
   "source": [
    "from scdata.test import Test\n",
    "from scdata._config import config\n",
    "\n",
    "config.out_level='DEBUG'\n",
    "config.framework='jupyterlab'"
   ]
  },
  {
   "cell_type": "code",
   "execution_count": null,
   "metadata": {
    "scrolled": true
   },
   "outputs": [],
   "source": [
    "# Load the test from the other example\n",
    "test = Test('EXAMPLE')\n",
    "test.load()"
   ]
  },
  {
   "cell_type": "code",
   "execution_count": null,
   "metadata": {
    "scrolled": true
   },
   "outputs": [],
   "source": [
    "test.process()"
   ]
  },
  {
   "cell_type": "code",
   "execution_count": null,
   "metadata": {},
   "outputs": [],
   "source": [
    "test.device_metric_map('NOISE_A', start_date = '2020-02-01', end_date = '2020-04-01')"
   ]
  },
  {
   "cell_type": "markdown",
   "metadata": {},
   "source": [
    "## Simple timeseries plot"
   ]
  },
  {
   "cell_type": "code",
   "execution_count": null,
   "metadata": {},
   "outputs": [],
   "source": [
    "traces = {\n",
    "            \"1\": {\"devices\": \"10751\",\n",
    "                  \"channel\": \"NOISE_A\",\n",
    "                  \"subplot\": 1},\n",
    "        }\n",
    "\n",
    "figure = test.ts_plot(traces = traces);"
   ]
  },
  {
   "cell_type": "markdown",
   "metadata": {},
   "source": [
    "### Adding more features"
   ]
  },
  {
   "cell_type": "code",
   "execution_count": null,
   "metadata": {},
   "outputs": [],
   "source": [
    "traces = {\n",
    "            \"1\": {\"devices\": \"10751\",\n",
    "                  \"channel\": \"NOISE_A\",\n",
    "                  \"subplot\": 1},\n",
    "                  #\"extras\": ['mean', 'max', 'min']}, This is handy when comparing devices\n",
    "            \"2\": {\"devices\": \"10751\",\n",
    "                  \"channel\": \"PM_1\",\n",
    "                  \"subplot\": 2},\n",
    "            \"3\": {\"devices\": \"10751\",\n",
    "                  \"channel\": \"TEMP\",\n",
    "                  \"subplot\": 3}\n",
    "        }\n",
    "\n",
    "\n",
    "options = {\n",
    "            \"show\": True,\n",
    "            \"frequency\": '1Min',\n",
    "            \"clean_na\": None,\n",
    "            \"max_date\": '2020-05-13',\n",
    "            \"min_date\": '2020-05-06'\n",
    "            }\n",
    "\n",
    "formatting = {\"xlabel\": \"Date\",\n",
    "              \"ylabel\": {1: \"Noise (dBA Scale)\", 2: \"PM1 (ug/m3)\", 3: \"Temperature (degC)\"},\n",
    "              \"yrange\": {1: [0, 90], 2: [0, 100], 3: [5, 40]},\n",
    "              \"xrange\": {1: ['2020-05-06', '2020-05-13']},\n",
    "              \"title\": \"Example plot\",\n",
    "              \"sharex\":True,\n",
    "              \"grid\": True,\n",
    "              \"legend\": True,\n",
    "              \"height\": 10,\n",
    "              \"width\": 20,\n",
    "              \"suptitle_factor\": 0.92,\n",
    "              \"style\": \"seaborn-whitegrid\",\n",
    "              \"palette\": \"Accent\",\n",
    "              \"decorators\": {'axvline': ['2020-05-08', '2020-05-11'],\n",
    "                               'xtext': {'2020-05-08 06:00:00': 'Quiet', \n",
    "                                         '2020-05-11 06:00:00': 'Traffic'},\n",
    "                            }\n",
    "              }\n",
    "\n",
    "\n",
    "figure = test.ts_plot(traces = traces, options = options, formatting = formatting);\n",
    "# Save it\n",
    "# figure.savefig('~/Desktop/plot.png', dpi = 300, transparent=False, bbox_inches='tight')"
   ]
  },
  {
   "cell_type": "code",
   "execution_count": null,
   "metadata": {},
   "outputs": [],
   "source": [
    "traces = {\n",
    "            \"1\": {\"devices\": \"10751\",\n",
    "                  \"channel\": \"PM_1\",\n",
    "                  \"subplot\": 1},\n",
    "            \"3\": {\"devices\": \"10751\",\n",
    "                  \"channel\": \"NOISE_A\",\n",
    "                  \"subplot\": 2}\n",
    "          }\n",
    "\n",
    "options = {\n",
    "            \"show\": True,\n",
    "            \"frequency\": '1H',\n",
    "            \"clean_na\": None,\n",
    "            \"max_date\": '2020-05-13',\n",
    "            \"min_date\": '2020-05-06'\n",
    "            }\n",
    "\n",
    "formatting = {\"xlabel\": \"Date\",\n",
    "              \"ylabel\": {1: \"PM1 (ug/m3)\", 2: \"Noise (dBA Scale)\"},\n",
    "              \"yrange\": {1: [0, 90], 2: [0, 100]},\n",
    "              \"xrange\": {1: ['2020-05-06', '2020-05-13']},\n",
    "              \"title\": \"iplot Example\",\n",
    "              \"sharex\":True,\n",
    "              \"grid\": True,\n",
    "              \"legend\": False,\n",
    "              \"height\": 600,\n",
    "              \"width\": 800,\n",
    "              \"suptitle_factor\": 0.92\n",
    "              }\n",
    "\n",
    "\n",
    "test.ts_iplot(traces = traces, options = options, formatting = formatting);"
   ]
  },
  {
   "cell_type": "code",
   "execution_count": null,
   "metadata": {},
   "outputs": [],
   "source": [
    "traces = {\n",
    "            \"1\": {\"devices\": \"10751\",\n",
    "                  \"channel\": \"GB_2W\"},\n",
    "            \"2\": {\"devices\": \"8019043\",\n",
    "                  \"channel\": \"NO2\"}  \n",
    "        }\n",
    "\n",
    "options = {\n",
    "            \"show\": True,\n",
    "            \"frequency\": '1Min',\n",
    "            \"clean_na\": None,\n",
    "            \"max_date\": '2020-04-20',\n",
    "            \"min_date\": '2020-02-01'\n",
    "            }\n",
    "\n",
    "formatting = {\"yrange\": [0, 100],\n",
    "              \"xrange\": [-10, 10],\n",
    "              \"title\": \"PM Evolution in Barcelona - During COVID-19 lockdown\",\n",
    "              \"grid\": True,\n",
    "              \"legend\": True,\n",
    "              \"height\": 10,\n",
    "              \"suptitle_factor\": 0.92,\n",
    "              \"style\": \"seaborn-whitegrid\",\n",
    "              \"palette\": \"gray\",\n",
    "              }\n",
    "\n",
    "\n",
    "figure = test.scatter_plot(traces = traces, options = options, formatting = formatting);\n",
    "# figure = test.corr_iplot(traces = traces, options = options, formatting = formatting);\n",
    "# figure.savefig('/Users/macoscar/Desktop/plot.png', dpi = 300, transparent=False, bbox_inches='tight')"
   ]
  },
  {
   "cell_type": "code",
   "execution_count": null,
   "metadata": {},
   "outputs": [],
   "source": [
    "traces = {\n",
    "            \"1\": {\"devices\": \"10751\",\n",
    "                  \"channel\": \"GB_2W\"},\n",
    "            \"2\": {\"devices\": \"8019043\",\n",
    "                  \"channel\": \"NO2\"}    \n",
    "        }\n",
    "\n",
    "options = {\n",
    "            \"show\": True,\n",
    "            \"frequency\": '1H',\n",
    "            \"clean_na\": None,\n",
    "            \"max_date\": '2020-04-20',\n",
    "            \"min_date\": '2020-02-01'\n",
    "            }\n",
    "\n",
    "formatting = {\n",
    "                \"yrange\": [0, 60],\n",
    "                #\"xrange\": ['2020-02-01', '2020-02-02'],\n",
    "                \"title\": \"PM 10\",\n",
    "                \"grid\": True,\n",
    "                \"legend\": True,\n",
    "                \"suptitle_factor\": 0.92,\n",
    "                \"title_fontsize\": 13,\n",
    "                \"fontsize\": 12,\n",
    "                \"style\": \"seaborn-whitegrid\",\n",
    "                \"palette\": \"gray\",\n",
    "                'ylabel': 'PM_10 (ug/m3)'\n",
    "              }\n",
    "\n",
    "\n",
    "figure = test.ts_scatter(traces = traces, options = options, formatting = formatting);\n",
    "# figure.savefig('/Users/macoscar/Desktop/plot.png', dpi = 300, transparent=False, bbox_inches='tight')"
   ]
  },
  {
   "cell_type": "code",
   "execution_count": null,
   "metadata": {},
   "outputs": [],
   "source": [
    "traces = {\n",
    "            \"1\": {\"devices\": \"10751\",\n",
    "                  \"channel\": \"GB_2W\"} \n",
    "        }\n",
    "\n",
    "options = {\n",
    "            \"show\": True,\n",
    "            \"frequency\": '1Min',\n",
    "            \"clean_na\": None,\n",
    "            \"max_date\": '2020-04-20',\n",
    "            \"min_date\": '2020-02-01'\n",
    "            }\n",
    "\n",
    "formatting = {\"title\": \"PM Evolution\",\n",
    "              \"grid\": True,\n",
    "              \"legend\": True,\n",
    "              \"height\": 10,\n",
    "              \"suptitle_factor\": 0.92,\n",
    "              \"style\": \"seaborn-whitegrid\",\n",
    "              \"periods\": {\"dates\": ['2020-01-20', '2020-03-15', None],\n",
    "                          \"labels\": [\"Pre-lockdown\", \"Post-lockdown\"]}\n",
    "              }\n",
    "\n",
    "figure = test.heatmap_plot(traces = traces, options = options, formatting = formatting);"
   ]
  },
  {
   "cell_type": "code",
   "execution_count": null,
   "metadata": {},
   "outputs": [],
   "source": [
    "traces = {\n",
    "            \"1\": {\"devices\": \"10751\",\n",
    "                  \"channel\": \"GB_2W\"} \n",
    "        }\n",
    "\n",
    "options = {\n",
    "            \"show\": True,\n",
    "            \"frequency\": '1Min',\n",
    "            \"clean_na\": None,\n",
    "            \"max_date\": '2020-04-20',\n",
    "            \"min_date\": '2020-02-01'\n",
    "            }\n",
    "\n",
    "formatting = {\"title\": \"PM Evolution\",\n",
    "              \"grid\": True,\n",
    "              \"legend\": True,\n",
    "              \"height\": 10,\n",
    "              \"suptitle_factor\": 0.92\n",
    "              }\n",
    "\n",
    "figure = test.heatmap_iplot(traces = traces, options = options, formatting = formatting);"
   ]
  },
  {
   "cell_type": "code",
   "execution_count": null,
   "metadata": {},
   "outputs": [],
   "source": [
    "traces = {\n",
    "            \"1\": {\"devices\": \"10751\",\n",
    "                  \"channel\": \"GB_2W\"} \n",
    "        }\n",
    "\n",
    "options = {\n",
    "            \"show\": True,\n",
    "            \"frequency\": '1Min',\n",
    "            \"clean_na\": None,\n",
    "            \"max_date\": '2020-04-20',\n",
    "            \"min_date\": '2020-02-01'\n",
    "            }\n",
    "\n",
    "formatting = {\"title\": \"PM Evolution\",\n",
    "              \"grid\": True,\n",
    "              \"legend\": True,\n",
    "              \"height\": 10,\n",
    "              \"suptitle_factor\": 0.92,\n",
    "              \"periods\": {\"dates\": ['2020-01-20', '2020-03-15', None],\n",
    "                          \"labels\": [\"Pre-lockdown\", \"Post-lockdown\"]\n",
    "                         },\n",
    "              }\n",
    "\n",
    "figure = test.box_plot(traces = traces, options = options, formatting = formatting);"
   ]
  }
 ],
 "metadata": {
  "kernelspec": {
   "display_name": "Python 3",
   "language": "python",
   "name": "python3"
  },
  "language_info": {
   "codemirror_mode": {
    "name": "ipython",
    "version": 3
   },
   "file_extension": ".py",
   "mimetype": "text/x-python",
   "name": "python",
   "nbconvert_exporter": "python",
   "pygments_lexer": "ipython3",
   "version": "3.7.3"
  }
 },
 "nbformat": 4,
 "nbformat_minor": 4
}
