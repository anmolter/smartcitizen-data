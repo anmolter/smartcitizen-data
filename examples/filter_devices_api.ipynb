{
 "cells": [
  {
   "cell_type": "markdown",
   "metadata": {},
   "source": [
    "# Filter API devices\n",
    "\n",
    "This example walks through the basics for retrieving data from SmartCitizen API by filtering extra information such as location, date, tags, etc."
   ]
  },
  {
   "cell_type": "code",
   "execution_count": null,
   "metadata": {},
   "outputs": [],
   "source": [
    "from src.data.api import ScApiDevice"
   ]
  },
  {
   "cell_type": "markdown",
   "metadata": {},
   "source": [
    "## Get data\n",
    "We will be using the following function:"
   ]
  },
  {
   "cell_type": "code",
   "execution_count": null,
   "metadata": {},
   "outputs": [],
   "source": [
    "help(ScApiDevice.get_world_map)"
   ]
  },
  {
   "cell_type": "markdown",
   "metadata": {},
   "source": [
    "## Examples\n",
    "You can filter the devices by date, city, area, and tags"
   ]
  },
  {
   "cell_type": "code",
   "execution_count": null,
   "metadata": {
    "scrolled": true
   },
   "outputs": [],
   "source": [
    "# Get devices in Barcelona\n",
    "ScApiDevice.get_world_map(city='Barcelona')"
   ]
  },
  {
   "cell_type": "code",
   "execution_count": null,
   "metadata": {
    "scrolled": true
   },
   "outputs": [],
   "source": [
    "# Get devices in Barcelona that posted after 2018-12-31\n",
    "ScApiDevice.get_world_map(max_date= '2018-12-31', city='Barcelona')"
   ]
  },
  {
   "cell_type": "code",
   "execution_count": null,
   "metadata": {
    "scrolled": true
   },
   "outputs": [],
   "source": [
    "# Get devices in Barcelona that started posting before 2018-12-31\n",
    "ScApiDevice.get_world_map(min_date= '2018-12-31', city='Barcelona')"
   ]
  },
  {
   "cell_type": "code",
   "execution_count": null,
   "metadata": {
    "scrolled": true
   },
   "outputs": [],
   "source": [
    "# Get devices in Barcelona that posted during 2019\n",
    "ScApiDevice.get_world_map(min_date= '2018-12-31', max_date= '2019-12-31', city='Barcelona')"
   ]
  },
  {
   "cell_type": "code",
   "execution_count": null,
   "metadata": {},
   "outputs": [],
   "source": [
    "# Get devices in Barcelona, online AND outdoor\n",
    "ScApiDevice.get_world_map(city='Barcelona', tags=['outdoor', 'online'], tag_method = 'all')"
   ]
  },
  {
   "cell_type": "code",
   "execution_count": null,
   "metadata": {
    "scrolled": true
   },
   "outputs": [],
   "source": [
    "# Get devices in Barcelona, online OR outdoor\n",
    "ScApiDevice.get_world_map(city='Barcelona', tags=['outdoor', 'online'], tag_method = 'any')"
   ]
  },
  {
   "cell_type": "code",
   "execution_count": null,
   "metadata": {},
   "outputs": [],
   "source": [
    "# Get devices within a certain area - lat = 41.402706, long = 2.174350, in a radius of 200m\n",
    "ScApiDevice.get_world_map(within = (41.402706, 2.174350, 200))"
   ]
  },
  {
   "cell_type": "code",
   "execution_count": null,
   "metadata": {},
   "outputs": [],
   "source": [
    "# Get devices within a certain area - lat = 41.402706, long = 2.174350, in a radius of 200m, that are outdoor and online\n",
    "ScApiDevice.get_world_map(within = (41.402706, 2.174350, 200), tags=['outdoor', 'online'], tag_method = 'all')"
   ]
  },
  {
   "cell_type": "markdown",
   "metadata": {},
   "source": [
    "## Dades Obertes Api\n",
    "Same but for the Dades Obertes API in Catalunya. In this case the fields are different"
   ]
  },
  {
   "cell_type": "code",
   "execution_count": null,
   "metadata": {},
   "outputs": [],
   "source": [
    "from src.data.api import DadesObertesApiDevice\n",
    "\n",
    "help(DadesObertesApiDevice.get_world_map)"
   ]
  },
  {
   "cell_type": "code",
   "execution_count": null,
   "metadata": {},
   "outputs": [],
   "source": [
    "# Get all stations\n",
    "DadesObertesApiDevice.get_world_map()"
   ]
  },
  {
   "cell_type": "code",
   "execution_count": null,
   "metadata": {},
   "outputs": [],
   "source": [
    "# Get stations in Barcelona\n",
    "DadesObertesApiDevice.get_world_map(city='Barcelona')"
   ]
  },
  {
   "cell_type": "code",
   "execution_count": null,
   "metadata": {},
   "outputs": [],
   "source": [
    "# Get stations in Barcelona of type: 'traffic'\n",
    "DadesObertesApiDevice.get_world_map(city='Barcelona', station_type = 'traffic')"
   ]
  },
  {
   "cell_type": "code",
   "execution_count": null,
   "metadata": {},
   "outputs": [],
   "source": [
    "# Get stations in Barcelona of type: 'traffic'\n",
    "DadesObertesApiDevice.get_world_map(city='Barcelona', station_type = 'background')"
   ]
  },
  {
   "cell_type": "code",
   "execution_count": null,
   "metadata": {},
   "outputs": [],
   "source": [
    "# Get urban stations\n",
    "DadesObertesApiDevice.get_world_map(area_type = 'urban')"
   ]
  },
  {
   "cell_type": "code",
   "execution_count": null,
   "metadata": {},
   "outputs": [],
   "source": []
  }
 ],
 "metadata": {
  "kernelspec": {
   "display_name": "Python 3",
   "language": "python",
   "name": "python3"
  },
  "language_info": {
   "codemirror_mode": {
    "name": "ipython",
    "version": 3
   },
   "file_extension": ".py",
   "mimetype": "text/x-python",
   "name": "python",
   "nbconvert_exporter": "python",
   "pygments_lexer": "ipython3",
   "version": "3.7.0"
  }
 },
 "nbformat": 4,
 "nbformat_minor": 4
}
