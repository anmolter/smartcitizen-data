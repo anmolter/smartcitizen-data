{
 "cells": [
  {
   "cell_type": "code",
   "execution_count": null,
   "metadata": {
    "Collapsed": "false"
   },
   "outputs": [],
   "source": [
    "import numpy as np\n",
    "from src.data.api import *\n",
    "import folium\n",
    "from folium import plugins\n",
    "import os\n",
    "import pandas as pd\n",
    "import json\n",
    "import progressbar\n",
    "import branca\n",
    "\n",
    "html_save_path = '-'\n",
    "dict_save_path = '-'\n",
    "\n",
    "# Sensor IDs\n",
    "sensor_ids = np.arange(99,10800)"
   ]
  },
  {
   "cell_type": "code",
   "execution_count": null,
   "metadata": {
    "Collapsed": "false"
   },
   "outputs": [],
   "source": [
    "sensors = dict()\n",
    "bar = progressbar.ProgressBar(maxval=len(sensor_ids)).start()\n",
    "for idx, sensor_id in enumerate(sensor_ids):\n",
    "    bar.update(idx)\n",
    "    device = api_device(str(sensor_id), verbose = False)\n",
    "    added_at = device.get_device_added_at()\n",
    "    last_reading_at = device.get_date_last_reading()\n",
    "    latlong = device.get_device_lat_long()\n",
    "    coordinates = [latlong[1],latlong[0]]# for whatever reason, leaflet uses the coordinates in reverse\n",
    "    kitID = device.get_kit_ID()\n",
    "    sensors[str(sensor_id)]={'added_at':added_at, 'last_reading_at':last_reading_at, 'coordinates': coordinates, 'kitID': kitID}"
   ]
  },
  {
   "cell_type": "code",
   "execution_count": null,
   "metadata": {
    "Collapsed": "false"
   },
   "outputs": [],
   "source": [
    "with open(dict_save_path, 'w') as outfile:\n",
    "    json.dump(sensors, outfile)"
   ]
  },
  {
   "cell_type": "code",
   "execution_count": null,
   "metadata": {
    "Collapsed": "false"
   },
   "outputs": [],
   "source": [
    "iSCAPE_IDs =[19, 20, 21, 28]\n",
    "making_sense_IDs = [11, 14]\n",
    "SCK_21_IDs = [26]"
   ]
  },
  {
   "cell_type": "code",
   "execution_count": null,
   "metadata": {
    "Collapsed": "false"
   },
   "outputs": [],
   "source": [
    "with open(dict_save_path) as f:\n",
    "    sensors = json.load(f)"
   ]
  },
  {
   "cell_type": "code",
   "execution_count": null,
   "metadata": {
    "Collapsed": "false"
   },
   "outputs": [],
   "source": [
    "features = []\n",
    "for sensor in sensors.keys():\n",
    "    if sensors[sensor]['added_at'] is None: continue\n",
    "    if sensors[sensor]['coordinates'] != [None, None] and sensors[sensor]['added_at']>'2001-01-01':\n",
    "        if sensors[sensor]['last_reading_at'] is not None:\n",
    "            datelist = pd.date_range(start=sensors[sensor]['added_at'], end=sensors[sensor]['last_reading_at'],normalize = True, freq='W').strftime('%Y-%m-%d')\n",
    "            date_list = list()\n",
    "            for item in datelist.values: date_list.append(str(item))\n",
    "        else:\n",
    "            date_list =[sensors[sensor]['added_at']]\n",
    "        \n",
    "        if sensors[sensor]['kitID'] in iSCAPE_IDs: color = '#7dbd4c'\n",
    "        elif sensors[sensor]['kitID'] in making_sense_IDs: color = '#f88027'\n",
    "        elif sensors[sensor]['kitID'] in SCK_21_IDs: color = '#ffb500'\n",
    "        else: color = '#0019ff'\n",
    "\n",
    "        features.append(\n",
    "            {\n",
    "                'type': 'Feature',\n",
    "                'geometry': {\n",
    "                    'type': 'LineString',\n",
    "                    'coordinates': [sensors[sensor]['coordinates']]*len(date_list),\n",
    "                    'popup': popup,\n",
    "                },\n",
    "                'properties': {\n",
    "                    'times': date_list,\n",
    "                    'icon': 'circle',\n",
    "                    'iconstyle': {\n",
    "                        'fillColor': color,\n",
    "                        'fillOpacity': 0.6,\n",
    "                        'stroke': 'false',\n",
    "                        'radius': 6\n",
    "                    },\n",
    "                    'style': {'weight': 0},\n",
    "                    'id': 'man'\n",
    "                }\n",
    "            }\n",
    "        )"
   ]
  },
  {
   "cell_type": "code",
   "execution_count": null,
   "metadata": {},
   "outputs": [],
   "source": [
    "m = folium.Map(\n",
    "    location=[41.3947688,2.0787279],\n",
    "    tiles='Stamen Toner',\n",
    "    zoom_start=2.5,\n",
    ")"
   ]
  },
  {
   "cell_type": "code",
   "execution_count": null,
   "metadata": {
    "Collapsed": "false"
   },
   "outputs": [],
   "source": [
    "m = folium.Map(\n",
    "    location=[41.3947688,2.0787279],\n",
    "    tiles='Stamen Toner',\n",
    "    zoom_start=2.5,\n",
    ")\n",
    "\n",
    "plugins.TimestampedGeoJson(\n",
    "    {\n",
    "        'type': 'FeatureCollection',\n",
    "        'features': features\n",
    "    },\n",
    "    period='P1W',\n",
    "    add_last_point=True,\n",
    "    auto_play=False,\n",
    "    loop=False,\n",
    "    max_speed=5,\n",
    "    loop_button=True,\n",
    "    date_options='YYYY/MM/DD',\n",
    "    time_slider_drag_update=True,\n",
    "    duration='P1W'\n",
    ").add_to(m)\n",
    "\n",
    "m.save(html_save_path)\n",
    "# m"
   ]
  }
 ],
 "metadata": {
  "kernelspec": {
   "display_name": "Python 3",
   "language": "python",
   "name": "python3"
  },
  "language_info": {
   "codemirror_mode": {
    "name": "ipython",
    "version": 3
   },
   "file_extension": ".py",
   "mimetype": "text/x-python",
   "name": "python",
   "nbconvert_exporter": "python",
   "pygments_lexer": "ipython3",
   "version": "3.7.0"
  }
 },
 "nbformat": 4,
 "nbformat_minor": 4
}
