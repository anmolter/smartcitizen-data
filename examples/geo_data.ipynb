{
 "cells": [
  {
   "cell_type": "markdown",
   "metadata": {},
   "source": [
    "# Geo data example\n",
    "\n",
    "This example uses the Smart Citizen API python wrapper to make an animation of the SCK history in the world. It uses folium (a leaflet.js implementation)"
   ]
  },
  {
   "cell_type": "code",
   "execution_count": null,
   "metadata": {},
   "outputs": [],
   "source": [
    "%load_ext autoreload\n",
    "%autoreload 2"
   ]
  },
  {
   "cell_type": "code",
   "execution_count": null,
   "metadata": {
    "Collapsed": "false"
   },
   "outputs": [],
   "source": [
    "from src.data.api import ScApiDevice\n",
    "import folium\n",
    "from folium import plugins\n",
    "import pandas as pd\n",
    "import branca"
   ]
  },
  {
   "cell_type": "markdown",
   "metadata": {},
   "source": [
    "## Get data\n",
    "\n",
    "Use the `ScApiDevice.get_word_map()` to get the whole map from the API"
   ]
  },
  {
   "cell_type": "code",
   "execution_count": null,
   "metadata": {},
   "outputs": [],
   "source": [
    "# Sensor IDs (you can filter, see help(ScApiDevice.get_world_map))\n",
    "sensors = ScApiDevice.get_world_map(full = True)\n",
    "sensors.set_index('kit_id')\n",
    "sensors.head(5)"
   ]
  },
  {
   "cell_type": "markdown",
   "metadata": {},
   "source": [
    "## Plot Static map"
   ]
  },
  {
   "cell_type": "code",
   "execution_count": null,
   "metadata": {
    "Collapsed": "false"
   },
   "outputs": [],
   "source": [
    "from src.visualization.visualization_tools import device_history_map\n",
    "\n",
    "options = {'fillOpacity':1.0, 'radius': 10, 'zoom': 3.5}\n",
    "m = device_history_map(map_type = 'static', dataframe = sensors, options = options)"
   ]
  },
  {
   "cell_type": "code",
   "execution_count": null,
   "metadata": {},
   "outputs": [],
   "source": [
    "# Save it or show it\n",
    "m.save('/path/map.html')"
   ]
  },
  {
   "cell_type": "markdown",
   "metadata": {},
   "source": [
    "## Plot Dynamic Map"
   ]
  },
  {
   "cell_type": "code",
   "execution_count": null,
   "metadata": {},
   "outputs": [],
   "source": [
    "from src.visualization.visualization_tools import device_history_map\n",
    "\n",
    "options = {'fillOpacity':1.0, 'radius': 10, 'zoom': 3.5, 'period': '1W'}\n",
    "m = device_history_map(map_type = 'dynamic', dataframe = sensors, options = options)"
   ]
  },
  {
   "cell_type": "code",
   "execution_count": null,
   "metadata": {},
   "outputs": [],
   "source": [
    "# Save it or show it\n",
    "m.save('/path/map.html')"
   ]
  },
  {
   "cell_type": "code",
   "execution_count": null,
   "metadata": {},
   "outputs": [],
   "source": []
  }
 ],
 "metadata": {
  "kernelspec": {
   "display_name": "Python 3",
   "language": "python",
   "name": "python3"
  },
  "language_info": {
   "codemirror_mode": {
    "name": "ipython",
    "version": 3
   },
   "file_extension": ".py",
   "mimetype": "text/x-python",
   "name": "python",
   "nbconvert_exporter": "python",
   "pygments_lexer": "ipython3",
   "version": "3.7.0"
  }
 },
 "nbformat": 4,
 "nbformat_minor": 4
}
