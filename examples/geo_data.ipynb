{
 "cells": [
  {
   "cell_type": "markdown",
   "metadata": {},
   "source": [
    "# Geo data example\n",
    "\n",
    "This example uses the Smart Citizen API python wrapper to make an animation of the SCK history in the world. It uses folium (a leaflet.js implementation)"
   ]
  },
  {
   "cell_type": "code",
   "execution_count": null,
   "metadata": {
    "Collapsed": "false"
   },
   "outputs": [],
   "source": [
    "from src.data.api import ScApiDevice\n",
    "import folium\n",
    "from folium import plugins\n",
    "import pandas as pd\n",
    "import branca"
   ]
  },
  {
   "cell_type": "markdown",
   "metadata": {},
   "source": [
    "## Get data and clean it\n",
    "\n",
    "Use the `ScApiDevice.get_word_map()` to get the whole map from the API"
   ]
  },
  {
   "cell_type": "code",
   "execution_count": null,
   "metadata": {},
   "outputs": [],
   "source": [
    "# Sensor IDs\n",
    "sensors = ScApiDevice.get_world_map(full = True)\n",
    "sensors.set_index('kit_id')\n",
    "sensors.head(5)"
   ]
  },
  {
   "cell_type": "code",
   "execution_count": null,
   "metadata": {
    "Collapsed": "false"
   },
   "outputs": [],
   "source": [
    "def coordinates(x):\n",
    "    return [x['longitude'], x['latitude']] # for whatever reason, leaflet uses the coordinates in reverse\n",
    "\n",
    "def color(x):\n",
    "    iSCAPE_IDs =[19, 20, 21, 28]\n",
    "    making_sense_IDs = [11, 14]\n",
    "    SCK_21_IDs = [26]\n",
    "    \n",
    "    if x['kit_id'] in iSCAPE_IDs: color = '#7dbd4c'\n",
    "    elif x['kit_id'] in making_sense_IDs: color = '#f88027'\n",
    "    elif x['kit_id'] in SCK_21_IDs: color = '#ffb500'\n",
    "    else: color = '#0019ff'\n",
    "        \n",
    "    return color\n",
    "\n",
    "def validate(x):\n",
    "    \n",
    "    if x['last_reading_at'] is None: return False\n",
    "    if x['added_at'] is None: return False\n",
    "    if x['coordinates'] == [None, None]: return False\n",
    "    if x['date_list'] == []: return False\n",
    "    \n",
    "    return True\n",
    "\n",
    "def range_list(x):\n",
    "    \n",
    "    date_r = pd.date_range(start=x['added_at'], end=x['last_reading_at'], normalize = True, freq='W').strftime('%Y-%m-%d')\n",
    "    date_l = list()\n",
    "    for item in date_r.values: date_l.append(str(item))\n",
    "\n",
    "    return date_l"
   ]
  },
  {
   "cell_type": "markdown",
   "metadata": {},
   "source": [
    "Now let's add some colors in depending on the version. We add the coordinates and some validation steps"
   ]
  },
  {
   "cell_type": "code",
   "execution_count": null,
   "metadata": {},
   "outputs": [],
   "source": [
    "sensors['color'] = sensors.apply(lambda x: color(x), axis=1)\n",
    "sensors['coordinates'] = sensors.apply(lambda x: coordinates(x), axis=1)\n",
    "sensors['date_list'] = sensors.apply(lambda x: range_list(x), axis=1)\n",
    "sensors['valid'] = sensors.apply(lambda x: validate(x), axis=1)\n",
    "\n",
    "sensors = sensors[(sensors['valid'] == True)]"
   ]
  },
  {
   "cell_type": "markdown",
   "metadata": {},
   "source": [
    "We put it all in folium format"
   ]
  },
  {
   "cell_type": "code",
   "execution_count": null,
   "metadata": {
    "Collapsed": "false"
   },
   "outputs": [],
   "source": [
    "features = []\n",
    "\n",
    "for sensor in sensors.index:\n",
    "        features.append(\n",
    "            {\n",
    "                'type': 'Feature',\n",
    "                'geometry': {\n",
    "                    'type': 'LineString',\n",
    "                    'coordinates': [sensors.loc[sensor, 'coordinates']]*len(sensors.loc[sensor, 'date_list']),\n",
    "                    'popup': str(sensors.loc[sensor, 'kit_id']),\n",
    "                },\n",
    "                'properties': {\n",
    "                    'times': sensors.loc[sensor, 'date_list'],\n",
    "                    'icon': 'circle',\n",
    "                    'iconstyle': {\n",
    "                        'fillColor': sensors.loc[sensor, 'color'],\n",
    "                        'fillOpacity': '0.6',\n",
    "                        'stroke': 'false',\n",
    "                        'radius': '6'\n",
    "                    },\n",
    "                    'style': {'weight': '0'},\n",
    "                    'id': 'man'\n",
    "                }\n",
    "            }\n",
    "        )"
   ]
  },
  {
   "cell_type": "markdown",
   "metadata": {},
   "source": [
    "And display it. You can also save this to an html file"
   ]
  },
  {
   "cell_type": "code",
   "execution_count": null,
   "metadata": {
    "Collapsed": "false"
   },
   "outputs": [],
   "source": [
    "m = folium.Map(\n",
    "    location=[41.3947688,2.0787279],\n",
    "    tiles='Stamen Toner',\n",
    "    zoom_start=2.5,\n",
    ")\n",
    "\n",
    "plugins.TimestampedGeoJson(\n",
    "    {\n",
    "        'type': 'FeatureCollection',\n",
    "        'features': features\n",
    "    },\n",
    "    period='P1W',\n",
    "    add_last_point=True,\n",
    "    auto_play=False,\n",
    "    loop=False,\n",
    "    max_speed=5,\n",
    "    loop_button=True,\n",
    "    date_options='YYYY/MM/DD',\n",
    "    time_slider_drag_update=True,\n",
    "    duration='P1W'\n",
    ").add_to(m)\n",
    "\n",
    "## Either save it or display it\n",
    "# m.save(<html_save_path>)\n",
    "m"
   ]
  }
 ],
 "metadata": {
  "kernelspec": {
   "display_name": "Python 3",
   "language": "python",
   "name": "python3"
  },
  "language_info": {
   "codemirror_mode": {
    "name": "ipython",
    "version": 3
   },
   "file_extension": ".py",
   "mimetype": "text/x-python",
   "name": "python",
   "nbconvert_exporter": "python",
   "pygments_lexer": "ipython3",
   "version": "3.7.0"
  }
 },
 "nbformat": 4,
 "nbformat_minor": 4
}
